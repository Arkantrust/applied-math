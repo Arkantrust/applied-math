{
  "nbformat": 4,
  "nbformat_minor": 0,
  "metadata": {
    "colab": {
      "provenance": [],
      "include_colab_link": true
    },
    "kernelspec": {
      "name": "python3",
      "display_name": "Python 3"
    },
    "language_info": {
      "name": "python"
    }
  },
  "cells": [
    {
      "cell_type": "markdown",
      "metadata": {
        "id": "view-in-github",
        "colab_type": "text"
      },
      "source": [
        "<a href=\"https://colab.research.google.com/github/Arkantrust/applied-math/blob/main/JSPIII%20-%20MAII.ipynb\" target=\"_parent\"><img src=\"https://colab.research.google.com/assets/colab-badge.svg\" alt=\"Open In Colab\"/></a>"
      ]
    },
    {
      "cell_type": "markdown",
      "source": [
        "<img src=http://www.acofi.edu.co/eiei2016/wp-content/uploads/2016/09/Logo-Universidad-ICESI.jpg width=\"300\" height=\"200\" align=\"center\">\n",
        "\n",
        "#**<big><big>Matemáticas Aplicadas II</big></big><br><small>Depto. Ciencias Físicas y Exactas / Facultad de Ingeniería</small><br><small>_*Tercera Jornada de Resolucion de Problemas*_ (Derivadas parciales, Máximos y mínimos de funciones de varias variables, Multiplicadores de Lagrange, Aproximación de integrales dobles). </small>**\n",
        "\n",
        "**Descripción de la jornada**:\n",
        "\n",
        "En esta jornada usted va a encontrar 2 problemas que se pueden resolver con la teoría estudiada en clase y debe entregar en un cuaderno colab la solución detallada de estos 2 problemas. Cada problema debe ser abordado en forma individual utilizando todos los recursos que usted disponga. La idea central es que elabore sus respuestas o construcciones siguiendo los lineamientos dados a continuación:\n",
        "\n",
        "1. Escriba con claridad sus propias ideas.\n",
        "\n",
        "2. Argumente usando lenguaje propio de las matemáticas: geométrico o algebraico, según sea el caso, cada una de sus respuestas.\n",
        "\n",
        "3. Respalde, cuando lo considere conveniente, sus argumentos geométricos y algebraicos con imágenes o applets diseñadas en GeoGebra o librerias de Python.\n",
        "\n",
        "4.\tResuelvan los problemas de manera autónoma; describiendo las estrategias usadas para “atacar” el problema, poniendo a prueba sus soluciones y en lo posible planteando nuevos e “interesantes” interrogantes asociados al problema formulado. Si utiliza un resultado o teorema, este debe ser debidamente citado y si es un resultado ajeno a los estudiados en el curso o del texto guía debe proveer la respectiva demostración.\n",
        "\n",
        "5. El cuaderno solución (como archivo ipynb) de esta jornada debe ser guardado (no compartido) en la carpeta con título \"Entrega Tercera Jornada Solucion Problemas\" que se encuentra en la carpeta del curso. El titulo debe tener el nombre del estudiante y el código.\n",
        "\n",
        "6. **NO** se aceptará ningún archivo después de las 4:00 p.m.\n",
        "\n",
        "7. Solamente se tiene acceso a los cuadernos colab del curso, sus cuadernos colab y Geogebra. Cualquier otra pestaña abierta diferente a las anteriores será considerada como fraude."
      ],
      "metadata": {
        "id": "J4hcQCJb1KHd"
      }
    },
    {
      "cell_type": "markdown",
      "source": [
        "# Problema 1\n",
        "**25 pts**\n",
        "\n",
        "Suponga que se quiere usar el método de multiplicadores de Lagrange para encontrar el mínimo de $$f(x,y,z)=3x+2y+z+5$$ sujeto a la restricción $$9x^2+4y^2-z=0$$\n",
        "\n",
        "1. Determine o encuentre el sistema de Lagrange para el problema propuesto.\n",
        "2. Demuestre que $(-1/6,-1/4,1/2)$ es la única solución del sistema de Lagrange.\n",
        "3. Utilice arreglos en python y la definición de derivadas para demostrar que los vectores $\\nabla f$ y $\\nabla g$ son paralelos en el punto dado en el item anterior.\n",
        "4. Cuál es el valor mínimo de $f$?"
      ],
      "metadata": {
        "id": "9uniJSig-Z0X"
      }
    },
    {
      "cell_type": "markdown",
      "source": [
        "## Definiciones\n",
        "\n",
        "Función Objetivo: $ f(x,y,z) = 3x + 2y + z + 5 $\n",
        "\n",
        "Restricción: $ g(x,y,z) = 9x^2 + 4y^2 - z = 0 $"
      ],
      "metadata": {
        "id": "FvVlFqikifD3"
      }
    },
    {
      "cell_type": "markdown",
      "source": [
        "## 1. Sistema de Lagrange\n",
        "\n",
        "$$ \\nabla f = \\lambda \\nabla g $$\n",
        "\n",
        "$$ g(x,y,z) = 0 $$\n",
        "\n",
        "$$ (3,2,1) = \\lambda (18x,8y,-1) $$\n",
        "\n",
        "$$ 9x^2 + 4y^2 - z = 0 $$"
      ],
      "metadata": {
        "id": "7VJVV6myihgF"
      }
    },
    {
      "cell_type": "markdown",
      "source": [
        "## Sistema de Ecuaciones\n",
        "\n",
        "$$ \\frac {3}{18x} = \\lambda \\rightarrow \\lambda = \\frac {1}{6x} \\ [1] $$\n",
        "\n",
        "$$ \\frac {2}{8y} = \\lambda \\rightarrow \\lambda = \\frac {1}{4y} \\ [2] $$\n",
        "\n",
        "$$ \\lambda = -1 \\ [3] $$"
      ],
      "metadata": {
        "id": "flMqlBvLiiTB"
      }
    },
    {
      "cell_type": "markdown",
      "source": [
        "## 2. Demostrar única solución\n",
        "\n",
        " - Igualamos $[1]$ y $[3]$ para hallar $x$ y encontramos que $x = - \\frac {1}{6}$\n",
        "\n",
        " - Igualamos $[2]$ y $[3]$ para hallar $y$ y encontramos que $y = - \\frac {1}{4}$\n",
        "\n",
        " - Sustituimos $x$ y $x$ en la ecuación restricción para hallar $z$ y encontramos que $z = \\frac {1}{2}$\n",
        "\n"
      ],
      "metadata": {
        "id": "VJPXbmvBbcPg"
      }
    },
    {
      "cell_type": "markdown",
      "source": [
        "## 3. Paralelismo\n",
        "\n"
      ],
      "metadata": {
        "id": "03mtF1G4ijeU"
      }
    },
    {
      "cell_type": "markdown",
      "source": [
        "## 4. Valor mínimo de $f$"
      ],
      "metadata": {
        "id": "H-jjq1Ewijpe"
      }
    },
    {
      "cell_type": "markdown",
      "source": [
        "#Problema 2\n",
        "\n",
        "**25 pts**\n",
        "\n",
        "Considere la función $$ f(x,y) = \\dfrac{12-3x-6y}{4} $$\n",
        "\n",
        "\n",
        "Utilice arreglos y las rutinas creadas en clase (en python) para calcular el volumen del sólido acotado superiormente por la gráfica de la función $f$ y por debajo (o inferiormente) por el plano $xy$ sobre las regiones\n",
        "\n",
        "1. $R=[0,2] \\times [0,1]$\n",
        "\n",
        "2. La región triangular $R$ con vértices $(0,0)$, $(4,0)$ y $(0,2)$.\n",
        "\n",
        "**NOTA:**\n",
        "\n",
        "1. La función $f$ es positiva sobre las regiones dadas\n",
        "2. Indique claramente que punto representativo se va a considerar en cada subrectángulo.\n",
        "3. Use varios valores de $m$ y $n$ para poder encontrar el valor exacto de los volumenes pedidos."
      ],
      "metadata": {
        "id": "tmLVr-C0PUCI"
      }
    },
    {
      "cell_type": "markdown",
      "source": [
        "El punto que se va a considerar para **todos** los subrectángulo es el punto medio. Ya que nos permite encontrar un resultado más preciso con menos subintervalos."
      ],
      "metadata": {
        "id": "flKl3K41mvI1"
      }
    },
    {
      "cell_type": "code",
      "source": [
        "f = lambda x, y: (12 - (3*x) - (6*y) ) / (4)\n",
        "\n",
        "# Definir parámetros\n",
        "a = 0\n",
        "b = 2\n",
        "c = 0\n",
        "d = 1\n",
        "\n",
        "n = 200\n",
        "m = 200"
      ],
      "metadata": {
        "id": "edp8IEeWmSyB"
      },
      "execution_count": 13,
      "outputs": []
    },
    {
      "cell_type": "markdown",
      "source": [
        "Esta es la rutina definida en clase que toma la esquina inferior izquierda de cada subrectángulo, es decir toma $(0, 0)$ para el primer subrectángulo, no estoy seguro si es la esquina inferior o superior izquierda porque depende de la perspectiva."
      ],
      "metadata": {
        "id": "4l1LY3DqoTwt"
      }
    },
    {
      "cell_type": "code",
      "source": [
        "def SRDOBLE(f, a, b, c, d, n, m):\n",
        "  dx=(b-a)/n\n",
        "  dy=(d-c)/m\n",
        "  s=0\n",
        "  for i in range(n):\n",
        "    for j in range(m):\n",
        "      s+=f(a+i*dx,c+j*dy)*dx*dy\n",
        "  return s\n",
        "\n",
        "volume = SRDOBLE(f, a, b, c, d, n, m)\n",
        "\n",
        "print(f'Volumen del sólido: {volume}')"
      ],
      "metadata": {
        "id": "ij2khCxOkT4z",
        "outputId": "71801874-c10d-4732-f29c-1e780a4526d3",
        "colab": {
          "base_uri": "https://localhost:8080/"
        }
      },
      "execution_count": 15,
      "outputs": [
        {
          "output_type": "stream",
          "name": "stdout",
          "text": [
            "Volumen del sólido: 3.015000000000003\n"
          ]
        }
      ]
    },
    {
      "cell_type": "markdown",
      "source": [
        "La siguiente rutina es una adpatación de la rutina anterior pero tomando el punto medio de cada subrectángulo"
      ],
      "metadata": {
        "id": "6NGMplQhoZQM"
      }
    },
    {
      "cell_type": "code",
      "source": [
        "def SRDOBLEPM(f, a, b, c, d, n, m):\n",
        "    sum = 0\n",
        "\n",
        "    dx = (b - a) / n\n",
        "    dy = (d - c) / m\n",
        "\n",
        "    for i in range(n):\n",
        "        for j in range(m):\n",
        "            xi = a + ((i + 0.5) * dx)\n",
        "            yj = c + ((j + 0.5) * dy)\n",
        "            sum += f(xi, yj)\n",
        "    return sum * dx * dy\n",
        "\n",
        "volume = SRDOBLEPM(f, a, b, c, d, n, m)\n",
        "\n",
        "print(f'Volumen del sólido: {volume}')"
      ],
      "metadata": {
        "id": "We-d7mOuokMT",
        "outputId": "43a507f0-9ed4-4bab-af11-9235e0393140",
        "colab": {
          "base_uri": "https://localhost:8080/"
        }
      },
      "execution_count": 16,
      "outputs": [
        {
          "output_type": "stream",
          "name": "stdout",
          "text": [
            "Volumen del sólido: 3.0\n"
          ]
        }
      ]
    }
  ]
}