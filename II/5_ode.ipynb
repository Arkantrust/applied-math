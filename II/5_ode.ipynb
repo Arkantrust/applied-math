{
  "nbformat": 4,
  "nbformat_minor": 0,
  "metadata": {
    "colab": {
      "provenance": []
    },
    "kernelspec": {
      "name": "python3",
      "display_name": "Python 3"
    },
    "language_info": {
      "name": "python"
    }
  },
  "cells": [
    {
      "cell_type": "markdown",
      "metadata": {
        "id": "nRSmik7mnr0u"
      },
      "source": [
        "<img src=http://www.acofi.edu.co/eiei2016/wp-content/uploads/2016/09/Logo-Universidad-ICESI.jpg width=\"300\" height=\"200\" align=\"center\">\n",
        "\n",
        "#**<big><big>Matemáticas Aplicadas II</big></big><br><small>Departamento de Ciencias Físicas y Aplicadas/ Facultad de Ingeniería, Diseño y Ciencias Aplicadas</small><br><small>Notebook: Ecuaciones Diferenciales Ordinarias. </small>**  \n",
        "##**Profesor Luis Fernando Azcárate Mesa**\n",
        "\n",
        "\n",
        "1. **Lectura sugerida del texto de Sloughter. Calculus from Approximation to Theory (2020)**: Sección  8.1 Ecuaciones diferenciales y 8.2 Separación de variables.\n",
        "\n",
        "2. **Lectura sugerida del texto de Lax. Calculus With Applications (2014)**: Sección 10.4 Soluciones numéricas de EDOs.\n",
        "\n",
        "**<u>Agenda</u>**\n",
        "*Ecuaciones diferenciales, separación de variables y solución numérica de ecuaciones diferenciales*\n"
      ]
    },
    {
      "cell_type": "markdown",
      "metadata": {
        "id": "5nr68z6I6iFS"
      },
      "source": [
        "#<Font color=\"blue\">**Ecuaciones diferenciales ordinarias (primer orden).**\n",
        "\n",
        "Una ecuación de la forma\n",
        "\n",
        "$$ \\frac{dx}{dt}=\\dot{x}(t)=f(t,x(t))\\qquad (1)$$\n",
        "\n",
        "que depende de una única variable independiente, $t$, se denomina **ecuación diferencial ordinaria (EDO)**. Resolver una ecuación implica encontrar una función $𝑥(t)$, definida únicamente en términos de la variable independiente $𝑡$, que satisfaga la relación de **(1)**, para todo $𝑡$ en algún intervalo abierto. Es importante tener presente que para muchas ecuaciones diferenciales, no es posible encontrar una solución exacta y, por tanto, se buscan soluciones aproximadas mediante la implementación de métodos numéricos. Discutiremos una técnica para encontrar soluciones aproximadas y otra para encontrar soluciones exactas de ecuaciones diferenciales mediante el método de separación de variables."
      ]
    },
    {
      "cell_type": "markdown",
      "metadata": {
        "id": "jEycryMoSfT4"
      },
      "source": [
        "La imposibilidad de resolver una gran variedad de ecuaciones diferenciales se debe, en parte, a la imposibilidad de integrar la mayoría de las funciones que ellas involucran. Si tuviéramos que elegir al azar funciones para integrar, encontraríamos que la gran mayoría de ellas no tienen antiderivadas sencillas de calcular. La *historia en las EDO* es la misma: elija cualquier combinación de una función, sus derivadas y otras funciones de forzamiento y encontrará que no hay forma de llegar a una solución analítica que involucre las operaciones y funciones regulares de las matemáticas: combinaciones lineales, potencias , raíces, funciones trigonométricas, logaritmos, etc. En el campo de las Ecuadiones Diferenciales existen  teoremas que garantizarán la existencia y unicidad de soluciones para algunos tipos ecuaciones diferenciales, pero el simple hecho de saber que la solución existe y es única, no es suficiente para encontratrla analíticamente, por elloo, lass técnicas numéricas nos brindan una vía para al menos aproximarnos a estas soluciones.\n",
        "\n"
      ]
    },
    {
      "cell_type": "markdown",
      "metadata": {
        "id": "WWKGur_FOGmm"
      },
      "source": [
        "Ya hemos visto  ejemplos de ecuaciones diferenciales: encontrar la posición de un objeto lanzado desde un edificio dada su velocidad y su posición inicial,  los modelos de crecimiento y decaimiento. De hecho, en muchos sentidos, *el estudio de las ecuaciones diferenciales están en el corazón del cálculo*. Estudiar la interacción de la física\n",
        "cuerpos en el mundo es estudiar las ramificaciones de las leyes físicas como la ley de la gravitación\n",
        "y la segunda ley del movimiento de Newton, leyes que con frecuencia conducen a cuestiones relacionadas con la solución de ecuaciones diferenciales. *Newton fue el primero en darse cuenta del poder del cálculo para resolver una amplia gama de problemas físicos*.\n",
        "\n",
        "___\n",
        "\n",
        "El caso mas simple podría ocurrir cuando en la ecuación (1) tenemos que $f(x(t),t)=g(t)$, puesto la podemos resolver integrando. En efecto,\n",
        "\n",
        "$$ \\int_{t_0}^{t}\\dot{x}(s)\\,ds=\\int_{t_0}^{t} g(s)\\,ds\\qquad (1)$$\n",
        "o equivalentemente\n",
        "$$x(t)=x(t_0)+\\int_{t_0}^{t} g(s)\\,ds.$$\n",
        "\n",
        "\n",
        "*Ejemplo* Recordemos que la función de velocidad en caída libre viene dada por la ecuación diferencial\n",
        "\n",
        "$$\\dot{x}(t)=v_0+g t$$\n",
        "\n",
        "donde $g$ es la constante de de la acelaración de la gravedad. Es fácil ver entonces que esta es una ecuación diferencial cuya solución se obtiene integrando. Halle la solución.\n",
        "\n",
        "\n",
        "\n",
        "\n"
      ]
    },
    {
      "cell_type": "markdown",
      "source": [
        "Ejercicio\n",
        "\n",
        "1. Decida si la función $y=f(x)$ dada en cada caso es una solución de la E.D.O.  \n",
        "\n",
        "   a. $2y'+3y=e^{-x}$, con  $y(x)=e^{-x}$  \n",
        "\n",
        "   b. $y'=-\\frac{1}{x}$,  con  $y=-\\frac{1}{x+c}$\n",
        "\n",
        "2.Exprese la solución del P.V.I siguiente en términos de integrales\n",
        "\n",
        "$$\\frac{dy}{dx}=secx, y(2)=3$$"
      ],
      "metadata": {
        "id": "yvgZ39ec_Pa6"
      }
    },
    {
      "cell_type": "markdown",
      "metadata": {
        "id": "mRPMaTijlgyu"
      },
      "source": [
        "#<Font color=\"blue\">**Separación de variables**\n",
        "\n",
        "Es un técnica para encontrar soluciones en forma cerrada para  EDOs,\n",
        "es decir, soluciones expresables en términos de las funciones elementales del cálculo. Consideraremos ecuaciones de la forma:\n",
        "\n",
        "$$ \\frac{dx}{dt}=f(t,x(t))=g(x)h(t).\\qquad (2)$$\n",
        "\n",
        "Note que podemos reescribr la ecuación como\n",
        "\n",
        "$$ \\frac{\\dot x}{g(x)}=h(t)$$\n",
        "\n",
        "en todos los puntos donde $g(x)\\not=0$. Ahora bien, integrando entre $t_0$ y $t$ obtenemos\n",
        "\n",
        "$$ \\int_{t_0}^t\\frac{1}{g(x(s))}\\dot x(s)\\, ds=\\int_{t_0}^th(s)\\,ds$$\n",
        "\n",
        "Utilizando el cambio de variable $u=x(s)$ tenemos\n",
        "\n",
        "$$ \\int_{t_0}^t\\frac{1}{g(x(s))}\\dot x(s)\\, ds=\\int_{x_0}^x\\frac{1}{g(u)}\\, du=\\int_{t_0}^th(s)\\,ds.\\quad (3)$$\n",
        "\n",
        "Por lo tanto, podemos resolver una ecuación con variables separables siempre que podamos evalúar las integrales en (3) y luego resolver la ecuación para $𝑥$.\n",
        "\n",
        "**Proposición (Separación de variables)** Si $𝑔$ y $ ℎ$ son funciones continuas de $𝑥$ y $𝑡$, respectivamente, y $𝑥$ satisface la ecuación diferencial\n",
        "\n",
        "$$ \\frac{dx}{dt}=g(x)h(t).$$\n",
        "\n",
        "con $x(t_0)=x_0$, entonces\n",
        "\n",
        "$$\\int_{x_0}^x\\frac{1}{g(u)}\\, du=\\int_{t_0}^th(s)\\,ds,\\quad (3)$$\n",
        "\n",
        "siempre que $g(u)\\not=0$ para todo $u$ entre $x_0$ y $x$.\n",
        "\n",
        "##Tarea.\n",
        "\n",
        "Resolver las siguientes EDOs utilizando separación de variables.\n",
        "\n",
        "1.   $$\\dot x = 0.5 x, \\quad x(0)=100$$\n",
        "2.   $$\\dot y = -2yt \\quad y(0)=y_0\\not=0$$\n",
        "3.   $$\\dot x = -\\frac{t}{x} \\quad x(0)=x_0\\not=0$$\n"
      ]
    }
  ]
}