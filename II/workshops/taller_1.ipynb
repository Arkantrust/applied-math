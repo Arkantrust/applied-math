{
  "nbformat": 4,
  "nbformat_minor": 0,
  "metadata": {
    "colab": {
      "provenance": [],
      "include_colab_link": true
    },
    "kernelspec": {
      "name": "python3",
      "display_name": "Python 3"
    },
    "language_info": {
      "name": "python"
    }
  },
  "cells": [
    {
      "cell_type": "markdown",
      "metadata": {
        "id": "view-in-github",
        "colab_type": "text"
      },
      "source": [
        "<a href=\"https://colab.research.google.com/github/Arkantrust/applied-math/blob/main/II/workshops/taller_1.ipynb\" target=\"_parent\"><img src=\"https://colab.research.google.com/assets/colab-badge.svg\" alt=\"Open In Colab\"/></a>"
      ]
    },
    {
      "cell_type": "markdown",
      "source": [
        "<img src=http://www.acofi.edu.co/eiei2016/wp-content/uploads/2016/09/Logo-Universidad-ICESI.jpg width=\"300\" height=\"200\" align=\"center\">\n",
        "\n",
        "# Matemáticas Aplicadas II\n",
        "\n",
        "## Departamento de Ciencias Físicas y Aplicadas / Facultad de Ingeniería, Diseño y Ciencias Aplicadas\n",
        "\n",
        "## Profesor Luis Fernando Azcárate Mesa\n",
        "\n",
        "## **Notebook 1: Integración Numérica**\n",
        "\n",
        "## David Dulce"
      ],
      "metadata": {
        "id": "YPcbfr3wPi9w"
      }
    },
    {
      "cell_type": "markdown",
      "source": [
        "## $1$.\n",
        "\n",
        "En la FIGURA se muestra un cubo con las dimensiones dadas (en cm) que se llena a razón constante de\n",
        "\n",
        "$$ \\frac {dV}{dt} = \\frac {1}{4} \\, \\frac {\\text {cm}^3}{\\text {min}} $$\n",
        "\n",
        "Cuando $t = 0$, en la balanza se lee $31.2 \\, lb$.\n",
        "\n",
        "Si el agua pesa $62.4$ $\\frac {\\text {lb}}{\\text {cm}^3}$, responda:\n",
        "\n",
        "a. ¿cuál es la lectura de la balanza luego de 8 minutos?\n",
        "\n",
        "b. ¿Y cuando el cubo está lleno?"
      ],
      "metadata": {
        "id": "hThAyd3wxkee"
      }
    },
    {
      "cell_type": "markdown",
      "source": [
        "![llave_volumne.png](data:image/png;base64,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)\n",
        "\n",
        "\n",
        "\n"
      ],
      "metadata": {
        "id": "02uHJJU-d1yk"
      }
    },
    {
      "cell_type": "markdown",
      "source": [
        "### $1a$.\n",
        "\n",
        "Para hallar la lectura de la balanza cuando $ t = 8 $, tendremos una función $m(t)$, cuya imagen es la masa que mide la balanza a los $t$ minutos."
      ],
      "metadata": {
        "id": "mJtMsiHbQTgO"
      }
    },
    {
      "cell_type": "markdown",
      "source": [
        "Para construir esta función $m(t)$, debemos tener en cuenta que primero, el agua pesa $62.4 \\, \\frac {\\text {lb}}{\\text {cm}^3}$ y segundo, que\n",
        "\n",
        "$$ m = d \\cdot V $$\n",
        "\n",
        "Donde:\n",
        "\n",
        "- $m$: masa del cuerpo\n",
        "\n",
        "- $d$: densidad del material\n",
        "\n",
        "- $V$: Volumen que ocupa dicho material\n",
        "\n",
        "Por lo tanto debemos multiplicar el volumen $V(t)$ del agua en ese instante $t$ por la densidad, o lo que es igual:\n",
        "\n",
        "$$ m(t) = 62.4 \\cdot V(t) $$"
      ],
      "metadata": {
        "id": "5QkcdmSafOkt"
      }
    },
    {
      "cell_type": "markdown",
      "source": [
        "Para hallar la función $V(t)$ debemos hallar dentro de la familia de funciones solución de la ecuación $\\frac {dV}{dt} = \\frac {1}{4}$, la función $V(t)$ que cumple con las condiciones iniciales que hallaremos en un siguiente paso. La imagen de esta función es el volumen que ocupa el agua dentro del vaso en el instante $t$.\n",
        "\n",
        "Las condiciones iniciales en este caso describen la masa de agua cuando $t = 0$, pero por la ecuación de arriba, es posible hallar $V(0)$, de la siguiente manera:\n",
        "\n",
        "$$ m(0) = d \\cdot V(0) $$"
      ],
      "metadata": {
        "id": "fYSpR5tD7Mhq"
      }
    },
    {
      "cell_type": "markdown",
      "source": [
        "Aplicamos la condición inicial $ m(0) = 31.2 \\, lb$\n",
        "\n",
        "$$ 31.2 \\, lb = 62.4 \\, \\frac {\\text {lb}}{\\text {cm}^3} \\cdot V(0) $$\n",
        "\n",
        "Dividimos ambos lados entre $ 62.4 \\, \\frac {\\text {lb}}{\\text {cm}^3} $\n",
        "\n",
        "$$ \\frac {31.2 \\, lb}{62.4 \\, \\frac {\\text {lb}}{\\text {cm}^3}} = V(0) $$\n",
        "\n",
        "$$ \\frac {31.2 \\, lb}{62.4 \\, \\frac {\\text {lb}}{\\text {cm}^3}} = V(0) $$\n",
        "\n",
        "$$ V(0) = \\frac {1}{2}\\text {cm}^3 $$"
      ],
      "metadata": {
        "id": "84ETF8qm-Bjz"
      }
    },
    {
      "cell_type": "markdown",
      "source": [
        "Ahora resolvemos la ecuación diferencial\n",
        "\n",
        "$$ \\frac {dV}{dt} = \\frac {1}{4} \\, \\frac {\\text {cm}^3}{\\text {min}} $$\n",
        "\n",
        "para que junto con las condiciones iniciales, hallemos la función $V(t)$ que describe el volumen que ocupa el agua en un instante $t$ y consecuentemente hallar $m(t)$ que describe la masa que tiene el agua en un instante $t$.\n",
        "\n",
        "$$ \\frac {dV}{dt} = \\frac {1}{4} \\, \\frac {\\text {cm}^3}{\\text {min}} $$\n",
        "\n",
        "Resolvemos esta EDO:\n",
        "\n",
        "$$ dV = \\frac {1}{4} \\, dt $$\n",
        "\n",
        "$$ \\int dV = \\frac {1}{4} \\, \\int dt $$\n",
        "\n",
        "$$ V(t) = \\frac {1}{4}t + C $$\n",
        "\n",
        "donde $ C \\in R $"
      ],
      "metadata": {
        "id": "0WySP20j-GDa"
      }
    },
    {
      "cell_type": "markdown",
      "source": [],
      "metadata": {
        "id": "GbdZqb_wAaLP"
      }
    },
    {
      "cell_type": "markdown",
      "source": [
        "Medidas del cono truncado:\n",
        "\n",
        "- radio inferior: $ r_1 = \\frac {1}{2} \\text {cm} $\n",
        "\n",
        "- radio superior: $ r_2 = 1 \\text {cm} $\n",
        "\n",
        "- altura: $ h = 3 \\text {cm} $"
      ],
      "metadata": {
        "id": "0V1tN-CF1q1H"
      }
    },
    {
      "cell_type": "markdown",
      "source": [
        "El volumen de un cono truncado se puede expresar como la resta entre el volumen del cono original menos el volumen del cono que fue cortado de la punta, su ecuación es:\n",
        "\n",
        "$$ V = \\frac {1}{3} \\pi h \\left ( {r_1}^2 + {r_2}^2 + r_1 \\cdot r_2 \\right ) $$\n",
        "\n",
        "Referencias:\n",
        "\n",
        "- [Khan Academy](https://www.khanacademy.org/math/in-in-grade-10-ncert/x573d8ce20721c073:surface-areas-and-volumes/x573d8ce20721c073:frustum-of-a-cone/v/volume-of-a-frustum)\n",
        "- [Geeks For Geeks](https://www.geeksforgeeks.org/frustum-of-cone/)\n",
        "- [Wikipedia](https://es.wikipedia.org/wiki/Tronco_de_cono)"
      ],
      "metadata": {
        "id": "-PXrH4lbjY9O"
      }
    },
    {
      "cell_type": "markdown",
      "source": [
        "Reemplazamos las medidas del cono truncado que se muestra en la figura en la fórmula de Volumen, (no hace falta explicar que el volumen total del vaso es el volumen que ocupa el agua cuando el vaso está lleno)\n",
        "\n",
        "$$ V = \\frac {1}{3} \\pi h \\left ( {r_1}^2 + {r_2}^2 + r_1 \\cdot r_2 \\right ) $$\n",
        "\n",
        "$$ V = \\frac {1}{3} \\pi 3 \\left ( {\\frac {1}{2}}^2 + {1}^2 + \\frac {1}{2} \\cdot 1 \\right ) $$\n",
        "\n",
        "$$ V = \\pi \\left ( \\frac {1}{4} + 1 + \\frac {1}{2} \\right ) $$\n",
        "\n",
        "$$ V = \\pi \\left ( \\frac {7}{4} \\right ) $$\n",
        "\n",
        "$$ V = \\frac {7}{4} \\pi \\, \\text {cm}^3 $$\n",
        "\n",
        "Esto quiere decir que el volumen dado por la función $V(t) < \\frac {7}{4} \\pi $, ya que el volumen de agua dentro del vaso no puede exceder la capacidad del vaso (ignorando los posibles milímetros adicionales por la tensión superficial del agua)"
      ],
      "metadata": {
        "id": "LSKB76tAtV4Y"
      }
    },
    {
      "cell_type": "code",
      "source": [
        "from math import pi\n",
        "\n",
        "maxv = 7/4 * pi\n",
        "maxv"
      ],
      "metadata": {
        "id": "SbHvbTXM4ADD",
        "outputId": "ed45cc00-d36f-4a18-dfd8-e9b7e67f2b60",
        "colab": {
          "base_uri": "https://localhost:8080/"
        }
      },
      "execution_count": 6,
      "outputs": [
        {
          "output_type": "execute_result",
          "data": {
            "text/plain": [
              "5.497787143782138"
            ]
          },
          "metadata": {},
          "execution_count": 6
        }
      ]
    },
    {
      "cell_type": "markdown",
      "source": [
        "Primero resolvemos la EDO de variables separables\n",
        "\n",
        "$$ \\frac {dV}{dt} = \\frac {1}{4} \\, \\frac {cm^3}{min} $$\n",
        "\n",
        "$$ \\frac {dV}{dt} = \\frac {1}{4} $$\n",
        "\n",
        "$$ dV = \\frac {1}{4} \\, dt $$\n",
        "\n",
        "Ahora integramos para hallar la familia de funciones $V$:\n",
        "\n",
        "$$ \\int dV = \\frac {1}{4} \\, \\int dt $$\n",
        "\n",
        "$$ V = \\frac {1}{4} \\, t + C $$\n",
        "\n",
        "Donde $ C \\in R $"
      ],
      "metadata": {
        "id": "y_CThJxBSnCZ"
      }
    },
    {
      "cell_type": "markdown",
      "source": [
        "Ahora podemos usar las condiciones iniciales $ V(0) = 31.2 \\, \\text {lb} $ para hallar la función que describe **el volumen de agua dentro del vaso en $\\text{cm}^3$**\n",
        "\n",
        "$$ V(t) = \\frac {1}{4} \\, t + 31.2 $$"
      ],
      "metadata": {
        "id": "IL52GEaEULKt"
      }
    },
    {
      "cell_type": "markdown",
      "source": [
        "Resolviendo obtenemos:\n",
        "\n",
        "$$ m = 62.4 \\cdot \\left [ \\frac {1}{4} \\, 8 + 31.2 \\right ] $$\n",
        "\n",
        "$$ m = 62.4 \\cdot \\left [ 2 + 31.2 \\right ] $$\n",
        "\n",
        "$$ m = 62.4 \\cdot 33.2 $$\n",
        "\n",
        "$$ m = 2071.68 \\, \\text {lb} $$"
      ],
      "metadata": {
        "id": "C7FVpqXcs_Pn"
      }
    },
    {
      "cell_type": "code",
      "source": [
        "m = 62.4 * (8 / 4 + 31.2)\n",
        "m"
      ],
      "metadata": {
        "id": "rXVtTeWIyR2k",
        "outputId": "9c943eb2-1783-4f19-f3a7-0a967f0dfcdf",
        "colab": {
          "base_uri": "https://localhost:8080/"
        }
      },
      "execution_count": 5,
      "outputs": [
        {
          "output_type": "execute_result",
          "data": {
            "text/plain": [
              "2071.6800000000003"
            ]
          },
          "metadata": {},
          "execution_count": 5
        }
      ]
    },
    {
      "cell_type": "markdown",
      "source": [
        "Es decir, a los 8 minutos $t = 8$ la balanza medirá $ 2071.68 \\, \\text {lb}$, puesto que habrán $ 33.2 \\, \\text {cm}^3 $ de agua y según el enunciado, la densidad del agua es $ 62.4 \\, \\frac {\\text {lb}}{\\text {cm}^3} $. Además, estamos ignorando la masa del recipiente que alberga el agua."
      ],
      "metadata": {
        "id": "aS6IEjDkyUeN"
      }
    },
    {
      "cell_type": "markdown",
      "source": [
        "### 1b.\n",
        "\n",
        "Ahora debemos hallar la medida de la balanza $m$ cuando el vaso está lleno"
      ],
      "metadata": {
        "id": "mcTg6NkyxHkj"
      }
    },
    {
      "cell_type": "markdown",
      "source": [
        "Ahora multiplicamos este volumen por la densidad $62.4 \\, \\frac {\\text {lb}}{\\text {cm}^3}$ dada para hallar la masa, igual que en el inciso 1a.\n",
        "\n",
        "$$ m = V \\cdot d $$\n",
        "\n",
        "$$ m = \\frac {7}{4} \\pi \\, \\text {cm}^3 \\cdot 62.4 \\, \\frac {\\text {lb}}{\\text {cm}^3} $$\n",
        "\n",
        "$$ m = \\frac {7 \\cdot 62.4}{4} \\pi \\, \\text {lb} $$"
      ],
      "metadata": {
        "id": "UCrf-llAvlVY"
      }
    },
    {
      "cell_type": "code",
      "source": [
        "from math import pi\n",
        "\n",
        "m = ( 7 * 62.4 * pi ) / 4\n",
        "m"
      ],
      "metadata": {
        "id": "YqoM1BMiynH6",
        "outputId": "995cece2-a30b-4d5b-8ab5-da5c858e060a",
        "colab": {
          "base_uri": "https://localhost:8080/"
        }
      },
      "execution_count": 3,
      "outputs": [
        {
          "output_type": "execute_result",
          "data": {
            "text/plain": [
              "343.0619177720054"
            ]
          },
          "metadata": {},
          "execution_count": 3
        }
      ]
    },
    {
      "cell_type": "markdown",
      "source": [
        "Entonces cuando el vaso está lleno, la balanza medirá $ 343.06 \\, \\text {lb}$."
      ],
      "metadata": {
        "id": "Sowee6nFyxdx"
      }
    },
    {
      "cell_type": "markdown",
      "source": [
        "## 2.\n",
        "\n",
        "Supóngase que la velocidad $v$ de un barco costero en el agua satisface la ecuación diferencial $$\\frac{dv}{dt}= kv^2$$\n",
        "\n",
        "> Indented block\n",
        "\n",
        "\n",
        "La velocidad inicial de la embarcación es $v(0)=10$ $m/s$, y $v$ disminuye a razón de $1$ $m/s^2$ cuando\n",
        "$v=5$ $m/s$.\n",
        "* ¿Cuánto tiempo transcurrirá para que la velocidad del barco disminuya a 1 m/s?\n",
        "* ¿A $\\frac{1}{10}$ $m/s$?\n",
        "* ¿Cuándo se detiene el barco?"
      ],
      "metadata": {
        "id": "KEQNAB4vuFy4"
      }
    },
    {
      "cell_type": "markdown",
      "source": [
        "3. Suponga que la población de venados $P(t)$ en un pequeño bosque satisface la ecuación logística\n",
        "$$\\frac{dP}{dt}=0.0225P-0.0003P^2$$\n",
        "Construya un campo de isoclinas y una curva solución apropiada para dar respuesta a las siguientes preguntas: Si hay $25$ venados en el tiempo $t=0$, y $t$ es medido en meses,\n",
        "* ¿cuánto tiempo le tomará duplicarse a esta población?\n",
        "* ¿Cuál será la población límite de venados?\n",
        "\n",
        "\n",
        "\n"
      ],
      "metadata": {
        "id": "L6yAOOlOwO1S"
      }
    },
    {
      "cell_type": "markdown",
      "source": [
        "4. Suponga que un avión mantiene su dirección hacia un aeropuerto en el origen. Si $v_0=500$ $mi/h$ y $w= 50$ $mi/h$ (con el viento soplando hacia el norte), y el avión inicia en el punto $(200, 150)$, pruebe que su trayectoria se describe por:\n",
        "$$y+\\sqrt{x^2+y^2}=2(200x^9)^{\\frac{1}{10}}$$"
      ],
      "metadata": {
        "id": "lddpQG2s1pZ9"
      }
    },
    {
      "cell_type": "markdown",
      "source": [
        "5. Suponga que un trampolín está a $5m$ sobre la superficie del agua y un clavadista comienza su rutina de clavado con una velocidad inicial de $2\\frac{m}{s}$ (en dirección ascendente). Use Use la Segunda Ley de Newton para plantear una EDO que le permita calcular la velocidad del clavadista en el momento del impacto con el agua. Tenga en cuenta las condiciones iniciales del problema para el proceso de solución de dicha ecuación diferencial. Nota: No consideren la resistencia del aire"
      ],
      "metadata": {
        "id": "0GXr0Lcqql1O"
      }
    },
    {
      "cell_type": "markdown",
      "source": [
        "6. La atracción gravitacional $F$ ejercida por la Tierra sobre un objeto de masa $m$ a una distancia $s$ del centro de la Tierra está dada por la expresión: $$F=-\\frac{mgR^{2}}{s^{2}}$$ donde $g=32\\frac{pies}{s^{2}}$ es la aceleración debida a la gravedad en la superficie terrestre y $R\\approx 3960 millas$ es el radio de la Tierra. Demuestren que un objeto lanzado hacia arriba desde la Tierra con una velocidad $v_{0}\\geq \\sqrt{2gR}\\approx 6.93\\frac{millas}{segundos}$ no regresará a la Tierra.  \n",
        "\n",
        "  **Ayuda:** Usen la Segunda Ley de Newton: $F=m\\cdot a$ y la regla de la cadena para expresar la aceleración como: $$a=\\frac{\\mathrm{d} v}{\\mathrm{d} t}=\\frac{\\mathrm{d} v}{\\mathrm{d} s}\\cdot \\frac{\\mathrm{d} s}{\\mathrm{d} t}$$\n"
      ],
      "metadata": {
        "id": "jGapmbVvsF0a"
      }
    },
    {
      "cell_type": "markdown",
      "source": [
        "## 7.\n",
        "\n",
        "Consideren la siguiente EDO\n",
        "\n",
        "$$ \\frac {dx}{dt} = - \\frac {1}{3} x + \\sin(t),\\quad x(0) = 1 $$\n",
        "\n",
        "cuya solución exacta viene dada por\n",
        "\n",
        "$$ x(t) = \\frac {1}{10} \\left ( 19e^{-t/3} + 3 \\sin(t) - 9 \\cos(t) \\right ) $$   \n",
        "\n",
        "a. Utilicen el código del Método de Euler para encontrar soluciones numéricas del problema de valor inicial en el intervalo $[0,5]$  para al menos valores de $ n = 5, 10, 50$ y $100$. Encuentren el error relativo para cada una de esas particiones.\n",
        "\n",
        "b. Grafiquen, en la misma figura, las aproximaciones y la solución exacta de la ecuación diferencial, mostrando las respectivas etiquetas en cada caso.\n",
        "\n",
        "Recuerden que\n",
        "\n",
        "$$ \\text {Error} = \\frac {A - A_{\\text {approx}}} {A}.$$\n",
        "\n",
        "Aquí  $A$ representa el valor exacto de la solución y $A_{\\text {approx}}$ no es más que el valor aproximado del problema de valor inicial implementando el método de Euler para cada uno de los valores de $n$."
      ],
      "metadata": {
        "id": "zdK_NXDusSpC"
      }
    },
    {
      "cell_type": "code",
      "source": [
        "def euler():"
      ],
      "metadata": {
        "id": "prBbQ6n_rZXO"
      },
      "execution_count": null,
      "outputs": []
    },
    {
      "cell_type": "markdown",
      "source": [
        "8. Longitud de arco (Longitud de una curva)*    \n",
        " En la sección 4.8.3 del libro de Dan Sloughter presentan el problema de encontrar la longitud de una curva $C$ que es la gráfica de un función $y=f(x)$ continua en un intervalo cerrado $[a,b]$ y diferenciable en el intervalo abierto $(a,b)$. En esa sección demuestran que la longitud de la curva $C$ está dada por la expresión:\n",
        "$$L=\\int_{a}^{b}\\sqrt{1+\\left [ f'(x)) \\right ]^{2}}dx$$  \n",
        "\n",
        "* Lean detenidamente la sección 4.8.3 y estudien con detalle la deducción de esta expresión para la longitud de una curva. Asegurense de entender la idea geométrica que hay detrás de esta expresión.\n",
        "\n",
        "* Muestren que el método de longitud de una curva aplicado a la circunferencia del circulo unitario $x^{2}+y^{2}=1$ conduce a la expresión $$C=8\\int_{0}^{\\frac{1}{\\sqrt{2}}}\\frac{1}{\\sqrt{1-x^{2}}}dx$$   Expliquen claramente sus procesos algebraicos y el por qué de de la definición de los límites de integración.   \n",
        "* Calcular la integral anterior implica el uso de técnicas y procedimientos que no hemos estudiado en el curso. Use integración numérica para encontrar una aproximación a cuatro cifras decimales del valor de esta integral. ¿A qué valor conocido se aproxima la longitud de la curva?\n"
      ],
      "metadata": {
        "id": "XtMrbxSpt9m5"
      }
    }
  ]
}