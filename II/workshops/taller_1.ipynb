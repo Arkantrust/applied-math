{
  "nbformat": 4,
  "nbformat_minor": 0,
  "metadata": {
    "colab": {
      "provenance": [],
      "include_colab_link": true
    },
    "kernelspec": {
      "name": "python3",
      "display_name": "Python 3"
    },
    "language_info": {
      "name": "python"
    }
  },
  "cells": [
    {
      "cell_type": "markdown",
      "metadata": {
        "id": "view-in-github",
        "colab_type": "text"
      },
      "source": [
        "<a href=\"https://colab.research.google.com/github/Arkantrust/applied-math/blob/taller_1/II/workshops/taller_1.ipynb\" target=\"_parent\"><img src=\"https://colab.research.google.com/assets/colab-badge.svg\" alt=\"Open In Colab\"/></a>"
      ]
    },
    {
      "cell_type": "markdown",
      "source": [
        "<img src=http://www.acofi.edu.co/eiei2016/wp-content/uploads/2016/09/Logo-Universidad-ICESI.jpg width=\"300\" height=\"200\" align=\"center\">\n",
        "\n",
        "# Matemáticas Aplicadas II\n",
        "\n",
        "## Departamento de Ciencias Físicas y Aplicadas / Facultad de Ingeniería, Diseño y Ciencias Aplicadas\n",
        "\n",
        "## Profesor Luis Fernando Azcárate Mesa\n",
        "\n",
        "## **Notebook 1: Integración Numérica**\n",
        "\n",
        "## David Dulce"
      ],
      "metadata": {
        "id": "YPcbfr3wPi9w"
      }
    },
    {
      "cell_type": "code",
      "source": [
        "import numpy as np\n",
        "import math\n",
        "import matplotlib.pyplot as plt"
      ],
      "metadata": {
        "id": "qXZ0F75NxDlN"
      },
      "execution_count": 1,
      "outputs": []
    },
    {
      "cell_type": "markdown",
      "source": [
        "## $1$ Cono Truncado\n",
        "\n",
        "En la FIGURA se muestra un cubo con las dimensiones dadas (en cm) que se llena a razón constante de\n",
        "\n",
        "$$ \\frac {dV}{dt} = \\frac {1}{4} \\, \\frac {\\text {cm}^3}{\\text {min}} $$\n",
        "\n",
        "Cuando $t = 0$, en la balanza se lee $31.2 \\, lb$.\n",
        "\n",
        "Si el agua pesa $62.4$ $\\frac {\\text {lb}}{\\text {cm}^3}$, responda:\n",
        "\n",
        "a. ¿cuál es la lectura de la balanza luego de 8 minutos?\n",
        "\n",
        "b. ¿Y cuando el cubo está lleno?"
      ],
      "metadata": {
        "id": "hThAyd3wxkee"
      }
    },
    {
      "cell_type": "markdown",
      "source": [
        "![llave_volumne.png](data:image/png;base64,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)\n",
        "\n",
        "\n",
        "\n"
      ],
      "metadata": {
        "id": "02uHJJU-d1yk"
      }
    },
    {
      "cell_type": "markdown",
      "source": [
        "### $1.a$\n",
        "\n",
        "Para hallar la lectura de la balanza cuando $ t = 8 $, tendremos una función $m(t)$, cuya imagen es la masa que mide la balanza a los $t$ minutos en $\\text {lb}$."
      ],
      "metadata": {
        "id": "mJtMsiHbQTgO"
      }
    },
    {
      "cell_type": "markdown",
      "source": [
        "Para construir esta función $m(t)$, debemos tener en cuenta que primero, el agua pesa $62.4 \\, \\frac {\\text {lb}}{\\text {cm}^3}$ y segundo, que\n",
        "\n",
        "$$ m = d \\cdot V $$\n",
        "\n",
        "Donde:\n",
        "\n",
        "- $m$: masa del cuerpo\n",
        "\n",
        "- $d$: densidad del material\n",
        "\n",
        "- $V$: Volumen que ocupa dicho material\n",
        "\n",
        "Por lo tanto debemos multiplicar el volumen $V(t)$ del agua en ese instante $t$ por la densidad, o lo que es igual:\n",
        "\n",
        "$$ m(t) = 62.4 \\cdot V(t) $$"
      ],
      "metadata": {
        "id": "5QkcdmSafOkt"
      }
    },
    {
      "cell_type": "markdown",
      "source": [
        "Para hallar la función $V(t)$ debemos hallar dentro de la familia de funciones solución de la ecuación $\\frac {dV}{dt} = \\frac {1}{4}$, la función $V(t)$ que cumple con las condiciones iniciales que hallaremos en un siguiente paso. La imagen de esta función es el volumen que ocupa el agua dentro del vaso en el instante $t$ en $\\text {cm}^3$.\n",
        "\n",
        "Las condiciones iniciales en este caso describen la masa de agua cuando $t = 0$, pero por la ecuación de arriba, es posible hallar $V(0)$, de la siguiente manera:\n",
        "\n",
        "$$ m(0) = d \\cdot V(0) $$"
      ],
      "metadata": {
        "id": "fYSpR5tD7Mhq"
      }
    },
    {
      "cell_type": "markdown",
      "source": [
        "Aplicamos la condición inicial $ m(0) = 31.2 \\, lb$\n",
        "\n",
        "$$ 31.2 \\, lb = 62.4 \\, \\frac {\\text {lb}}{\\text {cm}^3} \\cdot V(0) $$\n",
        "\n",
        "Dividimos ambos lados entre $ 62.4 \\, \\frac {\\text {lb}}{\\text {cm}^3} $\n",
        "\n",
        "$$ \\frac {31.2 \\, lb}{62.4 \\, \\frac {\\text {lb}}{\\text {cm}^3}} = V(0) $$\n",
        "\n",
        "$$ \\frac {31.2}{62.4} \\text {cm}^3 = V(0) $$\n",
        "\n",
        "$$ V(0) = \\frac {1}{2}\\text {cm}^3 $$"
      ],
      "metadata": {
        "id": "84ETF8qm-Bjz"
      }
    },
    {
      "cell_type": "markdown",
      "source": [
        "Ahora resolvemos la EDO de variables separables\n",
        "\n",
        "$$ \\frac {dV}{dt} = \\frac {1}{4} \\, \\frac {\\text {cm}^3}{\\text {min}} $$\n",
        "\n",
        "$$ dV = \\frac {1}{4} \\, dt $$\n",
        "\n",
        "$$ \\int dV = \\frac {1}{4} \\, \\int dt $$\n",
        "\n",
        "$$ V = \\frac {1}{4}t + C $$\n",
        "\n",
        "donde $ C \\in R $"
      ],
      "metadata": {
        "id": "0WySP20j-GDa"
      }
    },
    {
      "cell_type": "markdown",
      "source": [
        "Para hallar la función V, usamos la condición inicial $ V(0) = \\frac {1}{2}\\text {cm}^3 $\n",
        "\n",
        "$$ \\frac {1}{2} = \\frac {0}{4} + C $$\n",
        "\n",
        "$$ \\frac {1}{2} = C $$\n",
        "\n",
        "Por lo tanto:\n",
        "\n",
        "$$ V(t) = \\frac {1}{4}t + \\frac {1}{2} $$"
      ],
      "metadata": {
        "id": "9jaS1AXlGqV_"
      }
    },
    {
      "cell_type": "markdown",
      "source": [
        "Volviendo a $m(t)$, tenemos que:\n",
        "\n",
        "$$ m(t) = 62.4 \\cdot V(t) $$\n",
        "\n",
        "$$ m(t) = 62.4 \\cdot \\left [ \\frac {1}{4}t + \\frac {1}{2} \\right ] $$\n",
        "\n",
        "Ahora simplificamos\n",
        "\n",
        "$$ m(t) = \\frac {62.4}{4}t + \\frac {62.4}{2} $$\n",
        "\n",
        "$$ m(t) = 15.6t + 31.2 $$"
      ],
      "metadata": {
        "id": "XUIgjG3GHMse"
      }
    },
    {
      "cell_type": "markdown",
      "source": [
        "Ahora podemos hallar la medida de la balanza pasados 8 minutos mediante $m(8)$\n",
        "\n",
        "$$ m(8) = 15.6(8) + 31.2 $$"
      ],
      "metadata": {
        "id": "hl4PURFsH6z3"
      }
    },
    {
      "cell_type": "code",
      "source": [
        "m8 = 15.6*8 + 31.2\n",
        "\n",
        "m8"
      ],
      "metadata": {
        "id": "Fx6Xc46NIUpv",
        "outputId": "b61b9ec0-fb6c-472b-ee05-9c555a7d699c",
        "colab": {
          "base_uri": "https://localhost:8080/"
        }
      },
      "execution_count": null,
      "outputs": [
        {
          "output_type": "execute_result",
          "data": {
            "text/plain": [
              "156.0"
            ]
          },
          "metadata": {},
          "execution_count": 8
        }
      ]
    },
    {
      "cell_type": "markdown",
      "source": [
        "$$ m(8) = 156 \\text {lb} $$\n",
        "\n",
        "Por lo tanto, pasados exactamente 8 minutos, la balanza medirá $156 \\text {lb}$."
      ],
      "metadata": {
        "id": "RoozPc-BIi47"
      }
    },
    {
      "cell_type": "markdown",
      "source": [
        "### $1.b$\n",
        "\n",
        "Ahora debemos hallar la medida de la balanza $m$ cuando el vaso está lleno, el volumen que ocupa el agua cuando el vaso está lleno (ignorando milímetros adicionales debido a la tensión superficial) es igual a la capacidad o volumen del vaso, que tiene forma de cono truncado."
      ],
      "metadata": {
        "id": "mcTg6NkyxHkj"
      }
    },
    {
      "cell_type": "markdown",
      "source": [
        "Medidas del cono truncado:\n",
        "\n",
        "- radio inferior: $ r_1 = \\frac {1}{2} \\text {cm} $\n",
        "\n",
        "- radio superior: $ r_2 = 1 \\text {cm} $\n",
        "\n",
        "- altura: $ h = 3 \\text {cm} $"
      ],
      "metadata": {
        "id": "0V1tN-CF1q1H"
      }
    },
    {
      "cell_type": "markdown",
      "source": [
        "El volumen de un cono truncado se puede expresar como la resta entre el volumen del cono original menos el volumen del cono que fue cortado de la punta, su ecuación es:\n",
        "\n",
        "$$ V = \\frac {1}{3} \\pi h \\left ( {r_1}^2 + {r_2}^2 + r_1 \\cdot r_2 \\right ) $$\n",
        "\n",
        "Referencias:\n",
        "\n",
        "- [Khan Academy](https://www.khanacademy.org/math/in-in-grade-10-ncert/x573d8ce20721c073:surface-areas-and-volumes/x573d8ce20721c073:frustum-of-a-cone/v/volume-of-a-frustum)\n",
        "- [Geeks For Geeks](https://www.geeksforgeeks.org/frustum-of-cone/)\n",
        "- [Wikipedia](https://es.wikipedia.org/wiki/Tronco_de_cono)"
      ],
      "metadata": {
        "id": "-PXrH4lbjY9O"
      }
    },
    {
      "cell_type": "markdown",
      "source": [
        "Reemplazamos las medidas del cono truncado que se muestra en la figura en la fórmula de Volumen\n",
        "\n",
        "$$ V = \\frac {1}{3} \\pi h \\left ( {r_1}^2 + {r_2}^2 + r_1 \\cdot r_2 \\right ) $$\n",
        "\n",
        "$$ V = \\frac {1}{3} \\pi 3 \\left ( {\\frac {1}{2}}^2 + {1}^2 + \\frac {1}{2} \\cdot 1 \\right ) $$\n",
        "\n",
        "$$ V = \\pi \\left ( \\frac {1}{4} + 1 + \\frac {1}{2} \\right ) $$\n",
        "\n",
        "$$ V = \\pi \\left ( \\frac {7}{4} \\right ) $$\n",
        "\n",
        "$$ V = \\frac {7}{4} \\pi \\, \\text {cm}^3 $$\n",
        "\n",
        "Esto quiere decir que el volumen dado por la función $V(t) < \\frac {7}{4} \\pi $, ya que el volumen de agua dentro del vaso no puede exceder la capacidad del vaso (ignorando los posibles milímetros adicionales por la tensión superficial del agua)"
      ],
      "metadata": {
        "id": "LSKB76tAtV4Y"
      }
    },
    {
      "cell_type": "markdown",
      "source": [
        "Ahora multiplicamos este volumen por la densidad $62.4 \\, \\frac {\\text {lb}}{\\text {cm}^3}$ dada para hallar la masa, igual que en el inciso 1a.\n",
        "\n",
        "$$ m = V \\cdot d $$\n",
        "\n",
        "$$ m = \\frac {7}{4} \\pi \\, \\text {cm}^3 \\cdot 62.4 \\, \\frac {\\text {lb}}{\\text {cm}^3} $$\n",
        "\n",
        "$$ m = \\frac {7 \\cdot 62.4}{4} \\pi \\, \\text {lb} $$"
      ],
      "metadata": {
        "id": "UCrf-llAvlVY"
      }
    },
    {
      "cell_type": "code",
      "source": [
        "from math import pi\n",
        "\n",
        "m = ( 7 * 62.4 * pi ) / 4\n",
        "m"
      ],
      "metadata": {
        "id": "YqoM1BMiynH6",
        "outputId": "995cece2-a30b-4d5b-8ab5-da5c858e060a",
        "colab": {
          "base_uri": "https://localhost:8080/"
        }
      },
      "execution_count": null,
      "outputs": [
        {
          "output_type": "execute_result",
          "data": {
            "text/plain": [
              "343.0619177720054"
            ]
          },
          "metadata": {},
          "execution_count": 3
        }
      ]
    },
    {
      "cell_type": "markdown",
      "source": [
        "Entonces cuando el vaso está lleno, la balanza medirá $ 343.06 \\, \\text {lb}$."
      ],
      "metadata": {
        "id": "Sowee6nFyxdx"
      }
    },
    {
      "cell_type": "markdown",
      "source": [
        "## $2$ Barco Costero\n",
        "\n",
        "Supóngase que la velocidad $v$ de un barco costero en el agua satisface la ecuación diferencial $$\\frac{dv}{dt}= kv^2$$\n",
        "\n",
        "La velocidad inicial de la embarcación es $v(0)=10$ $m/s$, y $v$ disminuye a razón de $1$ $m/s^2$ cuando\n",
        "$v=5$ $m/s$.\n",
        "* ¿Cuánto tiempo transcurrirá para que la velocidad del barco disminuya a 1 m/s?\n",
        "* ¿A $\\frac{1}{10}$ $m/s$?\n",
        "* ¿Cuándo se detiene el barco?"
      ],
      "metadata": {
        "id": "KEQNAB4vuFy4"
      }
    },
    {
      "cell_type": "markdown",
      "source": [
        "## $3$ Venados\n",
        "\n",
        "Suponga que la población de venados $P(t)$ en un pequeño bosque satisface la ecuación logística\n",
        "$$\\frac{dP}{dt}=0.0225P-0.0003P^2$$\n",
        "Construya un campo de isoclinas y una curva solución apropiada para dar respuesta a las siguientes preguntas: Si hay $25$ venados en el tiempo $t=0$, y $t$ es medido en meses,\n",
        "* ¿cuánto tiempo le tomará duplicarse a esta población?\n",
        "* ¿Cuál será la población límite de venados?\n",
        "\n",
        "\n",
        "\n"
      ],
      "metadata": {
        "id": "L6yAOOlOwO1S"
      }
    },
    {
      "cell_type": "markdown",
      "source": [
        "## $4$ Avión\n",
        "\n",
        "Suponga que un avión mantiene su dirección hacia un aeropuerto en el origen. Si $v_0=500$ $mi/h$ y $w= 50$ $mi/h$ (con el viento soplando hacia el norte), y el avión inicia en el punto $(200, 150)$, pruebe que su trayectoria se describe por:\n",
        "$$y+\\sqrt{x^2+y^2}=2(200x^9)^{\\frac{1}{10}}$$"
      ],
      "metadata": {
        "id": "lddpQG2s1pZ9"
      }
    },
    {
      "cell_type": "markdown",
      "source": [
        "### $4.1$ Marco de Referencia\n",
        "\n",
        "Considere el siguiente marco de referencia con origen en el aeropuerto, donde el eje $x$ apunta hacia el este y el eje $y$ apunta hacia el norte."
      ],
      "metadata": {
        "id": "44W1s35l440F"
      }
    },
    {
      "cell_type": "markdown",
      "source": [
        "#### $4.1.1$ Velocidad del Viento\n",
        "\n",
        "- La velocidad del viento se define como la velocidad del aire en movimiento en relación con un punto fijo.\n",
        "- En este caso, el viento sopla hacia el norte a una velocidad de 50 millas por hora.\n",
        "- En el marco de referencia terrestre, la velocidad del viento se representa como un vector constante:\n",
        "\n",
        "$$ \\vec w = 0i + 50j $$\n",
        "\n",
        "donde:\n",
        "- $i$: vector unitario hacia el este.\n",
        "- $j$: vector unitario hacia el norte."
      ],
      "metadata": {
        "id": "9SHuYV8Y48gA"
      }
    },
    {
      "cell_type": "markdown",
      "source": [
        "#### $4.1.2$ Velocidad del Avión en el Marco de Referencia del Viento\n",
        "\n",
        "La velocidad del avión en el marco de referencia del viento se representa como un vector $\\vec v_r$ con componentes $v_0 \\cos \\theta$ hacia el este y $v_0 \\sin \\theta$ hacia el norte:\n",
        "\n",
        "$$ \\vec v_r = \\vec v_0 \\cos(\\theta)i + \\vec v_0 \\sin(\\theta)j $$\n",
        "\n",
        "$$ \\vec v_r = 500 \\cos(\\theta)i + 500 \\sin(\\theta)j $$"
      ],
      "metadata": {
        "id": "q_X0hTGs5ElY"
      }
    },
    {
      "cell_type": "markdown",
      "source": [
        "#### $4.1.3$ Velocidad del Avión en el Marco de Referencia Terrestre\n",
        "\n",
        "La velocidad del avión en el marco de referencia terrestre es la suma de su velocidad en el marco de referencia del viento y la velocidad del viento:\n",
        "\n",
        "$$ \\vec v = \\vec v_r + \\vec w $$\n",
        "\n",
        "$$ \\vec v = 500 \\cos(\\theta)i + 500 \\sin(\\theta)j + 50j $$\n",
        "\n",
        "$$ \\vec v = 500 \\cos(\\theta)i + 50 \\left ( 10 \\sin(\\theta) + 1 \\right )j $$"
      ],
      "metadata": {
        "id": "DH1ACDxO5ThF"
      }
    },
    {
      "cell_type": "markdown",
      "source": [
        "### $4.2$ Planteamiento de Ecuaciones Diferenciales\n",
        "\n",
        "Las ecuaciones diferenciales que describen el movimiento del avión en el marco de referencia terrestre son:\n",
        "\n",
        "$$ \\frac{dx}{dt} = 500 \\cos(\\theta) $$\n",
        "\n",
        "$$ \\frac{dy}{dt} = 500 \\sin(\\theta) + 50 $$\n",
        "\n",
        "Para resolver estas ecuaciones diferenciales, debemos separar las variables $x$ y $y$:"
      ],
      "metadata": {
        "id": "LX00e7VU5mPH"
      }
    },
    {
      "cell_type": "markdown",
      "source": [
        "Primero, despejamos $dt$ de ambas ecuaciones:\n",
        "\n",
        "$$ dt = \\frac {dx}{500 \\cos(\\theta)} $$\n",
        "\n",
        "$$ dt = \\frac {dy}{500 \\sin(\\theta) + 50} $$"
      ],
      "metadata": {
        "id": "ymz8o9lvjmLn"
      }
    },
    {
      "cell_type": "markdown",
      "source": [
        "Ahora igualamos:\n",
        "\n",
        "$$ \\frac {dy}{500 \\sin(\\theta) + 50} = \\frac {dx}{500 \\cos(\\theta)} $$\n",
        "\n",
        "$$ dy = \\frac {500 \\sin(\\theta) + 50}{500 \\cos(\\theta)} \\, dx $$\n",
        "\n",
        "$$ \\frac {dy}{dx} = \\frac { 50 \\left ( 10 \\sin(\\theta) + 1 \\right )}{500 \\cos(\\theta)} $$\n",
        "\n",
        "$$ \\frac {dy}{dx} = \\frac {10 \\sin(\\theta) + 1}{10 \\cos(\\theta)} $$"
      ],
      "metadata": {
        "id": "HdL-jSNDjtkm"
      }
    },
    {
      "cell_type": "markdown",
      "source": [
        "Ahora separemos los términos de la fracción\n",
        "\n",
        "$$ \\frac {dy}{dx} = \\frac {10 \\sin(\\theta)}{10 \\cos(\\theta)} + \\frac {1}{10 \\cos(\\theta)} $$\n",
        "\n",
        "$$ \\frac {dy}{dx} = \\frac {\\sin(\\theta)}{\\cos(\\theta)} + \\frac {1}{10 \\cos(\\theta)} $$"
      ],
      "metadata": {
        "id": "AT4uO2fi67C9"
      }
    },
    {
      "cell_type": "markdown",
      "source": [
        "### $4.3$ Sustitución de Funciones Trigonométricas\n",
        "\n",
        "Debemos hallar una forma de reemplazar las funciones trigonométricas en términos de $x$ y $y$\n",
        "\n",
        "Sabemos que para cualquier triángulo rectángulo se cumple que\n",
        "\n",
        "$$ h^2 = x^2 + y^2 $$\n",
        "\n",
        "Donde $x$ y $y$ son los catetos del triángulo y $h$ su hipotenusa. Entonces podemos expresar la hipotenusa de la siguiente manera.\n",
        "\n",
        "$$ h = \\sqrt {x^2 + y^2} $$"
      ],
      "metadata": {
        "id": "qU6CpAWz6htV"
      }
    },
    {
      "cell_type": "markdown",
      "source": [
        "![Triángulo Rectangulo](https://github.com/Arkantrust/applied-math/blob/main/II/assets/right_triangle.jpg?raw=true)\n",
        "\n",
        "Triángulo de Apoyo"
      ],
      "metadata": {
        "id": "yqQOPVy_6xnG"
      }
    },
    {
      "cell_type": "markdown",
      "source": [
        "### $4.4$ Ecuación Diferencial Ordenaria No-Lineal"
      ],
      "metadata": {
        "id": "VH6LxPcrYRPb"
      }
    },
    {
      "cell_type": "markdown",
      "source": [
        "1. $$ \\frac {\\sin \\theta}{\\cos \\theta} = \\tan \\theta $$\n",
        "\n",
        "$$ \\frac {\\sin \\theta}{\\cos \\theta} = \\frac {\\text {c. opuesto}}{\\text {c. adyacente}} $$\n",
        "\n",
        "$$ \\frac {\\sin \\theta}{\\cos \\theta} =  \\frac {y}{x} $$"
      ],
      "metadata": {
        "id": "UpdE6lqv-p4j"
      }
    },
    {
      "cell_type": "markdown",
      "source": [
        "2. $$ \\cos \\theta = \\frac {\\text {c. adyacente}}{\\text {hipotenusa}} $$\n",
        "\n",
        "$$ \\cos \\theta = \\frac {x}{\\sqrt {x^2 + y^2}} $$"
      ],
      "metadata": {
        "id": "tSyEJOV4-uxt"
      }
    },
    {
      "cell_type": "markdown",
      "source": [
        "Basados en este triángulo y los teoremas matemáticos mencionados anteriormente, podemos plantear la ecuación diferencial de la siguiente manera\n",
        "\n",
        "$$ \\frac {dy}{dx} = \\frac {y}{x} + \\frac {1}{\\frac {10x}{\\sqrt {x^2 + y^2}}} $$\n",
        "\n",
        "$$ \\frac {dy}{dx} = \\frac {y}{x} + \\frac {\\sqrt {x^2 + y^2}}{10x} $$"
      ],
      "metadata": {
        "id": "bIxv6u1H63cd"
      }
    },
    {
      "cell_type": "markdown",
      "source": [
        "### $5$ Solución de la EDO\n",
        "\n",
        "Al solucionar esta ecuación diferencial, obtendremos una familia de funciones que, junto con la posición inicial del avión, nos darán la función posición del avión. Usaremos la sustitución $ v = \\frac {y}{x} $\n",
        "\n",
        "$$ vx = y $$\n",
        "\n",
        "$$ \\frac {dv}{dx} x + v = \\frac {dy}{dx} $$"
      ],
      "metadata": {
        "id": "kb1VDuzd6Azi"
      }
    },
    {
      "cell_type": "markdown",
      "source": [
        "Ahora reemplazamos en la ecuación\n",
        "\n",
        "$$ \\frac {dv}{dx} x + v = v + \\frac {\\sqrt {x^2 + v^2x^2}}{10x} $$\n",
        "\n",
        "$$ \\frac {dv}{dx} x + v - v = v + \\frac {\\sqrt {x^2 (1 + v^2)}}{10x} - v $$\n",
        "\n",
        "$$ \\frac {dv}{dx} x = \\frac { x \\sqrt {1 + v^2}}{10x} $$\n",
        "\n",
        "$$ \\frac {dv}{dx} x = \\frac {\\sqrt {v^2 + 1}}{10} $$\n",
        "\n",
        "$$ \\frac {1}{\\sqrt {v^2 + 1}} \\, dv = \\frac {1}{10x} \\, dx $$"
      ],
      "metadata": {
        "id": "NFCc1La9hMMH"
      }
    },
    {
      "cell_type": "markdown",
      "source": [
        "Ahora integramos\n",
        "\n",
        "$$ \\int \\frac {1}{\\sqrt {v^2 + 1}} \\, dv = \\int \\frac {1}{10x} \\, dx $$"
      ],
      "metadata": {
        "id": "alqbVdWpjrYM"
      }
    },
    {
      "cell_type": "markdown",
      "source": [
        "### $5.1$ Sustitución Trigonométrica\n",
        "\n",
        "La integral del término izquierdo puede ser fácilmente resuelta mediante integración por sustitución trigonométrica. A continuación, el procedimiento:\n",
        "\n",
        "$$ \\int \\frac {1}{\\sqrt {v^2 + 1}} \\, dv $$"
      ],
      "metadata": {
        "id": "JEOhkjVjjyLl"
      }
    },
    {
      "cell_type": "markdown",
      "source": [
        "Simplemente usaremos la sustitución $ v = \\tan \\theta $\n",
        "\n",
        "$$ v = \\tan \\theta $$\n",
        "\n",
        "$$ \\frac {dv}{d \\theta} = \\sec^2 \\theta $$\n",
        "\n",
        "$$ dv = \\sec^2 \\theta \\, d \\theta $$"
      ],
      "metadata": {
        "id": "QwvUtWtWhjn7"
      }
    },
    {
      "cell_type": "markdown",
      "source": [
        "También sabemos por el poder del teorema de pitágoras y las funciones trigonométricas que si la hipotenusa de un triángulo es $ \\sqrt {v^2 + 1} $, entonces sus catetos son $v$ y $1$. Por lo tanto podemos decir por la definición de la función secante que:\n",
        "\n",
        "$$ \\sec \\theta = \\frac {\\sqrt {v^2 + 1}}{1} $$\n",
        "\n",
        "$$ \\sec \\theta = \\sqrt {v^2 + 1} $$"
      ],
      "metadata": {
        "id": "ln_u92rFhbho"
      }
    },
    {
      "cell_type": "markdown",
      "source": [
        "Sustituimos en la integral:\n",
        "\n",
        "$$ \\int \\frac {1}{\\sec \\theta} \\, \\sec^2 \\theta \\, d \\theta $$\n",
        "\n",
        "$$ \\int \\frac {\\sec^2 \\theta}{\\sec \\theta} \\, d \\theta $$\n",
        "\n",
        "$$ \\int \\sec \\theta \\, d \\theta $$"
      ],
      "metadata": {
        "id": "tVVdyOhLhZs8"
      }
    },
    {
      "cell_type": "markdown",
      "source": [
        "Esta es una integral conocida:\n",
        "\n",
        "$$ \\int \\sec \\theta \\, d \\theta = \\ln | \\sec \\theta + \\tan \\theta | + C $$"
      ],
      "metadata": {
        "id": "ooGTWUX0hXcz"
      }
    },
    {
      "cell_type": "markdown",
      "source": [
        "Ahora volvemos a la ecuación diferencial, nótese que $ \\int \\frac {1}{10x} \\, dx = \\frac {1}{10} \\ln | x | $:\n",
        "\n",
        "$$ \\ln | \\sec \\theta + \\tan \\theta | = \\frac {1}{10} \\ln | x | $$\n",
        "\n",
        "$$ \\ln | \\sec \\theta + \\tan \\theta | = \\frac {1}{10} \\ln | x | $$"
      ],
      "metadata": {
        "id": "VqDlOKlZm3EJ"
      }
    },
    {
      "cell_type": "markdown",
      "source": [
        "### $5.2$ Solución de Identidad Trigonométrica\n",
        "\n",
        "Podemos manipular la identidad $ \\sec \\theta + \\tan \\theta $ para que quede en términos de $x$ y $y$ teniendo en cuenta el triángulo de la sección 4.3"
      ],
      "metadata": {
        "id": "gLexIWwlfZYC"
      }
    },
    {
      "cell_type": "markdown",
      "source": [
        "$$ \\sec \\theta + \\tan \\theta $$\n",
        "\n",
        "$$ \\frac {1}{\\cos \\theta} + \\frac {\\sin \\theta}{\\cos \\theta} $$"
      ],
      "metadata": {
        "id": "gMVXnRpCinf8"
      }
    },
    {
      "cell_type": "markdown",
      "source": [
        "Podemos reemplazar $ \\sin \\theta $ y $ \\cos \\theta $ teniendo en cuenta el triángulo mencionado en la sección $4.3$. Recordemos que:\n",
        "\n",
        "- cateto opuesto: $y$\n",
        "- cateto adyacente: $x$\n",
        "- hipotenusa: $\\sqrt {x^2 + y^2}$"
      ],
      "metadata": {
        "id": "RJ-Co2y5iVS1"
      }
    },
    {
      "cell_type": "markdown",
      "source": [
        "Entonces tenemos que:"
      ],
      "metadata": {
        "id": "4DFLrzj0hJ2l"
      }
    },
    {
      "cell_type": "markdown",
      "source": [
        "1.\n",
        "\n",
        "$$ \\tan \\theta = \\frac {y}{x} $$"
      ],
      "metadata": {
        "id": "ZxNHDmKUiBqk"
      }
    },
    {
      "cell_type": "markdown",
      "source": [
        "Entonces tenemos la familia de funciones, para hallar la función que describe la trayectoria del avión"
      ],
      "metadata": {
        "id": "ymxncAbnnuUO"
      }
    },
    {
      "cell_type": "markdown",
      "source": [
        "En $t = 0$, el avión está en el punto $(200, 150)$\n",
        "\n",
        "$$ \\frac {150}{v_0 \\sin(\\theta) + 50} = \\frac {200}{v_0 \\cos(\\theta)} + C $$"
      ],
      "metadata": {
        "id": "Z_I7QmEP6dRN"
      }
    },
    {
      "cell_type": "markdown",
      "source": [
        "Ahora despejamos $C$:"
      ],
      "metadata": {
        "id": "ixNK8ofa6gL0"
      }
    },
    {
      "cell_type": "markdown",
      "source": [
        "Ahora reemplazamos $C$ en la funcion"
      ],
      "metadata": {
        "id": "eR290oNZ5oz2"
      }
    },
    {
      "cell_type": "markdown",
      "source": [
        "Si sabe adónde va, sabe como llegar"
      ],
      "metadata": {
        "id": "4-gb2uzXBYhd"
      }
    },
    {
      "cell_type": "markdown",
      "source": [
        "### $8.$ Conclusion\n",
        "\n",
        "La trayectoria del avión es descrita por la siguiente ecuación:\n",
        "\n",
        "$$ y + \\sqrt{x^2+y^2} = 2(200x^9)^{\\frac{1}{10}} $$"
      ],
      "metadata": {
        "id": "Ml-dDQNb4o6x"
      }
    },
    {
      "cell_type": "markdown",
      "source": [
        "## $5$.\n",
        "\n",
        "Suponga que un trampolín está a $5m$ sobre la superficie del agua y un clavadista comienza su rutina de clavado con una velocidad inicial de $2\\frac{m}{s}$ (en dirección ascendente). Use Use la Segunda Ley de Newton para plantear una EDO que le permita calcular la velocidad del clavadista en el momento del impacto con el agua. Tenga en cuenta las condiciones iniciales del problema para el proceso de solución de dicha ecuación diferencial. Nota: No consideren la resistencia del aire"
      ],
      "metadata": {
        "id": "0GXr0Lcqql1O"
      }
    },
    {
      "cell_type": "markdown",
      "source": [
        "## $6$.\n",
        "\n",
        "La atracción gravitacional $F$ ejercida por la Tierra sobre un objeto de masa $m$ a una distancia $s$ del centro de la Tierra está dada por la expresión: $$F=-\\frac{mgR^{2}}{s^{2}}$$ donde $g=32\\frac{pies}{s^{2}}$ es la aceleración debida a la gravedad en la superficie terrestre y $R\\approx 3960 millas$ es el radio de la Tierra. Demuestren que un objeto lanzado hacia arriba desde la Tierra con una velocidad $v_{0}\\geq \\sqrt{2gR}\\approx 6.93\\frac{millas}{segundos}$ no regresará a la Tierra.  \n",
        "\n",
        "  **Ayuda:** Usen la Segunda Ley de Newton: $F=m\\cdot a$ y la regla de la cadena para expresar la aceleración como: $$a=\\frac{\\mathrm{d} v}{\\mathrm{d} t}=\\frac{\\mathrm{d} v}{\\mathrm{d} s}\\cdot \\frac{\\mathrm{d} s}{\\mathrm{d} t}$$\n"
      ],
      "metadata": {
        "id": "jGapmbVvsF0a"
      }
    },
    {
      "cell_type": "markdown",
      "source": [
        "## $7$.\n",
        "\n",
        "Consideren la siguiente EDO\n",
        "\n",
        "$$ \\frac {dx}{dt} = - \\frac {1}{3} x + \\sin(t), \\quad x(0) = 1 $$"
      ],
      "metadata": {
        "id": "zdK_NXDusSpC"
      }
    },
    {
      "cell_type": "code",
      "source": [
        "ode = lambda t, x: (- x / 3) + np.sin(t)\n",
        "x0 = 1\n",
        "t0 = 0"
      ],
      "metadata": {
        "id": "5yeq7aTbvy1P"
      },
      "execution_count": 2,
      "outputs": []
    },
    {
      "cell_type": "markdown",
      "source": [
        "cuya solución exacta viene dada por\n",
        "\n",
        "$$ x(t) = \\frac {1}{10} \\left ( 19e^{-t/3} + 3 \\sin(t) - 9 \\cos(t) \\right ) $$"
      ],
      "metadata": {
        "id": "13rdLre6vrjP"
      }
    },
    {
      "cell_type": "code",
      "source": [
        "solution = lambda t: 1/10 * ( (19 * np.exp(-t / 3)) + (3 * np.sin(t)) - (9 * np.cos(t)) )"
      ],
      "metadata": {
        "id": "Zob8RBMaxV9J"
      },
      "execution_count": 3,
      "outputs": []
    },
    {
      "cell_type": "markdown",
      "source": [
        "a. Utilicen el código del Método de Euler para encontrar soluciones numéricas del problema de valor inicial en el intervalo $[0,5]$  para al menos valores de $ n = 5, 10, 50$ y $100$. Encuentren el error relativo para cada una de esas particiones.\n",
        "\n",
        "Recuerden que\n",
        "\n",
        "$$ \\text {Error} = \\frac {A - A_{\\text {approx}}} {A}.$$\n",
        "\n",
        "Aquí  $A$ representa el valor exacto de la solución y $A_{\\text {approx}}$ no es más que el valor aproximado del problema de valor inicial implementando el método de Euler para cada uno de los valores de $n$."
      ],
      "metadata": {
        "id": "wPoHfbbivtld"
      }
    },
    {
      "cell_type": "code",
      "source": [
        "interval = range(5)"
      ],
      "metadata": {
        "id": "cXupBxycyct0"
      },
      "execution_count": 9,
      "outputs": []
    },
    {
      "cell_type": "code",
      "source": [
        "nvalues = [5, 10, 50, 100, 500]"
      ],
      "metadata": {
        "id": "pWD0Gms-y10S"
      },
      "execution_count": 10,
      "outputs": []
    },
    {
      "cell_type": "code",
      "source": [
        "def error(real, approx):\n",
        "  return ( real - approx ) / real"
      ],
      "metadata": {
        "id": "k3418BVrxzIN"
      },
      "execution_count": 12,
      "outputs": []
    },
    {
      "cell_type": "code",
      "source": [
        "def euler(f, x0, t0, tmax, n, solution):\n",
        "    t = np.linspace(t0, tmax, n+1)  # define the domain based on t0, tmax, and n\n",
        "    h = (tmax-t0)/n\n",
        "\n",
        "    # next set up an array for x that is the same size a t\n",
        "    x = np.zeros_like(t)\n",
        "    ans = np.zeros_like(t)\n",
        "    x[0] = ans[0] = x0  # fill in the initial condition\n",
        "\n",
        "\n",
        "    for i in range( n ):  # think about how far we should loop\n",
        "        x[i+1] = x[i]+h*f(x[i], t[i])  # advance the solution forward in time with Euler\n",
        "        ans[i+1] = solution(t[i+1])\n",
        "        abs_error = abs((ans[i] - x[i]) /ans[i])\n",
        "\n",
        "    return t, x, ans"
      ],
      "metadata": {
        "id": "HhXJoeI-w3mE"
      },
      "execution_count": 7,
      "outputs": []
    },
    {
      "cell_type": "code",
      "source": [
        "def printTable(t, x, ans, decimal_digits):\n",
        "    print(f'| x_n |   y_n  | Valor real |      Error     |') # print header\n",
        "    print(f'|-----|--------|------------|----------------|')\n",
        "    for i in range(len(t)):\n",
        "      abs_error = abs((ans[i] - x[i]) / ans[i])\n",
        "      x_i = \"{:.4f}\".format(x[i])\n",
        "      ans_i = \"{:.4f}\".format(ans[i])\n",
        "      abs_error = \"{:.4f}\".format(abs_error)\n",
        "      print(f'| {t[i]} | {x_i} |   {ans_i}   |     {abs_error}     | ')"
      ],
      "metadata": {
        "id": "yZaVT6FAw5pO"
      },
      "execution_count": 8,
      "outputs": []
    },
    {
      "cell_type": "code",
      "source": [
        "def plotApproximation(t, x, ans):\n",
        "  plt.plot( t, x )\n",
        "  plt.plot(t, ans)\n",
        "  plt.show()"
      ],
      "metadata": {
        "id": "8iVPDTQtw6xx"
      },
      "execution_count": 11,
      "outputs": []
    },
    {
      "cell_type": "code",
      "source": [
        "t, x, ans = euler( ode, 1, 1, 1.5, 5, lambda x: np.e**(0.1*(x**2-1)) )\n",
        "\n",
        "printTable(t, x, ans, 4)\n",
        "\n",
        "plotApproximation(t, x, ans)"
      ],
      "metadata": {
        "id": "UN_D48IjzN3v"
      },
      "execution_count": null,
      "outputs": []
    },
    {
      "cell_type": "markdown",
      "source": [
        "b. Grafiquen, en la misma figura, las aproximaciones y la solución exacta de la ecuación diferencial, mostrando las respectivas etiquetas en cada caso."
      ],
      "metadata": {
        "id": "oVE5_v2dvvc9"
      }
    },
    {
      "cell_type": "markdown",
      "source": [
        "## $8$. Longitud de arco (Longitud de una curva)"
      ],
      "metadata": {
        "id": "XtMrbxSpt9m5"
      }
    },
    {
      "cell_type": "markdown",
      "source": [
        "- En la sección 4.8.3 del libro de Dan Sloughter presentan el problema de encontrar la longitud de una curva $C$ que es la gráfica de un función $y=f(x)$ continua en un intervalo cerrado $[a,b]$ y diferenciable en el intervalo abierto $(a,b)$. En esa sección demuestran que la longitud de la curva $C$ está dada por la expresión:\n",
        "\n",
        "$$ L = \\int_{a}^{b} \\sqrt{1 + \\left [ f'(x)) \\right ]^2} \\, dx$$"
      ],
      "metadata": {
        "id": "9-xS61RpLHWq"
      }
    },
    {
      "cell_type": "markdown",
      "source": [
        "- Lean detenidamente la sección 4.8.3 y estudien con detalle la deducción de esta expresión para la longitud de una curva. Asegurense de entender la idea geométrica que hay detrás de esta expresión."
      ],
      "metadata": {
        "id": "vu6Z9qbuLFRW"
      }
    },
    {
      "cell_type": "markdown",
      "source": [
        "- Muestren que el método de longitud de una curva aplicado a la circunferencia del circulo unitario $x^{2}+y^{2}=1$ conduce a la expresión $$C=8\\int_{0}^{\\frac{1}{\\sqrt{2}}}\\frac{1}{\\sqrt{1-x^{2}}}dx$$   Expliquen claramente sus procesos algebraicos y el por qué de de la definición de los límites de integración."
      ],
      "metadata": {
        "id": "EHJj1b5fLDTj"
      }
    },
    {
      "cell_type": "markdown",
      "source": [
        "- Calcular la integral anterior implica el uso de técnicas y procedimientos que no hemos estudiado en el curso. Use integración numérica para encontrar una aproximación a cuatro cifras decimales del valor de esta integral. ¿A qué valor conocido se aproxima la longitud de la curva?"
      ],
      "metadata": {
        "id": "W8AQ6MV3LBDU"
      }
    }
  ]
}