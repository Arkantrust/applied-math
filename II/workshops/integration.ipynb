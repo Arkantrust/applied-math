{
  "nbformat": 4,
  "nbformat_minor": 0,
  "metadata": {
    "colab": {
      "provenance": [],
      "collapsed_sections": [
        "mIJWDjufkb4G",
        "FU19MGnzkg9e"
      ]
    },
    "kernelspec": {
      "name": "python3",
      "display_name": "Python 3"
    },
    "language_info": {
      "name": "python"
    }
  },
  "cells": [
    {
      "cell_type": "markdown",
      "source": [
        "<img src=http://www.acofi.edu.co/eiei2016/wp-content/uploads/2016/09/Logo-Universidad-ICESI.jpg width=\"300\" height=\"200\" align=\"center\">\n",
        "\n",
        "#**<big><big>Matemáticas Aplicadas II</big></big><br><small>Departamento de Ciencias Físicas y Aplicadas/ Facultad de Ingeniería, Diseño y Ciencias Aplicadas</small><br><small>Notebook2: Teorema Fundamental del Cálculo - Métodos de Integración - Integración Numérica. </small>**  \n",
        "##**Profesor Luis Fernando Azcárate Mesa**\n",
        "\n",
        "1. **Lectura sugerida del texto de Sloughter. Calculus from Approximation to Theory (2020)**: Sección  4.3 Teorema fundamental del cálculo y 4.4 Usando el Teorema fundamental del cálculo\n",
        "\n",
        "2. **Lectura sugerida del texto de Lax. Calculus With Applications (2014)**: Sección 6.3 Teorema fundamental del cálculo.\n",
        "\n"
      ],
      "metadata": {
        "id": "WbmTrGHBRa5V"
      }
    },
    {
      "cell_type": "markdown",
      "source": [
        "# Desarrollado por:\n",
        "\n",
        "- David Dulce A00398802\n",
        "\n",
        "- Rodolfo Moreno A00395543\n",
        "\n",
        "- Joshua Lattke A00372620"
      ],
      "metadata": {
        "id": "Y55Xmt-wiHaB"
      }
    },
    {
      "cell_type": "markdown",
      "source": [
        "# Taller en Clase\n",
        "\n",
        "A continuación encontrará una serie de ejercicios y problemas que deben ser desarrollados en los equipos de trabajo establecidos. Los procesos análiticos deben ser escritos en formato LaTex. Deben ser muy claros al indicar los códigos de Python utilizados. Todas las respuestas y concluisones obtenidas de la solución deben ser explícitas."
      ],
      "metadata": {
        "id": "O5JTeWRvSOd7"
      }
    },
    {
      "cell_type": "code",
      "source": [
        "import numpy as np\n",
        "import sympy as sp\n",
        "import matplotlib.pyplot as plt\n",
        "import IPython.display as IP\n",
        "import math\n",
        "import random"
      ],
      "metadata": {
        "id": "3bRCXiYPH4_4"
      },
      "execution_count": null,
      "outputs": []
    },
    {
      "cell_type": "markdown",
      "source": [
        "# Ejercicio 1\n",
        "1.5 Puntos"
      ],
      "metadata": {
        "id": "eo8A-_JWjlGV"
      }
    },
    {
      "cell_type": "markdown",
      "source": [
        "Evalúen cada una de las siguientes integrales. Hagan explícitos procesos analíticos que los conducen a la respuesta. Para cada caso, verifiquen sus respuestas usando el método de aproximación de Simpson."
      ],
      "metadata": {
        "id": "pzAbMYg8T7aV"
      }
    },
    {
      "cell_type": "code",
      "source": [
        "def simpson(f, a, b, n=1000):\n",
        "  dx = (b - a) / n\n",
        "  x = np.linspace(a, b, n+1)\n",
        "  y = f(x)\n",
        "  sum = np.sum(y[0:-1:2] + 4*y[1::2] + y[2::2])\n",
        "  return sum * dx/3"
      ],
      "metadata": {
        "id": "8YY95MDtI6gQ"
      },
      "execution_count": null,
      "outputs": []
    },
    {
      "cell_type": "markdown",
      "source": [
        "## a\n",
        "\n",
        "$ \\displaystyle \\int_{0}^{1} \\frac {e^{2x}-1}{e^{x}} \\, dx $"
      ],
      "metadata": {
        "id": "nqZ5AJM8j7jW"
      }
    },
    {
      "cell_type": "markdown",
      "source": [
        "$$ \\int_{0}^{1}\\frac{e^{2x}-1}{e^{x}}dx $$\n",
        "\n",
        "$$ \\int_{0}^{1} \\frac{e^{2x}}{e^{x}} - \\frac{1}{e^{x}}dx $$\n",
        "\n",
        "$$ \\int_{0}^{1} e^{2x-x} - \\frac{1}{e^{x}}dx $$\n",
        "\n",
        "$$ \\int_{0}^{1} e^{x} - \\int_{0}^{1}\\frac{1}{e^{x}}dx $$\n",
        "\n",
        "$$ \\int_{0}^{1} e^{x} - \\int_{0}^{1}\\frac{1}{e^{x}}dx $$\n",
        "\n",
        "$$ \\Big |^{1}_0e^{x}-\\Big|^{1}_0-{e^{-x}} $$\n",
        "\n",
        "$$ \\Big|^{1}_0e^{x}-\\Big|^{1}_0\\frac{-1}{e^{x}} $$\n",
        "\n",
        "$$ e^{1}-e^{0}-(\\frac{-1}{e^{1}}-(\\frac{-1}{e^{0}})) $$\n",
        "\n",
        "$$ e-1-(\\frac{-1}{e}-(\\frac{-1}{1})) $$\n",
        "\n",
        "$$ e-1-(\\frac{-1}{e}-(-1)) $$\n",
        "\n",
        "$$ e-1-(\\frac{-1}{e}+1) $$\n",
        "\n",
        "$$ e-1-\\frac{-1}{e}-1 $$\n",
        "\n",
        "$$ e-\\frac{-1}{e}-2 $$\n",
        "\n",
        "$$ \\simeq 1.08616 $$"
      ],
      "metadata": {
        "id": "VtF9Yxd8kkxQ"
      }
    },
    {
      "cell_type": "code",
      "source": [
        "simpson(lambda x: ( np.exp(2*x) - 1) / np.exp(x), 0, 1)"
      ],
      "metadata": {
        "colab": {
          "base_uri": "https://localhost:8080/"
        },
        "id": "pV8CkvRNI-H_",
        "outputId": "dac9ca81-61fe-498b-ed81-84d085987177"
      },
      "execution_count": null,
      "outputs": [
        {
          "output_type": "execute_result",
          "data": {
            "text/plain": [
              "1.0861612696304936"
            ]
          },
          "metadata": {},
          "execution_count": 10
        }
      ]
    },
    {
      "cell_type": "markdown",
      "source": [
        "Junto al codigo de python se confirma que la integral evaluada de 0 a 1 es 1.08616"
      ],
      "metadata": {
        "id": "jIOwhvNmJBOl"
      }
    },
    {
      "cell_type": "markdown",
      "source": [
        "##b"
      ],
      "metadata": {
        "id": "03R7U6m5juS0"
      }
    },
    {
      "cell_type": "markdown",
      "source": [
        "$\\displaystyle\\int_{-2}^{2}\\left | x^{2}-1 \\right |dx$   "
      ],
      "metadata": {
        "id": "4xFHNu-0jYOY"
      }
    },
    {
      "cell_type": "markdown",
      "source": [
        "Primero debemos saber en que espacios $x$ es negativa\n",
        "\n",
        "$\\left | x\\right |=-x,x < 0$\n",
        " y\n",
        "$x,x\\ge0 $\n",
        "\n",
        "$ x^{2}-1< 0$\n",
        "\n",
        "$ x^{2}<-1$\n",
        "\n",
        "$ -1< x< 1$\n",
        "\n",
        "Ahora sabemos que x es negativa en los intervalos de -1 a 1"
      ],
      "metadata": {
        "id": "Z5v4fMKDJw3o"
      }
    },
    {
      "cell_type": "markdown",
      "source": [
        "Despues de poner los nuevos intervalos para evaluar la integral queda asi:\n",
        "\n",
        "$\\int_{1}^{2}x^{2}-1dx+\\int _{-1}^{1}-(x^{2}-1)dx+\\int_{-2}^{-1}x^{2}-1dx$\n",
        "\n",
        "$\\int_{1}^{2}x^{2}-1dx+\\int _{-1}^{1}-x^{2}+1dx+\\int_{-2}^{-1}x^{2}-1dx$   \n",
        "\n",
        "Ahora ya podemos evaluar\n",
        "\n",
        "$\\int_{1}^{2}\\frac{x^{3}}{3}-xdx+\\int _{-1}^{1}\\frac{-x^{3}}{3}+xdx+\\int_{-2}^{-1}\\frac{x^{3}}{3}-xdx$\n",
        "\n",
        "$\\Big|^{2}_1\\frac{x^{3}}{3}-x+\\Big|^{1}_{-1}\\frac{-x^{3}}{3}+x+\\Big|^{-1}_{-2}\\frac{x^{3}}{3}-x$\n",
        "\n",
        "$\\frac{2^{3}}{3}-2-(\\frac{1^{3}}{3}-1)+(\n",
        "-\\frac{1^{3}}{3}+1-(-\\frac{(-1)^{3}}{3}+(-1)))+(\n",
        "\\frac{(-1)^{3}}{3}-(-1)-(\\frac{(-2)^{3}}{3}-(-2)))$  \n",
        "\n",
        "$\\frac{8}{3}-2-(\\frac{1}{3}-1)+(\n",
        "-\\frac{1}{3}+1-(-\\frac{(-1)}{3}+(-1)))+(\n",
        "\\frac{-1}{3}-(-1)-(\\frac{(-8)}{3}-(-2)))$\n",
        "\n",
        "\n",
        "$\\frac{8}{3}-2-(\\frac{1}{3}-1)+(\n",
        "-\\frac{1}{3}+1-(-\\frac{(-1)}{3}+(-1)))+(\n",
        "\\frac{-1}{3}+1-(\\frac{(-8)}{3}-(-2)))$\n",
        "\n",
        "\n",
        "$\\frac{2}{3}-(\\frac{-2}{3})+\n",
        "\\frac{2}{3}-(-\\frac{-2}{3})+\n",
        "\\frac{2}{3}-(\\frac{-2}{3})$\n",
        "\n",
        "$\\frac{2}{3}+\\frac{2}{3}+\n",
        "\\frac{2}{3}+\\frac{2}{3}+\n",
        "\\frac{2}{3}+\\frac{2}{3}$\n",
        "\n",
        "$\\frac{12}{3}$  \n",
        "\n",
        "$4$"
      ],
      "metadata": {
        "id": "ukFoC7pAoJG7"
      }
    },
    {
      "cell_type": "code",
      "source": [
        "simpson(lambda x: abs(x**2 - 1),-2,2)"
      ],
      "metadata": {
        "colab": {
          "base_uri": "https://localhost:8080/"
        },
        "id": "9F8rrqOfoKGr",
        "outputId": "31c88409-c6f1-4b4c-e8a4-4f11f37b66b7"
      },
      "execution_count": null,
      "outputs": [
        {
          "output_type": "execute_result",
          "data": {
            "text/plain": [
              "4.0"
            ]
          },
          "metadata": {},
          "execution_count": 11
        }
      ]
    },
    {
      "cell_type": "markdown",
      "source": [
        "Junto al codigo de python se confirma que la integral evaluada de -2 a 2 es 4"
      ],
      "metadata": {
        "id": "bzT1_s1iosjK"
      }
    },
    {
      "cell_type": "markdown",
      "source": [
        "##c"
      ],
      "metadata": {
        "id": "ghKhsxAYkDWJ"
      }
    },
    {
      "cell_type": "markdown",
      "source": [
        "$\\displaystyle\\int_{1}^{4}\\frac{dx}{\\sqrt{9x^{3}}}$   "
      ],
      "metadata": {
        "id": "_p_zgriDjdWt"
      }
    },
    {
      "cell_type": "markdown",
      "source": [
        "$\\int_{1}^{4}\\frac{1}{\\sqrt{9x^{3}}}dx$\n",
        "\n",
        "$\\int_{1}^{4}\\frac{1}{3\\sqrt{x^{3}}}dx$\n",
        "\n",
        "$\\int_{1}^{4}\\frac{1}{3}\\frac{1}{3\\sqrt{x^{3}}}dx$\n",
        "\n",
        "$\\frac{1}{3}\\int_{1}^{4}\\frac{1}{\\sqrt{x^{3}}}dx$\n",
        "\n",
        "$\\frac{1}{3}\\int_{1}^{4}\\frac{1}{\\sqrt{x^{3}}}dx$\n",
        "\n",
        "$\\frac{1}{3}\\int_{1}^{4}\\frac{1}{x^{\\frac{3}{2}}}dx$\n",
        "\n",
        "$\\frac{1}{3}\\int_{1}^{4}-\\frac{2}{\\sqrt{x}}dx$\n",
        "\n",
        "$\\frac{1}{3}\\Big|_1^4-\\frac{2}{\\sqrt{4}}-(-\\frac{2}{\\sqrt{1}})$\n",
        "\n",
        "$\\frac{1}{3}(-\\frac{2}{2}-(-\\frac{2}{1}))$\n",
        "\n",
        "$\\frac{1}{3}(-1-(-2))$\n",
        "\n",
        "$\\frac{1}{3}(-1+2)$\n",
        "\n",
        "$\\frac{1}{3}(1)$\n",
        "\n",
        "$\\frac{1}{3}$"
      ],
      "metadata": {
        "id": "uld4F7PfrYHD"
      }
    },
    {
      "cell_type": "code",
      "source": [
        "simpson(lambda x: 1/((9*(x)**3)**(0.5)),1,4)"
      ],
      "metadata": {
        "colab": {
          "base_uri": "https://localhost:8080/"
        },
        "id": "rXeETsa8rpW7",
        "outputId": "b0b80f36-777f-4ddc-87b6-bc768a5a527b"
      },
      "execution_count": null,
      "outputs": [
        {
          "output_type": "execute_result",
          "data": {
            "text/plain": [
              "0.3333333333352982"
            ]
          },
          "metadata": {},
          "execution_count": 6
        }
      ]
    },
    {
      "cell_type": "markdown",
      "source": [
        "Junto al codigo de python se confirma que la integral evaluada de 1 a 4 es 0.3'"
      ],
      "metadata": {
        "id": "rzaB0-6FtFJS"
      }
    },
    {
      "cell_type": "markdown",
      "source": [
        "# Ejercicio 2\n",
        "1 Punto"
      ],
      "metadata": {
        "id": "IhOksFQRkWA2"
      }
    },
    {
      "cell_type": "markdown",
      "source": [
        "\n",
        "\n",
        "Encuentre la aproximación lineal a la función $\\displaystyle\\ f(x)=\\int_{2}^{x}\\sqrt[3]{u-1}du$ para $x=3$"
      ],
      "metadata": {
        "id": "V94b4f35WtBE"
      }
    },
    {
      "cell_type": "markdown",
      "source": [
        "primero calculamos la antiderivdad de $\\sqrt[3]{u-1}du$\n",
        "\n",
        "\n",
        "$\\displaystyle\\ f(u)=\\int\\sqrt[3]{u-1}du$\n",
        "\n",
        "para simplificar realizamos sustitucion $v=u-1$ entonces $dv=du$,y la integral se convierte en:\n",
        "\n",
        "$∫v^{{1}/{3}}dv$\n",
        "\n",
        "integramos\n",
        "\n",
        "$f(u)=\\frac{3}{4}v^{{1}/{3}}+C$\n",
        "\n",
        "reemplazamos $v=u-1$\n",
        "\n",
        "$f(u)=\\frac{3}{4}(u-1)^{{4}/{3}}+C$\n",
        "\n",
        "la funcion $f(x)$ es la antiderivadad evaluada en x:\n",
        "$f(u)=\\frac{3}{4}(x-1)^{{4}/{3}}+C$\n",
        "\n",
        "para encontrar $C$, usamos la condicion $f(2)=0$, esto nos representa el area de bajo la curva desde 2 hasta 2, lo cual es cero:\n",
        "\n",
        "$0=\\frac{3}{4}(2-1)^{{4}/{3}}+C$\n",
        "\n",
        "$0=\\frac{3}{4}(1)^{{4}/{3}}+C$\n",
        "\n",
        "$0=\\frac{3}{4}+C$\n",
        "\n",
        "$C=-\\frac{3}{4}$\n",
        "\n",
        "la funcion $f(x)$ es:\n",
        "$f(u)=\\frac{3}{4}(x-1)^{{4}/{3}}-\\frac{3}{4}$\n",
        "\n",
        "ahora derivamos $f(x)$ para encontrar $f'(x)$\n",
        "\n",
        "$f'(x)=\\frac{3}{4}*\\frac{4}{3}(x-1)^{{1}/{3}}*1$\n",
        "\n",
        "$f'(x)=(x-1)^{{1}/{3}}$\n",
        "\n",
        "la aproximacion lineal en x=3 sera la ecuacion de la recta tangente $f(x)$ en este punto usando la formula punto-pendiente:\n",
        "\n",
        "$y-y1=m(x-x_{1})$\n",
        "\n",
        "\n",
        "Donde $(x_1,y_1)=(3,f(3))$ y $m=f'(3):$\n",
        "\n",
        "$m=f'(3)=(3-1)^{{1}{3}}=2^{{1}{3}}$\n",
        "\n",
        "$f(3)=\\frac{3}{4}(3-1)^{{4}{3}}-\\frac{3}{4}=\\frac{3}{4}(2)^{{4}/{3}}-\\frac{3}{4}$\n",
        "\n",
        "$f(3)=\\frac{3}{4}(2)^{{4}/{3}}-\\frac{3}{4}=\\frac{3}{4}(2)^{{4}/{3}}-\\frac{3}{4}={3}{4}(2^{{4}/{3}}-1)$\n",
        "\n",
        "Entonces. $(x_1,y_1)=(3,\\frac{3}{4}(2^{{4}/{3}}-1)).$\n",
        "\n",
        "por tanto la ecuciacion recta tange es:\n",
        "\n",
        "$y-\\frac{3}{4}(2^{{4}/{3}}-1)=2^{{1}/{3}}(x-3)$\n",
        "\n",
        "simplificando la aproximacion lineal:\n",
        "\n",
        "$y=2^{{1}/{3}}(x-3)+\\frac{3}{4}(2^{{4}/{3}}-1)$\n",
        "\n",
        "Esta es la aproximacion lineal de $f(x)$ alrededor de $x=3$\n",
        "\n",
        "\n",
        "\n",
        "\n"
      ],
      "metadata": {
        "id": "5AMXJDStbz3N"
      }
    },
    {
      "cell_type": "code",
      "source": [
        "# Definir la variable simbólica y la función f(x)\n",
        "x = sp.Symbol('x')\n",
        "f = sp.integrate(sp.root(x - 1, 3), (x, 2, x))\n",
        "\n",
        "# Calcular la derivada de f(x) y evaluarla en x = 3\n",
        "f_prime = f.diff(x)\n",
        "f_prime_at_3 = f_prime.subs(x, 3)\n",
        "\n",
        "# Calcular f(3)\n",
        "f_at_3 = f.subs(x, 3)\n",
        "\n",
        "# Construir la ecuación de la recta tangente y(x) = mx + c\n",
        "m = f_prime_at_3\n",
        "c = f_at_3 - m * 3\n",
        "\n",
        "# Mostrar la aproximación lineal\n",
        "print(\"La aproximación lineal de f(x) alrededor de x = 3 es:\")\n",
        "print(f\"y(x) = {m} * (x - 3) + {c}\")\n"
      ],
      "metadata": {
        "colab": {
          "base_uri": "https://localhost:8080/"
        },
        "id": "UJAgRzPTnV8v",
        "outputId": "92329c1a-55fb-44b2-f96a-c32c6acd935b"
      },
      "execution_count": null,
      "outputs": [
        {
          "output_type": "stream",
          "name": "stdout",
          "text": [
            "La aproximación lineal de f(x) alrededor de x = 3 es:\n",
            "y(x) = 2**(1/3) * (x - 3) + -3*2**(1/3)/2 - 3/4\n"
          ]
        }
      ]
    },
    {
      "cell_type": "markdown",
      "source": [
        "# Ejercicio 3\n",
        "1.5 Puntos"
      ],
      "metadata": {
        "id": "mIJWDjufkb4G"
      }
    },
    {
      "cell_type": "markdown",
      "source": [
        "Consideren la función $ f(x) = xsenx $ definida en el intervalo $ \\left [ 0,4 \\pi \\right ] $ y sea $ \\displaystyle\\ g(x)=\\int_{0}^{x} (tsent) dt $.\n",
        "Determinen los valores de $x$ para los cuales la función $g(x)$ alcanza sus valores mínimo y máximo en el intervalo $ \\left [ 0, 4 \\pi \\right ] $."
      ],
      "metadata": {
        "id": "A-iaSEs1Yl6b"
      }
    },
    {
      "cell_type": "markdown",
      "source": [
        "## Derivada\n",
        "\n",
        "La función $ g(x) $ se define como:\n",
        "\n",
        "$$ g(x) = \\int_{0}^{x} t \\sin t \\, dt $$\n",
        "\n",
        "Para encontrar $ g'(x) $, aplicamos el teorema fundamental del cálculo parte 1:\n",
        "\n",
        "$$ g'(x) = x \\sin x $$"
      ],
      "metadata": {
        "id": "qdwqSZBTQxpI"
      }
    },
    {
      "cell_type": "markdown",
      "source": [
        "## Puntos críticos\n",
        "\n",
        "Luego hay que encontrar los puntos críticos donde la derivada es igual a cero:\n",
        "\n",
        "$$ x \\sin x = 0 $$\n",
        "\n",
        "Esto sucede para $ x = 0, \\pi, 2 \\pi, 3 \\pi $."
      ],
      "metadata": {
        "id": "iSWPq_a08sTs"
      }
    },
    {
      "cell_type": "markdown",
      "source": [
        "## Subintervalos\n",
        "\n",
        "Podemos dividir el intervalo original en cuatro subintervalos, en los que evaluaremos si $ g(x) $ es creciente o decreciente mediante el [criterio de la primera derivada](https://es.wikipedia.org/wiki/Criterio_de_la_primera_derivada):\n",
        "\n",
        "| Subintervalo | $ g'(x) $ | monotonía |\n",
        "| - | - | - |\n",
        "| $ [0,π] $ | $ g'(x) > 0 $ | creciente |\n",
        "| $ [π,2π] $ | $ g'(x) < 0 $ | decreciente |\n",
        "| $ [2π,3π] $ | $ g'(x) > 0 $ | creciente |\n",
        "| $ [3π,4π]$ | $ g'(x) < 0 $ | decreciente |"
      ],
      "metadata": {
        "id": "ntC29IJ85r_4"
      }
    },
    {
      "cell_type": "markdown",
      "source": [
        "## Puntos máximo y mínimo\n",
        "\n",
        "- máximo: $ [ \\pi, \\pi^2 ] $\n",
        "\n",
        "- mínimo: $ [ 3 \\pi, 9 \\pi^2 ] $"
      ],
      "metadata": {
        "id": "wv6kmZ9-8ZF0"
      }
    },
    {
      "cell_type": "markdown",
      "source": [
        "# Ejercicio 4\n",
        "1 Punto"
      ],
      "metadata": {
        "id": "FU19MGnzkg9e"
      }
    },
    {
      "cell_type": "markdown",
      "source": [
        "\n",
        "\n",
        "Suponga que la velocidad (descendente) de un paracaidista está dada por la función $ v(t) = 30(1-e^{-t}) \\frac {m}{s} $ durante los primeros 5 segundos de un salto. Calcule la distancia que ha caido el paracaidista durante este tiempo.\n",
        "\n",
        "**Nota: recuerden que la velocidad es la razón de cambio instantánea, respecto al tiempo, de la función distancia**.  "
      ],
      "metadata": {
        "id": "KFpoNipEcceh"
      }
    },
    {
      "cell_type": "markdown",
      "source": [
        "Hallar la distancia recorrida ($\\vec x$) en el instante en que $ t = 5 $ segundos.\n",
        "\n",
        "**Asumiendo que el paracaidista cae en un vacío ($ F_d = 0 N$) y desde el reposo ($ v_0 = 0 \\frac {m}{s} $)**:\n",
        "\n",
        "$$ v(t) = 30(1-e^{-t}) $$\n",
        "\n",
        "$$ \\therefore v(t) = \\frac {d}{dt} {\\vec x} $$\n",
        "\n",
        "Por teorema fundamental del cálculo parte 1:\n",
        "\n",
        "$$ x(t) = \\int \\vec v \\, dt $$\n",
        "\n",
        "$$ x(t) = \\int 30(1-e^{-t}) \\, dt $$\n",
        "\n",
        "$$ x(t) = 30 \\int (1-e^{-t}) \\, dt $$\n",
        "\n",
        "$$ x(t) = 30 \\left ( \\int 1 \\, dt - \\int e^{-t} \\, dt \\right ) $$\n",
        "\n",
        "$$ x(t) = 30( t - e^{-t} ) + C $$\n",
        "\n",
        "$$ x(t) = 30( t - e^{-t} ) + 0 $$\n",
        "\n",
        "$$ x(t) = 30( t - e^{-t} ) $$\n",
        "\n",
        "Para $ t = 5 $ segundos:\n",
        "\n",
        "$$ x(5) = 30( 5 - e^{-5} ) $$"
      ],
      "metadata": {
        "id": "BbEem-zXHab3"
      }
    },
    {
      "cell_type": "code",
      "source": [
        "x = 30 * (5 - np.exp(-5))\n",
        "print(x)"
      ],
      "metadata": {
        "colab": {
          "base_uri": "https://localhost:8080/"
        },
        "id": "KqLx64uFHcmL",
        "outputId": "6728bd4a-6ae1-4ff0-99eb-f201e24e0584"
      },
      "execution_count": null,
      "outputs": [
        {
          "output_type": "stream",
          "name": "stdout",
          "text": [
            "149.79786159002742\n"
          ]
        }
      ]
    },
    {
      "cell_type": "markdown",
      "source": [
        "$$ x \\approx 149.7978 $$\n",
        "\n",
        "$$ x \\approx 149.8 m $$\n",
        "\n",
        "Asumiendo que el paracaidista cae en un vacío ($ F_d = 0 N$) y desde el reposo ($ v_0 = 0 \\frac {m}{s} $), entonces la distancia que ha caído el paracaidista en el instante $t = 5s$ son **$149.8m$ aproximadamente**."
      ],
      "metadata": {
        "id": "jaSNOwEqHhDs"
      }
    }
  ]
}