{
  "nbformat": 4,
  "nbformat_minor": 0,
  "metadata": {
    "colab": {
      "provenance": []
    },
    "kernelspec": {
      "name": "python3",
      "display_name": "Python 3"
    },
    "language_info": {
      "name": "python"
    }
  },
  "cells": [
    {
      "cell_type": "markdown",
      "source": [
        "<img src=http://www.acofi.edu.co/eiei2016/wp-content/uploads/2016/09/Logo-Universidad-ICESI.jpg width=\"300\" height=\"200\" align=\"center\">\n",
        "\n",
        "\n",
        "#**<big><big>Matemáticas Aplicadas II</big></big><br><small>Departamento de Ciencias Físicas y Aplicadas/ Facultad de Ingeniería, Diseño y Ciencias Aplicadas</small><br><small>Notebook 6: Ecuaciones Diferenciales Ordinarias - Solución numérica y Método de Euler. </small>**  \n",
        "\n",
        "1. **Lectura sugerida del texto de Sloughter. Calculus from Approximation to Theory (2020)**: Sección  8.1 Soluciones Numéricas de Ecuaciones diferenciales - Sección 8.2 Separación de variables.\n",
        "\n",
        "**<u>Agenda</u>**\n",
        "*Ecuaciones diferenciales, separación de variables y solución numérica de ecuaciones diferenciales*"
      ],
      "metadata": {
        "id": "nQyShaHzlR56"
      }
    },
    {
      "cell_type": "markdown",
      "source": [
        "#<Font color=\"Red\">Entregable - Semana 5.  \n",
        "\n",
        "Instrucciones:   \n",
        "\n",
        " La solución del ejercicio planteado se debe entregar en un cuaderno Colab a través de la plataforma Intu y el plazo para hacerlo cierra a las 23:59 horas del viernes 1 de marzo de 2023. No se reciben trabajos extemporáneos.\n",
        "\n",
        "El trabajo se realiza en los equipos de trabajo ya definidos y suben a Intu el enlace de acceso al cuaderno."
      ],
      "metadata": {
        "id": "ZenJSag0lebc"
      }
    },
    {
      "cell_type": "markdown",
      "source": [
        "# Enunciado del problema:\n",
        "\n",
        " Suponga que un avión mantiene su dirección hacia un aeropuerto en el origen. Si $v_0=500$ $mi/h$ y $w= 50$ $mi/h$ (con el viento soplando hacia el norte), y el avión inicia en el punto $(200, 150)$, pruebe que su trayectoria se describe por:\n",
        "$$y+\\sqrt{x^2+y^2}=2(200x^9)^{\\frac{1}{10}}$$\n",
        "\n",
        "\n",
        "\n",
        "\n",
        "\n"
      ],
      "metadata": {
        "id": "a1HPP2yvxEW7"
      }
    },
    {
      "cell_type": "markdown",
      "source": [
        "# Implementación numérica:\n",
        "\n",
        "Utilicen métodos numéricos para resolver la ecuación diferencial que describa el problema. Deben encontrar la solución que permita representar la posición del avión en un plano dos dimensional mediante una curva $y=f(x)$."
      ],
      "metadata": {
        "id": "WZUBQjQxznMU"
      }
    },
    {
      "cell_type": "markdown",
      "source": [
        "# Simulación gráfica:\n",
        "\n",
        "Utilicen herramientas de graficación (como Python y sus bibliotecas gráficas o GeoGebra) para crear una representacion gráfica de la trayectoria del avión."
      ],
      "metadata": {
        "id": "dG8B7SRWz9qb"
      }
    },
    {
      "cell_type": "markdown",
      "source": [
        "# Sustento téorico del problema.\n",
        "\n",
        "1. Construya el modelo de movimiento, haciendo uso de trigonometría y nociones físicas. Lo anterior le permitira entender y representar el cambio de las componentes de la velocidad del avión como una función del tiempo.\n",
        "\n",
        "2. Con el análisis anterior construya la ecuación diferencial que representa el movimiento.\n",
        "\n",
        "3. Resuelva la ecuación diferencial. Debe entender que la ecuación diferencial es una ecuación homogénea. Para resolver estas ecuaciones debe realizar una sustitución adecuada y realizar un cambio de variable. la sustitución que debe hacer es:$$v=\\frac{y}{x}$$"
      ],
      "metadata": {
        "id": "k9e3GD-YLXNX"
      }
    },
    {
      "cell_type": "markdown",
      "source": [
        "# Análisis de resultados y conclusiones:\n",
        "\n",
        "A partir del análisis numérico y geométrico responda las siguientes preguntas:\n",
        "\n",
        "1. Sin presencia del viento, ¿cuál seria el angulo de llegada del avión, respecto al eje x, de la trayectoria mas corta, desde el punto de partida hasta el origen de coordenadas?\n",
        "\n",
        "2. ¿Qué sucede si la velocidad del viento es mayor que la velocidad del avión?¿qué sucede si la velocidad del viento es igual a la velocidad del avión?. Realice una gráfica que represente los casos anteriores,\n",
        "\n",
        "3. Si la velocidad del viento es igual a la velocidad del avión. ¿en qué punto sobre el eje $y$ debería estar ubicado el aeropuerto para que el avión logre aterrizar?  \n",
        "\n",
        "4. Propongan algunas conclusiones adicionales que se puedan derivar del cambio de hipótesis y/o condiciones del problema. Es importante dejar claro que dichas conclusiones adicionales se deriven de los nuevos supuestos planteados por ustedes.  \n"
      ],
      "metadata": {
        "id": "cYiUXfMQ0HXR"
      }
    }
  ]
}