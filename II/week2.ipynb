{
  "nbformat": 4,
  "nbformat_minor": 0,
  "metadata": {
    "colab": {
      "provenance": [],
      "include_colab_link": true
    },
    "kernelspec": {
      "name": "python3",
      "display_name": "Python 3"
    },
    "language_info": {
      "name": "python"
    }
  },
  "cells": [
    {
      "cell_type": "markdown",
      "metadata": {
        "id": "view-in-github",
        "colab_type": "text"
      },
      "source": [
        "<a href=\"https://colab.research.google.com/github/Arkantrust/applied-math/blob/main/II/week2.ipynb\" target=\"_parent\"><img src=\"https://colab.research.google.com/assets/colab-badge.svg\" alt=\"Open In Colab\"/></a>"
      ]
    },
    {
      "cell_type": "markdown",
      "source": [
        "<img src=http://www.acofi.edu.co/eiei2016/wp-content/uploads/2016/09/Logo-Universidad-ICESI.jpg width=\"300\" height=\"200\" align=\"center\">\n",
        "\n",
        "#**<big><big>Matemáticas Aplicadas II</big></big><br><small>Departamento de Ciencias Físicas y Aplicadas/ Facultad de Ingeniería, Diseño y Ciencias Aplicadas</small><br><small>Notebook2: Teorema Fundamental del Cálculo - Métodos de Integración - Integración Numérica. </small>**  \n",
        "##**Profesor Luis Fernando Azcárate Mesa**\n",
        "\n",
        "1. **Lectura sugerida del texto de Sloughter. Calculus from Approximation to Theory (2020)**: Sección  4.3 Teorema fundamental del cálculo y 4.4 Usando el Teorema fundamental del cálculo\n",
        "\n",
        "2. **Lectura sugerida del texto de Lax. Calculus With Applications (2014)**: Sección 6.3 Teorema fundamental del cálculo.\n",
        "\n"
      ],
      "metadata": {
        "id": "WbmTrGHBRa5V"
      }
    },
    {
      "cell_type": "markdown",
      "source": [
        "#Taller en Clase.   \n",
        "A continuación encontrará una serie de ejercicios y problemas que deben ser desarrollados en los equipos de trabajo establecidos. Los procesos análiticos deben ser escritos en formato LaTex. Deben ser muy claros al indicar los códigos de Python utilizados. Todas las respuestas y concluisones obtenidas de la solución deben ser explicitas."
      ],
      "metadata": {
        "id": "O5JTeWRvSOd7"
      }
    },
    {
      "cell_type": "markdown",
      "source": [
        "#<Font color=\"Blue\">(1.5 Puntos) Ejercicio 1.  \n",
        "\n",
        "Evalúen cada una de las siguientes integrales. Hagan explícitos procesos analíticos que los conducen a la respuesta.Para cada caso, verifiquen sus respuestas usando el método de aproximación de Simpson.\n",
        "\n",
        "a. $\\displaystyle\\int_{0}^{1}\\frac{e^{2x}-1}{e^{x}}dx$   \n",
        "b. $\\displaystyle\\int_{-2}^{2}\\left | x^{2}-1 \\right |dx$   \n",
        "c. $\\displaystyle\\int_{1}^{4}\\frac{dx}{\\sqrt{9x^{3}}}$   \n",
        "\n",
        "\n"
      ],
      "metadata": {
        "id": "pzAbMYg8T7aV"
      }
    },
    {
      "cell_type": "markdown",
      "source": [
        "#<Font color=\"Green\"> Solución ejercicio 1."
      ],
      "metadata": {
        "id": "h0jcGf2gWpJ9"
      }
    },
    {
      "cell_type": "markdown",
      "source": [
        "#<Font color=\"Blue\"> (1 Punto) Ejercicio 2.   \n",
        "\n",
        "Encuentre la aproximación lineal a la función $\\displaystyle\\ f(x)=\\int_{2}^{x}\\sqrt[3]{u-1}du$ para $x=3$"
      ],
      "metadata": {
        "id": "V94b4f35WtBE"
      }
    },
    {
      "cell_type": "markdown",
      "source": [
        "#<Font color=\"Green\"> Solución ejercicio 2."
      ],
      "metadata": {
        "id": "CoG1MorBYUW3"
      }
    },
    {
      "cell_type": "markdown",
      "source": [
        "#<Font color=\"Blue\">(1.5 Puntos) Ejercicio 3.   \n",
        "\n",
        "Consideren la función $f(x)=xsenx$ definida en el intervalo $\\left [ 0,4\\pi  \\right ]$ y sea $\\displaystyle\\ g(x)=\\int_{0}^{x}(tsent)dt$. Determinen los valores de $x$ para los cuales la función $g(x)$ alcanza sus valores mínimo y máximo en el intervalo $\\left [ 0,4\\pi  \\right ]$."
      ],
      "metadata": {
        "id": "A-iaSEs1Yl6b"
      }
    },
    {
      "cell_type": "markdown",
      "source": [
        "#<Font color=\"Green\"> Solución ejercicio 3."
      ],
      "metadata": {
        "id": "t1AJ7-4eaq_m"
      }
    },
    {
      "cell_type": "markdown",
      "source": [
        "#<Font color=\"Blue\"> (1 Punto) Ejercicio 4.   \n",
        "\n",
        "Suponga ue la velocidad (descendente) de un paracaidista está dada por la función $v(t)=30(1-e^{-t})\\frac{m}{s}$ durante los primeros 5 segundos de un salto. Calcule la distancia que ha caido el paracaidista durante este tiempo. **Nota: recuerden que la velocidad es la razón de cambio instantánea, respecto al tiempo,de la función distancia**.  "
      ],
      "metadata": {
        "id": "KFpoNipEcceh"
      }
    }
  ]
}