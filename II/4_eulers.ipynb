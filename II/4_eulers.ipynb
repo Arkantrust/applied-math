{
  "nbformat": 4,
  "nbformat_minor": 0,
  "metadata": {
    "colab": {
      "provenance": [],
      "include_colab_link": true
    },
    "kernelspec": {
      "name": "python3",
      "display_name": "Python 3"
    },
    "language_info": {
      "name": "python"
    }
  },
  "cells": [
    {
      "cell_type": "markdown",
      "metadata": {
        "id": "view-in-github",
        "colab_type": "text"
      },
      "source": [
        "<a href=\"https://colab.research.google.com/github/Arkantrust/applied-math/blob/taller_1/II/4_eulers.ipynb\" target=\"_parent\"><img src=\"https://colab.research.google.com/assets/colab-badge.svg\" alt=\"Open In Colab\"/></a>"
      ]
    },
    {
      "cell_type": "markdown",
      "source": [
        "<img src=http://www.acofi.edu.co/eiei2016/wp-content/uploads/2016/09/Logo-Universidad-ICESI.jpg width=\"300\" height=\"200\" align=\"center\">\n",
        "\n",
        "\n",
        "#**<big><big>Matemáticas Aplicadas II</big></big><br><small>Departamento de Ciencias Físicas y Aplicadas/ Facultad de Ingeniería, Diseño y Ciencias Aplicadas</small><br><small>Notebook 6: Ecuaciones Diferenciales Ordinarias - Solución numérica y Método de Euler. </small>**  \n",
        "\n",
        "1. **Lectura sugerida del texto de Sloughter. Calculus from Approximation to Theory (2020)**: Sección  8.1 Soluciones Numéricas de Ecuaciones diferenciales - Sección 8.2 Separación de variables.\n",
        "\n",
        "**<u>Agenda</u>**\n",
        "*Ecuaciones diferenciales, separación de variables y solución numérica de ecuaciones diferenciales*\n"
      ],
      "metadata": {
        "id": "mJAN2B2c78kp"
      }
    },
    {
      "cell_type": "markdown",
      "source": [
        "#<Font color=\"red\">TALLER DE PRÁCTICA.   \n",
        "\n",
        "\n",
        "\n",
        "<Font color=\"green\">**Ejercicio 1**.  \n",
        "\n",
        "Resuelva las siguientes integrales indefinidas.\n",
        "\n",
        "a. $$\\int xsen(x^{2})dx$$  \n",
        "b. $$\\int cosxLn(senx)dx$$   \n",
        "c. $$\\int \\frac{Lnx}{x}dx$$\n",
        "\n",
        "\n",
        "<Font color=\"Green\">**Ejercicio 2**.\n",
        "\n",
        "Use completación del trinomio cuadrado perfecto en el radicando del denominador y el hecho de que que $\\int \\frac{1}{\\sqrt{1-x^{2}}}dx=sen^{-1}(x)+c$ para mostrar que\n",
        "$$\\int \\frac{1}{\\sqrt{-5+6x-x^{2}}}dx=sen^{-1}(\\frac{x-3}{2})+c$$   \n",
        "\n",
        "<Font color=\"Green\">**Ejercicio 3**.  \n",
        "\n",
        "Evalue cada una de las siguientes integrales definidas:  \n",
        "\n",
        "a. $$\\int_{0}^{\\frac{\\pi }{4}}tanxsec^{2}xdx$$   \n",
        "b. $$\\int_{1}^{4}ln(\\sqrt{x})dx$$   \n",
        "\n",
        "<Font color=\"Green\">**Ejercicio 4**.   \n",
        "\n",
        "Suponga que una población cuyo tamaño en el instante $t$ está dado por  la función $N(t)$ crece de acuerdo con la EDO $$\\frac{dN}{dt}=\\frac{1}{100}N^{2}$$ con $N(0)=10$. Resuelva la ecuación diferencial y dibuje la función $N(t)$ para $0\\leq t\\leqslant 10$. ¿Qué sucede cuando $n \\to 10$? Explique.  \n",
        "\n",
        "\n",
        "<Font color=\"Green\">**Ejercicio 5**  \n",
        "\n",
        "\n",
        "El contenido de un nutriente en un consumidor (por ejemplo, el porcentaje de nitrogeno en la biomasa de  un consumidor) puede variar desde reflejar el contenido de nutriente de su alimento hasta permanecer constante. El primer caso se denomina *ausencia de homeostasis*, y el segundo *homeostasis estricta*. En Stener y Elser(2002) se proporciona un modelo de regulación de la homeostasis. El modelo relaciona el contenido de nutriente del consumidor (denominado $y$) con el contenido de nutriente del alimento (denominado $x$) mediante la siguiente ecución diferencial\n",
        " $$\\frac{dy}{dx}=\\frac{1}{\\theta }\\frac{y}{x}$$ siendo $\\theta \\geq 1$ una constante. Resuelva la ecuación diferencial y relacione $\\theta $ con la homeostasis y con la homeostasis estricta.   \n",
        "\n",
        " <Font color=\"Green\">**Ejercicio 6**   \n",
        "\n",
        " En cada caso, encuentre el área de la región limitada por las curvas dadas. Dibujen el región en GeoGebra.  \n",
        "\n",
        " a. La región limitada por $y=x$, $y=1$, $y=\\frac{x^{2}}{4}$.   \n",
        " b. La región limitada por $x=12y^{2}-12y^{3}$ y $x=2y^{2}-2y$"
      ],
      "metadata": {
        "id": "9at2kKEbCFOz"
      }
    },
    {
      "cell_type": "markdown",
      "source": [
        "#<Font color=\"cian\">Método de Euler.\n",
        "\n",
        "Consideremos el problema de valor inicial de primer orden\n",
        "\n",
        "$$y'(x)=f(x,y), y(x_0)=y_0$$  \n",
        "cuya solución determinaremos numéricamente en el intervalo $[a,b]$ y usando un paso constante. Si el número de pasos que usaremos es $N$, entonces el tamaño del paso estaría dado por $h=\\frac{b-a}{N}$ y los valores de $x$ consecutivos estarían dados por la relación $x_{n+1}=x_{n}+h, n=0,1,2,3,...N-1$.  \n",
        "\n",
        "Queremos hallar las soluciones aproximadas $y_1,y_2,,...y_N$ en los puntos $x_1,x_2,...,x_N$ usando la solución $(x_0,y_0)$ como punto inicial. El problema a resolver es cómo hallar la solución $y_{n+1}$ en el punto $x_{n+1}$ cuando conocemos la solución $y_n$ en el valor de $x_n$.  \n",
        "El *Método de Euler* se basa en el hecho de que la función $f(x,y)$ representa la pendiente de $y$(tasa de cambio de $y$ respecto a $x$) en el punto $(x,y)$, y se supone que para cambios pequeños de $x$ ésta permanece constante para su valor inicial para cada paso. Por ejemplo, si el valor de la pendiente en el punto incial $(x_0,y_0)$ es $f(x_0,y_0)$, se supone que $y$ cambia con esa tasa constante al aumentar $x$ de $x_0$ a $x_1=x_0+h$, y por tanto, el cambio es $y$ está dado por:  \n",
        "\n",
        "$$\\Delta y=pendiente\\cdot \\Delta x=f(x_0,y_0)\\cdot (x_1-x_0)=f(x_0,y_0)\\cdot h$$ y, por tanto, el valor de la función en $x_1=x_0+h$, bajo ésta hipótesis sería,\n",
        "$$y_1=y_0+h\\cdot f(x_0,y_0)$$  \n",
        "\n",
        "La pendiente de la función solución en este punto es ahora $f(x_1,y_1)$, que nuevamente suponemos constante entre $x_1%$ y $x_2=x_1+h$, de donde tendriamos que la solución aproximada en $x_2$ estaría dada por la expresión\n",
        "\n",
        "$$y_2=y_1+h\\cdot f(x_1,y_1)$$  \n",
        "Generalizando este argumento tenemos, entonces, que la solución aproximada en cualquier punto $x_{n+1}$ estaría dada por la expresión:  \n",
        "$$y_{n+1}=y_n+h\\cdot f(x_n,y_n), n=0,1,2,3,...$$  \n",
        "La anterior expresión define, recursivamente, el Método de Euler.\n",
        "\n",
        "Puedes ver el siguiente video de Khan Academic en donde se explica de manera detallada en qué consiste este método de aproximación para sociones de Ecuaciones Diferenciales.\n"
      ],
      "metadata": {
        "id": "wUZvqAt9HyBS"
      }
    },
    {
      "cell_type": "code",
      "source": [
        "#@title Método de Euler para aproximación de soluciones de ecuaciones diferenciales ordinarias.\n",
        "%%html\n",
        "<iframe width=\"560\" height=\"315\" src=\"https://www.youtube.com/embed/q_WiROrVc0M?si=MJG0FvMP41iP-m_i\" title=\"YouTube video player\" frameborder=\"0\" allow=\"accelerometer; autoplay; clipboard-write; encrypted-media; gyroscope; picture-in-picture; web-share\" allowfullscreen></iframe>"
      ],
      "metadata": {
        "colab": {
          "base_uri": "https://localhost:8080/",
          "height": 336
        },
        "cellView": "form",
        "id": "SHr3WT_b9wgJ",
        "outputId": "78d877e1-6d92-4212-8539-6b7913ff204a"
      },
      "execution_count": null,
      "outputs": [
        {
          "output_type": "display_data",
          "data": {
            "text/plain": [
              "<IPython.core.display.HTML object>"
            ],
            "text/html": [
              "<iframe width=\"560\" height=\"315\" src=\"https://www.youtube.com/embed/q_WiROrVc0M?si=MJG0FvMP41iP-m_i\" title=\"YouTube video player\" frameborder=\"0\" allow=\"accelerometer; autoplay; clipboard-write; encrypted-media; gyroscope; picture-in-picture; web-share\" allowfullscreen></iframe>\n"
            ]
          },
          "metadata": {}
        }
      ]
    },
    {
      "cell_type": "markdown",
      "source": [
        "A continuación encontrá un video donde se construye una implementación numérica del Método de Euler en Python. Revise con detalle este video y comprenda el código que en él se explica."
      ],
      "metadata": {
        "id": "yg1N2fJPIHXw"
      }
    },
    {
      "cell_type": "code",
      "source": [
        "#@title Implementación del Método de Euler en Python.\n",
        "%%html\n",
        "<iframe width=\"560\" height=\"315\" src=\"https://www.youtube.com/embed/xumfcL0HEwU?si=FwdFH9J1jMWXnG34\" title=\"YouTube video player\" frameborder=\"0\" allow=\"accelerometer; autoplay; clipboard-write; encrypted-media; gyroscope; picture-in-picture; web-share\" allowfullscreen></iframe>\n"
      ],
      "metadata": {
        "colab": {
          "base_uri": "https://localhost:8080/",
          "height": 336
        },
        "cellView": "form",
        "id": "XIoyBB8qBSaq",
        "outputId": "970a023e-17a3-45a7-ad5c-dad34ea0c6ea"
      },
      "execution_count": null,
      "outputs": [
        {
          "output_type": "display_data",
          "data": {
            "text/plain": [
              "<IPython.core.display.HTML object>"
            ],
            "text/html": [
              "<iframe width=\"560\" height=\"315\" src=\"https://www.youtube.com/embed/xumfcL0HEwU?si=FwdFH9J1jMWXnG34\" title=\"YouTube video player\" frameborder=\"0\" allow=\"accelerometer; autoplay; clipboard-write; encrypted-media; gyroscope; picture-in-picture; web-share\" allowfullscreen></iframe>\n"
            ]
          },
          "metadata": {}
        }
      ]
    },
    {
      "cell_type": "markdown",
      "source": [
        "#<Font color=\"D2691E\">Implementación en Python.\n",
        "A continuación tenemos un código del Método de Euler que podemos implementar para resolver, numéricamente, Ecuaciones diferenciales ordinarias. Es importante tener presente que en éste código $t_0$ reoresenta el valor inicial de $x$ y $x_0$ el valor inicial en $y$."
      ],
      "metadata": {
        "id": "h0XzL8X2CMKE"
      }
    },
    {
      "cell_type": "code",
      "source": [
        "import numpy as np\n",
        "import math\n",
        "import matplotlib.pyplot as plt\n",
        "\n",
        "def euler(f,x0,t0,tmax,n):\n",
        "    t = np.linspace(t0, tmax, n+1)# define the domain based on t0, tmax, and n\n",
        "    h = (tmax-t0)/n\n",
        "    # next set up an array for x that is the same size a t\n",
        "    x = np.zeros_like(t)\n",
        "    x[0] = x0# fill in the initial condition\n",
        "    for i in range( n ): # think about how far we should loop\n",
        "        x[i+1] = x[i]+h*f(x[i],t[i]) # advance the solution forward in time with Euler\n",
        "    return t, x"
      ],
      "metadata": {
        "id": "IOjtmBMv7vCC"
      },
      "execution_count": null,
      "outputs": []
    },
    {
      "cell_type": "markdown",
      "source": [
        "#<Font color=\"Blueviolet\">Ejemplo 1.  \n",
        "\n",
        "Considere el problema de valor incial $y'=0.2xy$ , $y(1)=1$. Utilice el método de Euler para obtener una aproximación de $y(1.5)$ usando $h=0.1$.   \n",
        "\n",
        "#<Font color=\"Blueviolet\">Solución:  \n",
        "\n",
        "La solución exacta de este problema de valor inicial está dada por la función  \n",
        "\n",
        "$$y(x)=e^{0.1(x^{2}-1)}(¡Verifique!)$$  \n",
        "\n",
        "Si identificamos $f(x,y)=0.2xy$, entonces la expresión recursiva definida por el Método de Euler queda expresada como: $$y_{n+1}=y_{n}+h(0.2x_{n}y_{n})$$ donde $x_{0}=1$ y $y_{0}=1$.  \n",
        "\n",
        "Podemos condensar los calculos en la siguiente tabla. El error relativo se puede calcular usando la fórmula: $Error = \\frac{(A - A_{approx})}{A}$, donde $A$ es el valor exacto de la solución y $A_{approx}$ es el valor aproximado obtenido por el Método de Euler para cada valor de n.  \n",
        "\n",
        "| $x_n$ | $y_n$ | valor real | Error |\n",
        "|-------|-------|------------|---------------|\n",
        "|1.00|1.0000|1.0000|0.0000|\n",
        "|1.10|1.0200|1.0212|0.0012\n",
        "|1.20|1.0424|1.0450|0.0024|\n",
        "|1.30|1.0675|1.0714|0.0037|\n",
        "|1.40|1.0952|1.1008|0.0050|\n",
        "|1.50|1.1259|1.1331|0.0064|  \n",
        "\n"
      ],
      "metadata": {
        "id": "0CiHyCZhIcKM"
      }
    },
    {
      "cell_type": "markdown",
      "source": [
        "Para generar la tabla con los valores anteriores y graficar la solución exacta y la solución aproximada podemos usar el siguiente código en Python:"
      ],
      "metadata": {
        "id": "VPfriKHzxFE9"
      }
    },
    {
      "cell_type": "code",
      "source": [
        "import numpy as np\n",
        "import matplotlib.pyplot as plt\n",
        "\n",
        "def euler(f,x0,t0,tmax,n, solution):\n",
        "    t = np.linspace(t0, tmax, n+1)# define the domain based on t0, tmax, and n\n",
        "    h = (tmax-t0)/n\n",
        "    # next set up an array for x that is the same size a t\n",
        "    x = np.zeros_like(t)\n",
        "    ans = np.zeros_like(t)\n",
        "    x[0] = ans[0] = x0# fill in the initial condition\n",
        "\n",
        "\n",
        "    for i in range( n ): # think about how far we should loop\n",
        "        x[i+1] = x[i]+h*f(x[i],t[i]) # advance the solution forward in time with Euler\n",
        "        ans[i+1] = solution(t[i+1])\n",
        "        abs_error = abs((ans[i] - x[i]) /ans[i])\n",
        "\n",
        "    return t, x, ans\n",
        "\n",
        "def printTable(t, x, ans, decimal_digits):\n",
        "    print(f'| x_n |   y_n  | Valor real |      Error     |') # print header\n",
        "    print(f'|-----|--------|------------|----------------|')\n",
        "    for i in range(len(t)):\n",
        "      abs_error = abs((ans[i] - x[i]) / ans[i])\n",
        "      x_i = \"{:.4f}\".format(x[i])\n",
        "      ans_i = \"{:.4f}\".format(ans[i])\n",
        "      abs_error = \"{:.4f}\".format(abs_error)\n",
        "      print(f'| {t[i]} | {x_i} |   {ans_i}   |     {abs_error}     | ')\n",
        "\n",
        "\n",
        "def plotApproximation(t, x, ans):\n",
        "  plt.plot( t, x )\n",
        "  plt.plot(t, ans)\n",
        "  plt.show()"
      ],
      "metadata": {
        "id": "4zVG18rvxqCY"
      },
      "execution_count": null,
      "outputs": []
    },
    {
      "cell_type": "code",
      "source": [
        "t, x, ans = euler( lambda x, t: 0.2*x*t, 1, 1, 1.5, 5, lambda x: np.e**(0.1*(x**2-1)) )\n",
        "\n",
        "printTable(t, x, ans, 4)\n",
        "\n",
        "plotApproximation(t, x, ans)"
      ],
      "metadata": {
        "colab": {
          "base_uri": "https://localhost:8080/",
          "height": 576
        },
        "id": "6wtH5zk7xuVl",
        "outputId": "3a8e606e-8803-4dab-ec7d-db69c152bd70"
      },
      "execution_count": null,
      "outputs": [
        {
          "output_type": "stream",
          "name": "stdout",
          "text": [
            "| x_n |   y_n  | Valor real |      Error     |\n",
            "|-----|--------|------------|----------------|\n",
            "| 1.0 | 1.0000 |   1.0000   |     0.0000     | \n",
            "| 1.1 | 1.0200 |   1.0212   |     0.0012     | \n",
            "| 1.2 | 1.0424 |   1.0450   |     0.0024     | \n",
            "| 1.3 | 1.0675 |   1.0714   |     0.0037     | \n",
            "| 1.4 | 1.0952 |   1.1008   |     0.0050     | \n",
            "| 1.5 | 1.1259 |   1.1331   |     0.0064     | \n"
          ]
        },
        {
          "output_type": "display_data",
          "data": {
            "text/plain": [
              "<Figure size 640x480 with 1 Axes>"
            ],
            "image/png": "[encoded data removed]"
          },
          "metadata": {}
        }
      ]
    },
    {
      "cell_type": "markdown",
      "source": [
        "#<Font color=\"VIOLET\">Ejemplo 2.    \n",
        "\n",
        "Consideremos el siguiente problema de valor inicial siguiente:\n",
        "$$y'=3x^2,y(1)=1$$   \n",
        "\n",
        "Aproximaremos el valor de $y(2)$ usando el método de Euler con $h=0.1$.    \n",
        "\n",
        "\n",
        "#<Font color=\"VIOLET\">Solución.\n",
        "\n",
        "Para la solución usaremos $n=10$ porque $n=\\frac{b-a}{h}=\\frac{2-1}{0.1}=10$. Seguidamente definimos la función:\n",
        "\n",
        "\n",
        "\n",
        "```\n",
        "In [1]: def f(x,y): return 3*x**2\n",
        "```\n",
        "y Luego llamamos la rutina creada en Pyhon para el Método de Euler (Versión1) escribiendo:\n",
        "\n",
        "\n",
        "```\n",
        "In [2]: euler(f,1,2,1,10)\n",
        "```\n",
        "\n",
        "\n",
        "\n",
        "\n",
        "\n"
      ],
      "metadata": {
        "id": "DRqtPQEOCp0T"
      }
    },
    {
      "cell_type": "code",
      "source": [
        "def f(y,x):\n",
        "  return 3*(x)**2\n",
        "\n",
        "x, y = euler(f, 1, 1, 2, 10)\n",
        "print(x, y)\n",
        "plt.plot(x,y,'b.-')"
      ],
      "metadata": {
        "colab": {
          "base_uri": "https://localhost:8080/",
          "height": 467
        },
        "id": "Rq8cJbLs_XwU",
        "outputId": "08ba93f5-997e-4e2d-cfe9-660e076ff939"
      },
      "execution_count": null,
      "outputs": [
        {
          "output_type": "stream",
          "name": "stdout",
          "text": [
            "[1.  1.1 1.2 1.3 1.4 1.5 1.6 1.7 1.8 1.9 2. ] [1.    1.3   1.663 2.095 2.602 3.19  3.865 4.633 5.5   6.472 7.555]\n"
          ]
        },
        {
          "output_type": "execute_result",
          "data": {
            "text/plain": [
              "[<matplotlib.lines.Line2D at 0x7e9d28d1e440>]"
            ]
          },
          "metadata": {},
          "execution_count": 10
        },
        {
          "output_type": "display_data",
          "data": {
            "text/plain": [
              "<Figure size 640x480 with 1 Axes>"
            ],
            "image/png": "[encoded data removed]"
          },
          "metadata": {}
        }
      ]
    },
    {
      "cell_type": "markdown",
      "source": [
        "Los valores del segundo arreglo representan las aproximaxiones en cada valor de $x_i$ desde 1 hasta 2. La aproximación que buscamos es para $x=2$, y es justamente $7.7550$ y podemos ver el comportamiento de la solución en el intervalo $[1,2]$ en la gráfica generada."
      ],
      "metadata": {
        "id": "R5Oowc6rnI66"
      }
    },
    {
      "cell_type": "markdown",
      "source": [
        "#<Font color=\"BLUE\">TALLER."
      ],
      "metadata": {
        "id": "VgBQwIzdSWrc"
      }
    },
    {
      "cell_type": "markdown",
      "source": [
        "#<Font color=\"GREEN\">Ejercicio 1\n",
        "\n",
        "Resuelva el problema de valor inicial $\\frac{\\mathrm{d} y}{\\mathrm{d} x}=\\frac{4-2x}{3y^{2}-5},y(1)=3$ y encuentre la solución particular que pasa por el punto $P\\left ( 1,3 \\right )$. Además, use Geogebra para graficar, en un mismo plano coordenado, la solución particular anterior y la solución para $c=0$. Expliquen por qué la solución que satisface la condición inicial $y(1)=3$ está definida en el intervalo $[0, 4]$ pero no en el intervalo $[-3,7]$."
      ],
      "metadata": {
        "id": "87adErHKAuKy"
      }
    },
    {
      "cell_type": "markdown",
      "source": [
        "#<Font color=\"GREEN\">Ejercicio 2\n",
        "Resuelva, analíticamente, el problema de valor inicial $\\frac{\\mathrm{d} y}{\\mathrm{d} x}=-\\frac{x}{y},y(4)=0$. Describa geométricamente la solución particular cuando $x=4$ y $y=-3$."
      ],
      "metadata": {
        "id": "wzFkOHpnSqPx"
      }
    },
    {
      "cell_type": "markdown",
      "source": [
        "#El siguiente es otra versión del código del Método de Euler que pueden usar."
      ],
      "metadata": {
        "id": "kzJt0Ayrcoo-"
      }
    },
    {
      "cell_type": "code",
      "source": [
        "import numpy as np\n",
        "#import math\n",
        "import matplotlib.pyplot as plt\n",
        "\n",
        "def euler(f,y0,x0,xmax,n):\n",
        "    X = np.linspace(x0, xmax, n+1)# Define el dominio de la función [x0, xmax]\n",
        "    h = (xmax-x0)/n #Creamos el tamaño del paso\n",
        "    Y = np.zeros_like(X) #Crea un arreglo del mismo tamaño de x y donde se almacenaran los valores de x\n",
        "    Y[0] = y0 #Damos el primer valor para la variable dependiente y\n",
        "    for i in range( n ):\n",
        "        Y[i+1] = Y[i]+h*f(X[i],Y[i]) # Iteración método de Euler\n",
        "    return X,Y"
      ],
      "metadata": {
        "id": "BhXrVsVwcxZ8"
      },
      "execution_count": null,
      "outputs": []
    },
    {
      "cell_type": "markdown",
      "source": [
        "Ejemplo:"
      ],
      "metadata": {
        "id": "3PYPS4E1c5gF"
      }
    },
    {
      "cell_type": "code",
      "source": [
        "X,Y=euler(lambda x,y:2*x,1,-2,5,10)\n",
        "plt.plot(X,Y)"
      ],
      "metadata": {
        "id": "iZ7i3Ay_c7Ac"
      },
      "execution_count": null,
      "outputs": []
    }
  ]
}