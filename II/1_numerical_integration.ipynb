{
  "nbformat": 4,
  "nbformat_minor": 0,
  "metadata": {
    "colab": {
      "provenance": []
    },
    "kernelspec": {
      "name": "python3",
      "display_name": "Python 3"
    },
    "language_info": {
      "name": "python"
    }
  },
  "cells": [
    {
      "cell_type": "markdown",
      "source": [
        "<img src=http://www.acofi.edu.co/eiei2016/wp-content/uploads/2016/09/Logo-Universidad-ICESI.jpg width=\"300\" height=\"200\" align=\"center\">\n",
        "\n",
        "# Matemáticas Aplicadas II\n",
        "\n",
        "## Departamento de Ciencias Físicas y Aplicadas / Facultad de Ingeniería, Diseño y Ciencias Aplicadas\n",
        "\n",
        "## Profesor Luis Fernando Azcárate Mesa\n",
        "\n",
        "## **Notebook 1: Integración Numérica**\n",
        "\n",
        "## David Dulce"
      ],
      "metadata": {
        "id": "PiFztSdwGj7K"
      }
    },
    {
      "cell_type": "code",
      "source": [
        "import numpy as np\n",
        "import matplotlib.pyplot as plt\n",
        "\n",
        "from ipywidgets import interact\n",
        "from ipywidgets.widgets import IntSlider as slider"
      ],
      "metadata": {
        "id": "rZ91H8RS8L0k"
      },
      "execution_count": null,
      "outputs": []
    },
    {
      "cell_type": "markdown",
      "source": [
        "# Sumas de Riemann"
      ],
      "metadata": {
        "id": "azhC_A5W8BJK"
      }
    },
    {
      "cell_type": "markdown",
      "source": [
        "## Concepto General\n",
        "\n",
        "En general dada una partición $a=x_0 < x_1 \\cdots < x_n=b$ del intervalo $[a,b]$ escogemos etiquetas $c_{i} \\in [x_{i-1},x_{i}]$ en cada subintervalo, tomamos $\\Delta_i = x_{i+1} -x_i$ y así, la suma de Riemann de la función $f$ asociada a esta partición se define como:\n",
        "\n",
        "$$ f(c_1)(x_1-x_0)+ \\cdots +f(c_n)(x_n-x_{n-1})=\\sum_{i=1}^{n} f(c_i)\\Delta_i $$\n",
        "\n",
        "Decimos que una partición es regular si los puntos $x_i$ esta igualmente espaciados, en este caso tenemos que la longitud de los subintervalos es $\\Delta_i = \\frac{b-a}{n}$."
      ],
      "metadata": {
        "id": "MawZ63oMGvDh"
      }
    },
    {
      "cell_type": "markdown",
      "source": [
        "## Sumas por izquierda y derecha\n",
        "\n",
        "Para una partición regular podemos tomar los puntos $c_i$ como los extremos izquierdos del intervalo $[x_{i-1},x_{i}]$ en este caso $c_1=x_0,c_2=x_1 \\cdots c_i=x_{i-1} \\cdots c_n=x_{n-1}$ donde\n",
        "$i=0 \\cdots i=n-1$, llamamos a la suma correspondiente  __*suma de Riemann por la izquierda*__ $S_I$\n",
        "\n",
        "$$S_{I}=f(x_0)(x_1-x_0)+ \\cdots +f(x_{n-1})(x_n-x_{n-1})=\\Delta \\ \\sum_{i=0}^{n-1} f(x_i)$$ donde $\\Delta=\\frac{b-a}{n}$.\n",
        "\n",
        "Si tomamos el extremo derecho $c_1=x_1,c_2=x_2 \\cdots c_i=x_i \\cdots c_n=x_n$ hablamos de __*suma de Riemann por la derecha*__ $S_D$\n",
        " $$S_{D}=f(x_1)(x_1-x_0)+ \\cdots +f(x_{n})(x_n-x_{n-1})=\\Delta \\ \\sum_{i=1}^{n} f(x_i)$$"
      ],
      "metadata": {
        "id": "uPHgEEQl76c1"
      }
    },
    {
      "cell_type": "markdown",
      "source": [
        "### <Font color=\"Red\"> Ejemplo 1\n",
        "\n",
        "En el siguiente código se muestra el uso de la función `linspace` para particionar el intervalo $[1,3]$ en 4 y 5 subintervalos iguales."
      ],
      "metadata": {
        "id": "we9qswZP8ded"
      }
    },
    {
      "cell_type": "code",
      "source": [
        "part1 = np.linspace(1, 3, 5) # partition 4 subintervals (5 points)\n",
        "part2 = np.linspace(1, 3, 6) # partition 5 subintervals (6 points)\n",
        "\n",
        "print(part1)\n",
        "print(part2)"
      ],
      "metadata": {
        "colab": {
          "base_uri": "https://localhost:8080/"
        },
        "id": "1eMqSqwk8tv3",
        "outputId": "ec400f3d-1674-4ff9-9739-64c8779e8edb"
      },
      "execution_count": null,
      "outputs": [
        {
          "output_type": "stream",
          "name": "stdout",
          "text": [
            "[1.  1.5 2.  2.5 3. ]\n",
            "[1.  1.4 1.8 2.2 2.6 3. ]\n"
          ]
        }
      ]
    },
    {
      "cell_type": "markdown",
      "source": [
        "## Método de Sumas izquierdas\n",
        "\n",
        "Ahora realizaremos la implementación de un código que nos permita calcular las sumas por izquierda para una función $f$ en un intervalo $[a,b]$, para una partición en $n$ subintervalos.\n"
      ],
      "metadata": {
        "id": "MI-hbYOA9Mcf"
      }
    },
    {
      "cell_type": "code",
      "source": [
        "# left sum of f over [a, b] with n subintervals\n",
        "\n",
        "# my code\n",
        "def riemann_left(f, a, b, n=100):\n",
        "  h = (b - a) / n\n",
        "  sum = 0\n",
        "  for i in range(n):\n",
        "    sum += f(a + i * h)\n",
        "  return sum * h\n",
        "\n",
        "# teacher's code\n",
        "def left_sum(f, a, b, n=100):\n",
        "  part_x = np.linspace(a, b, n+1)[:-1] # partición del intervalo [a,b] con extremos izquierdos\n",
        "  part_y = [f(c) for c in part_x] # evaluamos la función en los puntos característicos\n",
        "  h = (b - a) / n # ancho de cada subintervalo\n",
        "  return h * np.sum(part_y)"
      ],
      "metadata": {
        "id": "6A9BkMe29Mro"
      },
      "execution_count": null,
      "outputs": []
    },
    {
      "cell_type": "markdown",
      "source": [
        "### <Font color=\"Red\"> Ejemplo 2\n",
        "\n",
        "Aproximemos la integral de la función $f(x)=x^2$ en el intervalo $[0,1]$ usando sumas izquierdas."
      ],
      "metadata": {
        "id": "-xvk_Kuk_VFW"
      }
    },
    {
      "cell_type": "code",
      "source": [
        "sqrd = lambda x: x**2\n",
        "a = 0\n",
        "b = 1\n",
        "n = 100000\n",
        "print(left_sum(sqrd, a, b, n))\n",
        "print(riemann_left(sqrd, a, b, n))"
      ],
      "metadata": {
        "colab": {
          "base_uri": "https://localhost:8080/"
        },
        "id": "bTt3ElJv_aPZ",
        "outputId": "93d71a03-5a0c-46fc-de6b-89768e26510b"
      },
      "execution_count": null,
      "outputs": [
        {
          "output_type": "stream",
          "name": "stdout",
          "text": [
            "0.33332833335000006\n",
            "0.3333283333499996\n"
          ]
        }
      ]
    },
    {
      "cell_type": "markdown",
      "source": [
        "### Graficando rectángulos característicos\n",
        "\n",
        "Se pueden utilizar algunas funciones de python para graficar las funciones, en el intervalo dado, y mostrar los rectángulos característicos para la sumas izquierdas. Esto lo podemos hacer con el siguiente código:"
      ],
      "metadata": {
        "id": "Nq9LNYEFAL7M"
      }
    },
    {
      "cell_type": "code",
      "source": [
        "x = np.linspace(0, 1, 1000)\n",
        "y = sqrd(x)\n",
        "plt.plot(x, y)\n",
        "\n",
        "# graficamos las barras para n subintervalos\n",
        "a, b, n = 0, 1, 6\n",
        "n = 15 #@param {type:\"slider\", min:1, max:100, step:1}\n",
        "x1 = np.linspace(a, b, n+1)[:-1]\n",
        "y1 = sqrd(x1)\n",
        "h = (b - a) / n\n",
        "\n",
        "plt.legend(['$sqrd(x) = x^2$']) # graph title\n",
        "plt.bar(x1, y1, width=h, align='edge', edgecolor='r', alpha=0.5) # bar chart\n",
        "plt.plot(x1, y1, 'b.', markersize=10) # graph points sqrd(h_i)\n",
        "\n",
        "left_sum(sqrd, 0, 1, n)"
      ],
      "metadata": {
        "colab": {
          "base_uri": "https://localhost:8080/",
          "height": 448
        },
        "id": "1SZof_wDAS6m",
        "outputId": "3362a96d-aa2f-4d21-f136-8b57b10b8d0b"
      },
      "execution_count": null,
      "outputs": [
        {
          "output_type": "execute_result",
          "data": {
            "text/plain": [
              "0.30074074074074075"
            ]
          },
          "metadata": {},
          "execution_count": 6
        },
        {
          "output_type": "display_data",
          "data": {
            "text/plain": [
              "<Figure size 640x480 with 1 Axes>"
            ],
            "image/png": "[encoded data removed]"
          },
          "metadata": {}
        }
      ]
    },
    {
      "cell_type": "markdown",
      "source": [
        "## Método de Sumas Derechas\n",
        "\n",
        "Esta sección es una implementación similar a la anterior de las sumas de Riemann por la derecha."
      ],
      "metadata": {
        "id": "7jDP2l6__9l0"
      }
    },
    {
      "cell_type": "code",
      "source": [
        "# my code\n",
        "def riemann_right(f, a, b, n=100):\n",
        "  h = (b - a) / n\n",
        "  sum = 0\n",
        "  for i in range(1, n + 1):\n",
        "    sum += f(a + i * h)\n",
        "  return sum * h\n",
        "\n",
        "# teacher's code\n",
        "def right_sum(f, a, b, n=100):\n",
        "  part_x = np.linspace(a, b, n+1)[1:]\n",
        "  part_y = [f(c) for c in part_x]\n",
        "  h = (b - a) / n\n",
        "  return h * np.sum(part_y)"
      ],
      "metadata": {
        "id": "MbvdsZXFG4rp"
      },
      "execution_count": null,
      "outputs": []
    },
    {
      "cell_type": "markdown",
      "source": [
        "### <Font color=\"Red\"> Ejemplo 3.  \n",
        "\n",
        "Probemos la implementación de sumas derechas para la función  $f(x)=x^2$ en el intervalo $[0,1]$"
      ],
      "metadata": {
        "id": "8OPtzf1pEtTe"
      }
    },
    {
      "cell_type": "code",
      "source": [
        "right_sum(sqrd, 0, 1)\n",
        "riemann_right(sqrd, 0, 1)"
      ],
      "metadata": {
        "colab": {
          "base_uri": "https://localhost:8080/"
        },
        "id": "OXGtzmw5DzCE",
        "outputId": "e567fb38-20f6-4412-d8cc-dce03c011526"
      },
      "execution_count": null,
      "outputs": [
        {
          "output_type": "execute_result",
          "data": {
            "text/plain": [
              "0.33835000000000004"
            ]
          },
          "metadata": {},
          "execution_count": 8
        }
      ]
    },
    {
      "cell_type": "markdown",
      "source": [
        "## Método de Punto Medio\n",
        "\n",
        "Con el método del Punto Medio estimamos áreas de regiones bajo curvas utilizando rectángulos y, en cierto sentido, usamos funciones constantes a trozos para realizar dicha aproximación."
      ],
      "metadata": {
        "id": "hWDXLY06DC5g"
      }
    },
    {
      "cell_type": "code",
      "source": [
        "def riemann(f, a, b, n=100):\n",
        "  h = (b - a) / n\n",
        "  sum = 0\n",
        "  for i in range(n):\n",
        "    xi = a + (i - 0.5) * h\n",
        "    sum += f(xi)\n",
        "  return sum * h"
      ],
      "metadata": {
        "id": "z2MKbAAsDBX9"
      },
      "execution_count": null,
      "outputs": []
    },
    {
      "cell_type": "code",
      "source": [
        "riemann(sqrd, 0, 1)"
      ],
      "metadata": {
        "colab": {
          "base_uri": "https://localhost:8080/"
        },
        "id": "FYWeKyZNEb32",
        "outputId": "63e6ee21-dfe5-4141-f081-21015b3bb566"
      },
      "execution_count": null,
      "outputs": [
        {
          "output_type": "execute_result",
          "data": {
            "text/plain": [
              "0.32342499999999996"
            ]
          },
          "metadata": {},
          "execution_count": 10
        }
      ]
    },
    {
      "cell_type": "markdown",
      "source": [
        "# Método del Trapecio\n",
        "\n",
        "El método del trapecio consiste en aproximar la integral de la función $f$ en el intervalo $[a,b]$ usando el promedio de las sumas de Riemann por izquierda y derecha. Más adelante hablaremos de la estimación del error y una implementación más eficiente, de momento implementaremos este método de forma sencilla promediando las funciones anteriores."
      ],
      "metadata": {
        "id": "KHme_zN8Gw4B"
      }
    },
    {
      "cell_type": "code",
      "source": [
        "def trapezoidal_avg(f, a, b, n=100):\n",
        "  sum = left_sum(f, a, b, n) + right_sum(f, a, b, n)\n",
        "  return sum * 0.5"
      ],
      "metadata": {
        "id": "fJ0eh3EcF5Hz"
      },
      "execution_count": null,
      "outputs": []
    },
    {
      "cell_type": "markdown",
      "source": [
        "## Ejercicio\n",
        "\n",
        "Use el método del trapecio, como promedio de sumas izquierdas y derechas, para aproximar el valor de la siguiente integral:\n",
        "\n",
        "$$\\int_{0}^{1} e^{-x^2} \\ dx$$"
      ],
      "metadata": {
        "id": "ncD9XA2NGpAO"
      }
    },
    {
      "cell_type": "code",
      "source": [
        "# Answer\n",
        "\n",
        "ex2 = lambda x: np.exp(-x**2)\n",
        "\n",
        "trapezoidal_avg(ex2, 0, 1, 100000)"
      ],
      "metadata": {
        "colab": {
          "base_uri": "https://localhost:8080/"
        },
        "id": "egfwvB0wGu3q",
        "outputId": "48398a59-f54e-40a1-aef2-c17ab8e35960"
      },
      "execution_count": null,
      "outputs": [
        {
          "output_type": "execute_result",
          "data": {
            "text/plain": [
              "0.7468241328062959"
            ]
          },
          "metadata": {},
          "execution_count": 12
        }
      ]
    },
    {
      "cell_type": "markdown",
      "source": [
        "## Implementación Optimizada"
      ],
      "metadata": {
        "id": "rmsETt4_Hq_U"
      }
    },
    {
      "cell_type": "code",
      "execution_count": null,
      "metadata": {
        "id": "puKKta2EByWO"
      },
      "outputs": [],
      "source": [
        "# teacher's code\n",
        "def trapezoidal(f, a, b, n=100):\n",
        "  x = np.linspace(a, b, n+1) # n+1 points make n subintervals\n",
        "  y = f(x)\n",
        "  y_right = y[1:] # right endpoints\n",
        "  y_left = y[:-1] # left endpoints\n",
        "  dx = (b - a) / n\n",
        "  T = (dx/2) * np.sum(y_right + y_left)\n",
        "  return T\n",
        "\n",
        "# my code\n",
        "def my_trapezoidal(f, a, b, n=100):\n",
        "  h = (b - a) / n\n",
        "  sum = 0.5 * (f(a) + f(b))\n",
        "  for i in range(1, n):\n",
        "    sum += f(a + i * h)\n",
        "  return sum * h"
      ]
    },
    {
      "cell_type": "markdown",
      "source": [
        "### <Font color=\"Red\"> Ejemplo 4\n",
        "\n",
        "Probemos la implementación del método del trapecio para la función  $f(x)=x^2$  en el intervalo  $[0,1]$."
      ],
      "metadata": {
        "id": "tIokT-coGUpe"
      }
    },
    {
      "cell_type": "code",
      "source": [
        "sqrd = lambda x: x**2\n",
        "\n",
        "print(trapezoidal(sqrd, 0, 1))\n",
        "print(my_trapezoidal(sqrd, 0, 1))"
      ],
      "metadata": {
        "colab": {
          "base_uri": "https://localhost:8080/"
        },
        "id": "w7h8NEgFGAJx",
        "outputId": "5338483f-7a7c-4ddc-becd-0691e5f82969"
      },
      "execution_count": null,
      "outputs": [
        {
          "output_type": "stream",
          "name": "stdout",
          "text": [
            "0.3333499999999999\n",
            "0.33335000000000004\n"
          ]
        }
      ]
    },
    {
      "cell_type": "markdown",
      "source": [
        "# Simpson\n",
        "\n",
        "Con el Método del trapecio utilizamos funciones lineales a trozos que determinan trapecios. En el Método de Simpson utilizamos funciones cuadráticas a trozos. Veamos la implementación a continuación:"
      ],
      "metadata": {
        "id": "FcKOEbgqGtuA"
      }
    },
    {
      "cell_type": "code",
      "source": [
        "# my code\n",
        "def my_simpson(f, a, b, n=100):\n",
        "  h = (b - a) / n\n",
        "  sum = f(a) + f(b)\n",
        "  for i in range(1, n, 2):\n",
        "    sum += 4 * f(a + i * h)\n",
        "  for i in range(2, n - 1, 2):\n",
        "    sum += 2 * f(a + i * h)\n",
        "  return sum * h / 3\n",
        "\n",
        "# teacher's code\n",
        "def simpson(f, a, b, n=100):\n",
        "    dx = (b - a) / n\n",
        "    x = np.linspace(a, b, n+1)\n",
        "    y = f(x)\n",
        "    sum = dx/3 * np.sum(y[0:-1:2] + 4*y[1::2] + y[2::2])\n",
        "    return sum"
      ],
      "metadata": {
        "id": "gtbBW5EyG0bA"
      },
      "execution_count": null,
      "outputs": []
    },
    {
      "cell_type": "markdown",
      "source": [],
      "metadata": {
        "id": "8gOiDra6mkcl"
      }
    },
    {
      "cell_type": "markdown",
      "source": [
        "## Ejemplo 5\n",
        "\n",
        "Probemos la implementación del método de Simpson para la función  $f(x)=x^2$  en el intervalo  $[0,1]$."
      ],
      "metadata": {
        "id": "AnE62kQ3K0YL"
      }
    },
    {
      "cell_type": "code",
      "source": [
        "print(my_simpson(sqrd, 0, 1))\n",
        "print(simpson(sqrd, 0, 1))"
      ],
      "metadata": {
        "colab": {
          "base_uri": "https://localhost:8080/"
        },
        "id": "WMOBpbG6KySK",
        "outputId": "b4b54cef-3f82-4515-d088-32402d874839"
      },
      "execution_count": null,
      "outputs": [
        {
          "output_type": "stream",
          "name": "stdout",
          "text": [
            "0.3333333333333334\n",
            "0.33333333333333337\n"
          ]
        }
      ]
    },
    {
      "cell_type": "markdown",
      "source": [
        "# Testing\n"
      ],
      "metadata": {
        "id": "cOQ_VzGUHKNa"
      }
    },
    {
      "cell_type": "code",
      "source": [
        "import numpy as np\n",
        "import sympy as sp\n",
        "\n",
        "x = sp.symbols('x')"
      ],
      "metadata": {
        "id": "QZ8MzdfqMr48"
      },
      "execution_count": null,
      "outputs": []
    },
    {
      "cell_type": "markdown",
      "source": [
        "Algunas de estas integrales fueron tomadas del MIT [aquí](https://math.mit.edu/~yyao1/pdf/qualifying_round_2023_test.pdf) y [aquí](https://math.mit.edu/~yyao1/pdf/2023_finals.pdf).\n"
      ],
      "metadata": {
        "id": "fhRFGMDNNLpm"
      }
    },
    {
      "cell_type": "markdown",
      "source": [
        "1. $$ \\int_\\frac {1}{2}^3 e^{x} \\, dx = e^3 - \\sqrt e $$"
      ],
      "metadata": {
        "id": "VLQZxvtQVfkE"
      }
    },
    {
      "cell_type": "code",
      "source": [
        "int1 = lambda x: np.e**x\n",
        "expr1 = sp.exp(x)\n",
        "result1 = sp.integrate(expr1, (x, 1/2, 3)).evalf()\n",
        "print(result1)\n",
        "trapezoidal(int1, 1/2, 3, 1000)"
      ],
      "metadata": {
        "colab": {
          "base_uri": "https://localhost:8080/"
        },
        "id": "mqol6U6TVgw2",
        "outputId": "0c6df5d1-807b-4a58-d879-75286bfb4638"
      },
      "execution_count": null,
      "outputs": [
        {
          "output_type": "stream",
          "name": "stdout",
          "text": [
            "18.4368156524875\n"
          ]
        },
        {
          "output_type": "execute_result",
          "data": {
            "text/plain": [
              "18.43682525499469"
            ]
          },
          "metadata": {},
          "execution_count": 18
        }
      ]
    },
    {
      "cell_type": "markdown",
      "source": [
        "2. $$ \\int_{-2024}^{2024} \\sin^6 x + \\cos^6 x + 3\\sin^2(x) \\cos^2(x) \\, dx $$"
      ],
      "metadata": {
        "id": "AhR5_NWyVnHj"
      }
    },
    {
      "cell_type": "code",
      "source": [
        "int2 = lambda x: np.sin(x)**6 + np.cos(x)**6 + 3 * ( np.sin(x)**2 * np.cos(x)**2 )\n",
        "expr2 = sp.sin(x)**6 + sp.cos(x)**6 + 3 * sp.sin(x)**2 * sp.cos(x)**2\n",
        "result2 = sp.integrate(expr2, (x, -2024, 2024)).evalf()\n",
        "print(result2)\n",
        "riemann(int2, -2024, 2024, 100000)"
      ],
      "metadata": {
        "colab": {
          "base_uri": "https://localhost:8080/"
        },
        "id": "c22_A9SGVoki",
        "outputId": "9127b448-d4a5-4ce8-efbf-34c9a0ff2c6f"
      },
      "execution_count": null,
      "outputs": [
        {
          "output_type": "stream",
          "name": "stdout",
          "text": [
            "4048.00000000000\n"
          ]
        },
        {
          "output_type": "execute_result",
          "data": {
            "text/plain": [
              "4048.0"
            ]
          },
          "metadata": {},
          "execution_count": 19
        }
      ]
    },
    {
      "cell_type": "markdown",
      "source": [
        "3. $$ \\int_0^1 x^2 + \\sqrt \\frac {2x}{x + 1} \\, dx $$"
      ],
      "metadata": {
        "id": "5nyowwVGVsxT"
      }
    },
    {
      "cell_type": "code",
      "source": [
        "int3 = lambda x: x**2 + ((2*x) / (x + 1))**0.5\n",
        "expr3 = x**2 + sp.sqrt(2 * x / (x + 1))\n",
        "result3 = sp.integrate(expr3, (x, 0, 1)).evalf()\n",
        "print(result3)\n",
        "simpson(int3, 0, 1, 1000)"
      ],
      "metadata": {
        "colab": {
          "base_uri": "https://localhost:8080/"
        },
        "id": "9ZFOnGQrVs-G",
        "outputId": "0f8a4bca-6a25-413d-89e8-58c6ce920e5a"
      },
      "execution_count": null,
      "outputs": [
        {
          "output_type": "stream",
          "name": "stdout",
          "text": [
            "1.08688285305287\n"
          ]
        },
        {
          "output_type": "execute_result",
          "data": {
            "text/plain": [
              "1.0868792220511838"
            ]
          },
          "metadata": {},
          "execution_count": 20
        }
      ]
    },
    {
      "cell_type": "markdown",
      "source": [
        "4. $$ \\int_0^{\\frac {\\pi}{2}} \\frac {\\sqrt[3]{\\tan x}}{(\\sin x + \\cos x)^2} \\, dx = \\frac {2 \\sqrt {3} \\pi}{9} $$"
      ],
      "metadata": {
        "id": "Spm1MRBmVyr0"
      }
    },
    {
      "cell_type": "code",
      "source": [
        "int4 = lambda x: (np.tan(x)**1/3) / ((np.sin(x) + np.cos(x))**2)\n",
        "expr4 = sp.sqrt(sp.tan(x)) / (sp.sin(x) + sp.cos(x))**2\n",
        "result4 = sp.integrate(expr4, (x, 0, sp.pi/2)).evalf()\n",
        "print(result4)\n",
        "trapezoidal(int4, 0, np.pi/2, 1000)\n"
      ],
      "metadata": {
        "colab": {
          "base_uri": "https://localhost:8080/"
        },
        "id": "4oEh6CfXHMF_",
        "outputId": "1a7551b5-0138-4885-9c13-f16e92aa59bc"
      },
      "execution_count": null,
      "outputs": [
        {
          "output_type": "stream",
          "name": "stdout",
          "text": [
            "1.57079632679490\n"
          ]
        },
        {
          "output_type": "execute_result",
          "data": {
            "text/plain": [
              "4275508464669.9365"
            ]
          },
          "metadata": {},
          "execution_count": 21
        }
      ]
    },
    {
      "cell_type": "markdown",
      "source": [
        "# Workshop"
      ],
      "metadata": {
        "id": "yf-WyQ4O9iZH"
      }
    },
    {
      "cell_type": "markdown",
      "source": [
        "## <Font color=\"DodgerBlue\"> Problema 1\n",
        " Un objeto que se mueve a lo largo de una línea recta tiene como función velocidad a $v(t) = sen \\, t$. Si el objeto inicia en la posición cero, determine la distancia total recorrida y la posición del objeto en el tiempo $t=\\frac{3\\pi }{2}$. Nota: Tenga presente el signo de la integral en el intervalo $[0,\\frac{3\\pi }{2}]$ y use integración numérica para valores de $n=10,20,50,100$ que le permitan realizar una buen estimación de los valores solicitados. Organice la información en tablas y grafique la función posición para dicho intervalo."
      ],
      "metadata": {
        "id": "UyxKFprOQKEE"
      }
    },
    {
      "cell_type": "markdown",
      "source": [
        "### Datos\n",
        "\n",
        "- $ v(t) = sen \\, t $\n",
        "- $ v_0 = 0 $\n",
        "\n",
        "### Objetivos\n",
        "\n",
        "Hallar\n",
        "- Distancia total recorrida ($x$)\n",
        "- Posición del objeto ($\\vec x$)\n",
        "\n",
        "cuando $ t = \\frac {3 \\pi}{2} $"
      ],
      "metadata": {
        "id": "1F-1MsOuR67J"
      }
    },
    {
      "cell_type": "markdown",
      "source": [
        "### Hallar distancia total recorrida"
      ],
      "metadata": {
        "id": "iZG_mP5lR-YX"
      }
    },
    {
      "cell_type": "code",
      "source": [
        "v = lambda t: np.sin(t)\n",
        "v0 = 0\n",
        "t_goal = 3 / 2 * np.pi\n",
        "nvalues = [10, 20, 50, 100, 1000, 10**6, 10**8]"
      ],
      "metadata": {
        "id": "6kPIvQM7LGNY"
      },
      "execution_count": null,
      "outputs": []
    },
    {
      "cell_type": "code",
      "source": [
        "# Integrar numericamente v(t) en el intervalo [0, 3pi/2] para hallar la distancia totoal recorrida\n",
        "\n",
        "for n in nvalues:\n",
        "  print(trapezoidal(v, 0, t_goal, n))"
      ],
      "metadata": {
        "colab": {
          "base_uri": "https://localhost:8080/"
        },
        "id": "1hVkW-tmPtWt",
        "outputId": "a04b46b3-11a7-4e45-d155-16df7209b406"
      },
      "execution_count": null,
      "outputs": [
        {
          "output_type": "stream",
          "name": "stdout",
          "text": [
            "0.9814256368286486\n",
            "0.9953693365978915\n",
            "0.9992596700615098\n",
            "0.9998149380680411\n",
            "0.9999981494484902\n",
            "0.9999999999981495\n",
            "1.0000000000000056\n"
          ]
        }
      ]
    },
    {
      "cell_type": "markdown",
      "source": [
        "Podemos concluir que la distancia recorrida cuando $ t = \\frac {3 \\pi}{2} $ es $ x = 1 m$, suponiendo que las medidas están en metros y segundos."
      ],
      "metadata": {
        "id": "7FCkpKroRqvl"
      }
    },
    {
      "cell_type": "markdown",
      "source": [
        "### Hallar posición\n",
        "\n",
        "Integrando la función velocidad hallamos que\n",
        "\n",
        "$$ x(t) = - cos\\,t + C $$\n",
        "\n",
        "como sabemos que parte del reposo podemos decir que\n",
        "\n",
        "$$ x(t) = - cos\\,t + 0 $$\n",
        "\n",
        "$$ x(t) = - cos\\,t $$"
      ],
      "metadata": {
        "id": "QxbVxPuCSCp3"
      }
    },
    {
      "cell_type": "code",
      "source": [
        "x = lambda t: -np.sin(t)\n",
        "\n",
        "x(t_goal)"
      ],
      "metadata": {
        "colab": {
          "base_uri": "https://localhost:8080/"
        },
        "id": "8M2tWQjENXys",
        "outputId": "2f97fb2e-9a44-4690-d98e-8577378f25fd"
      },
      "execution_count": null,
      "outputs": [
        {
          "output_type": "execute_result",
          "data": {
            "text/plain": [
              "1.0"
            ]
          },
          "metadata": {},
          "execution_count": 24
        }
      ]
    },
    {
      "cell_type": "markdown",
      "source": [
        "Se corroboran los resultados del punto anterior, la distancia y la posición son iguales ya que el objeto parte del reposo. Tanto analíticamente como numéricamente nos da que\n",
        "\n",
        "$$ x = \\vec x = 1 $$"
      ],
      "metadata": {
        "id": "IEuJzKYISL-n"
      }
    },
    {
      "cell_type": "markdown",
      "source": [
        "### Resultados"
      ],
      "metadata": {
        "id": "MKLd5IUjSd5j"
      }
    },
    {
      "cell_type": "code",
      "source": [
        "# curves\n",
        "t = np.linspace(0, t_goal, 1000)\n",
        "x_func = x(t)\n",
        "v_func = v(t)\n",
        "plt.plot(t, x_func)\n",
        "plt.plot(t, v_func)\n",
        "plt.xlabel(\"time\")\n",
        "plt.ylabel(\"position\")\n",
        "plt.grid()\n"
      ],
      "metadata": {
        "colab": {
          "base_uri": "https://localhost:8080/",
          "height": 449
        },
        "id": "1uXQt9xUSiUh",
        "outputId": "cd33e742-a638-4f9d-cbb8-8f2a175a72aa"
      },
      "execution_count": null,
      "outputs": [
        {
          "output_type": "display_data",
          "data": {
            "text/plain": [
              "<Figure size 640x480 with 1 Axes>"
            ],
            "image/png": "[encoded data removed]"
          },
          "metadata": {}
        }
      ]
    },
    {
      "cell_type": "markdown",
      "source": [
        "| t | x(t) | v(t) |\n",
        "| --- | --- | --- |\n",
        "| 0   | - | - |\n",
        "| $\\frac {\\pi}{2}$ | - | - |\n",
        "| $\\pi$ | - | - |\n",
        "| $\\frac {3 \\pi}{2}$ | - | - |"
      ],
      "metadata": {
        "id": "M-akiEPkLl48"
      }
    },
    {
      "cell_type": "markdown",
      "source": [
        "## <Font color=\"DodgerBlue\"> Problema 2\n",
        "\n",
        "Usen integración numérica para calcular las integrales siguientes $\\int_{0}^{2}(x^2-2x)dx$  y  $\\int_{0}^{3}(x^2-2x)dx$ e interpreten el resultado de cada una en término de áeas. Dibujen la función para cada intervalo de integración y usen dichas gráficas para sustentar sus resultados numéricos."
      ],
      "metadata": {
        "id": "R9NG1DCSSrHy"
      }
    },
    {
      "cell_type": "markdown",
      "source": [
        "Hallemos la integral de $x^2 - 2x$:\n",
        "\n",
        "$$ \\int x^2 - 2x \\, dx $$\n",
        "\n",
        "$$ \\int x^2 \\, dx - \\int 2x \\, dx $$\n",
        "\n",
        "$$ \\frac {x^3}{3} - x^2 $$\n",
        "\n",
        "Ahora podemos evaluar en $[0, 2]$ y [0, 3]"
      ],
      "metadata": {
        "id": "gVCqtEhsG-wd"
      }
    },
    {
      "cell_type": "markdown",
      "source": [
        "$$ \\int_{0}^{2} x^2-2x \\, dx $$\n",
        "\n",
        "$$ \\frac {x^3}{3} - x^2 \\delta $$"
      ],
      "metadata": {
        "id": "19ibWc_qHsTf"
      }
    },
    {
      "cell_type": "code",
      "source": [
        "f = lambda x: x**2 - 2*x\n",
        "\n",
        "print(riemann(f, 0, 2))"
      ],
      "metadata": {
        "colab": {
          "base_uri": "https://localhost:8080/"
        },
        "id": "bKhUuyq0AvjC",
        "outputId": "cc80806d-e838-4a29-aca4-b2835f0a094b"
      },
      "execution_count": null,
      "outputs": [
        {
          "output_type": "stream",
          "name": "stdout",
          "text": [
            "-1.3325999999999993\n"
          ]
        }
      ]
    },
    {
      "cell_type": "code",
      "source": [
        "print(riemann(f, 0, 3))"
      ],
      "metadata": {
        "colab": {
          "base_uri": "https://localhost:8080/"
        },
        "id": "mnozf036Hqdp",
        "outputId": "13a9a16f-ac0f-4883-8f0e-3b02b607a23e"
      },
      "execution_count": null,
      "outputs": [
        {
          "output_type": "stream",
          "name": "stdout",
          "text": [
            "-0.08752499999999931\n"
          ]
        }
      ]
    },
    {
      "cell_type": "markdown",
      "source": [],
      "metadata": {
        "id": "DZIwtekJDBJC"
      }
    },
    {
      "cell_type": "markdown",
      "source": [
        "## <Font color=\"DodgerBlue\"> Problema 3\n",
        "\n",
        "Calcular $\\int_{0}^{1}f(x)dx$ para una función desconocida $f(x)$ de la cual se conocen algunos valores indicados en la siguiente tabla:\n",
        "\n",
        "<Font color=\"white\">\n",
        "\n",
        "| x             | f(x)   |  |  |\n",
        "|-------------------|-------------|---------------|--------------|\n",
        "| 0.0  | 1.0    |              |         |\n",
        "| 0.25        |0.8   |              |         |\n",
        "| 0.5 | 1.3 |             |         |\n",
        "| 0.75        | 1.1  |            |          |\n",
        "|1.0  |  1.6 |"
      ],
      "metadata": {
        "id": "cXTEH2opUDg3"
      }
    },
    {
      "cell_type": "code",
      "source": [
        "import scipy as sc\n",
        "\n",
        "x = [0, 0.25, 0.5, 0.75, 1]\n",
        "y = [1, 0.8, 1.3, 1.1, 1.6]\n",
        "\n",
        "plt.plot(x, y, '.')\n",
        "plt.grid(linestyle='--')\n",
        "plt.xlim(0, 1.1)\n",
        "plt.ylim(0, 2)\n",
        "plt.title('f(x)')\n",
        "sc.interpolate()"
      ],
      "metadata": {
        "colab": {
          "base_uri": "https://localhost:8080/",
          "height": 470
        },
        "id": "qLULp0JpFJ-M",
        "outputId": "20c92c01-06bb-4c12-aa2b-31d93d12153b"
      },
      "execution_count": null,
      "outputs": [
        {
          "output_type": "execute_result",
          "data": {
            "text/plain": [
              "Text(0.5, 1.0, 'f(x)')"
            ]
          },
          "metadata": {},
          "execution_count": 37
        },
        {
          "output_type": "display_data",
          "data": {
            "text/plain": [
              "<Figure size 640x480 with 1 Axes>"
            ],
            "image/png": "[encoded data removed]"
          },
          "metadata": {}
        }
      ]
    },
    {
      "cell_type": "code",
      "source": [
        "from IPython import IFrame\n",
        "from IPython import display_html as print_iframe\n",
        "\n",
        "# @title graph\n",
        "graph = IFrame(\n",
        "    src='https://www.geogebra.org/calculator/vmtdahhz',\n",
        "    width='1020px',\n",
        "    height='480px'\n",
        ")\n",
        "IP.display_html(graph)"
      ],
      "metadata": {
        "colab": {
          "base_uri": "https://localhost:8080/",
          "height": 395
        },
        "id": "TP6NIqz7JzYn",
        "outputId": "23a6b20b-c6c2-4c1f-db88-f5bf354744c0"
      },
      "execution_count": null,
      "outputs": [
        {
          "output_type": "error",
          "ename": "ImportError",
          "evalue": "cannot import name 'IFrame' from 'IPython' (/usr/local/lib/python3.10/dist-packages/IPython/__init__.py)",
          "traceback": [
            "\u001b[0;31m---------------------------------------------------------------------------\u001b[0m",
            "\u001b[0;31mImportError\u001b[0m                               Traceback (most recent call last)",
            "\u001b[0;32m<ipython-input-48-28fa8db685a0>\u001b[0m in \u001b[0;36m<cell line: 1>\u001b[0;34m()\u001b[0m\n\u001b[0;32m----> 1\u001b[0;31m \u001b[0;32mfrom\u001b[0m \u001b[0mIPython\u001b[0m \u001b[0;32mimport\u001b[0m \u001b[0mIFrame\u001b[0m\u001b[0;34m\u001b[0m\u001b[0;34m\u001b[0m\u001b[0m\n\u001b[0m\u001b[1;32m      2\u001b[0m \u001b[0;32mfrom\u001b[0m \u001b[0mIPython\u001b[0m \u001b[0;32mimport\u001b[0m \u001b[0mdisplay_html\u001b[0m \u001b[0;32mas\u001b[0m \u001b[0mprint_iframe\u001b[0m\u001b[0;34m\u001b[0m\u001b[0;34m\u001b[0m\u001b[0m\n\u001b[1;32m      3\u001b[0m \u001b[0;34m\u001b[0m\u001b[0m\n\u001b[1;32m      4\u001b[0m \u001b[0;31m# @title graph\u001b[0m\u001b[0;34m\u001b[0m\u001b[0;34m\u001b[0m\u001b[0m\n\u001b[1;32m      5\u001b[0m graph = IFrame(\n",
            "\u001b[0;31mImportError\u001b[0m: cannot import name 'IFrame' from 'IPython' (/usr/local/lib/python3.10/dist-packages/IPython/__init__.py)",
            "",
            "\u001b[0;31m---------------------------------------------------------------------------\u001b[0;32m\nNOTE: If your import is failing due to a missing package, you can\nmanually install dependencies using either !pip or !apt.\n\nTo view examples of installing some common dependencies, click the\n\"Open Examples\" button below.\n\u001b[0;31m---------------------------------------------------------------------------\u001b[0m\n"
          ],
          "errorDetails": {
            "actions": [
              {
                "action": "open_url",
                "actionText": "Open Examples",
                "url": "/notebooks/snippets/importing_libraries.ipynb"
              }
            ]
          }
        }
      ]
    },
    {
      "cell_type": "markdown",
      "source": [
        "##<Font color=\"DodgerBlue\"> Problema 4\n",
        "\n",
        "Consideren la siguiente integral definida:\n",
        "\n",
        "$$\\int_{3}^{6}\\sqrt{9-(x-3)^{2}}dx$$   \n",
        "\n",
        "Usen un argumento numérico y otro geométrico para encontrar el valor de la integral."
      ],
      "metadata": {
        "id": "TcoHa2kVXwx7"
      }
    },
    {
      "cell_type": "markdown",
      "source": [
        "# Ecuaciones diferenciales"
      ],
      "metadata": {
        "id": "7NqxxHfNYWgj"
      }
    },
    {
      "cell_type": "markdown",
      "source": [
        "Ecuación: $ y' = y + 2 e^{-x} $\n",
        "\n",
        "Solución: $ y = e^{x} - e^{-x} $\n",
        "\n",
        "$ y = e^{x} - e^{-x} $\n",
        "\n",
        "$ y' = e^{x} + e^{-x} $\n",
        "\n",
        "$$ e^{x} + e^{-x} = e^{x} - e^{-x} + 2 e^{-x} $$\n",
        "\n",
        "$$ e^{-x} + e^{-x} = 2 e^{-x} $$\n",
        "\n",
        "$$ 2 e^{-x} = 2 e^{-x} $$\n",
        "\n",
        "En efecto es solución de la ecuación"
      ],
      "metadata": {
        "id": "Oi4cx-jsmoxr"
      }
    },
    {
      "cell_type": "markdown",
      "source": [
        "Ecuacion: $ y'' + 4y' + 4y = 0 $\n",
        "\n",
        "Solucion:\n",
        "- $ y_1 = e^{-2x} $\n",
        "- $ y_2 = xe^{-2x} $\n",
        "\n",
        "$ y'_1 = -2e^{-2x} $\n",
        "\n",
        "$ y''_1 = 4e^{-2x} $\n",
        "\n",
        "Probamos $y_1$\n",
        "\n",
        "$$ 4e^{-2x} + 4 (-2e^{-2x}) + 4 (e^{-2x}) = 0 $$\n",
        "\n",
        "$$ 8e^{-2x} = 8e^{-2x} $$\n",
        "\n",
        "$ y'_2 = \\frac {1 - 2x} {e^{2x}} $\n",
        "\n",
        "$ y''_2 = \\frac {-4 + 4x} {e^{2x}} $ -> factoriza euler y saca el reciproco\n",
        "\n",
        "$$ \\frac {-4 + 4x} {e^{2x}} + 4 ( \\frac {1 - 2x} {e^{2x}} ) + 4 ( e^{-2x} ) = 0 $$"
      ],
      "metadata": {
        "id": "aa8AwVoXndnW"
      }
    }
  ]
}