{
  "nbformat": 4,
  "nbformat_minor": 0,
  "metadata": {
    "colab": {
      "provenance": [],
      "include_colab_link": true
    },
    "kernelspec": {
      "name": "python3",
      "display_name": "Python 3"
    },
    "language_info": {
      "name": "python"
    }
  },
  "cells": [
    {
      "cell_type": "markdown",
      "metadata": {
        "id": "view-in-github",
        "colab_type": "text"
      },
      "source": [
        "<a href=\"https://colab.research.google.com/github/Arkantrust/applied-math/blob/main/Tarea10Nov23.ipynb\" target=\"_parent\"><img src=\"https://colab.research.google.com/assets/colab-badge.svg\" alt=\"Open In Colab\"/></a>"
      ]
    },
    {
      "cell_type": "markdown",
      "source": [
        "#Tarea Viernes 10 Noviembre de 2023\n",
        "\n",
        "Resuelva los siguientes problemas, la solución debe ser presentada en un cuaderno colab antes de las **2:00 p.m.** del día **Viernes 10 de Noviembre de 2023.**\n",
        "\n",
        "## David Dulce\n",
        "\n",
        "\n",
        "\n"
      ],
      "metadata": {
        "id": "dv7KzHOdlaid"
      }
    },
    {
      "cell_type": "markdown",
      "source": [
        "## 1.\n",
        "\n",
        "La velocidad del péndulo cónico que se muestra en la figura está dada por\n",
        "\n",
        "$$v = r \\sqrt{\\frac {g}{y}}$$\n",
        "\n",
        "donde $g=980\\ cm/s^2$.\n",
        "\n",
        "Si $r$ disminuye de $20cm$ a $19cm$ y $y$ aumenta de $25cm$ a $26cm$, ¿cuál es el\n",
        "cambio aproximado en la velocidad del péndulo? **Use python para calcular las derivadas involucradas.**\n",
        "\n",
        "![](https://drive.google.com/uc?id=14mR2BlUOH5fPQgA4K8EY0jRpeHqTz--9)"
      ],
      "metadata": {
        "id": "qCvw3_v5qCrZ"
      }
    },
    {
      "cell_type": "markdown",
      "source": [
        "Analizando el problema entendemos que ocurre un cambio para $r$ y $y$. Como nos piden hallar el cambio en $v$, derivemos $v_r$ y $v_y$:\n",
        "\n",
        "$ \\frac {\\partial v}{\\partial r} = \\sqrt{\\frac {g}{y}} $\n",
        "\n",
        "$ \\frac {\\partial v}{\\partial y} = \\frac {\\partial}{\\partial y} r \\sqrt{\\frac {g}{y}} = \\frac {\\partial}{\\partial y} r \\sqrt{g} y^{-1/2} = - r \\sqrt{g} \\frac {1}{2} y^{- \\frac {3}{2}} = - \\frac {r}{2} \\cdot \\sqrt{g} \\cdot y^{-3/2} $\n",
        "\n",
        "Ahora hallamos el cambio en la velocidad como la suma de los cambios en $r$ y en $y$ multiplicados por $v_r$ y $v_y$ respectivamente. Es decir la suma de los cambios por la derivada de $v$."
      ],
      "metadata": {
        "id": "INLKiWNK0XNG"
      }
    },
    {
      "cell_type": "code",
      "source": [
        "# Constants\n",
        "g = 980  # cm/s^2\n",
        "r = 20  # cm\n",
        "y = 25  # cm\n",
        "\n",
        "v = lambda r, y: r * (g / y)**0.5\n",
        "\n",
        "# Derivatives\n",
        "dv_dr = (g / y)**0.5\n",
        "dv_dy = -0.5 * r * ((g)**0.5) * y ** (-1.5)\n",
        "\n",
        "# Changes\n",
        "change_in_r = 19 - 20\n",
        "change_in_y = 26 - 25\n",
        "\n",
        "change_in_velocity = dv_dr * change_in_r + dv_dy * change_in_y\n",
        "\n",
        "v_0 = v(r, y)\n",
        "\n",
        "v_f = v_0 + change_in_velocity\n",
        "\n",
        "print(f\"Velocidad original: {v_0} cm/s\")\n",
        "print(f\"Cambio aproximado en velocidad: {change_in_velocity} cm/s\")\n",
        "print(f\"Velocidad después del cambio: {v_f} cm/s\")\n"
      ],
      "metadata": {
        "id": "1SCGVjwu3KZs",
        "outputId": "baba625c-20c9-4fa3-a16c-5dc42df84c38",
        "colab": {
          "base_uri": "https://localhost:8080/"
        }
      },
      "execution_count": 2,
      "outputs": [
        {
          "output_type": "stream",
          "name": "stdout",
          "text": [
            "Velocidad original: 125.21980673998823 cm/s\n",
            "Cambio aproximado en velocidad: -8.765386471799175 cm/s\n",
            "Velocidad después del cambio: 116.45442026818905 cm/s\n"
          ]
        }
      ]
    },
    {
      "cell_type": "markdown",
      "source": [
        "El cambio en la velocidad del péndulo es aproximadamente 9cm/s, el cálculo usando python nos da un real negativo lo que significa que disminuyó su velocidad, también conocido como desacelerar."
      ],
      "metadata": {
        "id": "gDKAwAQqNPAs"
      }
    },
    {
      "cell_type": "markdown",
      "source": [
        "2. La temperatura $T$ en un punto $(x,y,z)$ en el espacio es inversamente proporcional al cuadrado de la distancia de $(x,y,z)$ al origen. Sabemos que $T(0,0,1)=500$. Encuentre la tasa de cambio de la temperatura $T$ en $(2,3,3)$ en\n",
        "la dirección de $(3, 1, 1)$. ¿En cuál dirección a partir de $(2,3,3)$\n",
        "la temperatura $T$ aumenta con mayor rapidez? En $(2,3,3)$, ¿cuál es la máxima tasa de cambio de T? **Use python para calcular las derivadas involucradas.**\n"
      ],
      "metadata": {
        "id": "z9PW-4xMqFHT"
      }
    },
    {
      "cell_type": "markdown",
      "source": [
        "3. Calcule las dimensiones de una caja rectangular con volumen máximo que está acotada en el primer octante por los planos de coordenadas y el plano $x +2y+z=6$.\n",
        "\n",
        "![](https://drive.google.com/uc?id=1ZY-MT0cjm7jbaG7gHNcNo9tZh74BVuEV)"
      ],
      "metadata": {
        "id": "h83Ea5c6qIIh"
      }
    },
    {
      "cell_type": "markdown",
      "source": [
        "Muchos cubos caben en este espacio, nos están pidiendo el de **mayor** volumen. Este espacio es el espacio comprendido entre los planos $x = 0$, $y = 0$ y $ x + 2y + z = 6 $. Como se puede observar en la figura, el punto $(1, 2, 1)$ es el vector normal del plano $ x + 2y + z = 6 $, ésta será la dirección de la diagonal del cubo.\n",
        "\n",
        "El volumen de un cubo es $ V = l^3 $ donde $l$ es la longitud de un lado del cubo.\n",
        "\n",
        "Se pueden usar la derivada direccional de $V$ en dirección con el vector normal antes mencionado para hallar las dimensiones máximas del cubo:\n",
        "\n",
        "$\\nabla V = (3s^2, 3s^2, 3s^2)$\n",
        "\n",
        "Al vector normal del plano lo llamaremos $DD$ por dirección de la diagonal:\n",
        "\n",
        "$ ||DD|| = \\sqrt {1^2 + 2^2 + 1^2} = \\sqrt {6} $\n",
        "\n",
        "$ DD_{norm} = (\\frac {1}{\\sqrt {6}}, \\frac {2}{\\sqrt {6}}, \\frac {1}{\\sqrt {6}}) $\n",
        "\n",
        "$DuV = \\nabla V \\cdot DD_{norm} = (\\frac {3s^2}{\\sqrt {6}}, \\frac {6s^2}{\\sqrt {6}}, \\frac {3s^2}{\\sqrt {6}}) $\n",
        "\n",
        "Ahora igualamos esta derivada a 0 para hallar puntos críticos:\n",
        "\n"
      ],
      "metadata": {
        "id": "iTDXAYxtSpTS"
      }
    }
  ]
}