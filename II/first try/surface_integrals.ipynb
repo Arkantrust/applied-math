{
  "nbformat": 4,
  "nbformat_minor": 0,
  "metadata": {
    "colab": {
      "provenance": [],
      "authorship_tag": "ABX9TyNcaeqhGqkJl9lvJd3ao4Xp",
      "include_colab_link": true
    },
    "kernelspec": {
      "name": "python3",
      "display_name": "Python 3"
    },
    "language_info": {
      "name": "python"
    }
  },
  "cells": [
    {
      "cell_type": "markdown",
      "metadata": {
        "id": "view-in-github",
        "colab_type": "text"
      },
      "source": [
        "<a href=\"https://colab.research.google.com/github/Arkantrust/applied-math/blob/main/surface_integrals.ipynb\" target=\"_parent\"><img src=\"https://colab.research.google.com/assets/colab-badge.svg\" alt=\"Open In Colab\"/></a>"
      ]
    },
    {
      "cell_type": "markdown",
      "source": [
        "# Aplicadas II\n",
        "\n",
        "## David Dulce"
      ],
      "metadata": {
        "id": "z5R2zsVdkqJu"
      }
    },
    {
      "cell_type": "code",
      "source": [
        "import numpy as np"
      ],
      "metadata": {
        "id": "oBwDUF8kmPhE"
      },
      "execution_count": null,
      "outputs": []
    },
    {
      "cell_type": "markdown",
      "source": [
        "Make a code snippet in python to approximate the value of\n",
        "\n",
        "$$ \\iint\\limits_R (1 + x)dA $$\n",
        "\n",
        "where $ R = [0, 3] \\cdot [2, 4] $"
      ],
      "metadata": {
        "id": "U-fMY992k2Hv"
      }
    },
    {
      "cell_type": "code",
      "source": [
        "f = lambda x, y: 1 + x\n",
        "\n",
        "a = 0\n",
        "b = 3\n",
        "c = 2\n",
        "d = 4\n",
        "\n",
        "n = 100\n",
        "m = 200\n",
        "\n",
        "delta_x = (b - a) / n\n",
        "\n",
        "delta_y = (d - c) / m"
      ],
      "metadata": {
        "id": "edp8IEeWmSyB"
      },
      "execution_count": null,
      "outputs": []
    },
    {
      "cell_type": "markdown",
      "source": [
        "## a) Bottom left corner - both left ends"
      ],
      "metadata": {
        "id": "ggzGYBMLlhqK"
      }
    },
    {
      "cell_type": "code",
      "source": [
        "sum = 0\n",
        "\n",
        "for i in range(n):\n",
        "    for j in range(m):\n",
        "        xi = a + (i * delta_x)\n",
        "        yj = c + (j * delta_y)\n",
        "        sum += f(xi, yj) * delta_x * delta_y\n",
        "print(f'Bottom left corner: {sum}')"
      ],
      "metadata": {
        "colab": {
          "base_uri": "https://localhost:8080/"
        },
        "id": "EOJyt9ZCm0z-",
        "outputId": "c1e6ad26-9ba4-4203-e61e-8df3e7d86542"
      },
      "execution_count": null,
      "outputs": [
        {
          "output_type": "stream",
          "name": "stdout",
          "text": [
            "Bottom left corner: 14.909999999999672\n"
          ]
        }
      ]
    },
    {
      "cell_type": "markdown",
      "source": [
        "## b) Upper right corner - both right ends"
      ],
      "metadata": {
        "id": "nz_3kFShmGNp"
      }
    },
    {
      "cell_type": "code",
      "source": [
        "sum = 0\n",
        "\n",
        "for i in range(1, n+1):\n",
        "    for j in range(1, m+1):\n",
        "        xi = a + (i * delta_x)\n",
        "        yj = c + (j * delta_y)\n",
        "        sum += f(xi, yj) * delta_x * delta_y\n",
        "print(f'Upper right corner: {sum}')"
      ],
      "metadata": {
        "colab": {
          "base_uri": "https://localhost:8080/"
        },
        "id": "l6G-p-6gtHjt",
        "outputId": "80ebe255-3d40-471f-f02f-bdc4a208ec4e"
      },
      "execution_count": null,
      "outputs": [
        {
          "output_type": "stream",
          "name": "stdout",
          "text": [
            "Upper right corner: 15.089999999999817\n"
          ]
        }
      ]
    },
    {
      "cell_type": "markdown",
      "source": [
        "## a) Center - middle points"
      ],
      "metadata": {
        "id": "b-z1ryPzmGVq"
      }
    },
    {
      "cell_type": "code",
      "source": [
        "sum = 0\n",
        "\n",
        "for i in range(n):\n",
        "    for j in range(m):\n",
        "        xi = a + ((i + 0.5) * delta_x)\n",
        "        yj = c + ((j + 0.5) * delta_y)\n",
        "        sum += f(xi, yj) * delta_x * delta_y\n",
        "print(f'Center: {sum}')"
      ],
      "metadata": {
        "colab": {
          "base_uri": "https://localhost:8080/"
        },
        "id": "Zs_B-Oh7tz3d",
        "outputId": "4d23783a-b85c-4c16-a568-83f7c1f2a78b"
      },
      "execution_count": null,
      "outputs": [
        {
          "output_type": "stream",
          "name": "stdout",
          "text": [
            "Center: 15.000000000000375\n"
          ]
        }
      ]
    }
  ]
}