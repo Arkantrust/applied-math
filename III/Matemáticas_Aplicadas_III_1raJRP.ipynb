{
  "nbformat": 4,
  "nbformat_minor": 0,
  "metadata": {
    "colab": {
      "provenance": []
    },
    "kernelspec": {
      "name": "python3",
      "display_name": "Python 3"
    },
    "language_info": {
      "name": "python"
    }
  },
  "cells": [
    {
      "cell_type": "markdown",
      "metadata": {
        "id": "nRSmik7mnr0u"
      },
      "source": [
        "<img src=http://www.acofi.edu.co/eiei2016/wp-content/uploads/2016/09/Logo-Universidad-ICESI.jpg width=\"300\" height=\"200\" align=\"center\">\n",
        "\n",
        "#**<big><big>Matemáticas Aplicadas III</big></big><br><small>Depto. Matemáticas & Estadística / Facultad de Ingeniería</small><br><small>_*Primera Jornada de Solución de Problemas*_ (Integración múltiple - Cambio de variable). </small>**\n",
        "\n",
        "**Descripción de la jornada**: En esta jornada usted va a encontrar un problema. Debe trabajar intentar completar todos los enunciados. Cada problema puede ser abordado en forma individual utilizando todos los recursos que usted disponga. La idea central es que elabore sus respuestas o construcciones siguiendo los lineamientos dados a continuación:\n",
        "\n",
        "1. Escriba con claridad sus propias ideas.\n",
        "2. Argumente usando lenguaje propio de las matemáticas: geométrico o algebraico, según sea el caso, cada una de sus respuestas.\n",
        "3. Respalde donde considere conveniente sus argumentos geométricos y algebraicos con imágenes o applets diseñadas en alguna de las herramientas que hacen parte de la mochila digital.\n",
        "4.\tResuelva los problemas de manera preferiblemente autónoma; describiendo estrategias para “atacar” el problema, poniendo a prueba sus soluciones y en lo posible planteando nuevos e “interesantes” interrogantes asociados al problema formulado. Si utiliza un resultado o teorema, este debe ser debidamente citado y si es un resultado ajeno a los estudiados en el curso o del texto guía debe proveer la respectiva demostración\n",
        "\n",
        "\n",
        "Su archivo *.ipynb* debe estar en la carpeta [Entregas JSP 2](https://drive.google.com/drive/folders/1oNK5-aZsF5pVmBy9QchpE7Zs_gWtKkrK?usp=sharing) antes de la finalización de la sesión de clase (7:00pm). El nombre de este archivo debe tener el formato **Grupo_#_JSP 2.ipynb**."
      ]
    },
    {
      "cell_type": "markdown",
      "metadata": {
        "id": "hOrmlyBvLBAp"
      },
      "source": [
        "# Integrales iteradas y cambio de variable"
      ]
    },
    {
      "cell_type": "markdown",
      "source": [
        "1. (27 puntos) Dada la integral $$\\int\\int_R \\sin (x-y) \\cos (x+y)\\, dA,$$\n",
        "\n",
        " donde $R$ es la región encerrada por las rectas$$ x+y=2 π; x=0; y=0 $$\n",
        "\n",
        " a. (12 puntos) Usando un cambio de variables apropiado, planteé y evalúe analiticamente la integral en las nuevas variables.\n",
        "\n",
        " b. (4 puntos) Muestre analítica y numéricamente sí la transformación lineal de la parte (a) conserva el valor de las áreas.\n",
        "\n",
        " c. (5 puntos) Verifique numéricamente que el resultado de la parte (a), es igual o aproximadamente igual al valor de la integral original.\n",
        "\n",
        " d. (6 puntos) Represente geométricamente en un applet de GeoGebra las regiones $R$ de la integral original y $R^{*}$ del cambio de variables. Establezca si es posible o no afirmar que la transformación lineal que envía el triangulo original $R$ en el triángulo $R^*$ de la parte (a) es una rotación. Argumente su respuesta.\n",
        "\n",
        "  "
      ],
      "metadata": {
        "id": "V7ASeyQGnIpa"
      }
    },
    {
      "cell_type": "markdown",
      "source": [
        "2. (23 puntos) Considere el volumen del sólido interior a la superficie  $x^2 + y^2 + z^2 = 9$ e interior a $x^2 + y^2 = 4$.\n",
        "\n",
        " a. (17 puntos) Escriba una integral triple en coordenadas cartesianas, esféricas y cilíndricas que le permitan hallar dicho volumen. No olvide considerar la gráfica la región de integración en $R^{3}$.\n",
        "\n",
        " b. (6 puntos) Evalúe numéricamente al menos dos de dichas integrales para verificar que en efecto el volumen calculado es correcto.\n"
      ],
      "metadata": {
        "id": "mEzRMvwXdgJy"
      }
    }
  ]
}