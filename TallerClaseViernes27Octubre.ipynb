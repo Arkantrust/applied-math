{
  "nbformat": 4,
  "nbformat_minor": 0,
  "metadata": {
    "colab": {
      "provenance": [],
      "include_colab_link": true
    },
    "kernelspec": {
      "name": "python3",
      "display_name": "Python 3"
    },
    "language_info": {
      "name": "python"
    }
  },
  "cells": [
    {
      "cell_type": "markdown",
      "metadata": {
        "id": "view-in-github",
        "colab_type": "text"
      },
      "source": [
        "<a href=\"https://colab.research.google.com/github/Arkantrust/applied-math/blob/main/TallerClaseViernes27Octubre.ipynb\" target=\"_parent\"><img src=\"https://colab.research.google.com/assets/colab-badge.svg\" alt=\"Open In Colab\"/></a>"
      ]
    },
    {
      "cell_type": "markdown",
      "source": [
        "#Taller en clase Viernes 27 Octubre 2023\n",
        "\n",
        "## David Dulce\n",
        "\n",
        "## Catalina Cañas\n",
        "\n",
        "### 1. Demuestre que la función $u(x,y) = \\ln{(x^2+y^2)}$ es solución de la ecuación diferencial parcial de Laplace\n",
        "\n",
        "$$ \\dfrac{\\partial^2u}{\\partial x^2} + \\dfrac{\\partial^2u}{\\partial y^2} =0 $$\n"
      ],
      "metadata": {
        "id": "GgxAL2majt9_"
      }
    },
    {
      "cell_type": "markdown",
      "source": [
        "### 2.\n",
        "\n",
        "La función\n",
        "\n",
        "$$S=0.1091w^{0.425}h^{0.725}$$\n",
        "\n",
        "relaciona el área superficial (en pies cuadrados) del cuerpo de una persona como una función del peso $w$ (en libras) y la altura $h$ (en pulgadas).\n",
        "\n",
        "Si una niña crece de 36 a 36.5 pulgadas, mientras su peso se mantiene en 60 lb. Cuál es el aumento aproximado en el área de la piel?\n",
        "\n",
        "Use python para calcular las derivadas parciales necesarias para resolver el problema."
      ],
      "metadata": {
        "id": "8sfXl_58veL5"
      }
    },
    {
      "cell_type": "markdown",
      "source": [
        "Primero calcular las derivadas:\n",
        "\n",
        "---\n",
        "\n",
        "$$ S_w = (0.1091h^{0.725}(w^{0.425} ))_w $$\n",
        "\n",
        "$$ S_w = 0.1091h^{0.725}(0.425w^{-0.575}) $$\n",
        "\n",
        "$$ S_w = 0.1091 \\frac {0.425h^{0.725}}{w^{0.575}} $$\n",
        "\n",
        "---\n",
        "\n",
        "$$ S_h = (0.1091w^{0.425}(h^{0.725}))_h $$\n",
        "\n",
        "$$ S_h = 0.1091w^{0.425}(0.725h^{-0.275}) $$\n",
        "\n",
        "$$ S_h = 0.1091 \\frac {0.725w^{0.425}} {h^{0.275}} $$\n",
        "\n"
      ],
      "metadata": {
        "id": "8IzW3Ym-zkOM"
      }
    },
    {
      "cell_type": "code",
      "source": [
        "S = lambda w, h: 0.1091*(w**0.425)*(h**0.725)\n",
        "\n",
        "S_w = lambda w, h: 0.1091*((0.425 * (h**0.725)) / (w**0.575))\n",
        "\n",
        "S_h = lambda w, h: 0.1091*((0.725 * (w**0.425)) / (h**0.275))\n",
        "\n",
        "w_0 = 60  # lb\n",
        "h_0 = 36  # inch\n",
        "h_final = 36.5  # inch\n",
        "\n",
        "S_w_initial = S_w(w_0, h_0)\n",
        "\n",
        "S_h_initial = S_h(w_0, h_0)\n",
        "\n",
        "delta_h = h_final - h_0\n",
        "\n",
        "delta_S = S_h_initial * delta_h\n",
        "\n",
        "print(f\"Cambio aproximado en el área de la piel: {delta_S:.2f} pies cuadrados\")"
      ],
      "metadata": {
        "id": "sPKv6NjQ5JJO",
        "outputId": "a4f70672-ff7b-497d-8d55-57182084b89b",
        "colab": {
          "base_uri": "https://localhost:8080/"
        }
      },
      "execution_count": 2,
      "outputs": [
        {
          "output_type": "stream",
          "name": "stdout",
          "text": [
            "Cambio aproximado en el área de la piel: 0.08 pies cuadrados\n"
          ]
        }
      ]
    },
    {
      "cell_type": "markdown",
      "source": [
        "### 3. Encuentre la ecuación del plano tangente a la grafica de la función $f(x,y) = e^{-x^2-y^2}$ en el punto $(1,0,f(1,0))$ grafique usando python.\n",
        "\n"
      ],
      "metadata": {
        "id": "pxwik-9uvhD9"
      }
    },
    {
      "cell_type": "markdown",
      "source": [
        "EPT: $ (a, b, f(a, b)) $\n",
        "\n",
        "$$ Z = f(a, b) + f_x(a, b)(x - a) + f_y(a,b)(y - b) $$\n",
        "\n",
        "Primero calcular las derivadas:\n",
        "\n",
        "Chain Rule y derivada con respecto a x o y\n",
        "\n",
        "$f_x = -2e^{-x^2-y^2}x $\n",
        "\n",
        "$ f_y = -2e^{-x^2-y^2}y $\n",
        "\n",
        "$$ Z = f(1, 0) + f_x(1, 0)(x - 1) + f_y(1, 0)(y - 0) $$"
      ],
      "metadata": {
        "id": "_O9ST24kv13C"
      }
    }
  ]
}