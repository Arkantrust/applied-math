{
  "nbformat": 4,
  "nbformat_minor": 0,
  "metadata": {
    "colab": {
      "provenance": [],
      "include_colab_link": true
    },
    "kernelspec": {
      "name": "python3",
      "display_name": "Python 3"
    },
    "language_info": {
      "name": "python"
    }
  },
  "cells": [
    {
      "cell_type": "markdown",
      "metadata": {
        "id": "view-in-github",
        "colab_type": "text"
      },
      "source": [
        "<a href=\"https://colab.research.google.com/github/Arkantrust/applied-math/blob/main/TallerClaseViernes27Octubre.ipynb\" target=\"_parent\"><img src=\"https://colab.research.google.com/assets/colab-badge.svg\" alt=\"Open In Colab\"/></a>"
      ]
    },
    {
      "cell_type": "markdown",
      "source": [
        "#Taller en clase Viernes 27 Octubre 2023\n",
        "\n",
        "1. Demuestre que la función $u(x,y) = \\ln{(x^2+y^2)}$ es solución de la ecuación diferencial parcial de Laplace\n",
        "\n",
        "$$ \\dfrac{\\partial^2u}{\\partial x^2} + \\dfrac{\\partial^2u}{\\partial y^2} =0 $$\n",
        "\n",
        "2. La función $S=0.1091w^{0.425}h^{0.725}$ relaciona el área superficial (en pies cuadrados) del cuerpo de una persona como una función del peso $w$ (en libras) y la altura $h$ (en pulgadas). Si una niña crece de 36 a 36.5 pulgadas, mientras su peso se mantiene en 60 lb. Cuál es el aumento aproximado en el área de la piel? Use python para calcular las derivadas parciales necesarias para resolverel problema.\n",
        "\n",
        "3. Encuentre la ecuación del plano tangente a la grafica de la función $f(x,y) = e^{-x^2-y^2}$ en el punto $(1,0,f(1,0))$ grafique usando python."
      ],
      "metadata": {
        "id": "GgxAL2majt9_"
      }
    }
  ]
}