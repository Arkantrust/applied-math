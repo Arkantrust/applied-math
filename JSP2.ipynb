{
  "nbformat": 4,
  "nbformat_minor": 0,
  "metadata": {
    "colab": {
      "provenance": [],
      "include_colab_link": true
    },
    "kernelspec": {
      "name": "python3",
      "display_name": "Python 3"
    },
    "language_info": {
      "name": "python"
    }
  },
  "cells": [
    {
      "cell_type": "markdown",
      "metadata": {
        "id": "view-in-github",
        "colab_type": "text"
      },
      "source": [
        "<a href=\"https://colab.research.google.com/github/Arkantrust/applied-math/blob/main/JSP2.ipynb\" target=\"_parent\"><img src=\"https://colab.research.google.com/assets/colab-badge.svg\" alt=\"Open In Colab\"/></a>"
      ]
    },
    {
      "cell_type": "markdown",
      "source": [
        "<img src=http://www.acofi.edu.co/eiei2016/wp-content/uploads/2016/09/Logo-Universidad-ICESI.jpg width=\"300\" height=\"200\" align=\"center\">\n",
        "\n",
        "#**<big><big>Matemáticas Aplicadas II</big></big><br><small>Depto. Ciencias Físicas y Exactas / Facultad de Ingeniería</small><br><small>_*Segunda Jornada de Resolucion de Problemas*_ (Algebra lineal, funciones de varias variables, límites y continuidad, derivadas parciales). </small>**\n",
        "\n",
        "**Descripción de la jornada**:\n",
        "\n",
        "En esta jornada usted va a encontrar 3 problemas que se pueden resolver con la teoría estudiada en clase y debe entregar en un cuaderno colab la solución de estos 3 problemas. Cada problema puede ser abordado en forma individual utilizando todos los recursos que usted disponga. La idea central es que elabore sus respuestas o construcciones siguiendo los lineamientos dados a continuación:\n",
        "\n",
        "1. Escriba con claridad sus propias ideas.\n",
        "\n",
        "2. Argumente usando lenguaje propio de las matemáticas: geométrico o algebraico, según sea el caso, cada una de sus respuestas.\n",
        "\n",
        "3. Respalde, cuando lo considere conveniente, sus argumentos geométricos y algebraicos con imágenes o applets diseñadas en GeoGebra o librerias de Python.\n",
        "\n",
        "4.\tResuelvan los problemas de manera autónoma; describiendo las estrategias usadas para “atacar” el problema, poniendo a prueba sus soluciones y en lo posible planteando nuevos e “interesantes” interrogantes asociados al problema formulado. Si utiliza un resultado o teorema, este debe ser debidamente citado y si es un resultado ajeno a los estudiados en el curso o del texto guía debe proveer la respectiva demostración.\n",
        "\n",
        "5. El cuaderno solución (como archivo ipynb) de esta jornada debe ser guardado (no compartido) en la carpeta con título \"Entrega Segunda J Solucion Problemas\" que se encuentra en la carpeta del curso. El titulo debe tener el nombre del estudiante y el código.\n",
        "\n",
        "6. **NO** se aceptará ningún archivo después de las 4:00 p.m.\n",
        "\n",
        "7. Solamente se tiene acceso a los cuadernos colab del curso, sus cuadernos colab y Geogebra. Cualquier otra pestaña abierta diferente a las anteriores será considerada como fraude."
      ],
      "metadata": {
        "id": "J4hcQCJb1KHd"
      }
    },
    {
      "cell_type": "code",
      "source": [
        "import numpy as np\n",
        "import matplotlib.pyplot as plt"
      ],
      "metadata": {
        "id": "i92hmeBufbNk"
      },
      "execution_count": 96,
      "outputs": []
    },
    {
      "cell_type": "markdown",
      "source": [
        "#Problema 1\n",
        "\n",
        "**15 pts**\n",
        "\n",
        "Defina una función en python que dados dos vectores $u$ y $v$ en $\\mathbb{R}^3$ retorne el producto cruz de estos dos vectores. Use esta rutina para encontrar la ecuación del plano que pasa por los puntos $P(1,1,2)$, $Q(2,1,-1)$ y $R(0,-1,1)$. Grafique en python los puntos dados, el plano y el vector normal usado. Encuentre una ecuación para la linea recta que pasa por el punto medio del segmento $\\overline{PQ}$ y es paralela al plano encontrado."
      ],
      "metadata": {
        "id": "ijXLN7zz2EA9"
      }
    },
    {
      "cell_type": "code",
      "source": [
        "def cross_product(u, v):\n",
        "    return \"Sin respuesta\"\n"
      ],
      "metadata": {
        "id": "buLCh0r0u3mA"
      },
      "execution_count": 97,
      "outputs": []
    },
    {
      "cell_type": "markdown",
      "source": [
        "#Problema 2\n",
        "\n",
        "**15 pts**\n",
        "\n",
        "Use trayectorias y python para determinar si el límite existe o no\n",
        "\n",
        "$$ \\lim_{(x,y)\\to (0,0)} \\frac{-x^2y}{x^4+2y^2} $$"
      ],
      "metadata": {
        "id": "Jj40nOjf2Kpm"
      }
    },
    {
      "cell_type": "markdown",
      "source": [
        "Para $x = 0$\n",
        "\n",
        "$$ \\frac {-(0)^2y}{0^4+2y^2} = \\frac {0}{2y^2} = 0 $$\n",
        "\n",
        "Para $y=0$\n",
        "\n",
        "$$ \\frac {-x^20}{x^4+2(0)^2} = \\frac {0}{x^4} = 0 $$\n",
        "\n",
        "Por lo tanto $ \\lim_{(x,y)\\to (0,0)} \\frac{-x^2y}{x^4+2y^2} = 0$"
      ],
      "metadata": {
        "id": "jeT7r7AQeb8w"
      }
    },
    {
      "cell_type": "code",
      "source": [
        "g = lambda x, y: (-(x**2)*y)/(x**4 + 2*(y**2))\n",
        "\n",
        "try:\n",
        "    g(0, 0)\n",
        "except:\n",
        "    print(f\"No se puede calcular el limite en (0,0) a priori\")\n",
        "\n",
        "print()\n",
        "\n",
        "# right\n",
        "print(\"Evaluado por derecha\")\n",
        "hr = np.arange(1, 10+1)\n",
        "\n",
        "print(f\"En (x, 0): {g(hr, 0)}\")\n",
        "print(f\"En (0, y): {g(0, hr)}\")\n",
        "\n",
        "print()\n",
        "\n",
        "# left\n",
        "print(\"Evaluado por izquierda\")\n",
        "hl = np.arange(-10, -1+1)\n",
        "\n",
        "print(f\"En (x, 0): {g(hl, 0)}\")\n",
        "print(f\"En (0, y): {g(0, hl)}\")\n"
      ],
      "metadata": {
        "colab": {
          "base_uri": "https://localhost:8080/"
        },
        "id": "9KDGqgyTnJaA",
        "outputId": "757f8e33-cf9a-4b6d-b73f-a01a13dd766c"
      },
      "execution_count": 98,
      "outputs": [
        {
          "output_type": "stream",
          "name": "stdout",
          "text": [
            "No se puede calcular el limite en (0,0) a priori\n",
            "\n",
            "Evaluado por derecha\n",
            "En (x, 0): [0. 0. 0. 0. 0. 0. 0. 0. 0. 0.]\n",
            "En (0, y): [0. 0. 0. 0. 0. 0. 0. 0. 0. 0.]\n",
            "\n",
            "Evaluado por izquierda\n",
            "En (x, 0): [0. 0. 0. 0. 0. 0. 0. 0. 0. 0.]\n",
            "En (0, y): [0. 0. 0. 0. 0. 0. 0. 0. 0. 0.]\n"
          ]
        }
      ]
    },
    {
      "cell_type": "markdown",
      "source": [
        "Todos valores para la función $ \\frac {-x^2y}{x^4+2y^2} $ alrededor de 0, es decir en los intervalos $[1, 10]$ y $[-10, -1]$ son $0$. Por lo tanto, el límite tiende a $0$.\n",
        "\n",
        "$$ \\lim_{(x,y)\\to (0,0)} \\frac{-x^2y}{x^4+2y^2} = 0$$\n",
        "\n"
      ],
      "metadata": {
        "id": "svRR0KhftBU-"
      }
    },
    {
      "cell_type": "markdown",
      "source": [
        "#Problema 3\n",
        "\n",
        "**20 pts**\n",
        "\n",
        "Use python para calcular las derivadas parciales $f_x(0,1)$ y $f_y(0,1)$ para la función $f(x,y)=\\sqrt{y^2-x^2}$"
      ],
      "metadata": {
        "id": "_CUrSpnA2NWO"
      }
    },
    {
      "cell_type": "markdown",
      "source": [
        "$$ z = f(x, y) = \\sqrt {y^2 - x^2} $$"
      ],
      "metadata": {
        "id": "z2zTpl9Devtg"
      }
    },
    {
      "cell_type": "code",
      "source": [
        "# define the function\n",
        "f = lambda x,y: np.sqrt(y**2 - x**2)"
      ],
      "metadata": {
        "id": "eIJJV9k5fSDt"
      },
      "execution_count": 99,
      "outputs": []
    },
    {
      "cell_type": "markdown",
      "source": [
        "$$ z_y(0, 1) = \\lim_{h \\rightarrow 0} \\frac {z(0, 1 + h) - z(0, 1)}{h} $$"
      ],
      "metadata": {
        "id": "vk6WDrH1g3Bo"
      }
    },
    {
      "cell_type": "code",
      "source": [
        "h = 1/np.arange(1, 50)\n",
        "\n",
        "z_y = (f(0, 1+h) - f(0, 1))/h\n",
        "\n",
        "print(z_y[-10:])\n",
        "\n",
        "print(f\"Error: {abs(z_y[-1] - f(0, 1))}\")"
      ],
      "metadata": {
        "id": "MQwOyU_SgD_T",
        "colab": {
          "base_uri": "https://localhost:8080/"
        },
        "outputId": "0abd7156-035d-4665-999f-6dcc11b1c209"
      },
      "execution_count": 100,
      "outputs": [
        {
          "output_type": "stream",
          "name": "stdout",
          "text": [
            "[1. 1. 1. 1. 1. 1. 1. 1. 1. 1.]\n",
            "Error: 1.1102230246251565e-15\n"
          ]
        }
      ]
    },
    {
      "cell_type": "code",
      "source": [
        "h = -1/np.arange(1, 100)\n",
        "\n",
        "z_y = (f(0, 1+h) - f(0, 1))/h\n",
        "\n",
        "print(z_y[-10:])\n",
        "\n",
        "print(f\"Error: {abs(z_y[-1] - f(0, 1))}\")"
      ],
      "metadata": {
        "colab": {
          "base_uri": "https://localhost:8080/"
        },
        "id": "9ERTVjJZjCgX",
        "outputId": "120e5d8a-f04d-4031-fab3-23aabcc7e5c5"
      },
      "execution_count": 101,
      "outputs": [
        {
          "output_type": "stream",
          "name": "stdout",
          "text": [
            "[1. 1. 1. 1. 1. 1. 1. 1. 1. 1.]\n",
            "Error: 4.6629367034256575e-15\n"
          ]
        }
      ]
    },
    {
      "cell_type": "markdown",
      "source": [
        "$$ f'(x,y) = \\frac {1}{\\sqrt{y^2-x^2}} $$\n",
        "\n",
        "$$ f'(0,1) = \\frac {1}{\\sqrt{1^2-0^2}} $$\n",
        "\n",
        "$$ f'(0,1) = \\frac {1}{\\sqrt{1}} $$\n",
        "\n",
        "$$ f'(0,1) = \\frac {1}{1} $$\n",
        "\n",
        "$$ f'(0,1) = 1 $$"
      ],
      "metadata": {
        "id": "xuJDbE0mpZJH"
      }
    }
  ]
}