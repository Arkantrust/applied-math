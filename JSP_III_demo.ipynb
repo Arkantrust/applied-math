{
  "nbformat": 4,
  "nbformat_minor": 0,
  "metadata": {
    "colab": {
      "provenance": [],
      "include_colab_link": true
    },
    "kernelspec": {
      "name": "python3",
      "display_name": "Python 3"
    },
    "language_info": {
      "name": "python"
    }
  },
  "cells": [
    {
      "cell_type": "markdown",
      "metadata": {
        "id": "view-in-github",
        "colab_type": "text"
      },
      "source": [
        "<a href=\"https://colab.research.google.com/github/Arkantrust/applied-math/blob/main/JSP_III_demo.ipynb\" target=\"_parent\"><img src=\"https://colab.research.google.com/assets/colab-badge.svg\" alt=\"Open In Colab\"/></a>"
      ]
    },
    {
      "cell_type": "markdown",
      "metadata": {
        "id": "nRSmik7mnr0u"
      },
      "source": [
        "<img src=http://www.acofi.edu.co/eiei2016/wp-content/uploads/2016/09/Logo-Universidad-ICESI.jpg width=\"300\" height=\"200\" align=\"center\">\n",
        "\n",
        "#**<big><big>Matemáticas Aplicadas II</big></big><br><small>Depto. Matemáticas & Estadística / Facultad de Ingeniería</small><br><small> Tercera jornada de solución de problemas. </small>**\n",
        "\n",
        "A continuación se le pide contestar o resolver, en parejas, las siguientes preguntas, utilizando una copia del presente cuaderno para consignar todas sus respuestas con el formato requerido.\n",
        "\n",
        "**Usted debe leer y trabajar en los problemas del cuaderno y traer preguntas para la primera sesión de clase  de la semana 16.**\n",
        "\n",
        "La entrega está para la **segunda sesión de clase de la semana 16** vía Intu. No se reciben trabajos enviados al correo electrónico.\n",
        "\n",
        "**<u>Preguntas</u>**\n",
        "\n",
        "A continuación encuentra separadas por celda cada pregunta, así usted solo debe continuar escribiendo en la celda para dar cada respuesta. No olvide que todas sus respuestas deben ir acompañadas de al menos un argumento geométrico o numérico y uno algebráico o en lenguaje natural.\n"
      ]
    },
    {
      "cell_type": "markdown",
      "source": [
        "1.Vector Gradiente, Matriz Hessiana y Matriz Jacobiana."
      ],
      "metadata": {
        "id": "hnZ7sIFHSA_h"
      }
    },
    {
      "cell_type": "markdown",
      "source": [
        "1.1 (5 Puntos) Sea $f(x,y)=x^2-y^2$. Encuentre $\\nabla f$ y muestre que\n",
        "$$f_{xx}+f_{yy}=0.$$\n",
        "\n"
      ],
      "metadata": {
        "id": "6gxqPM5m3ce6"
      }
    },
    {
      "cell_type": "markdown",
      "source": [
        "1.2  (7 puntos) **Puntos extremos**  \n",
        "\n",
        "Considere la función $f(x,y)=x^2+2xy+y^3$\n",
        "\n",
        "  a) Calcule los puntos extremos de $f$ resolviendo la ecuación $\\nabla f(x,y)=0$.\n",
        "\n",
        "  b) Encuentre la matriz Hessiana de $f$ para clasificar los puntos como mínimos o máximos locales o puntos silla.\n",
        "  \n",
        "  c) Grafique la superficie y un mapa de contorno donde se vean los valores extremos de la función."
      ],
      "metadata": {
        "id": "IltGXvxlSlLO"
      }
    },
    {
      "cell_type": "markdown",
      "source": [
        "1.3  (5 puntos) *Jacobiano de una función $F:\\mathbb{R}^n\\rightarrow\\mathbb{R}^n$*. La matriz de derivadas de una función $F:\\mathbb{R}^n\\rightarrow\\mathbb{R}^n$ dada por $F(x)=F(x_1,...,x_n)=(f_1(x),...,f_n(x))$ en un punto $A$ se puede escribir en forma matricial como:\n",
        "\n",
        "$$DF(A)=\\begin{bmatrix}\n",
        "\\nabla f_1(x)^T\\\\\n",
        "\\vdots\\\\\n",
        "\\nabla f_n(x)^T\n",
        "\\end{bmatrix}.$$\n",
        "\n",
        "El determinante de $DF(A)$ se denomina *Jacobiano* de $F$ en $A$ y se denota\n",
        "\n",
        "$$JF(A)=\\det DF(A).$$\n",
        "\n",
        "Considere la función $F(x,y)=(x+y^2,x^3+xy)$. Encuentre el Jacobiano de $F$ en el punto $(1,2)$ ¿Que información nos da la matriz jacobiana y el jacobiano?"
      ],
      "metadata": {
        "id": "g1Kv-5mK1WIU"
      }
    },
    {
      "cell_type": "markdown",
      "metadata": {
        "id": "Eij5k5rSppTZ"
      },
      "source": [
        "2.\n",
        "  \n",
        "  2.1 (5 puntos) Encuentre la ecuación del plano tangente a la función $f(x,y)=x+y^2$ en cualquier punto $(a,b)$. Diseñe un applet en GeoGebra que dibuje simultáneamente todos los planos tangentes a esta función y los vectores normales a dicho plano en el punto de tangencia,  para valores de $-5\\leq a,b\\leq 5$."
      ]
    },
    {
      "cell_type": "markdown",
      "source": [
        "  2.2 (5 puntos) Sea $\\displaystyle f(x,y)=e^{-(x^2+y^2)}$ y $\\displaystyle g(x,y)=\\frac{e^{-1}}{x^2+y^2}$. Suponga que  $(a,b)$ es un punto tal que $a^2+b^2=1$.\n",
        "\n",
        "  a.   Muestre que $f(a,b)=g(a,b)$.\n",
        "\n",
        "  b.   Encuentre $\\nabla f$ y $\\nabla g$.\n",
        "\n",
        "  c. Muestre que la gráfica $f$ es tangente a la gráfica de $g$ en todo punto $(a,b)$. Diseñe un applet en GeoGebra que ilustre esta situación. Sugerencia: Use planos tangentes,  la vista 3D e intersecte secciones transversales con las gráficas de $f$ y $g$.\n",
        "\n",
        "\n",
        "\n"
      ],
      "metadata": {
        "id": "l6RXujEO23jx"
      }
    },
    {
      "cell_type": "markdown",
      "source": [
        "3.(8 puntos) Suponga que la producción de una empresa está modelada por la función de producción de Cobb-Douglas $P(k,l)=20k^{\\frac{1}{4}}l^{\\frac{3}{4}}$, donde $k$ mide el caplital (en millones de dólares) y $l$ mide la fuerza laboral (en miles de trabajadores). Suponga que cuando $l=2$ y $k=6$ la fuerza laboral disminuye a razón de 20 trabajadores por año y el capital crece a razón de $400 000 por año. Determine la razón de cambio de la producción."
      ],
      "metadata": {
        "id": "iMUK2MSJx9UD"
      }
    },
    {
      "cell_type": "markdown",
      "source": [
        "4.(8 puntos) **Multiplicadores de Lagrange**.\n",
        "  \n",
        "  Para el siguiente problema, ustedes deben construir un applet en GeoGebra que ilustre la geometría del problema. Para ello deben dibujar algunas curvas de nivel, incluyendo aquella que contiene a los puntos extremos o silla, y las restricciones. Además, en los puntos extremos o silla debe graficar los vectores gradientes de la función objetivo y la restricción. Debe verificar la relación entre los multiplicadores de Lagrange y dichos vectores.\n",
        "\n",
        "Considere el plano con ecuación:\n",
        "$$z = x−2y+3.$$\n",
        "encontrar el punto $P$, en el plano, que está más cerca del origen de $\\mathbb{R}^3$. Para ello:\n",
        "\n",
        "\n",
        "  a.   Formule el problema como un problema de optimización con una restricción de igualdad (el cuadrado de la distancia entre el plano y el origen).\n",
        "\n",
        "  b.   En un applet de GeoGebra ilustre la solución del problema indicando la solución, esto es, mostrando la posición del punto $P$ y su intuición geométrica detrás de la formulación algebráica del item (a).\n"
      ],
      "metadata": {
        "id": "eax2pmgq0OB0"
      }
    },
    {
      "cell_type": "markdown",
      "source": [
        "5.(7 Puntos) Para una empresa que produce tres productos(en miles de unidades), $x$, $y$ y $z$, la utilidad de la empresa (en miles de dólares) está dada por la función: $$P(x,y,z)=4x+8y+6z$$\n",
        "Las restricciones de producción obligan a que se cumpla la condición: $$x^{2}+4y^{2}+2z^{2}\\leq 800$$\n",
        " Calcule la utilidad máxima de la empresa con esta restricción y repita el problema con la restricción $x^{2}+4y^{2}+2z^{2}\\leq 801$. ¿Cómo interpretaría el valor del multiplicador $\\lambda$ para esta segunda restricción?  \n",
        "Nota: Tenga presente que cuando no hay puntos críticos, los extremos deben estar en la frontera de la región de restricción."
      ],
      "metadata": {
        "id": "u48OjjskCR93"
      }
    }
  ]
}