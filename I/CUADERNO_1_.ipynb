{
  "nbformat": 4,
  "nbformat_minor": 0,
  "metadata": {
    "colab": {
      "provenance": []
    },
    "kernelspec": {
      "name": "python3",
      "display_name": "Python 3"
    },
    "language_info": {
      "name": "python"
    }
  },
  "cells": [
    {
      "cell_type": "markdown",
      "source": [
        "<img src=http://www.acofi.edu.co/eiei2016/wp-content/uploads/2016/09/Logo-Universidad-ICESI.jpg width=\"200\" height=\"200\" align=\"center\">\n",
        "\n",
        "#**<big><big>Matemáticas Aplicadas I</big></big><br><small>Depto. Matemáticas & Estadística / Facultad de Ingeniería</small><br><small>_*CUADERNO 1*_ Herramientas Python y Librerias. </small>**\n"
      ],
      "metadata": {
        "id": "1efFjUk0er_V"
      }
    },
    {
      "cell_type": "code",
      "source": [],
      "metadata": {
        "id": "dmQkMJWVPOBb"
      },
      "execution_count": null,
      "outputs": []
    },
    {
      "cell_type": "markdown",
      "source": [
        "## ¿Qué es Python ?\n",
        "\n",
        "#Python\n",
        "\n",
        "<img src=https://dc722jrlp2zu8.cloudfront.net/media/uploads/2020/10/05/python-logo.png width=\"350\" height=\"200\">\n",
        "\n",
        "Python es un lenguaje de programación ampliamente utilizado en las aplicaciones web, el desarrollo de software, la ciencia de datos y el machine learning (ML).\n",
        "\n",
        "Los desarrolladores utilizan Python porque es eficiente y fácil de aprender, además de que se puede ejecutar en muchas plataformas diferentes. El software Python se puede descargar gratis, se integra bien a todos los tipos de sistemas y aumenta la velocidad del desarrollo.\n",
        "\n",
        "\n"
      ],
      "metadata": {
        "id": "A47ztgGxpdOd"
      }
    },
    {
      "cell_type": "markdown",
      "source": [
        "##Tipos de datos en Python\n",
        "\n",
        "**Cadenas [string]**\n",
        "```\n",
        "\"Esto es una cadena\"\n",
        "```\n",
        "\n",
        "**Números**\n",
        "\n",
        "```\n",
        "Estos son enteros [int]\n",
        "\n",
        "x=1\n",
        "\n",
        "y=2+x\n",
        "\n",
        "z= 3*5\n",
        "```\n",
        "\n",
        "\n",
        "```\n",
        "Estos son Flotantes [float]\n",
        "\n",
        "x=1.1\n",
        "\n",
        "y= 1.1*10**{-2}\n",
        "```\n",
        "\n",
        "\n",
        "\n",
        "```\n",
        "Estos son complejos\n",
        "\n",
        "x= <parte real> + <parte imaginaria + j>\n",
        "\n",
        "#j es la variable reservada para complejos\n",
        "\n",
        "c=2+3j\n",
        "```\n",
        "\n",
        "**Booleanos**\n",
        "\n",
        "Esta clase solo se puede instanciar con dos valores/objetos: True para representar verdadero y False para representar falso.\n",
        "\n",
        "\n",
        "\n",
        "```\n",
        "a==b\n",
        "\n",
        "a!=b\n",
        "\n",
        "a<b\n",
        "```\n",
        "\n"
      ],
      "metadata": {
        "id": "_Nq9QrN4hENa"
      }
    },
    {
      "cell_type": "code",
      "execution_count": null,
      "metadata": {
        "colab": {
          "base_uri": "https://localhost:8080/"
        },
        "id": "YK1bwoUxeokl",
        "outputId": "3b56d0a4-86d0-41bb-8b33-c98c83b0feb9"
      },
      "outputs": [
        {
          "output_type": "execute_result",
          "data": {
            "text/plain": [
              "0.011000000000000001"
            ]
          },
          "metadata": {},
          "execution_count": 1
        }
      ],
      "source": [
        "1.1*10**(-2)"
      ]
    },
    {
      "cell_type": "code",
      "source": [
        "c=2+3j\n",
        "\n",
        "c_1=5+6j\n",
        "\n",
        "c_2=3j\n",
        "\n",
        "c+c_1+c_2"
      ],
      "metadata": {
        "colab": {
          "base_uri": "https://localhost:8080/"
        },
        "id": "K5tQ-mMAjFu5",
        "outputId": "c925cf16-202c-47c3-faaf-4e2cd362fde7"
      },
      "execution_count": null,
      "outputs": [
        {
          "output_type": "execute_result",
          "data": {
            "text/plain": [
              "(7+12j)"
            ]
          },
          "metadata": {},
          "execution_count": 1
        }
      ]
    },
    {
      "cell_type": "markdown",
      "source": [
        "##Cambio de Type de Datos\n",
        "\n",
        "¿Cómo puedo tratar la variable edad como un número? Convirtiéndola a un tipo numérico, por ejemplo, al tipo int.\n",
        "\n",
        "Para ello, Python ofrece las siguientes funciones:\n",
        "\n",
        "* str( ): Devuelve la representación en cadena de caracteres del objeto que se pasa como parámetro.\n",
        "* int( ): Devuelve un int a partir de un número o secuencia de caracteres.\n",
        "* float( ): Devuelve un float a partir de un número o secuencia de caracteres.\n",
        "* complex(): Devuelve un complex a partir de un número o secuencia de caracteres.\n",
        "\n",
        "Nota: Si a las funciones anteriores se les pasa como parámetro un valor inválido, el intérprete mostrará un error."
      ],
      "metadata": {
        "id": "76b0jbi1kjni"
      }
    },
    {
      "cell_type": "markdown",
      "source": [
        "# Operaciones en Python\n",
        "\n",
        "Algunas operaciones aritmeticas importantes con Python se presentan a continuación:\n",
        "\n",
        "<img src=\"https://www.maquinasvirtuales.eu/ipsoapoo/2020/12/python-aprendiendo-desde-cero-vi-operadores-2b.png\" width=\"400\" height=\"400\"\n",
        "align=\"center\">\n",
        "\n"
      ],
      "metadata": {
        "id": "roMZXxe8qjnD"
      }
    },
    {
      "cell_type": "markdown",
      "source": [
        "##Variables\n",
        "\n",
        "Una variable es un espacio en un sistema de almacenaje que recibe un identificador y contiene información conocida o desconocida!\n",
        "\n",
        "```\n",
        "x=var1\n",
        "li=var2\n",
        "x_1=var3\n",
        "```\n",
        "\n"
      ],
      "metadata": {
        "id": "sqHnGBUiqJ5M"
      }
    },
    {
      "cell_type": "code",
      "source": [
        "x=45\n",
        "\n",
        "y=float(x)\n",
        "\n",
        "y"
      ],
      "metadata": {
        "colab": {
          "base_uri": "https://localhost:8080/"
        },
        "id": "Ko2LPoqhv6S_",
        "outputId": "75d1b245-ef6b-4fa3-c71d-afcd0ce2cc57"
      },
      "execution_count": null,
      "outputs": [
        {
          "output_type": "execute_result",
          "data": {
            "text/plain": [
              "45.0"
            ]
          },
          "metadata": {},
          "execution_count": 2
        }
      ]
    },
    {
      "cell_type": "code",
      "source": [
        "str(2.5)"
      ],
      "metadata": {
        "colab": {
          "base_uri": "https://localhost:8080/",
          "height": 36
        },
        "id": "rEAVbqZwo3Yl",
        "outputId": "46392912-2348-4255-f678-dd0e48ca5541"
      },
      "execution_count": null,
      "outputs": [
        {
          "output_type": "execute_result",
          "data": {
            "text/plain": [
              "'2.5'"
            ],
            "application/vnd.google.colaboratory.intrinsic+json": {
              "type": "string"
            }
          },
          "metadata": {},
          "execution_count": 5
        }
      ]
    },
    {
      "cell_type": "code",
      "source": [
        "int(2.99)"
      ],
      "metadata": {
        "colab": {
          "base_uri": "https://localhost:8080/"
        },
        "id": "XOdDcuR7vD65",
        "outputId": "1cfb625a-532d-423a-83cc-2d19cc6e7d4e"
      },
      "execution_count": null,
      "outputs": [
        {
          "output_type": "execute_result",
          "data": {
            "text/plain": [
              "2"
            ]
          },
          "metadata": {},
          "execution_count": 6
        }
      ]
    },
    {
      "cell_type": "markdown",
      "source": [
        "###Llamar variables y Función print\n",
        "\n"
      ],
      "metadata": {
        "id": "y5UXOVPyqqq6"
      }
    },
    {
      "cell_type": "markdown",
      "source": [
        "##Códigos simples para formar cadenas\n",
        "\n",
        "Podemos usar la función `input()`\n",
        "que permite recoger información de un usuario\n"
      ],
      "metadata": {
        "id": "9X_EJeNgpIlM"
      }
    },
    {
      "cell_type": "code",
      "source": [
        "#Cadenas simples\n",
        "x=input(\"Ingrese su nombre: \")\n",
        "y= int(input(\"Ingrese su edad: \"))\n",
        "\n",
        "print(\"La edad de\", x, \"es\", y+1, \"años\")"
      ],
      "metadata": {
        "id": "29QYMhIrm2Tn",
        "colab": {
          "base_uri": "https://localhost:8080/"
        },
        "outputId": "eca2414e-584f-4744-fded-6646406d0609"
      },
      "execution_count": null,
      "outputs": [
        {
          "output_type": "stream",
          "name": "stdout",
          "text": [
            "Ingrese su nombre: xx\n",
            "Ingrese su edad: 4\n",
            "La edad de xx es 5 años\n"
          ]
        }
      ]
    },
    {
      "cell_type": "code",
      "source": [
        "#Cadenas 'f' para completar\n",
        "x=5\n",
        "print(f\"El numero de x es {x}\")"
      ],
      "metadata": {
        "id": "FA4WmTBCoRA7",
        "colab": {
          "base_uri": "https://localhost:8080/"
        },
        "outputId": "fb997621-0bbd-4577-a808-459cdab98045"
      },
      "execution_count": null,
      "outputs": [
        {
          "output_type": "stream",
          "name": "stdout",
          "text": [
            "El numero de x es 5\n"
          ]
        }
      ]
    },
    {
      "cell_type": "code",
      "source": [
        "#CADENA de Toma de decisiones\n",
        "\n",
        "x=int(input(\"ingrese un número entero: \"))\n",
        "\n",
        "if x%2==0: # la operación % se refiere al residuo o resto\n",
        "  print(x, \"es un número par\")\n",
        "else:\n",
        "  print(x, \"es un número impar\")\n"
      ],
      "metadata": {
        "id": "Tdbgy61uGcJn"
      },
      "execution_count": null,
      "outputs": []
    },
    {
      "cell_type": "markdown",
      "source": [
        "#Agrupaciones\n",
        "\n",
        "* Las listas son secuencias mutables de valores. MUTABLE: Que puedo modificar la lista.\n",
        "\n",
        ">>lista=[1,2,3,4,5]\n",
        "\n",
        "* Las tuplas son secuencias inmutables de valores. TUPLA: No se modifican (cedula)\n",
        "\n",
        ">>tupla=(1,2,3,4,5)\n",
        "\n",
        "* Los conjuntos se utilizan para representar conjuntos únicos de elementos, es decir, en un conjunto no pueden existir dos objetos iguales. CONJUNTO: Una lista dentro de otra. (elementos diferentes)\n",
        "\n",
        ">> conjunto=set([1,2,3,4])\n",
        "\n",
        "* Los diccionarios son tipos especiales de contenedores en los que se puede acceder a sus elementos a partir de una clave única. (Representar la palabra con una letra). eje: a= Marin. (definir variables)\n",
        "\n",
        ">> dicionario= {'a':\"Marin\", 'b':\"Lopez\", 'c':1 }"
      ],
      "metadata": {
        "id": "xwNMR5YjkkCD"
      }
    },
    {
      "cell_type": "code",
      "source": [
        "dic1={'N': \"Nombres\", 'A':\"Apellidos\"}\n",
        "\n",
        "dic1['N']"
      ],
      "metadata": {
        "id": "6nCs7SYM1Fts",
        "outputId": "a27d678e-254b-4510-a8e6-91f2bf9bad6d",
        "colab": {
          "base_uri": "https://localhost:8080/",
          "height": 35
        }
      },
      "execution_count": null,
      "outputs": [
        {
          "output_type": "execute_result",
          "data": {
            "text/plain": [
              "'Nombres'"
            ],
            "application/vnd.google.colaboratory.intrinsic+json": {
              "type": "string"
            }
          },
          "metadata": {},
          "execution_count": 1
        }
      ]
    },
    {
      "cell_type": "markdown",
      "source": [
        "##Listas y tuplas\n",
        "\n"
      ],
      "metadata": {
        "id": "qfgFDgQItv3V"
      }
    },
    {
      "cell_type": "code",
      "source": [
        "lista=[1,2,3,4,5,6,7,8] #Ordina desde 0\n",
        "\n",
        "lista[4] #muestra el tercer elemento ordenado en la lista\n"
      ],
      "metadata": {
        "id": "GQfYh-GZuCF_",
        "outputId": "01601683-a6f7-498a-fbac-b66d165a6169",
        "colab": {
          "base_uri": "https://localhost:8080/"
        }
      },
      "execution_count": null,
      "outputs": [
        {
          "output_type": "execute_result",
          "data": {
            "text/plain": [
              "5"
            ]
          },
          "metadata": {},
          "execution_count": 2
        }
      ]
    },
    {
      "cell_type": "code",
      "source": [
        "lista=[1,2,3,4,5,6,7,8]\n",
        "\n",
        "lista[3] #Muestra el cuarto elemento ordenado en la lista empieza a contar desde 0"
      ],
      "metadata": {
        "id": "EfdWEoBy2d_A",
        "colab": {
          "base_uri": "https://localhost:8080/"
        },
        "outputId": "82b67740-56e8-460e-d203-297b1aad6ed3"
      },
      "execution_count": null,
      "outputs": [
        {
          "output_type": "execute_result",
          "data": {
            "text/plain": [
              "4"
            ]
          },
          "metadata": {},
          "execution_count": 4
        }
      ]
    },
    {
      "cell_type": "code",
      "source": [
        "lista[2:6] #Rebana la lista de manera ordenada - Para **AGREGAR UN ELEMENTO** = lista.insert(posicion, \"valor\")"
      ],
      "metadata": {
        "id": "A0uA8YNuuJb2",
        "colab": {
          "base_uri": "https://localhost:8080/"
        },
        "outputId": "c0b33518-7f0c-4c17-b098-6757d248a0af"
      },
      "execution_count": null,
      "outputs": [
        {
          "output_type": "execute_result",
          "data": {
            "text/plain": [
              "[3, 4, 5, 6]"
            ]
          },
          "metadata": {},
          "execution_count": 5
        }
      ]
    },
    {
      "cell_type": "code",
      "source": [
        "lista=[1,2,3,4,5,6,7,8,9,10]\n",
        "\n",
        "lista.insert(5, 10) #Metodo Insert Ingresa una obejto en la posición (n, Obj)\n",
        "\n",
        "lista\n"
      ],
      "metadata": {
        "id": "KvW45KWhutYv",
        "colab": {
          "base_uri": "https://localhost:8080/"
        },
        "outputId": "fc53b477-878e-4b5d-890b-56eec47e8965"
      },
      "execution_count": null,
      "outputs": [
        {
          "output_type": "execute_result",
          "data": {
            "text/plain": [
              "[1, 2, 3, 4, 5, '10', 6, 7, 8, 9, 10]"
            ]
          },
          "metadata": {},
          "execution_count": 1
        }
      ]
    },
    {
      "cell_type": "code",
      "source": [
        "L1=[1,2,3,4,5] #ENLAZAR LISTAS\n",
        "L2=[6,7,8,9,10]\n",
        "\n",
        "L1.extend(L2)\n",
        "L1"
      ],
      "metadata": {
        "id": "gq-Xax84XSVG",
        "colab": {
          "base_uri": "https://localhost:8080/"
        },
        "outputId": "73d927cd-1f92-476c-faf4-4244571e6450"
      },
      "execution_count": null,
      "outputs": [
        {
          "output_type": "execute_result",
          "data": {
            "text/plain": [
              "[1, 2, 3, 4, 5, 6, 7, 8, 9, 10]"
            ]
          },
          "metadata": {},
          "execution_count": 2
        }
      ]
    },
    {
      "cell_type": "code",
      "source": [],
      "metadata": {
        "id": "qI9CugWD4-eO"
      },
      "execution_count": null,
      "outputs": []
    },
    {
      "cell_type": "markdown",
      "source": [
        "# Algunos Métodos Listas utiles\n",
        "![Captura de pantalla 2023-08-09 202248.png](data:image/png;base64,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)"
      ],
      "metadata": {
        "id": "XWW07UyxCVv9"
      }
    },
    {
      "cell_type": "markdown",
      "source": [
        "# #Tarea de lectura\n",
        "\n",
        "Avanzar en la siguiente lectura:\n",
        "\n",
        "[Listas]( https://recursospython.com/guias-y-manuales/listas-y-tuplas/): Explica de manera clara y ordenada los elementos necesarios para comprender las listas, ademas se puede generalizar para el formato Tuplas"
      ],
      "metadata": {
        "id": "6FqSSrG7siJq"
      }
    },
    {
      "cell_type": "markdown",
      "source": [
        "#Recorridos en Lista\n",
        "\n",
        "Usando la sentencia (ciclo) ```for```  se puede recorrer todos los elementos de una lista y ejecutar alguna función sobre ellos.\n",
        "\n",
        "```\n",
        "lista=(a,b,c,d)\n",
        "\n",
        "y=[f(x) for x in lista]\n",
        "```\n",
        "\n"
      ],
      "metadata": {
        "id": "8hZ9tRKZEjA5"
      }
    },
    {
      "cell_type": "code",
      "source": [
        "LI=[1,2,3,4]\n",
        "\n",
        "#ELEVAR AL CUADRADO CADA ELEMENTO DE LA LISTA\n",
        "\n",
        "l_cua=[x**2 for x in LI]\n",
        "\n",
        "l_cua"
      ],
      "metadata": {
        "id": "wNDepa4hEiM6",
        "colab": {
          "base_uri": "https://localhost:8080/"
        },
        "outputId": "2dd7ed43-e002-453e-d3f4-620f8e587775"
      },
      "execution_count": null,
      "outputs": [
        {
          "output_type": "execute_result",
          "data": {
            "text/plain": [
              "[1, 4, 9, 16]"
            ]
          },
          "metadata": {},
          "execution_count": 2
        }
      ]
    },
    {
      "cell_type": "code",
      "source": [
        "l1=[0, -1, -3, 9]\n",
        "l2=[x**(1/2) for x in l1]\n",
        "l2"
      ],
      "metadata": {
        "colab": {
          "base_uri": "https://localhost:8080/"
        },
        "id": "dGDv4Jf5BLfl",
        "outputId": "48d586c8-a2fe-4b72-9551-f16b91f3ebe9"
      },
      "execution_count": null,
      "outputs": [
        {
          "output_type": "execute_result",
          "data": {
            "text/plain": [
              "[0.0,\n",
              " (6.123233995736766e-17+1j),\n",
              " (1.0605752387249068e-16+1.7320508075688772j),\n",
              " 3.0]"
            ]
          },
          "metadata": {},
          "execution_count": 4
        }
      ]
    },
    {
      "cell_type": "markdown",
      "source": [
        "# Librerias 👀"
      ],
      "metadata": {
        "id": "NMpQ78aj17LH"
      }
    },
    {
      "cell_type": "markdown",
      "source": [
        "#LIBRERIAS ---> IMPORTAR\n",
        "import **math** as mt --->*libreria math*\n",
        "\n",
        "import **numpy** as np\n",
        "\n",
        "Para el presente curso, usaremos algunas librerias claves para aprender matemáticas\n",
        "\n",
        "\n",
        "\n",
        "```\n",
        "Import math as mt\n",
        "\n",
        "Import numpy as np\n",
        "```\n",
        "\n",
        "#Libreria Math\n",
        "\n",
        "Para la sintaxis se debe anteponer el apodo de la libreria y la función que requerimos\n",
        "\n",
        "* [Curiosidades de la libreria Math](https://docs.python.org/es/3.10/library/math.html#special-functions)\n",
        "\n",
        "```\n",
        "mt.sin(x)  --->Importar Sen\n",
        "\n",
        "mt.sqrt(x)\n",
        "\n",
        "mt.degrees(y)\n",
        "\n",
        "mt.pi  ---> Importar Pi\n",
        "```\n",
        "\n",
        "\n"
      ],
      "metadata": {
        "id": "O1Z0ass6Y8yA"
      }
    },
    {
      "cell_type": "code",
      "source": [
        "import math as mt"
      ],
      "metadata": {
        "id": "su7gynuE2Qfj"
      },
      "execution_count": null,
      "outputs": []
    },
    {
      "cell_type": "code",
      "source": [
        "mt.log10(10)"
      ],
      "metadata": {
        "colab": {
          "base_uri": "https://localhost:8080/"
        },
        "id": "EkYvPWTIC9Dm",
        "outputId": "e5ffd9b5-767f-4a7e-ed8f-cdb31cb5ed3b"
      },
      "execution_count": null,
      "outputs": [
        {
          "output_type": "execute_result",
          "data": {
            "text/plain": [
              "1.0"
            ]
          },
          "metadata": {},
          "execution_count": 7
        }
      ]
    },
    {
      "cell_type": "code",
      "source": [
        "mt.pi #Retorna el número Pi ---> Ej importar Pi"
      ],
      "metadata": {
        "id": "5ZAGfmBmbfYr",
        "colab": {
          "base_uri": "https://localhost:8080/"
        },
        "outputId": "35b0cec4-35d5-438a-ac6b-cf439e802fe4"
      },
      "execution_count": null,
      "outputs": [
        {
          "output_type": "execute_result",
          "data": {
            "text/plain": [
              "3.141592653589793"
            ]
          },
          "metadata": {},
          "execution_count": 8
        }
      ]
    },
    {
      "cell_type": "code",
      "source": [
        "mt.e #Retorna el número Euler"
      ],
      "metadata": {
        "id": "8WicFx46bg8D",
        "colab": {
          "base_uri": "https://localhost:8080/"
        },
        "outputId": "b4088ee4-6a77-4210-e68c-39da8a8d5dab"
      },
      "execution_count": null,
      "outputs": [
        {
          "output_type": "execute_result",
          "data": {
            "text/plain": [
              "2.718281828459045"
            ]
          },
          "metadata": {},
          "execution_count": 9
        }
      ]
    },
    {
      "cell_type": "code",
      "source": [
        "mt.sin(8)\n"
      ],
      "metadata": {
        "id": "IpRFMFX6ZxNS",
        "outputId": "bca98a91-6930-4518-913f-8c0bdfe4c43f",
        "colab": {
          "base_uri": "https://localhost:8080/"
        }
      },
      "execution_count": null,
      "outputs": [
        {
          "output_type": "execute_result",
          "data": {
            "text/plain": [
              "0.9893582466233818"
            ]
          },
          "metadata": {},
          "execution_count": 10
        }
      ]
    },
    {
      "cell_type": "code",
      "source": [
        "mt.sqrt(4)\n"
      ],
      "metadata": {
        "id": "4i_QskApansM",
        "colab": {
          "base_uri": "https://localhost:8080/"
        },
        "outputId": "539fbe57-512e-4cec-8c34-867ada056105"
      },
      "execution_count": null,
      "outputs": [
        {
          "output_type": "execute_result",
          "data": {
            "text/plain": [
              "2.0"
            ]
          },
          "metadata": {},
          "execution_count": 11
        }
      ]
    },
    {
      "cell_type": "markdown",
      "source": [
        "#Libreria Numpy\n",
        "\n",
        "NumPy es una librería de Python especializada en el cálculo numérico y el análisis de datos, especialmente para un gran volumen de datos.\n",
        "\n",
        "* [Curiosidades de Numpy](https://aprendeconalf.es/docencia/python/manual/numpy/)\n",
        "\n",
        "```\n",
        "Import Numpy as np\n",
        "```\n",
        "\n",
        "**Sintaxis**\n",
        "\n",
        "```\n",
        "np.sqrt(x)\n",
        "```\n",
        "\n"
      ],
      "metadata": {
        "id": "IcnOPfnKcILt"
      }
    },
    {
      "cell_type": "code",
      "source": [
        "import numpy as np\n",
        "\n",
        "np.sqrt(9) #----> Importar Raiz\n",
        "\n",
        "np.sin(5)\n",
        "\n",
        "np.array([1,2,3,4]) #Arreglos\n",
        "\n"
      ],
      "metadata": {
        "id": "prZAl5LMc-AW",
        "colab": {
          "base_uri": "https://localhost:8080/"
        },
        "outputId": "6ea70bc0-1ad0-40ce-9de1-9c45002ac77d"
      },
      "execution_count": null,
      "outputs": [
        {
          "output_type": "execute_result",
          "data": {
            "text/plain": [
              "array([1, 2, 3, 4])"
            ]
          },
          "metadata": {},
          "execution_count": 13
        }
      ]
    },
    {
      "cell_type": "code",
      "source": [
        "3<=5"
      ],
      "metadata": {
        "colab": {
          "base_uri": "https://localhost:8080/"
        },
        "id": "0VXRXX8S24Qh",
        "outputId": "e36550d2-45b7-470c-f512-336424f3b248"
      },
      "execution_count": null,
      "outputs": [
        {
          "output_type": "execute_result",
          "data": {
            "text/plain": [
              "True"
            ]
          },
          "metadata": {},
          "execution_count": 78
        }
      ]
    },
    {
      "cell_type": "markdown",
      "source": [
        "#Funciones ---> Crear nuevos codigos\n",
        "\n",
        "## Don't repeat Yourself  $ → $ DRY\n",
        "\n",
        "Una función te permite *crear* un bloque de código reutilizable que se puede ejecutar muchas veces dentro de tu programa\n",
        "\n",
        "**Sintaxis**\n",
        "\n",
        "En Python, una definición de función tiene las siguientes características:\n",
        "\n",
        "**PASOS PARA CREAR UNA NUEVA FUNCION**\n",
        "1. La palabra clave def\n",
        "2. Un nombre de función\n",
        "3. Paréntesis '( )', y dentro de los paréntesis lo que quiero que se ingrese, aunque los parámetros de entrada sean opcionales.\n",
        "4. Dos puntos ':'\n",
        "5. Algún bloque de código para ejecutar ----> operacion a crear\n",
        "6. Una sentencia de retorno (opcional)\n",
        "\n",
        "\n",
        "EJEMPLO\n",
        "TIPO CADENA\n",
        "```\n",
        "def suma(a,b):\n",
        "    return a+b\n",
        "```\n",
        "\n",
        "Otra Forma PARA VARIAS VARIABLES\n",
        "```\n",
        "def suma(a,b):\n",
        "  suma=a+b\n",
        "  return suma\n",
        "```\n",
        "\n"
      ],
      "metadata": {
        "id": "yRtXnGGke3kF"
      }
    },
    {
      "cell_type": "code",
      "source": [
        "def suma(x,y):\n",
        "    return x+y"
      ],
      "metadata": {
        "id": "IepbhFxYif0h"
      },
      "execution_count": null,
      "outputs": []
    },
    {
      "cell_type": "code",
      "source": [
        "suma(89,47)"
      ],
      "metadata": {
        "id": "GrPYGTfoiqkn",
        "colab": {
          "base_uri": "https://localhost:8080/"
        },
        "outputId": "ae618a81-7e7d-46dc-d35f-4d71e14763d2"
      },
      "execution_count": null,
      "outputs": [
        {
          "output_type": "execute_result",
          "data": {
            "text/plain": [
              "136"
            ]
          },
          "metadata": {},
          "execution_count": 12
        }
      ]
    },
    {
      "cell_type": "code",
      "source": [
        "#otra forma\n",
        "\n",
        "def prod(x,y):\n",
        "    prod=x*y\n",
        "    return prod"
      ],
      "metadata": {
        "id": "NxM8IMIDitTp"
      },
      "execution_count": null,
      "outputs": []
    },
    {
      "cell_type": "code",
      "source": [
        "prod(89,10)"
      ],
      "metadata": {
        "id": "_d1hlfA9jHzD",
        "colab": {
          "base_uri": "https://localhost:8080/"
        },
        "outputId": "40a59ca8-3231-47d1-ab03-3154e7db0de6"
      },
      "execution_count": null,
      "outputs": [
        {
          "output_type": "execute_result",
          "data": {
            "text/plain": [
              "890"
            ]
          },
          "metadata": {},
          "execution_count": 16
        }
      ]
    },
    {
      "cell_type": "code",
      "source": [
        "def mitad(lista):\n",
        "    mitad=[np.cos(p) for p in lista]\n",
        "    return mitad"
      ],
      "metadata": {
        "id": "naDTJ2RvEMqI"
      },
      "execution_count": null,
      "outputs": []
    },
    {
      "cell_type": "code",
      "source": [
        "import numpy as np\n",
        "\n",
        "li=[1,2,3,4,5,6]"
      ],
      "metadata": {
        "id": "z2MRYZ-PEWSa"
      },
      "execution_count": null,
      "outputs": []
    },
    {
      "cell_type": "code",
      "source": [
        "mitad(li)"
      ],
      "metadata": {
        "colab": {
          "base_uri": "https://localhost:8080/"
        },
        "id": "ImeG_27aEcBu",
        "outputId": "60bc2baa-2091-4429-c28b-9f7907a6a4c0"
      },
      "execution_count": null,
      "outputs": [
        {
          "output_type": "execute_result",
          "data": {
            "text/plain": [
              "[0.5403023058681398,\n",
              " -0.4161468365471424,\n",
              " -0.9899924966004454,\n",
              " -0.6536436208636119,\n",
              " 0.28366218546322625,\n",
              " 0.960170286650366]"
            ]
          },
          "metadata": {},
          "execution_count": 28
        }
      ]
    },
    {
      "cell_type": "markdown",
      "source": [
        "##FUNCIONES A TROZOS\n",
        "\n",
        "Sentencias if, else, elif ----> Cadena TOMA DECISIONES\n",
        "\n",
        "Una función a  trozos es una función con una  partición del dominio de $f(x)$ Estas funciones se caracterizan por condicionales en sus sentencias.\n",
        "\n",
        "###Veamos\n",
        "\n",
        "$\n",
        "f(x) =\n",
        "\\begin{cases}\n",
        "    5 & \\text{si } x \\leq 2 \\\\\n",
        "    x^2 - 6x + 10 & \\text{si } 2 < x < 5 \\\\\n",
        "    4x - 15 & \\text{si } x \\geq 5\n",
        "\\end{cases}\n",
        "$\n",
        "\n",
        "Sintaxis\n",
        "\n",
        "```\n",
        "def f(x):\n",
        "  if x<=2:\n",
        "    return 5\n",
        "elif  2<x<5:\n",
        "    return x**2-6x+10\n",
        "else:\n",
        "    return 4x-15\n",
        "```\n",
        "\n"
      ],
      "metadata": {
        "id": "PAwp1kI4y0CB"
      }
    },
    {
      "cell_type": "code",
      "source": [
        "def f(x):\n",
        "    if x <= 2:\n",
        "        return 5\n",
        "    elif 2 <  x  < 5:\n",
        "        return x**2 - 6*x + 10\n",
        "    else:\n",
        "        return 4*x - 15"
      ],
      "metadata": {
        "id": "hWq_t6V5Mn8_"
      },
      "execution_count": null,
      "outputs": []
    },
    {
      "cell_type": "code",
      "source": [
        "f(100)"
      ],
      "metadata": {
        "colab": {
          "base_uri": "https://localhost:8080/"
        },
        "id": "YeYCGamvIh9m",
        "outputId": "4fc31939-c3a7-472e-c635-af758e11ce0f"
      },
      "execution_count": null,
      "outputs": [
        {
          "output_type": "execute_result",
          "data": {
            "text/plain": [
              "385"
            ]
          },
          "metadata": {},
          "execution_count": 36
        }
      ]
    },
    {
      "cell_type": "code",
      "source": [
        "#Ejemplo: Función valor absoluto (abs: es el nombre que yo le pongo)\n",
        "\n",
        "def abs(x):\n",
        "  if x>0:\n",
        "    return x\n",
        "  else:\n",
        "    return -x"
      ],
      "metadata": {
        "id": "Ly0knPIhzpC3"
      },
      "execution_count": null,
      "outputs": []
    },
    {
      "cell_type": "code",
      "source": [
        "abs(8)"
      ],
      "metadata": {
        "id": "VIDNhIxrAVJw",
        "colab": {
          "base_uri": "https://localhost:8080/"
        },
        "outputId": "4d237e40-3aa8-4dd9-ac5a-99b2e46fb61d"
      },
      "execution_count": null,
      "outputs": [
        {
          "output_type": "execute_result",
          "data": {
            "text/plain": [
              "8"
            ]
          },
          "metadata": {},
          "execution_count": 38
        }
      ]
    },
    {
      "cell_type": "code",
      "source": [
        "abs(-70)"
      ],
      "metadata": {
        "id": "VqVK-JXb3vnx",
        "colab": {
          "base_uri": "https://localhost:8080/"
        },
        "outputId": "68f3fe4a-6ac1-4efc-c187-ca868a9c93b0"
      },
      "execution_count": null,
      "outputs": [
        {
          "output_type": "execute_result",
          "data": {
            "text/plain": [
              "70"
            ]
          },
          "metadata": {},
          "execution_count": 39
        }
      ]
    },
    {
      "cell_type": "code",
      "source": [
        "#Ejemplo\n",
        "\n",
        "def f(x):\n",
        "  if x>0:\n",
        "    return x-1\n",
        "  else:\n",
        "    return x**2\n"
      ],
      "metadata": {
        "id": "8ZK2tVBcz-B7"
      },
      "execution_count": null,
      "outputs": []
    },
    {
      "cell_type": "code",
      "source": [
        "f(0)"
      ],
      "metadata": {
        "colab": {
          "base_uri": "https://localhost:8080/"
        },
        "id": "qyIIaPFdJUtW",
        "outputId": "a905ffd7-6ffb-4296-b310-eb29e5a49032"
      },
      "execution_count": null,
      "outputs": [
        {
          "output_type": "execute_result",
          "data": {
            "text/plain": [
              "0"
            ]
          },
          "metadata": {},
          "execution_count": 43
        }
      ]
    },
    {
      "cell_type": "markdown",
      "source": [
        "## Funciones Range() y Ramdom"
      ],
      "metadata": {
        "id": "32-aTjocOVNq"
      }
    },
    {
      "cell_type": "code",
      "source": [
        "# Función Range\n"
      ],
      "metadata": {
        "colab": {
          "base_uri": "https://localhost:8080/"
        },
        "id": "memkJxu7OdX-",
        "outputId": "6a14fcdf-d1e3-4693-d877-bd18ec3b4ac1"
      },
      "execution_count": null,
      "outputs": [
        {
          "output_type": "execute_result",
          "data": {
            "text/plain": [
              "range(0, 3)"
            ]
          },
          "metadata": {},
          "execution_count": 93
        }
      ]
    },
    {
      "cell_type": "code",
      "source": [
        "#Función Random (randint, random, uniform, randrange)\n",
        "\n",
        "import random\n",
        "x=random.randint(0,10) # 0 y 9 enteros\n",
        "y=random.random() # generar flotantes entre 0  y 1\n",
        "z=random.uniform(0,10) # flotantes entre 0 y 9\n",
        "w=random.randrange(0,11,2) # valores pares entre 0 y 10 salto de 2\n",
        "x\n",
        "y\n",
        "z\n",
        "w"
      ],
      "metadata": {
        "id": "Iw317r9e0RIC",
        "colab": {
          "base_uri": "https://localhost:8080/"
        },
        "outputId": "0c935687-557c-46b6-8392-ec6418fc0fa8"
      },
      "execution_count": null,
      "outputs": [
        {
          "output_type": "execute_result",
          "data": {
            "text/plain": [
              "6"
            ]
          },
          "metadata": {},
          "execution_count": 59
        }
      ]
    },
    {
      "cell_type": "code",
      "source": [
        "##Generar una lista de Aleatorios\n",
        "lista=[random.randrange(0,201,2) for _ in range(10)]\n",
        "lista"
      ],
      "metadata": {
        "colab": {
          "base_uri": "https://localhost:8080/"
        },
        "id": "DjEUFMBoIKaP",
        "outputId": "6d7d082f-7d19-4df9-a60b-56fcef819ffd"
      },
      "execution_count": null,
      "outputs": [
        {
          "output_type": "execute_result",
          "data": {
            "text/plain": [
              "[158, 26, 22, 52, 102, 152, 10, 142, 188, 132]"
            ]
          },
          "metadata": {},
          "execution_count": 66
        }
      ]
    },
    {
      "cell_type": "code",
      "source": [],
      "metadata": {
        "colab": {
          "base_uri": "https://localhost:8080/"
        },
        "id": "543O0DWpOAAm",
        "outputId": "3cfe5aa2-ae6b-499d-800c-57172169b4b0"
      },
      "execution_count": null,
      "outputs": [
        {
          "output_type": "execute_result",
          "data": {
            "text/plain": [
              "[1, 7, 0, 9, 5, 1, 3, 7, 9, 0]"
            ]
          },
          "metadata": {},
          "execution_count": 92
        }
      ]
    },
    {
      "cell_type": "code",
      "source": [
        "for i in range(10):\n",
        "    print(i)"
      ],
      "metadata": {
        "id": "X2c8tqnZIB7Q",
        "colab": {
          "base_uri": "https://localhost:8080/"
        },
        "outputId": "8298b52c-a28f-4218-b8e5-41b5861e9209"
      },
      "execution_count": null,
      "outputs": [
        {
          "output_type": "stream",
          "name": "stdout",
          "text": [
            "0\n",
            "1\n",
            "2\n",
            "3\n",
            "4\n",
            "5\n",
            "6\n",
            "7\n",
            "8\n",
            "9\n"
          ]
        }
      ]
    },
    {
      "cell_type": "markdown",
      "source": [
        "#Taller #1 Funciones, listas y sentencias if, elif, else\n",
        "\n",
        "[Taller](https://drive.google.com/file/d/1ypA9bO5E91dkdS79gdWZABTrsDJ73loo/view?usp=sharing) Este taller debe ser entregados en grupos de Maximo 4 personas el proximo Sábado 12 de Agosto Via Intu"
      ],
      "metadata": {
        "id": "Wcrvxg3E-jQU"
      }
    },
    {
      "cell_type": "code",
      "source": [],
      "metadata": {
        "id": "V9MW_yVHPjKh"
      },
      "execution_count": null,
      "outputs": []
    }
  ]
}