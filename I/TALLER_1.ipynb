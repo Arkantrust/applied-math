{
  "cells": [
    {
      "cell_type": "markdown",
      "metadata": {
        "id": "66l9hK1zB8dn"
      },
      "source": [
        "#<font color= DEB887> **TALLER #1**\n",
        "---\n",
        "**Integrantes grupo:**\n",
        "* Mariana Agudelo\n",
        "* Juan José De la Pava\n",
        "* David Esteban Dulce\n",
        "* Rony Farid Ordónez\n",
        "---"
      ]
    },
    {
      "cell_type": "markdown",
      "metadata": {
        "id": "biNsb9M-8DVP"
      },
      "source": [
        "<font color= DEB887>*Ejercicios de escritura de fórmulas en LaTex ✌️:*\n",
        "1. Raíz:\n",
        "\n",
        "  $\\sqrt{x}$\n",
        "\n",
        "\n",
        "2. Fracción simple:\n",
        "\n",
        "  $\\frac{a}{b}$\n",
        "\n",
        "\n",
        "3. Potencia de una fracción:\n",
        "\n",
        "  $(\\frac{a}{b})^2$\n",
        "\n",
        "\n",
        "4. Pendiente de una recta:\n",
        "\n",
        "  $m = \\dfrac{{y_2}-{y_1}}{{x_2}-{x_1}}$\n",
        "\n",
        "\n",
        "5. Polinómio cuadrático:\n",
        "\n",
        "  $ax^2 + bx + c$\n",
        "\n",
        "\n",
        "6. Fórmula cuadrática:\n",
        "\n",
        "  $x = \\dfrac{-b±\\sqrt{b^2-4ac}}{2a}$\n",
        "\n",
        "\n",
        "7. Diferencia de cuadrados:\n",
        "\n",
        "  $(x-y) (x+y) = x^2 - y^2$\n",
        "\n",
        "\n",
        "8. Trinomio:\n",
        "\n",
        "  $(x^2+y)^2 = x^4 + 2x^2y + y^2$\n",
        "\n",
        "\n",
        "9. Definición de seno:\n",
        "\n",
        "  $\\sin\\theta = \\dfrac{c.opuesto}{Hipotenusa}$\n",
        "\n",
        "\n",
        "10. Distancia entre dos puntos en una recta:\n",
        "\n",
        "  $d =  \\sqrt{(x_2-x_1)^2 + (y_2-y_1)^2}$\n",
        "\n",
        "\n",
        "****\n"
      ]
    },
    {
      "cell_type": "markdown",
      "metadata": {
        "id": "910WJV5OVN7F"
      },
      "source": [
        "#<font color= DEB887> **TALLER DE OPERACIONES BASICAS**\n"
      ]
    },
    {
      "cell_type": "markdown",
      "metadata": {
        "id": "gaWyf6V4VuNi"
      },
      "source": [
        "#<font color= DEB887> - POLINOMIOS ARITMETICOS </font>\n",
        "---\n",
        "1. <br>  \n",
        ">$2 + 5 + 8 + 10 − 3 − 5 − 9 − 8 − 2 + 10$\n",
        "\n"
      ]
    },
    {
      "cell_type": "code",
      "execution_count": null,
      "metadata": {
        "colab": {
          "base_uri": "https://localhost:8080/"
        },
        "id": "1VAzUzUPVoxA",
        "outputId": "a86d19ed-2d0b-432d-8adb-c92c5dde5eb8"
      },
      "outputs": [
        {
          "output_type": "stream",
          "name": "stdout",
          "text": [
            "El resultado del ejercicio 1 es = 8\n"
          ]
        }
      ],
      "source": [
        "a = 2 + 5 + 8 + 10 + 10 -3 - 5 - 9 - 8 - 2\n",
        "print(f\"El resultado del ejercicio 1 es = {a}\" )"
      ]
    },
    {
      "cell_type": "markdown",
      "metadata": {
        "id": "IoC0ZBDvmNgo"
      },
      "source": [
        "2. <br>\n",
        ">$[-2 + 3(2-5)/3] - [(3-5+2) - 2(3-4)]$\n"
      ]
    },
    {
      "cell_type": "code",
      "execution_count": null,
      "metadata": {
        "id": "gDf9rEuXmSrN",
        "colab": {
          "base_uri": "https://localhost:8080/"
        },
        "outputId": "75fc44e1-b230-4b86-cc4d-a5e1e730f5f4"
      },
      "outputs": [
        {
          "output_type": "stream",
          "name": "stdout",
          "text": [
            "El resultado del ejercicio 2 es = -7.0\n"
          ]
        }
      ],
      "source": [
        "M = (-2 + 3*(2-5)/3) - ((3-5+2) - 2*(3-4))\n",
        "print(f\"El resultado del ejercicio 2 es = {M}\")"
      ]
    },
    {
      "cell_type": "markdown",
      "metadata": {
        "id": "DTkYxYmDme30"
      },
      "source": [
        "\n",
        "3. <br>\n",
        ">$\\frac{(30)(25)}{5} - (15)(40) + (18 - 32) + (12)(13)$"
      ]
    },
    {
      "cell_type": "code",
      "execution_count": null,
      "metadata": {
        "id": "WKrrk3NBmiSM",
        "colab": {
          "base_uri": "https://localhost:8080/"
        },
        "outputId": "1daa648a-3e1d-4551-fa2c-f44472c626f6"
      },
      "outputs": [
        {
          "output_type": "stream",
          "name": "stdout",
          "text": [
            "El resultado del ejercicio 3 es = -428.0\n"
          ]
        }
      ],
      "source": [
        "a = ((30*25)/5) - (15*40)\n",
        "b = (18-32) + (12*3)\n",
        "print(f\"El resultado del ejercicio 3 es = {a + b}\")"
      ]
    },
    {
      "cell_type": "markdown",
      "metadata": {
        "id": "AxHwgueOXTMy"
      },
      "source": [
        "#<font color= DEB887> - FRACCIONES Y SIMPLIFICACIÓN </font>\n",
        "---\n",
        "1. <br>  \n",
        "> $\\frac{15}{3} + \\frac{40}{14} - \\frac{12}{32}$"
      ]
    },
    {
      "cell_type": "code",
      "execution_count": null,
      "metadata": {
        "id": "x4OcuRIVlYz7",
        "colab": {
          "base_uri": "https://localhost:8080/"
        },
        "outputId": "11b38913-c835-4f84-ac4b-4787a001ebe8"
      },
      "outputs": [
        {
          "output_type": "stream",
          "name": "stdout",
          "text": [
            "El resultado del ejercicio 1 es = 7.482142857142858\n"
          ]
        }
      ],
      "source": [
        "a = (15/3) + (40/14) - (12/32)\n",
        "print(f\"El resultado del ejercicio 1 es = {a}\")"
      ]
    },
    {
      "cell_type": "markdown",
      "metadata": {
        "id": "WdvMnVG-lNnL"
      },
      "source": [
        "2. <br>  \n",
        "> $\\frac{16}{28} + \\frac{40}{14} - \\frac{64}{100}$\n"
      ]
    },
    {
      "cell_type": "code",
      "execution_count": null,
      "metadata": {
        "id": "bjwmrxF0ltAB",
        "colab": {
          "base_uri": "https://localhost:8080/"
        },
        "outputId": "2aede9f0-760b-4874-ffc8-43f883a83104"
      },
      "outputs": [
        {
          "output_type": "stream",
          "name": "stdout",
          "text": [
            "El resultado del ejercicio 2 es = 2.7885714285714287\n"
          ]
        }
      ],
      "source": [
        "a = (16/28) + (40/14) - (64/100)\n",
        "print(f\"El resultado del ejercicio 2 es = {a}\")"
      ]
    },
    {
      "cell_type": "markdown",
      "metadata": {
        "id": "wUnwXTtEXqcx"
      },
      "source": [
        "3. <br>\n",
        ">$\\dfrac{8−(\\dfrac{6}{2})+(3)(2)} {(\\dfrac{6}{2^2})−3}$\n"
      ]
    },
    {
      "cell_type": "code",
      "execution_count": null,
      "metadata": {
        "id": "RdCWRf0KYjVa",
        "colab": {
          "base_uri": "https://localhost:8080/"
        },
        "outputId": "f3eef7fb-9000-434a-f423-2d1b8e074cdc"
      },
      "outputs": [
        {
          "output_type": "stream",
          "name": "stdout",
          "text": [
            "El resultado del ejercicio 3 es: -7.333333333333333\n"
          ]
        }
      ],
      "source": [
        "a = ((8-(6/2))+(3*2))\n",
        "b = ((6/(2**2))-3)\n",
        "print(f\"El resultado del ejercicio 3 es: {a/b}\" )"
      ]
    },
    {
      "cell_type": "markdown",
      "metadata": {
        "id": "7vIBM8oXaC_q"
      },
      "source": [
        "#<font color= DEB887> - COMBINACIÓN DE OPERACIONES </font>\n",
        "---\n",
        "1. <br>\n",
        ">$\\dfrac{1}{5}[(\\dfrac{1}{22})^2+(\\dfrac{3}{4})^2]+\\dfrac{10}{25}[(\\dfrac{1}{2})^2+(\\dfrac{3}{4})^2]+\\dfrac{8}{40}[(\\dfrac{1}{2})^2+(\\dfrac{3}{4})^2]$\n"
      ]
    },
    {
      "cell_type": "code",
      "execution_count": null,
      "metadata": {
        "colab": {
          "base_uri": "https://localhost:8080/"
        },
        "id": "9TiMmE3kcWHz",
        "outputId": "fccabd63-b6d4-402c-a859-e50e7d451746"
      },
      "outputs": [
        {
          "output_type": "stream",
          "name": "stdout",
          "text": [
            "El resultado del primer ejercicio es: 0.6004132231404959\n"
          ]
        }
      ],
      "source": [
        "a = (( (1/5) * ( ((1/22)**2) + ((3/4)**2)) ))\n",
        "b = (( (10/25) * ( ((1/2)**2) + ((3/4)**2)) ))\n",
        "c = (( (8/40) * ( ((1/2)**2) + ((3/4)**2)) ))\n",
        "print(f\"El resultado del primer ejercicio es: {a+b+c}\")"
      ]
    },
    {
      "cell_type": "markdown",
      "metadata": {
        "id": "0lp7GeZ0mpxb"
      },
      "source": [
        "2. <br>  \n",
        ">$\\dfrac{9}{4}*(\\dfrac{8}{6}) - \\dfrac{5}{2}*(\\dfrac{20}{25}) + \\dfrac{40}{28}*(\\dfrac{16}{20})$"
      ]
    },
    {
      "cell_type": "code",
      "execution_count": null,
      "metadata": {
        "id": "hMikJ6EVmupA",
        "colab": {
          "base_uri": "https://localhost:8080/"
        },
        "outputId": "0b9eae64-11b0-457c-ef66-cf4d7df89a4b"
      },
      "outputs": [
        {
          "output_type": "stream",
          "name": "stdout",
          "text": [
            "El resultado del segundo ejercicio es: 2.1428571428571432\n"
          ]
        }
      ],
      "source": [
        "a = ((9/4)*(8/6)) - ((5/2)*(20/25)) + ((40/28)*(16/20))\n",
        "print(f\"El resultado del segundo ejercicio es: {a}\")"
      ]
    },
    {
      "cell_type": "code",
      "source": [
        "import numpy as np\n",
        "\n",
        "x = np.radians(90)\n",
        "y = np.sin(x)\n",
        "\n",
        "print(f\"{x} \\n {y}\")"
      ],
      "metadata": {
        "colab": {
          "base_uri": "https://localhost:8080/"
        },
        "id": "61gV11bS2Wej",
        "outputId": "7f96f11d-809a-4cfa-f094-2322911dae1d"
      },
      "execution_count": null,
      "outputs": [
        {
          "output_type": "stream",
          "name": "stdout",
          "text": [
            "1.5707963267948966 \n",
            " 1.0\n"
          ]
        }
      ]
    }
  ],
  "metadata": {
    "colab": {
      "collapsed_sections": [
        "66l9hK1zB8dn",
        "5JnGE28sWa60"
      ],
      "provenance": []
    },
    "kernelspec": {
      "display_name": "Python 3",
      "name": "python3"
    },
    "language_info": {
      "name": "python"
    }
  },
  "nbformat": 4,
  "nbformat_minor": 0
}