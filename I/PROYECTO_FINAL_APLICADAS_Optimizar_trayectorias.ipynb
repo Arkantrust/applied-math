{
  "nbformat": 4,
  "nbformat_minor": 0,
  "metadata": {
    "colab": {
      "provenance": []
    },
    "kernelspec": {
      "name": "python3",
      "display_name": "Python 3"
    },
    "language_info": {
      "name": "python"
    }
  },
  "cells": [
    {
      "cell_type": "markdown",
      "source": [
        "#**Proyecto Final Matemáticas Aplicadas 1**\n",
        "###*Propuesta de optimización del tiempo de espera para la ruta A14A*\n",
        "\n",
        "\n",
        "###**Índice:**\n",
        "1. Introducción\n",
        "2. Objetivo\n",
        "3. Estado del arte\n",
        "4. Fundamentación teórica\n",
        "5. Desarrollo de la propuesta\n",
        "6. Conclusiones\n",
        "\n",
        "****\n",
        "###*Integrantes:*\n",
        "\n",
        "Mariana Agudelo Salazar\n",
        "\n",
        "Juan José De La Pava\n",
        "\n",
        "David Dulce\n",
        "\n",
        "Rony Farid Ordóñez\n",
        "****"
      ],
      "metadata": {
        "id": "cESc25X6eOGR"
      }
    },
    {
      "cell_type": "markdown",
      "source": [
        "##***Introducción***\n",
        "\n",
        "\n",
        "Hoy en día, el tiempo es supremamente importante por lo que ciudades como la nuestra, Cali, deben tener un buen servicio de transporte público que funcione óptimamente. Los trabajadores, profesores y estudiantes universitarios por ejemplo, usan este servicio regularmente para dirigirse a sus lugares de trabajo o estudio. En nuestra ciudad de Cali hay una red de transporte público provista Metrocali con su Masivo Integrado de Occidente (MIO) que posee varias rutas para llevar a los usuarios a sus destinos.\n",
        "<img src= https://upload.wikimedia.org/wikipedia/commons/a/a0/BRT%2C_santiago_de_Cali_station.jpg width=\"400\" align=\"center\">\n",
        "\n",
        "Esta tarea a veces presenta inconvenientes, dado que el servicio que presta el MIO suele ser demorado, causando largos tiempos de espera para que llegue un bus. Por lo que es común observar largas filas o a veces masas de personas esperando por una ruta de transporte. En muchos casos, dependiendo de la hora y el día de la semana, ese tiempo se puede extender, incrementando significativamente la cantidad de personas en la estación, y muchas veces se crea un ambiente de malestar entre los usuarios\n",
        "\n",
        "Por eso nuestro grupo, se puso en la tarea de encontrar una posible solución que permita minimizar los tiempos de espera para que los usuarios lleguen con prontitud a sus destinos. En nuestro estudio haremos uso de las matemáticas aplicadas que nos permiten modelar la realidad con funciones usando herramientas matemáticas y computacionales basándonos en una muestra de datos de una franja de tiempo estipulada donde hay mayor flujo de usuarios que permita obtener algunas medidas de desempeño que demuestren la calidad del servicio público que presta el MIO con el propósito final de optimizar el número de buses disponibles en esta franja\n"
      ],
      "metadata": {
        "id": "hjnkz57T8G1h"
      }
    },
    {
      "cell_type": "markdown",
      "source": [
        "##***Objetivos***\n",
        "\n",
        "###Objetivo general:\n",
        "\n",
        "* Hallar el punto máximo en el que hay más pasajeros esperando en la ruta A14A del transporte público y determinar el número óptimo de buses necesarios para transportar eficientemente a todos los pasajeros, minimizando el tiempo de espera y brindando un servicio eficiente y cómodo.\n",
        "\n",
        "###Objetivos específicos:\n",
        "\n",
        "* Utilizar métodos de optimización y análisis de datos para identificar el momento del día en el que se concentra la mayor cantidad de pasajeros en la ruta A14A.\n",
        "* Determinar el número óptimo de buses necesarios para satisfacer la demanda de pasajeros y minimizar el tiempo de espera en las paradas.\n",
        "* Aplicar los conocimientos de matemáticas aplicadas, especialmente en optimización, para encontrar soluciones eficientes y prácticas.\n",
        "\n",
        "\n",
        "###Objetivos secundarios:\n",
        "\n",
        "* Implementar y desarrollar un código en python que utilice métodos de optimización para calcular el momento del día con mayor concentración de pasajeros en la ruta A14A.\n",
        "\n",
        "<img src=\"https://drive.google.com/uc?export=view&id=1b30r804rH6B--jVQ9SgQzkXnNsRAchoC\" width=\"400\" height=\"400\" align=\"justify\" >\n",
        "\n",
        "\n",
        "\n",
        "\n",
        "\n"
      ],
      "metadata": {
        "id": "4jDawoQ78WvU"
      }
    },
    {
      "cell_type": "markdown",
      "source": [
        "##***Estado del arte***\n",
        "\n",
        "En la actualidad, la optimización del tiempo de espera en el transporte público es un tema relevante en muchas ciudades alrededor del mundo. Diversos estudios e investigaciones se han llevado a cabo con el objetivo de mejorar la eficiencia de los sistemas de transporte público y reducir los tiempos de espera para los usuarios.\n",
        "\n",
        "Uno de los enfoques más comunes utilizados en la optimización del tiempo de espera es el análisis de datos y la aplicación de métodos de optimización matemática. Mediante el análisis de patrones de uso, flujos de pasajeros y variables relacionadas, es posible identificar los momentos del día en los que se concentra la mayor demanda de pasajeros y, por lo tanto, los tiempos de espera son más largos.\n",
        "\n",
        "En cuanto a la propuesta para mejorar los tiempos de espera se tomó como base fundamental el artículo publicado en la Revista Científica Ecuatoriana (H. Gavilánez et al., 2021) que hace un estudio de los tiempos de espera de los usuarios de taxis en la ciudad de Guayaquil.\n",
        "\n",
        "Además, en cuanto a la toma de datos, existen distintas técnicas de las cuales usaremos la observación y el seguimiento en línea para así poder obtener datos cuantitativos útiles para nuestro estudio. También, para comprender la satisfacción general de los usuarios seguimos el proyecto de grado de Genny Banesa Gómez de la Universidad Autónoma de Occidente donde realiza un estudio de la satisfacción de los usuarios del MIO con respecto a los tiempos de espera. Los datos que ella usa están sesgados a una parte de la población, aún así de forma generalizadora los tomaremos como relevantes para nuestro desarrollo del proyecto.\n",
        "\n",
        "\n",
        "\n",
        "\n"
      ],
      "metadata": {
        "id": "1DbhvhPu8Zg-"
      }
    },
    {
      "cell_type": "markdown",
      "source": [
        "##***Fundamentación teórica***\n",
        "\n",
        "La teoría de colas es una herramienta ampliamente utilizada en la optimización del tiempo de espera en el transporte público. Esta teoría se basa en el estudio matemático de las filas de espera y permite analizar y predecir el comportamiento de sistemas en los cuales los clientes acceden a un servicio y esperan su turno para ser atendidos por un servidor. En el contexto del transporte público, los clientes son los pasajeros y los servidores son las estaciones o paradas de autobús.\n",
        "\n",
        "Con el objetivo de mejorar el servicio de transporte en la ciudad, es importante optimizar la cantidad de autobuses en una ruta para minimizar el tiempo de espera de los pasajeros durante determinados intervalos del día. Para lograr esto, utilizaremos una función de la forma $ P(t) = a \\cdot \\sin(b \\cdot (t - c)) + d $, la cual nos permite modelar patrones de variación sinusoidal.\n",
        "\n",
        "Donde:\n",
        "\n",
        ">t: representa el tiempo en horas desde las 00:00.\n",
        "\n",
        "\n",
        ">a: ajusta la variación del número de pasajeros en la fila.\n",
        "\n",
        "\n",
        ">b: determina la repetición del ciclo de variación del número de pasajeros en la fila.\n",
        "\n",
        "\n",
        ">c: indica el inicio de la hora pico, momento en el cual se comienza a presentar un incremento rápido en la cantidad de pasajeros.\n",
        "\n",
        "\n",
        ">d: representa el número promedio de pasajeros en la fila.\n",
        "\n",
        "En este estudio, ajustaremos los valores de los parámetros $a$, $b$, $c$ y $d$ para representar de manera precisa el comportamiento de las filas en un intervalo de tiempo específico, que abarca desde las 4:00 am hasta las 2:00 pm. Para lograrlo, llevaremos a cabo un proceso de ajuste iterativo utilizando análisis gráfico y comparando los resultados con datos obtenidos a través de observaciones de la demanda de pasajeros durante dicho período.\n",
        "\n",
        "Dado que resulta difícil predecir con precisión la demanda de pasajeros a lo largo de todo el día y encontrar una función que modele el sistema de manera exacta, hemos definido un intervalo acotado entre las 4:00 am y las 2:00 pm (4, 14). De esta forma, garantizamos la relevancia y aplicabilidad de la función objetivo en el contexto de la ruta A14A.\n",
        "\n",
        "Es importante tener en cuenta las restricciones pertinentes para abordar eficientemente el problema de optimización en la ruta A14A. Estas restricciones incluyen la capacidad máxima de los autobuses, los horarios de inicio y fin del servicio, las limitaciones de tiempo de espera para los pasajeros, entre otros aspectos que influyen en la eficacia del transporte.\n",
        "\n"
      ],
      "metadata": {
        "id": "3kSNa-R88bwH"
      }
    },
    {
      "cell_type": "markdown",
      "source": [
        "##***Desarrollo de la propuesta***\n",
        "El desarrollo de la propuesta se basa en una sólida fundamentación teórica que combina conceptos de cálculo y optimización para abordar eficientemente el problema planteado en el transporte público. A continuación, se detallan los fundamentos teóricos utilizados en cada etapa del proceso.\n",
        "\n",
        "Se desarrolló la propuesta estableciendo la función senoindal objetivo $P(t) =   100 ⋅ sin(t - 5.5) + 110$, que representa la cantidad de pasajeros en función del tiempo del dia en horas y captura las fluctuaciones de la demanda a lo largo del día. La función seno es una función periódica que describe de manera adecuada las fluctuaciones y variaciones en la demanda de pasajeros a lo largo del día. Al introducir un desplazamiento horizontal y una amplificación vertical mediante los parámetros $-5.5$ y $100$, respectivamente, se ajusta la función a las características específicas de la ruta A14A del transporte público.\n",
        "\n",
        "Con base en esta función, se determinó el número óptimo de buses necesarios, considerando la capacidad de cada bus (80 pasajeros), con el objetivo de maximizar el transporte de pasajeros en la ruta A14A, minimizando el tiempo de espera y garantizando un servicio eficiente.\n",
        "\n",
        "Debido a las restricciones del horario de operación del sistema de transporte y la complejidad en la predicción del comportamiento de los pasajeros, se decidió limitar la aplicación de la función objetivo al intervalo de 4 a.m. a 2 p.m. Esta delimitación horaria refleja el horario de funcionamiento del sistema y asegura que la función objetivo se ajuste adecuadamente.\n",
        "\n",
        "Durante el proceso de modelado del problema, se consideraron variables y restricciones relevantes para abordar eficientemente la optimización. Estos elementos desempeñaron un papel crucial en la formulación del enfoque, incluyendo la cantidad de buses en la ruta, los tiempos de espera en cada parada, la capacidad máxima de los buses, los horarios de inicio y fin del servicio, así como las limitaciones de tiempo de espera para los pasajeros. Estos factores fueron considerados integralmente para buscar una solución óptima para la ruta A14A del transporte público.\n",
        "\n",
        "<img src=\"https://drive.google.com/uc?export=view&id=1TDLmfPu7_AztSb4jw1DSC_wIzephMn7A\" width=\"600\" height=\"400\" align=\"justify\" >\n",
        "\n",
        "\n",
        "Para determinar el número óptimo de buses necesarios, se empleó un enfoque basado en el análisis de los puntos críticos de la función objetivo. En primer lugar, se calculó la primera derivada de la función dividida entre el numero de pasajeros por bus y se identificaron los puntos en los que la derivada se anula. Estos puntos corresponden a los máximos y mínimos locales de la función.\n",
        "\n",
        "$$ P'(t) = \\frac{5cos(t-\\frac{11}{2})}{4}$$\n",
        "\n",
        "<img src=\"https://drive.google.com/uc?export=view&id=1mi_enTYj87FQUnZ96Z5kI_mk03sRBei1\" width=\"600\" height=\"400\" align=\"justify\" >\n",
        "\n",
        "\n",
        "Al restringir el análisis al intervalo de 4 a.m. a 2 p.m., se logró identificar el punto máximo de la función objetivo, que representa el momento en el que la cantidad de pasajeros es máxima en la ruta A14A. Este punto máximo es de particular interés, ya que indica el período del día en el que se concentra la mayor demanda de pasajeros.\n",
        "\n",
        "Además, se tomó en consideración la capacidad de los buses para determinar el número óptimo requerido en ese punto máximo. La capacidad de cada bus, establecida en 80 pasajeros, fue utilizada como referencia para calcular la cantidad adecuada de buses necesarios con el fin de transportar eficientemente a todos los pasajeros en ese momento de máxima demanda.\n",
        "\n",
        "La implementación del modelo de optimización se realizó utilizando herramientas de programación, específicamente Python, Geogebra y bibliotecas especializadas en matemáticas y optimización. Estas herramientas facilitaron la formulación del modelo matemático y su resolución eficiente.\n",
        "\n",
        "\n",
        "<img src=\"https://drive.google.com/uc?export=view&id=1uRXv0BX3cnfDmBXhBC7T3Hu8qftrdJTp\" width=\"600\" height=\"400\" align=\"justify\" >\n"
      ],
      "metadata": {
        "id": "QIt-ymHh8fGH"
      }
    },
    {
      "cell_type": "code",
      "source": [
        "#@title Implementación en Python para la optimización de la función\n",
        "\n",
        "import math as mt\n",
        "import sympy as sp\n",
        "\n",
        "# Definir la variable simbólica\n",
        "t = sp.Symbol('t')\n",
        "\n",
        "# Definir la función objetivo\n",
        "P = 100 * sp.sin(t - 5.5) + 110\n",
        "f = P / 80\n",
        "\n",
        "# Derivar la función objetivo\n",
        "df = sp.diff(f, t)\n",
        "\n",
        "# Encontrar los puntos críticos (donde la derivada es cero o indefinida)\n",
        "puntosCriticos = sp.solve(df, t)\n",
        "\n",
        "# Filtrar los puntos críticos dentro del horario de operación y permitir más puntos\n",
        "puntosValidos = [p for p in puntosCriticos if 4 <= p <= 14]\n",
        "\n",
        "# Evaluar la función objetivo en los puntos máximos\n",
        "cantidadOptimaBuses1 = f.subs(t, puntosValidos[0])\n",
        "\n",
        "# Encontrar el segundo maximo del siguiente periodo de la función\n",
        "segundoMaximo = ((puntosValidos[1] - puntosValidos[0])*2) + puntosValidos[0]\n",
        "\n",
        "# Obtener la optima cantidad de buses en el segundo máximo\n",
        "cantidadOptimaBuses2 = f.subs(t, segundoMaximo)\n",
        "\n",
        "# Imprimir las horas en las que la cantidad de pasajeros es máxima y el número óptimo de autobuses\n",
        "print(\"Horas en que la cantidad de pasajeros es máxima:\", mt.floor(puntosValidos[0]), \": 00 H y\", mt.floor(segundoMaximo), \": 00 H .\")\n",
        "print(\"Número óptimo de autobuses:\", mt.ceil(cantidadOptimaBuses1), \"autobuses y\", mt.ceil(cantidadOptimaBuses2), \"autobuses.\")"
      ],
      "metadata": {
        "colab": {
          "base_uri": "https://localhost:8080/"
        },
        "id": "jk4fpJ19QB1M",
        "outputId": "bc75f00f-7d25-4063-f17a-1edac25a6518"
      },
      "execution_count": null,
      "outputs": [
        {
          "output_type": "stream",
          "name": "stdout",
          "text": [
            "Horas en que la cantidad de pasajeros es máxima: 7 : 00 H y 13 : 00 H .\n",
            "Número óptimo de autobuses: 3 autobuses y 3 autobuses.\n"
          ]
        }
      ]
    },
    {
      "cell_type": "markdown",
      "source": [
        "##***Conclusiones***\n",
        "\n",
        "El estudio realizado para optimizar una ruta de bus, específicamente la ruta A14A del transporte público en Cali, ha permitido obtener varias conclusiones importantes.\n",
        "\n",
        "* El análisis de datos y la aplicación de métodos de optimización matemática son herramientas eficaces para abordar el problema de optimización de una ruta de bus. Estas técnicas permiten identificar los momentos del día en los que se concentra la mayor demanda de pasajeros y determinar el número óptimo de buses necesarios para satisfacer esa demanda.\n",
        "\n",
        "* La capacidad de los buses es un factor determinante en la determinación del número óptimo de buses necesarios. En este caso, se estableció una capacidad de 80 pasajeros por bus, y se utilizó esta referencia para calcular la cantidad adecuada de buses requeridos en el punto máximo de demanda.\n",
        "\n",
        "* La implementación de un modelo de optimización mediante programación en Python y el uso de herramientas especializadas en matemáticas y optimización, como Geogebra, facilita la formulación del modelo matemático y su resolución eficiente. Estas herramientas permiten obtener soluciones rápidas y precisas, lo cual es fundamental para abordar problemas de optimización en sistemas de transporte.\n",
        "\n",
        "* Tener un sistema de transporte bien optimizado influye positivamente en la satisfacción de los usuarios y esto a la vez, en el uso correcto y recurrente del servicio público.\n",
        "\n",
        "Aprendizajes y Reflexiones:\n",
        "\n",
        "* El transporte público es un servicio vital en las ciudades y su optimización es crucial para mejorar la calidad de vida de los ciudadanos. La aplicación de técnicas matemáticas y de optimización puede contribuir significativamente a la mejora de estos sistemas.\n",
        "\n",
        "* La colaboración interdisciplinaria es clave en proyectos de esta naturaleza. La combinación de conocimientos en matemáticas, transporte público y programación permitió abordar el problema desde diferentes perspectivas y obtener soluciones más completas.\n",
        "\n",
        "* La comunicación efectiva de los resultados y conclusiones es esencial para que los hallazgos del proyecto tengan un impacto real. Presentar las conclusiones de manera clara y concisa, utilizando un lenguaje accesible para diferentes audiencias, facilita la comprensión y la aplicación de los resultados obtenidos.\n",
        "\n"
      ],
      "metadata": {
        "id": "be61VQr08h98"
      }
    },
    {
      "cell_type": "markdown",
      "source": [
        "##***Bibliografía***\n",
        "\n",
        "* Gavilánez, H., Peña, I. E. N., & Yaguar, E. A. (2021). Propuesta de mejora para reducir los tiempos de espera mediante un modelo Matemático-Computacional de Líneas de Espera. Ecuadorian Science Journal, 5(2), 83–99. https://doi.org/10.46480/esj.5.2.124\n",
        "\n",
        "* Ruta A14A: horarios, paradas y mapas - Kr 122 Entre Cl 12 Y 6‎→Universidades A2 (Actualizado). (n.d.). https://moovitapp.com/index/es-419/transporte_p%C3%BAblico-line-A14A-Cali-1462-11470-490974-0#:~:text=A14A(MIO),est%C3%A1%20operativa%20los%20d%C3%ADas%20h%C3%A1biles\n",
        "\n",
        "\n",
        "* Ludeña, J. A. (2022). Teoría de colas. Economipedia. https://economipedia.com/definiciones/teoria-de-colas.html\n",
        "\n",
        "* SafetyCulture. (2023, April 3). Técnicas de recolección de datos - Una guía | SafetyCulture. https://safetyculture.com/es/temas/recoleccion-de-datos/tecnicas-de-recoleccion-de-datos/\n",
        "\n",
        "* Gómez, G. (2020). Análisis de la demanda de los usuarios del transporte masivo MIO en la estación calipso y barrios periféricos de la ciudad de cali [Tesis]. Universidad Autónoma de Occidente."
      ],
      "metadata": {
        "id": "T_mwGk-YOdCB"
      }
    }
  ]
}