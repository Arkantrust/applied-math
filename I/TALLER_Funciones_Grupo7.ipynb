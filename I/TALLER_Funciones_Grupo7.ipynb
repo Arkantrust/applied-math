{
  "cells": [
    {
      "cell_type": "markdown",
      "metadata": {
        "id": "66l9hK1zB8dn"
      },
      "source": [
        "#**TALLER  LISTAS, FUNCIONES SENTENCIAS IF ELSE ELIF**\n",
        "---\n",
        "\n",
        "**Integrantes grupo:**\n",
        "\n",
        "* Mariana Agudelo\n",
        "* Juan José De la Pava\n",
        "* David Esteban Dulce\n",
        "* Rony Farid Ordónez\n",
        "---\n",
        "\n",
        "> Indented block\n",
        "\n"
      ]
    },
    {
      "cell_type": "markdown",
      "metadata": {
        "id": "910WJV5OVN7F"
      },
      "source": [
        "#<font color= DEB887> **TALLER DE FUNCIONES, LISTAS Y TUPLAS**\n",
        "---\n"
      ]
    },
    {
      "cell_type": "code",
      "source": [
        "import numpy as np\n",
        "import math as math"
      ],
      "metadata": {
        "id": "HgzQ7Yrq-PKO"
      },
      "execution_count": null,
      "outputs": []
    },
    {
      "cell_type": "markdown",
      "metadata": {
        "id": "gaWyf6V4VuNi"
      },
      "source": [
        "#<font color= DEB887> PUNTO 1 </font>\n",
        "---\n",
        "\n",
        "En diferentes listas [L1, L2, L3...] almacene las asignaturas que cada uno de los 4 integrantes\n",
        "del grupo tienen matriculados este semestre. Una vez creadas las listas de cada uno, cree\n",
        "una lista Lf que concatene las listas de todos juntos. Posteriormente elimine, usando las\n",
        "funciones de listas, aquellas asignaturas repetidas.\n"
      ]
    },
    {
      "cell_type": "code",
      "source": [
        "# Definimos las materias de cada uno\n",
        "\n",
        "david = ['APO I', 'Aplicadas I', 'Economía', 'Sistemas TIC', 'COE II', 'Biotecnología', 'IngeSoft I', 'Excel']\n",
        "juan = [\"Francés\", \"Aplicadas I\", \"COE II\", \"APO I\", \"IngeSoft I\", \"Economía\", \"Electiva Río Pance\"]\n",
        "rony = [\"Aplicadas I\", \"Inglés 3\", \"APO I\", \"IngeSoft I\", \"COE II\", \"Economía\", \"Biotecnología\"]\n",
        "mariana = [\"Aplicadas I\", \"Portugués\", \"APO I\", \"IngeSoft I\", \"COE II\", \"Economía\", \"Química Sabores\"]\n",
        "materias = [] #La lista de las materias sin que haya alguna repetida\n",
        "Lf=[david+juan+rony+mariana]"
      ],
      "metadata": {
        "id": "XhfFnDBv-cCs"
      },
      "execution_count": null,
      "outputs": []
    },
    {
      "cell_type": "code",
      "source": [
        "materias=np.unique(Lf) #Usando las funciones de listas, separamos quellas asignaturas repetidas\n",
        "\n",
        "print(\"Las materias de todos: \", Lf , \"\\n\") #Lista con las materias que se repiten\n",
        "print(\"Materias sin repetir:\", materias) #La lista de las materias sin que haya alguna repetida"
      ],
      "metadata": {
        "id": "Duj4tTeRAsdc"
      },
      "execution_count": null,
      "outputs": []
    },
    {
      "cell_type": "markdown",
      "source": [
        "#<font color= DEB887> PUNTO 2 </font>\n",
        "---\n",
        "\n",
        "Escribir un programa que almacene las asignaturas vistas el semestre pasado en una lista,\n",
        "pregunte al usuario la nota que ha sacado en cada asignatura y elimine de la lista las\n",
        "asignaturas aprobadas pero que estén por debajo de 3,5 . Al final el programa debe mostrar\n",
        "un mensaje que diga:\n",
        "*Su asignatura fue aprobada pero debe asistir a un plan de mejoramiento*\n"
      ],
      "metadata": {
        "id": "_90KqmYiIULN"
      }
    },
    {
      "cell_type": "code",
      "source": [
        "cantAsig = int(input(\"Ingresa la cantidad de asignaturas que viste el anterior semestre: \"))\n",
        "Asignaturas = []  # La lista que guardará el nombre de cada asignatura ingresada\n",
        "Notas = []  # La lista que guardará la nota que sacó en la respectiva asignatura\n",
        "\n",
        "for i in range(cantAsig):\n",
        "    Asignaturas.append(input((f\"\\nAsignatura {i+1}: \")))# Pide la asignatura al usuario\n",
        "    Notas.append(float(input(\"Nota: \")))  # Pide la nota de esa asignatura\n",
        "\n",
        "for i in range(len(Asignaturas)-1, -1, -1): # Identificar cuales asignaturas fueron aprobadas debajo de 3,5\n",
        "    if Notas[i] >= 3.0 and Notas[i] < 3.5:\n",
        "        print(f\"\\nSu asignatura {(Asignaturas[i])} fue aprobada pero debe asistir a un plan de mejoramiento :)\")\n",
        "        Asignaturas.pop(i) # Eliminar la asignatura\n",
        "        Notas.pop(i)  # Eliminar la nota de esa asignatura"
      ],
      "metadata": {
        "id": "U3B-YT7MG_Fx"
      },
      "execution_count": null,
      "outputs": []
    },
    {
      "cell_type": "markdown",
      "source": [
        "#<font color= DEB887> PUNTO 3 </font>\n",
        "---\n",
        "Escribir una función que reciba una muestra de números en una lista y devuelva otra lista\n",
        "con sus cuadrados. Llame a esta función cua()\n"
      ],
      "metadata": {
        "id": "Dru68J5fIV5B"
      }
    },
    {
      "cell_type": "code",
      "source": [
        "def cua(lista: list) -> list:\n",
        "    sqrdList = []\n",
        "    while len(lista) != 0:\n",
        "        sqrdNum = float(lista[0]**2)\n",
        "        sqrdList.append(sqrdNum)\n",
        "        lista.remove(lista[0])\n",
        "    return sqrdList\n",
        "\n",
        "iteraciones = int(input(\"Cuantos numeros quieres? \"))\n",
        "\n",
        "numList = []\n",
        "\n",
        "for i in range(iteraciones):\n",
        "    num = float(input(f\"Número {i+1} :\"))\n",
        "    numList.append(num)\n",
        "\n",
        "print(f\"\\nEsta es tu lista: \\n{numList}\\n\")\n",
        "\n",
        "sqrdNumList = cua(numList)\n",
        "\n",
        "print(f\"Esta es la lista de cuadrados: \\n{sqrdNumList}\")"
      ],
      "metadata": {
        "id": "VrlUpZBnIbbq",
        "colab": {
          "base_uri": "https://localhost:8080/"
        },
        "outputId": "58b8a7ad-578e-402d-e1c3-c680bf68846d"
      },
      "execution_count": null,
      "outputs": [
        {
          "output_type": "stream",
          "name": "stdout",
          "text": [
            "Cuantos numeros quieres? 5\n",
            "Número 1 :1\n",
            "Número 2 :2\n",
            "Número 3 :3\n",
            "Número 4 :4\n",
            "Número 5 :5\n",
            "\n",
            "Esta es tu lista: \n",
            "[1.0, 2.0, 3.0, 4.0, 5.0]\n",
            "\n",
            "Esta es la lista de cuadrados: \n",
            "[1.0, 4.0, 9.0, 16.0, 25.0]\n"
          ]
        }
      ]
    },
    {
      "cell_type": "markdown",
      "source": [
        "#<font color= DEB887> PUNTO 4 </font>\n",
        "---\n",
        "Escriba en Python las siguientes funciones a Trozos\n",
        "\n",
        "a.\n",
        "\n",
        "$$f(x)=\\left\\{\\begin{matrix}\n",
        "x+2&si&x\\leq -3  & \\\\ -x &si&  -3< x< 0\n",
        "& \\\\ 2 &si& x\\geq 0\n",
        "\\end{matrix}\\right.$$\n",
        "\n",
        "b.\n",
        "\n",
        "$$g(x)=\\left\\{\\begin{matrix}\n",
        "a-x^{2}&si&x<0  & \\\\ 2 &si&  0\\leq x\\leq 1\n",
        "& \\\\ x^{2}-2x+b &si& x> 1\n",
        "\\end{matrix}\\right.$$\n"
      ],
      "metadata": {
        "id": "t-p50M2HIbwl"
      }
    },
    {
      "cell_type": "code",
      "source": [
        "def f(x): #Funcion numero 1\n",
        "    if x <= -3:\n",
        "        return x + 2\n",
        "    elif x > -3 and x < 0:\n",
        "        return -x\n",
        "    else:\n",
        "        x = 2\n",
        "        return x\n",
        "\n",
        "\n",
        "def g(x): #Funcion numero 2\n",
        "    a = float(input(\"Ingrese el numero a: \"))\n",
        "    b = float(input(\"Ingrese el numero b: \"))\n",
        "    if x < 0:\n",
        "        return a - (x**2)\n",
        "    elif x >= 0 and x <= 1:\n",
        "        x = 2\n",
        "        return x\n",
        "    else:\n",
        "        return (x**2) - (2*x) + b\n",
        "\n",
        "#Codigo para poder utilizar las funciones (Extra a los requerimientos.)\n",
        "\n",
        "while True:\n",
        "    opcion = input(\"Que funcion desea utilizar? \\n 1. f(x) \\n 2. g(x)\\n\")\n",
        "    if opcion not in ['1', '2']:\n",
        "        print(\"Opcion invalida\\n\")\n",
        "        continue\n",
        "    break\n",
        "opcion = int(opcion)\n",
        "\n",
        "if opcion == 1:\n",
        "    x  = float(input(\"Ingrese un numero para ser evaluado por la funcion: \"))\n",
        "    print(f\"El numero {x} evaluado por la funcion f(x) es igual a: {f(x)}\")\n",
        "\n",
        "\n",
        "elif opcion == 2:\n",
        "    x  = float(input(\"Ingrese un numero para ser evaluado por la funcion: \"))\n",
        "    print(f\"El numero {x} evaluado por la funcion g(x) es igual a: {g(x)}\")\n"
      ],
      "metadata": {
        "id": "n41Mdy37JDdK"
      },
      "execution_count": null,
      "outputs": []
    },
    {
      "cell_type": "markdown",
      "source": [
        "#<font color= DEB887> PUNTO 5 </font>\n",
        "---\n",
        "\n",
        "Para cada una de las funciones dadas a continuación, despeje la variable indicada y luego\n",
        "escriba la función despejada en LaTex\n",
        "\n",
        "\n",
        "1. Área lateral de un cilindro $$ A=2πrg $$\n",
        "    \n",
        "    Despejar: r\n",
        "$$ r=\\frac{A}{2\\pi g} $$\n",
        "\n",
        "\n",
        "---\n",
        "\n",
        "2. Volumen del cono $$ V=\\frac{A_B⋅h}{3} $$\n",
        "    \n",
        "    Despejar: h\n",
        "\n",
        "$$ h=\\frac{3V}{A_B} $$\n",
        "\n",
        "\n",
        "---\n",
        "\n",
        "3. Volumen de la esfera $$ V=\\frac{4}{3}⋅π⋅r^3 $$\n",
        "    \n",
        "    Despejar: r\n",
        "\n",
        "$$ r={\\sqrt[3]\\frac{3V}{4π}} $$\n",
        "\n",
        "\n",
        "---\n",
        ">4. Área del trapecio $$ A=\\frac{B+b}{2}⋅h $$\n",
        "    \n",
        "    Despejar: h\n",
        "\n",
        "$$ h=\\frac{2A}{B+b} $$\n",
        "\n",
        "---\n",
        "\n",
        "5. Intensidad eléctrica $$ I=\\frac{q}{t} $$\n",
        "    \n",
        "    Despejar: t\n",
        "\n",
        "$$ t=\\frac{q}{I} $$\n",
        "\n",
        "---\n",
        "\n",
        "6. Ley de Ohm $$ I=\\frac{V}{R} $$\n",
        "    \n",
        "    Despejar: R\n",
        "\n",
        "$$ R=\\frac{V}{I} $$\n",
        "\n",
        "\n",
        "---\n",
        "\n",
        "7. Energía eléctrica $$ E=\\frac{V^2}{R}⋅t $$\n",
        "    \n",
        "    Despejar: t\n",
        "\n",
        "$$ t=\\frac{E⋅R}{V^2} $$\n",
        "\n",
        "\n",
        "---\n",
        "\n",
        "8. Resistencias en pararlelo $$ \\frac{1}{R}=\\frac{1}{R_1}+\\frac{1}{R_2} $$\n",
        "    \n",
        "    Despejar: R\n",
        "\n",
        "$$ R=\\frac{R_1⋅R_2}{R_1+R_2} $$\n",
        "\n",
        "\n",
        "---\n",
        "\n",
        "9. Ecuacion gases perfectos $$ \\frac{P_0V_0}{T_0}=\\frac{P_fV_f}{T_f} $$\n",
        "    \n",
        "    Despejar: P_f\n",
        "\n",
        "$$ P_f=\\frac{P_0V_0T_f}{T_0V_f} $$\n",
        "\n",
        "\n",
        "---\n",
        "\n",
        "10. Intensidad eléctrica $$ I=\\frac{V_A-V_B}{R} $$\n",
        "    \n",
        "    Despejar: V_B\n",
        "\n",
        "$$ V_B=V_A-IR $$\n",
        "\n"
      ],
      "metadata": {
        "id": "I35sG1gSJD6t"
      }
    }
  ],
  "metadata": {
    "colab": {
      "provenance": []
    },
    "kernelspec": {
      "display_name": "Python 3",
      "name": "python3"
    },
    "language_info": {
      "name": "python"
    }
  },
  "nbformat": 4,
  "nbformat_minor": 0
}