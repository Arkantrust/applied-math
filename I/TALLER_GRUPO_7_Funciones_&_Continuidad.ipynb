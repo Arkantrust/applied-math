{
  "nbformat": 4,
  "nbformat_minor": 0,
  "metadata": {
    "colab": {
      "provenance": [],
      "collapsed_sections": [
        "Th8zbEFedrmH"
      ]
    },
    "kernelspec": {
      "name": "python3",
      "display_name": "Python 3"
    },
    "language_info": {
      "name": "python"
    }
  },
  "cells": [
    {
      "cell_type": "markdown",
      "source": [
        "#<font color= 20B2AA> **FUNCIONES y CONTINUIDAD**\n",
        "---\n",
        "**Grupo 7:**\n",
        "* Mariana Agudelo\n",
        "* Juan José De la Pava\n",
        "* David Esteban Dulce\n",
        "* Rony Farid Ordoñez\n",
        "---\n"
      ],
      "metadata": {
        "id": "cYnRtIfmbZ55"
      }
    },
    {
      "cell_type": "markdown",
      "source": [
        "#1."
      ],
      "metadata": {
        "id": "H9pTyn40dovf"
      }
    },
    {
      "cell_type": "markdown",
      "source": [
        "##a)\n",
        "\n",
        "R) SI es continua\n",
        "\n",
        "* $f(2) = 6 → ∃$\n",
        "* $lim_{t→2} f(t) =lim_{t→2} 3t^2 - 6 = 6 \\rightarrow ∃$\n",
        "* $f(2) = lim_{t→2}f(t)$\n",
        "* $D = \\left(-\\infty \\:,\\:\\infty \\:\\right)$"
      ],
      "metadata": {
        "id": "-t7n1NHWgokZ"
      }
    },
    {
      "cell_type": "markdown",
      "source": [
        "##b)\n",
        "\n",
        "Es continua\n",
        "\n",
        "- $f(17) ∃$\n",
        "\n",
        "- $Lim_{x→17} f(x) ∃$\n",
        "\n",
        "- $Lim_{x→17} f(x) = f(17)$\n"
      ],
      "metadata": {
        "id": "_UXo4xQqeArp"
      }
    },
    {
      "cell_type": "markdown",
      "source": [
        "##c)\n",
        "* $f(x) = \\frac{2x+5}{x-16} \\  X=16$\n",
        "* La funcion no es continua cuando x = 16 debido a que:\n",
        "* $\\frac{2x+5}{(16)-16}$\n",
        "* La funcion se divide por cero y la funcion se indetermina\n",
        "\n",
        "Ademas\n",
        "\n",
        "$lim_{t→16} f(t) =lim_{t→16} \\ \\frac{2x+5}{x-16} = IND \\rightarrow$ *No existe*  Debido a que al acercarnos al limite por la izquierda y por la derecha los infinitos toman diferentes signos dando -∞ y +∞"
      ],
      "metadata": {
        "id": "UtwLgEYFjDJB"
      }
    },
    {
      "cell_type": "markdown",
      "source": [
        "##d)\n",
        "\n",
        "$$ h(s) = \\frac {s^2-1}{s+1},  s = 1 $$\n",
        "$$ h(1) = \\frac {(1)^2-1}{(1)+1} $$\n",
        "$$ h(1) = \\frac {1-1}{2} $$\n",
        "$$ h(1) = \\frac {0}{2} $$\n",
        "$$ h(1) = 0 $$"
      ],
      "metadata": {
        "id": "sKIsRRi4jHdI"
      }
    },
    {
      "cell_type": "markdown",
      "source": [
        "$ h(s) $ es continua en $ s = 1 $, porque:\n",
        "1. $ h(1) = 0 $\n",
        "2. $ lim_{s \\rightarrow 1} h(1) = 0 $\n",
        "3. $ lim_{s \\rightarrow 1} h(s) = 0 \\land h(1) = 0 $"
      ],
      "metadata": {
        "id": "H3m9DIkS7uDl"
      }
    },
    {
      "cell_type": "markdown",
      "source": [
        "##e)\n",
        "\n",
        "R) NO es continua\n",
        "\n",
        "* $h(-1) = \\frac{0}{0} → ∄$\n",
        "* $lim_{s→(-1)} h(s) =lim_{s→(-1)} \\frac{s^2 - 1}{s+1} =$\n",
        "\n",
        "  $= lim_{s→(-1)}\\frac{(s+1)(s-1)}{(s+1)}= -2 :.  ∃$\n",
        "\n",
        "* $h(-1) \\neq lim_{s→(-1)}h(s)$\n",
        "* $D = \\left(-\\infty \\:, -1) ∪ (-1\\:, \\infty \\:\\right)$"
      ],
      "metadata": {
        "id": "SEgX6T9NjJdv"
      }
    },
    {
      "cell_type": "markdown",
      "source": [
        "#2.\n"
      ],
      "metadata": {
        "id": "NFk6JXnYdpsm"
      }
    },
    {
      "cell_type": "markdown",
      "source": [
        "Es continua en $ t = 2$\n",
        "\n",
        "- $ g(2) ∃ $\n",
        "\n",
        "- $ Lim_{t→2}g(t) ∃ $\n",
        "\n",
        "- $ Lim_{t→2}g(t) = g(2) $"
      ],
      "metadata": {
        "id": "Vor7vDQwlg9w"
      }
    },
    {
      "cell_type": "markdown",
      "source": [
        "#3."
      ],
      "metadata": {
        "id": "yyHik-d6dqSd"
      }
    },
    {
      "cell_type": "markdown",
      "source": [
        "##a)\n",
        "* $g(x) = 4x^{23} - x^{18} + 16x - 3$\n",
        "* Al remplazar cualquier numero de la funcion las 3 condiciones para que la funcion sea continua se cumplen.\n",
        "* Ademas la funcion no se esta dividiendo por lo que ningun numero indeterminara la funcion\n",
        "* Dominio : $(-∞,∞)$\n",
        "> Todos los g(x) existen\n",
        "\n",
        "**La funcion es continua**"
      ],
      "metadata": {
        "id": "XngaSO3eNSbG"
      }
    },
    {
      "cell_type": "markdown",
      "source": [
        "##b)\n",
        "#### $$ f(u) = \\frac {8}{u^2 - 4} $$"
      ],
      "metadata": {
        "id": "LqH_2B_YNXh5"
      }
    },
    {
      "cell_type": "markdown",
      "source": [
        "$ f(u) $ no es continua porque:\n",
        "\n",
        "$ u \\ne \\pm 2 $\n",
        "\n",
        "$ f(u) = \\nexists \\pm 2 $\n",
        "\n",
        "Ademas, es una discontinuidad asintotica debido a que:\n",
        "\n",
        "$ lim_{s \\rightarrow \\infty} f(u) = \\infty \\land u \\ne \\pm 2$"
      ],
      "metadata": {
        "id": "obKxw34e757u"
      }
    },
    {
      "cell_type": "markdown",
      "source": [
        "##c)\n",
        "\n",
        "R) $g(t)=32t-\\frac{8}{t} $\n",
        "\n",
        "\n",
        "Es una función fraccionaria\n",
        "\n",
        "\n",
        "→ $g(t)$ es continua para todos los valores de $t$ que pertenezcan a los reales menos en $t=0$. Por lo tanto, NO es continua."
      ],
      "metadata": {
        "id": "QIheVUSkNfB6"
      }
    },
    {
      "cell_type": "markdown",
      "source": [
        "##d)\n",
        "No es continua, por que:\n",
        "\n",
        "- $ f(u) ,  u \\: \\:𝜖 \\{-2,2\\}\\:→ ∄ $\n",
        "\n",
        "Dominio $f(u)$: $ u ϵ ℝ - \\{-2,2\\} $\n"
      ],
      "metadata": {
        "id": "COK6bCPSNfaw"
      }
    },
    {
      "cell_type": "markdown",
      "source": [
        "##e)\n",
        "* $f(t) = \\sqrt{t^2 - 4}$\n",
        "\n",
        "Para que una funcion dentro de una raiz exista, se la solucion al remplazar cualquier numero dentro de la raiz debe ser positivo.\n",
        "* Al remplazar cualquier numero entre -2 y 2 por ejemplo 1, la funcion se vuelve una raiz negativa por lo que no es continua en ese tramo\n",
        "*Dominio : $(-∞,-2] [2,∞)$\n",
        "\n",
        "**La función no es continua**"
      ],
      "metadata": {
        "id": "NfrzYGY7Nfj8"
      }
    },
    {
      "cell_type": "markdown",
      "source": [
        "##f)\n",
        "##### $$ g(x) = \\frac {1}{\\sqrt {9-x^2}} $$"
      ],
      "metadata": {
        "id": "l9LzDqGYNgFr"
      }
    },
    {
      "cell_type": "markdown",
      "source": [
        "Dominio: $ -3 \\lt x \\lt 3 $\n",
        "\n",
        "$ g(x) $ es una discontinuidad removible porque para cada x en el dominio se cumple que:\n",
        "\n",
        "$ lim_{x \\rightarrow \\infty} = 0 \\land f(x) \\ne 0 $"
      ],
      "metadata": {
        "id": "-scHXFQd8AKn"
      }
    },
    {
      "cell_type": "markdown",
      "source": [
        "#4.\n",
        "$$f(x)= \\left\\{ \\begin{array}{lcc}\n",
        "             3x+2 &   si  & x <1 \\\\\n",
        "             \\\\ 3x+1 &  si & x\\geq 1 \\\\\n",
        "                          \\end{array}\n",
        "   \\right.$$\n",
        "\n",
        "→ Intérvalos:\n",
        "\n",
        "* Para $3x+2: \\: (-∞\\:,1)$\n",
        "* Para $3x+1: \\: [\\:1\\:, ∞)$\n",
        "\n",
        "$:. D= (-∞\\:,1)∪[\\:1\\:, ∞)$\n",
        "\n",
        "→ Evaluamos los límites:\n",
        "\n",
        "* Por izquierda:\n",
        "\n",
        "  $lim_{x→1^-}f(x)=\\: lim_{x→1^-}(3x+2)=5 \\: :. ∃$\n",
        "\n",
        "* Por derecha:\n",
        "\n",
        "  $lim_{x→1^+}f(x)=\\: lim_{x→1^+}(3x+1)=4 \\: :. ∃$\n",
        "\n",
        "→ Conclusión:\n",
        "\n",
        "  * $f(x)\\: $ es continua en el intérvalo $(-∞\\:, ∞)$. Es decir, en el conjunto de números reales\n",
        "\n"
      ],
      "metadata": {
        "id": "IsvteGyTdq3p"
      }
    },
    {
      "cell_type": "markdown",
      "source": [
        "#5."
      ],
      "metadata": {
        "id": "Th8zbEFedrmH"
      }
    },
    {
      "cell_type": "markdown",
      "source": [
        "No es continua  en $z = -1$ porque:\n",
        "\n",
        "$ Lim^-_{x→-1}h(z) \\neq lim^+_{x→-1}h(z)  $"
      ],
      "metadata": {
        "id": "vrTjge7BRXbp"
      }
    },
    {
      "cell_type": "markdown",
      "source": [
        "# 6\n",
        "*Funcion original con una discontinuidad en t = 4 : $f(t) = \\frac{t^2-7t+12}{t-5}$\n",
        "\n",
        "*Factorizamos el nominador: $\\frac{(t-4)(t-3)}{t-4}$ y cancelamos el $t-4$\n",
        "\n",
        "*Nueva funcion con la discontinuidad removida: $g(t) = (t-3)$"
      ],
      "metadata": {
        "id": "hBBedyJVdyhu"
      }
    },
    {
      "cell_type": "markdown",
      "source": [
        "#7\n",
        "#### $$ f(t) = \\frac {t^2 - 7t + 12}{t - 5} $$"
      ],
      "metadata": {
        "id": "oL10bhfLdzb4"
      }
    },
    {
      "cell_type": "markdown",
      "source": [
        "$ f(5) $ es una discontinuidad removible ya que $ f(5) = - \\frac {2}{0} = ind \\land lim_{t \\rightarrow \\infty} f(t) = \\infty/\\infty = ind \\rightarrow f(5) \\ne lim_{t \\rightarrow \\infty} f(t) $\n",
        "\n",
        "Esta es una funcion en la que $ f(5) = \\exists$\n",
        "\n",
        "$ f(t) = \\begin{cases} \\frac{t^2-7t+12}{t-5}, & t \\ne 5 \\\\ -3, & t=5 \\end{cases} $\n",
        "\n",
        "Dominio = $ -\\infty < t < \\infty $"
      ],
      "metadata": {
        "id": "iYvt4mGi80ly"
      }
    },
    {
      "cell_type": "markdown",
      "source": [
        "#8\n",
        "\n",
        "¿Por qué $g(x)= x^2sin(x^2+1)$ es continua en $(-∞\\:, ∞)$?\n",
        "\n",
        "→$\\:g(x)$ está compuesta por 3 funciones diferentes:\n",
        "* $f(x)=x^2$ → Es continua porque es una función polinómica\n",
        "* $h(x)=sin(x)$ → Es continua porque es una función senoidal\n",
        "* $v(x)=x^2 + 1$ → Es continua porque es una función polinómica\n",
        "\n",
        "\n",
        "Tener en cuenta: la composición de funciones continuas es continua, y la multiplicación de funciones continuas es continua.\n",
        "\n",
        "$:.\\:$\n",
        "* $r(x)=h(v(x))=sin(x^2 +1)$ → Es continua\n",
        "* $g(x)=f(x)*r(x)= x^2sin(x^2+1)$ → **ES CONTINUA**\n",
        "\n",
        "\n"
      ],
      "metadata": {
        "id": "a5m_w_1ud0Q4"
      }
    },
    {
      "cell_type": "markdown",
      "source": [
        "#9\n",
        "\n",
        "\n",
        "$ H(t) = \\begin{cases} 0, & t < 0 \\\\ 1, & t>=0 \\end{cases} $"
      ],
      "metadata": {
        "id": "xkdD98gdd1qP"
      }
    },
    {
      "cell_type": "markdown",
      "source": [
        "##a)\n",
        "Es continua"
      ],
      "metadata": {
        "id": "Os5jgMuAW2Nk"
      }
    },
    {
      "cell_type": "code",
      "source": [
        "import matplotlib.pyplot as plt\n",
        "import numpy as np\n",
        "\n",
        "def H(t):\n",
        "  if t < 0:\n",
        "    return 0\n",
        "  elif t >= 0:\n",
        "    return 1\n",
        "\n",
        "x = np.linspace(-5,5,200)\n",
        "\n",
        "y = [H((x**2)+1) for x in x]\n",
        "\n",
        "\n",
        "plt.ylim(-1,2)\n",
        "plt.xlim(-5,5)\n",
        "plt.axhline(0, color = \"black\")\n",
        "plt.axvline(0, color = \"black\")\n",
        "\n",
        "plt.plot(x,y,'.')\n",
        "plt.show()"
      ],
      "metadata": {
        "colab": {
          "base_uri": "https://localhost:8080/",
          "height": 269
        },
        "id": "KKTtp_QOXMxi",
        "outputId": "45b21eae-b87f-4c6e-e9a0-ae5df34d5ec0"
      },
      "execution_count": null,
      "outputs": [
        {
          "output_type": "display_data",
          "data": {
            "text/plain": [
              "<Figure size 432x288 with 1 Axes>"
            ],
            "image/png": "[encoded data removed]"
          },
          "metadata": {
            "needs_background": "light"
          }
        }
      ]
    },
    {
      "cell_type": "markdown",
      "source": [
        "##b)\n",
        "$g(t) = H(t^2 -1)$\n",
        "\n",
        "Analicemos la función: Como podemos ver todos los numeros que no esten entre -1 y 1 daran numeros positivos por lo que la funcion siempre sera 1 fuera del intervalo -1 , 1.\n",
        "\n",
        "* Continuidad: La funcion es discontinua en -1 y 1.\n",
        "g(-1) = 0 por lo que la funcion se vuelve 1\n",
        "\n",
        "$lim_{x → -1} = -1$\n",
        "Como podemos ver la funcion en -1 es 1 y el limite de la funcion en -1 es 0 demostrando asi que no son iguales y que la funcion es **dicontinua**"
      ],
      "metadata": {
        "id": "7N5YZmnQW4Cy"
      }
    },
    {
      "cell_type": "code",
      "source": [
        "import matplotlib.pyplot as plt\n",
        "import numpy as np\n",
        "\n",
        "def H(t):\n",
        "  if t < 0:\n",
        "    return 0\n",
        "  elif t >= 0:\n",
        "    return 1\n",
        "\n",
        "x = np.linspace(-5,5,200)\n",
        "\n",
        "y = [H((x**2)-1) for x in x]\n",
        "\n",
        "\n",
        "plt.ylim(-1,2)\n",
        "plt.xlim(-5,5)\n",
        "plt.axhline(0, color = \"black\")\n",
        "plt.axvline(0, color = \"black\")\n",
        "\n",
        "plt.plot(x,y,'.')\n",
        "plt.grid(\"grey\")\n",
        "plt.show()"
      ],
      "metadata": {
        "colab": {
          "base_uri": "https://localhost:8080/",
          "height": 269
        },
        "id": "3fe4B41WckCY",
        "outputId": "6e64ea9b-7c65-46d3-f84c-7d51c9599671"
      },
      "execution_count": null,
      "outputs": [
        {
          "output_type": "display_data",
          "data": {
            "text/plain": [
              "<Figure size 432x288 with 1 Axes>"
            ],
            "image/png": "[encoded data removed]"
          },
          "metadata": {
            "needs_background": "light"
          }
        }
      ]
    },
    {
      "cell_type": "markdown",
      "source": [
        "##c)\n",
        "#### $$  H(t) =\\begin{cases}0, & t<0,\\\\1, & t \\ge 0.\\end{cases}  $$\n",
        "Discuss the continuity of $ h(t) = H(sin(\\pi t)) $. Graph $ h [-5, 5] $"
      ],
      "metadata": {
        "id": "UYDi7rsSW6_u"
      }
    },
    {
      "cell_type": "markdown",
      "source": [
        "$ sin(\\pi t) $ describe una copia de la funcion seno, en la que la amplitud y el periodo son 1, debido a que $ sin(\\pi x) $ describe en cada unidad la mitad de una circunferencia, es decir en cada media unidad (0,5), 90°, esto porque $ \\pi $ radianes equivale a 180° y $ \\frac {\\pi}{2} $ a 90°.\n",
        "También en cada unidad entera, $ h(t) $ siempre valdrá 0.\n",
        "$ h(0.5) = sin(90), h(1) = sin(180), h(2) = sin(360) $ Estas unidades estan en grados.\n",
        "Al aplicar $ H(t) $, $ h(t) $ tiene una discontinuidad de salto en $ t = 0 $, ya que $ lim_{t \\rightarrow 0^{-}} h(t) = 0 \\land lim_{x \\rightarrow a^{+}} f(x) =  1 \\rightarrow lim_{t \\rightarrow 0^{-}} h(t) \\neq lim_{t \\rightarrow 0^{+}} h(t)$"
      ],
      "metadata": {
        "id": "3mOXHEa1DBzo"
      }
    },
    {
      "cell_type": "code",
      "source": [
        "import numpy as np\n",
        "import matplotlib.pyplot as plt\n",
        "\n",
        "def H(t):\n",
        "    if t < 0:\n",
        "        return 0\n",
        "    if t >= 0:\n",
        "        return 1\n",
        "\n",
        "h = lambda x: np.sin(np.pi*H(x))\n",
        "\n",
        "t = np.linspace(-5, 6, 1000)\n",
        "y = [h(t) for t in t]\n",
        "\n",
        "plt.plot(t, y, 'b.')\n",
        "plt.title(\"h(t) = H(sin(πt))\")\n",
        "plt.grid(color='grey')\n",
        "plt.axhline(y=0, color='black')"
      ],
      "metadata": {
        "colab": {
          "base_uri": "https://localhost:8080/",
          "height": 298
        },
        "id": "WGuIAI7RDXvc",
        "outputId": "25d29396-6ae7-4128-b249-a6f0ce9ac749"
      },
      "execution_count": null,
      "outputs": [
        {
          "output_type": "execute_result",
          "data": {
            "text/plain": [
              "<matplotlib.lines.Line2D at 0x7fae18b08f10>"
            ]
          },
          "metadata": {},
          "execution_count": 1
        },
        {
          "output_type": "display_data",
          "data": {
            "text/plain": [
              "<Figure size 432x288 with 1 Axes>"
            ],
            "image/png": "[encoded data removed]"
          },
          "metadata": {
            "needs_background": "light"
          }
        }
      ]
    },
    {
      "cell_type": "markdown",
      "source": [
        "#10\n",
        "\n",
        "→ Continuidad de $f(x) = \\left \\lfloor x \\right \\rfloor$\n",
        "\n",
        "* Evaluar en $x=1$\n",
        "\n",
        "  * $lim_{x→1^-}\\left \\lfloor x \\right \\rfloor = 0$\n",
        "  * $lim_{x→1^+}\\left \\lfloor x \\right \\rfloor = 1$\n",
        "  >$lim_{x→1}\\left \\lfloor x \\right \\rfloor → ∄$\n",
        "  >\n",
        "  >La función floor es discontinua en $x=1$ porque el límite cuando $x→1$ no existe.\n",
        "\n",
        "* Evaluar en $x=2$\n",
        "\n",
        "  * $lim_{x→2^-}\\left \\lfloor x \\right \\rfloor = 1$\n",
        "  * $lim_{x→2^+}\\left \\lfloor x \\right \\rfloor = 2$\n",
        "  >$lim_{x→2}\\left \\lfloor x \\right \\rfloor → ∄$\n",
        "  >\n",
        "  >La función floor es discontinua en $x=2$ porque el límite cuando $x→2$ no existe.\n",
        "\n",
        "\n",
        "**R)** $f(x)=\\left \\lfloor x \\right \\rfloor$ es discontinua en cualquier número entero \"$n$\". PERO es continua en intérvalos abiertos entre enteros: $[n\\:,\\:n+1)$\n",
        "\n",
        "\n",
        "→ Continuidad de $g(x) = \\left \\lceil x \\right \\rceil$\n",
        "\n",
        "* Evaluar en $x=1$\n",
        "\n",
        "  * $lim_{x→1^-}\\left \\lfloor x \\right \\rfloor = 1$\n",
        "  * $lim_{x→1^+}\\left \\lfloor x \\right \\rfloor = 2$\n",
        "  >$lim_{x→1}\\left \\lfloor x \\right \\rfloor → ∄$\n",
        "  >\n",
        "  >La función floor es discontinua en $x=1$ porque el límite cuando $x→1$ no existe.\n",
        "\n",
        "* Evaluar en $x=2$\n",
        "\n",
        "  * $lim_{x→2^-}\\left \\lfloor x \\right \\rfloor = 2$\n",
        "  * $lim_{x→2^+}\\left \\lfloor x \\right \\rfloor = 3$\n",
        "  >$lim_{x→2}\\left \\lfloor x \\right \\rfloor → ∄$\n",
        "  >\n",
        "  >La función floor es discontinua en $x=2$ porque el límite cuando $x→2$ no existe.\n",
        "\n",
        "\n",
        "**R)** $f(x)=\\left \\lceil x \\right \\rceil$ es discontinua en cualquier número entero \"$n$\". PERO es continua en intérvalos abiertos entre enteros: $(n-1\\:,\\:n]$"
      ],
      "metadata": {
        "id": "zSmxMSN8d2_y"
      }
    },
    {
      "cell_type": "markdown",
      "source": [
        "#11"
      ],
      "metadata": {
        "id": "fxN8M0Kyd5Cv"
      }
    },
    {
      "cell_type": "markdown",
      "source": [
        "Son continuas\n",
        "\n",
        "\n",
        "Dominio: $x ϵ ℝ$"
      ],
      "metadata": {
        "id": "P6eLeefadI1J"
      }
    },
    {
      "cell_type": "code",
      "source": [
        "import matplotlib.pyplot as plt\n",
        "import numpy as np\n",
        "\n",
        "def senTecho(x):\n",
        "  x = np.sin(x)\n",
        "  if x <= 0:\n",
        "    return 0\n",
        "  elif x > 0:\n",
        "    return 1\n",
        "\n",
        "def senPiso(x):\n",
        "  x = np.sin(x)\n",
        "  if x <= 0:\n",
        "    return -1\n",
        "  elif x > 0:\n",
        "    return 0\n",
        "\n",
        "x = np.linspace(-10,10,200)\n",
        "y = [senTecho(x) for x in x]\n",
        "z = [senPiso(x) for x in x]\n",
        "\n",
        "plt.title('Sen(x) Parte entera techo')\n",
        "plt.ylim(-1,2)\n",
        "plt.xlim(-10,10)\n",
        "plt.axhline(0, color = \"black\")\n",
        "plt.axvline(0, color = \"black\")\n",
        "plt.xticks(range(-10, 10))\n",
        "plt.yticks(range(-2, 2))\n",
        "\n",
        "plt.plot(x,y,'.')\n",
        "plt.show()\n",
        "\n",
        "plt.title('Sen(x) Parte entera piso')\n",
        "plt.ylim(-1,2)\n",
        "plt.xlim(-10,10)\n",
        "plt.axhline(0, color = \"black\")\n",
        "plt.axvline(0, color = \"black\")\n",
        "plt.xticks(range(-10, 10))\n",
        "plt.yticks(range(-2, 2))\n",
        "\n",
        "plt.plot(x,z,'.',color = 'red')\n",
        "plt.show()\n"
      ],
      "metadata": {
        "id": "2zkS1ow7tp3g",
        "colab": {
          "base_uri": "https://localhost:8080/",
          "height": 545
        },
        "outputId": "def6f7b1-e4e5-434e-ed14-bbfbe9f1bb42"
      },
      "execution_count": null,
      "outputs": [
        {
          "output_type": "display_data",
          "data": {
            "text/plain": [
              "<Figure size 432x288 with 1 Axes>"
            ],
            "image/png": "[encoded data removed]"
          },
          "metadata": {
            "needs_background": "light"
          }
        },
        {
          "output_type": "display_data",
          "data": {
            "text/plain": [
              "<Figure size 432x288 with 1 Axes>"
            ],
            "image/png": "[encoded data removed]"
          },
          "metadata": {
            "needs_background": "light"
          }
        }
      ]
    }
  ]
}