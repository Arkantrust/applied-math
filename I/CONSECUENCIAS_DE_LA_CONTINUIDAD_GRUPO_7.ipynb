{
  "nbformat": 4,
  "nbformat_minor": 0,
  "metadata": {
    "colab": {
      "provenance": [],
      "collapsed_sections": [
        "m7fIHBMyr-GT"
      ]
    },
    "kernelspec": {
      "name": "python3",
      "display_name": "Python 3"
    },
    "language_info": {
      "name": "python"
    }
  },
  "cells": [
    {
      "cell_type": "markdown",
      "source": [
        "#<font color = 9ACD32> **TALLER CONSECUENCIAS DE LA CONTINUIDAD**\n",
        "---\n",
        "**Grupo 7:**\n",
        "* Mariana Agudelo\n",
        "* Juan José De la Pava\n",
        "* David Esteban Dulce\n",
        "* Rony Farid Ordoñez\n",
        "---\n"
      ],
      "metadata": {
        "id": "qgmn31hVakLO"
      }
    },
    {
      "cell_type": "markdown",
      "source": [
        "----\n",
        "#<font color = 9ACD32>1.</font>\n",
        "Use the bisection algorithm to approximate a solution to each of the following\n",
        "equations on the given interval. Your answer should have an error of no more\n",
        "than $ 0.005 $.\n",
        "\n",
        "a. $ x^2 - 2 = 0 $ on $ [0,4] $\n",
        "\n",
        "b. $ x^5 − 6x^3 + 2x = 2 $ on $ [0,4] $\n",
        "\n",
        "c. $  cos(x) = x $ on $ [0, π] $\n",
        "\n",
        "d. $ x^2 - 2 = 0 $ on $ [0,4] $"
      ],
      "metadata": {
        "id": "FJrqZY19yPRr"
      }
    },
    {
      "cell_type": "code",
      "source": [
        "import numpy as np\n",
        "\n",
        "\n",
        "# minimum iterations to find the root within an error bound\n",
        "def errorBound(a, b, err):\n",
        "    iteration = np.log((b - a) / err) / np.log(2)\n",
        "    return int(np.ceil(iteration))\n",
        "\n",
        "def bisection(function, interval):\n",
        "    \"\"\"\n",
        "    param function: find root for function\n",
        "    param interval: list with interval[0] as start point and interval[1] as end point\n",
        "    return root\n",
        "    \"\"\"\n",
        "\n",
        "    x0 = interval[0]\n",
        "    x1 = interval[1]\n",
        "\n",
        "    # intermediate value theorem\n",
        "    if not ((function(x0) * function(x1)) < 0):\n",
        "        print(f\"{interval} is not a valid interval\")\n",
        "\n",
        "    # iterations required to find the root within a specified error bound\n",
        "    iteration = errorBound(x0, x1, 0.005)\n",
        "\n",
        "    root = x0 + ((x1 - x0) / 2.0)\n",
        "\n",
        "    # evaluate y at current estimated root\n",
        "    y = function(root)\n",
        "\n",
        "    # check tolerance condition\n",
        "    while not (-0.005 <= y <= 0.005):\n",
        "\n",
        "        # check what the next interval will be\n",
        "        if function(root) < 0:\n",
        "            x0 = root  # [root, x1]\n",
        "        else:\n",
        "            x1 = root  # [x0, root]\n",
        "\n",
        "        root = x0 + ((x1 - x0) / 2.0)\n",
        "        y = function(root)\n",
        "\n",
        "    print(f\"iterations: {iteration}\")\n",
        "\n",
        "    # return root approximation\n",
        "    return root\n",
        "\n",
        "# a.  x**2 - 2 = 0, [0,4]\n",
        "a = lambda x: x**2 - 2\n",
        "print(f\"a: {bisection(a, [0,4])}\")\n",
        "\n",
        "# b. x**5 − 6x**3 + 2x -2 = 0 [0,4]\n",
        "b = lambda x: x**5 - (6*(x**3)) + (2*x) - 2\n",
        "print(f\"b: {bisection(b, [0,4])}\")\n",
        "\n",
        "# c. cos(x) - x = 0 [0, π]\n",
        "c = lambda x: np.cos(x) - x\n",
        "print(f\"c: {bisection(a, [0,4])}\")\n",
        "\n",
        "# d. x**2 - 2 = 0 [0,4]\n",
        "d = lambda x: x**2 - 2\n",
        "print(f\"d: {bisection(d, [0,4])}\")"
      ],
      "metadata": {
        "colab": {
          "base_uri": "https://localhost:8080/"
        },
        "id": "0RUS4o5Va9JV",
        "outputId": "d0693523-0f1a-4455-b963-ac145c7d4a09"
      },
      "execution_count": null,
      "outputs": [
        {
          "output_type": "stream",
          "name": "stdout",
          "text": [
            "iterations: 10\n",
            "a: 1.4140625\n",
            "iterations: 10\n",
            "b: 2.407958984375\n",
            "iterations: 10\n",
            "c: 1.4140625\n",
            "iterations: 10\n",
            "d: 1.4140625\n"
          ]
        }
      ]
    },
    {
      "cell_type": "markdown",
      "source": [
        "----\n",
        "#<font color = 9ACD32>3.</font>\n",
        "Suppose if the market price for a certain product is p dollars, then the demand for that product will be\n",
        "\n",
        "$D(p) = \\frac{50000p + 10000}{p2}$\n",
        "units.\n",
        "\n",
        "At the same time, suppose that at a price of p dollars producers will be willing to\n",
        "supply\n",
        "\n",
        "$S(p) = \\frac{1}{3} p^2 + 2p\\:$ units.\n"
      ],
      "metadata": {
        "id": "oEUKHAcE5TyN"
      }
    },
    {
      "cell_type": "markdown",
      "source": [
        "##A)"
      ],
      "metadata": {
        "id": "XFMHmz936i9q"
      }
    },
    {
      "cell_type": "code",
      "source": [
        "import numpy as np\n",
        "import matplotlib.pyplot as plt\n",
        "\n",
        "\n",
        "def demanda(p):\n",
        "    return (50000*p + 10000)/p**2\n",
        "\n",
        "def oferta(p):\n",
        "    return (1/3)*(p**2) + 2*p\n",
        "\n",
        "\n",
        "precios = np.linspace(1, 100, 101)\n",
        "\n",
        "\n",
        "plt.plot(precios, demanda(precios), label='Demanda')\n",
        "plt.plot(precios, oferta(precios), label='Oferta')\n",
        "\n",
        "\n",
        "plt.xlabel('Precio (Dolares)')\n",
        "plt.ylabel('Cantidad (Unidades)')\n",
        "plt.legend()\n",
        "\n",
        "plt.show()"
      ],
      "metadata": {
        "colab": {
          "base_uri": "https://localhost:8080/",
          "height": 279
        },
        "id": "wB19L0fc5s8F",
        "outputId": "a7058fb7-d3d3-4f7a-a298-d07b9aca8a99"
      },
      "execution_count": null,
      "outputs": [
        {
          "output_type": "display_data",
          "data": {
            "text/plain": [
              "<Figure size 432x288 with 1 Axes>"
            ],
            "image/png": "[encoded data removed]"
          },
          "metadata": {
            "needs_background": "light"
          }
        }
      ]
    },
    {
      "cell_type": "markdown",
      "source": [
        "##B)"
      ],
      "metadata": {
        "id": "BGjz0LEj6kYi"
      }
    },
    {
      "cell_type": "code",
      "source": [
        "\n",
        "def f(p):\n",
        "    return demanda(p) - oferta(p)\n",
        "\n",
        "\n",
        "a = 20\n",
        "b = 80\n",
        "\n",
        "epsilon = 1e-6\n",
        "\n",
        "while abs(b - a) > epsilon:\n",
        "    c = (a + b)/2\n",
        "    if f(a)*f(c) < 0:\n",
        "        b = c\n",
        "    else:\n",
        "        a = c\n",
        "\n",
        "cero = (a + b)/2\n",
        "\n",
        "print('El precio de equilibrio es:', cero)"
      ],
      "metadata": {
        "colab": {
          "base_uri": "https://localhost:8080/"
        },
        "id": "6oRSL7Xd6lfp",
        "outputId": "9c614914-4801-4594-97d2-d002164155d7"
      },
      "execution_count": null,
      "outputs": [
        {
          "output_type": "stream",
          "name": "stdout",
          "text": [
            "El precio de equilibrio es: 51.27522453665733\n"
          ]
        }
      ]
    },
    {
      "cell_type": "markdown",
      "source": [
        "##C)\n",
        "Para encontrar la cantidad de unidades que se desea producir, se remplaza el precio en la cantidad de demanda."
      ],
      "metadata": {
        "id": "8GZX0MyE7pZU"
      }
    },
    {
      "cell_type": "code",
      "source": [
        "print(f\"El productor va a querer desarrollar {demanda(cero)} unidades cuando el precio es {cero}\")"
      ],
      "metadata": {
        "colab": {
          "base_uri": "https://localhost:8080/"
        },
        "id": "9wT3gCQ471Ox",
        "outputId": "423b7b4a-c70c-44b1-e8e8-00e590f03026"
      },
      "execution_count": null,
      "outputs": [
        {
          "output_type": "stream",
          "name": "stdout",
          "text": [
            "El productor va a querer desarrollar 978.9333233688795 unidades cuando el precio es 51.27522453665733\n"
          ]
        }
      ]
    },
    {
      "cell_type": "markdown",
      "source": [
        "##D)\n",
        "Si los productores subieran el precio por encima del precio de equilibrio, la cantidad ofrecida superaría la cantidad demandada, lo que daría lugar a un excedente de oferta. Este excedente ejercería una presión a la baja sobre el precio, lo que finalmente haría que retrocediera hasta el precio de equilibrio.\n",
        "\n",
        "Si los productores bajaran el precio por debajo del precio de equilibrio, la cantidad demandada excedería la cantidad ofrecida, lo que provocaría una escasez del producto. Esta escasez ejercería una presión al alza sobre el precio, lo que eventualmente haría que volviera a subir al precio de equilibrio."
      ],
      "metadata": {
        "id": "PcdL-9rH8b9v"
      }
    },
    {
      "cell_type": "markdown",
      "source": [
        "##E)\n",
        "Si los productores aumentan la producción, el nuevo precio y la cantidad de equilibrio pueden aumentar o disminuir según la relación entre las nuevas curvas de oferta y demanda. Si los productores reducen la producción, el nuevo precio y la cantidad de equilibrio también pueden aumentar o disminuir según la relación entre las nuevas curvas de oferta y demanda."
      ],
      "metadata": {
        "id": "gcAwjRqn9-m5"
      }
    },
    {
      "cell_type": "markdown",
      "source": [
        "---\n",
        "#<font color = 9ACD32>5.</font>\n",
        "When a potter sells his pots for $p$ dollars a piece, he can sell $D(p) = 750 − 50p$ of them. Suppose the pots cost him $5.00 a piece to make. What price should the\n",
        "potter charge in order to maximize his profit?"
      ],
      "metadata": {
        "id": "m7fIHBMyr-GT"
      }
    },
    {
      "cell_type": "markdown",
      "source": [
        "Tenemos los siguientes datos:\n",
        "\n",
        "* Costo por artículo: $5\n",
        "\n",
        "* Cantidad vendida: $Q=D(p)=750-50p$\n",
        "\n",
        "* Ingreso total: $p×Q$\n",
        "\n",
        "* Costos de producción: Costo artículo * cantidad vendida → $5Q$\n",
        "\n",
        "* Ganancias (profit) = ingreso total - costos de producción\n",
        "\n",
        "Ganancias:\n",
        "\n",
        "$G(p)=pQ-5Q\\:=\\: -50p^2+1000p-3750$ → Función cuadrática (Función polinómica: es *continua*)\n",
        "\n",
        "**Gráfica:**"
      ],
      "metadata": {
        "id": "2svX5WgKov4p"
      }
    },
    {
      "cell_type": "code",
      "source": [
        "import numpy as np\n",
        "import matplotlib.pyplot as plt\n",
        "\n",
        "def profit(p):\n",
        "    return -50*p**2 + 1000*p - 3750\n",
        "p=np.linspace(5, 15, 100)\n",
        "\n",
        "plt.plot(p, profit(p), 'g', label=\"Ganancias\")\n",
        "plt.plot(10,1250,'.b', label=\"Ganancias máximas v(10,1250)\")\n",
        "plt.title('Ganancias en función del precio')\n",
        "plt.xlabel('Precio (Dolares)')\n",
        "plt.ylabel('Cantidad de ganancias hechas')\n",
        "plt.axhline(y=1250, xmin=0, xmax=1, linestyle='--', label=\"Límite\")\n",
        "plt.grid(color=\"grey\", linestyle=\"--\")\n",
        "plt.legend()\n",
        "plt.show()"
      ],
      "metadata": {
        "colab": {
          "base_uri": "https://localhost:8080/",
          "height": 295
        },
        "id": "wtYxK9zIgBsP",
        "outputId": "305bf25f-757a-49d6-873c-8f5f27105436"
      },
      "execution_count": null,
      "outputs": [
        {
          "output_type": "display_data",
          "data": {
            "text/plain": [
              "<Figure size 432x288 with 1 Axes>"
            ],
            "image/png": "[encoded data removed]"
          },
          "metadata": {
            "needs_background": "light"
          }
        }
      ]
    },
    {
      "cell_type": "markdown",
      "source": [
        "**Conclusión:**\n",
        "\n",
        "El alfarero debe cobrar por sus vasijas $10 dólares para maximizar sus ganancias.\n",
        "\n",
        "Tanto el $lim_{p→10^-}\\:G(p)\\:$ como el $\\:lim_{p→10^+}\\:G(p)$ es igual a $1250$. Valor que indica las cantidad de ganancias máximas que puede obtener vendiendo $D(p)=750-50p$ vasijas a un precio $p$, teniendo en cuenta que le cuesta $5 dólares hacer una sóla pieza."
      ],
      "metadata": {
        "id": "zjc8va3rvh-g"
      }
    },
    {
      "cell_type": "markdown",
      "source": [
        "----\n",
        "#<font color = 9ACD32>7.</font>\n",
        "Recall that the Heaviside function is defined by\n",
        "\n",
        "$$ H(t) = \\left\\{\\begin{matrix}\n",
        "0, & if\\:\\: t < 0, \\\\\n",
        "1, & if\\:\\: t \\geq 0.\n",
        "\\end{matrix}\\right. $$"
      ],
      "metadata": {
        "id": "2yfm0zIr_2y_"
      }
    },
    {
      "cell_type": "markdown",
      "source": [
        "##A)\n",
        "\n",
        "Note that $H(−1) = 0$ and $H(1) = 1.$ Is there a point $c$ in $(−1, 1)$ such that $H(c) = 0.5$?"
      ],
      "metadata": {
        "id": "yphwFno9CcQv"
      }
    },
    {
      "cell_type": "code",
      "source": [
        "import numpy as np\n",
        "import matplotlib.pyplot as plt\n",
        "\n",
        "def H(t):\n",
        "  if t < 0:\n",
        "    return 0\n",
        "  else:\n",
        "    return 1\n",
        "\n",
        "x = np.linspace(-5,5,100)\n",
        "y = np.array([H(xi) for xi in x])\n",
        "\n",
        "plt.xticks(range(-5,5))\n",
        "plt.yticks(np.arange(-1,1.25,0.25))\n",
        "plt.grid('-')\n",
        "\n",
        "plt.plot(x,y,'.')\n",
        "plt.show()\n",
        ""
      ],
      "metadata": {
        "id": "hftiP9XwDReJ"
      },
      "execution_count": null,
      "outputs": []
    },
    {
      "cell_type": "markdown",
      "source": [
        "R/: $H(c)$ solo puede ser igual a $0$ o a $1$ dependiendo del valor de $c$,  debido a que es una función a trozos."
      ],
      "metadata": {
        "id": "X0YQ39x8HRW7"
      }
    },
    {
      "cell_type": "markdown",
      "source": [
        "##B)\n",
        "Is the result of $A.$ consistent with the Intermediate Value Theorem?\n",
        "\n",
        "R/: No es consistente, ya que la función $H(t)$ no es continua, y por lo tanto, en el intervalo (-1,1) no hay punto intermedio."
      ],
      "metadata": {
        "id": "3iXWov4eJA2l"
      }
    },
    {
      "cell_type": "markdown",
      "source": [
        "##C)\n",
        "Does H attain a maximum value on [−1, 1]? Does H attain a minimum value on [−1, 1]?\n",
        "\n",
        "R/: $H(t)$ alcanza un valor maximo y un minimo constantes debido a las condiciones de la función a trozos. En el intervalo $[-1,1]$ el punto maximo de $H(t)$ es $1$ mientras $t \\geq 0$, y el punto minimo es $0$ mientras $t < 0$"
      ],
      "metadata": {
        "id": "H3YzmMYDLF4Z"
      }
    },
    {
      "cell_type": "markdown",
      "source": [
        "##D)\n",
        "Are the results of (c) consistent with the Extreme Value Theorem?\n",
        "\n",
        "\n",
        "R/: No es consistente, ya que el teorema del valor extremo se enfoca en un intervalo continuo de la función, y $H(t)$ en $[-1,1]$ NO es continua."
      ],
      "metadata": {
        "id": "JTILfbRiMbQW"
      }
    },
    {
      "cell_type": "markdown",
      "source": [
        "----\n",
        "#<font color = 9ACD32>9.</font>\n",
        "Suppose $f$ and $g$ are continuous on $[0, 1], f(0) < g(0)$ and $f(1) > g(1)$. Show that there exists a point $c$ in the open interval $(0, 1)$ such that $f(c) = g(c)$."
      ],
      "metadata": {
        "id": "q9cSX0uKsCi8"
      }
    },
    {
      "cell_type": "markdown",
      "source": [
        "Dado que $f$ y $g$ son funciones continuas en $[0,1]$, podemos usar el **teorema del valor intermedio** para probar que existe un punto $c$ en el intérvalo abierto de $(0,1)$ donde $f(c)=g(c)$.\n",
        "\n",
        "\n",
        ">La continuidad de la funciones en el intérvalo dado (Cumple para ambas funciones)\n",
        "\n",
        ">$m$ es un número cualquiera dentro de $f(a)\\: y \\:f(b)$ para el que existe un $c$ dentro del intérvalo $[a, b]$ donde $f(c)=m$\n",
        "\n",
        ">$n$ es un número cualquiera dentro de $g(a)\\: y \\: g(b)$ para el que existe un $c$ dentro del intérvalo $[a, b]$ donde $g(c)=n$\n",
        "\n",
        ">>Dado que $f(0) < g(0)$ y $f(1) > g(1)$ siendo $a=0$ y $b=1$, existe un c entre $[0,1]$ donde $m=n$\n",
        "\n",
        ">>Porque en algún punto $c$ dentro del intérvalo las gráficas van a intersectar\n",
        "\n",
        "\n",
        "\n",
        "\n"
      ],
      "metadata": {
        "id": "uQsQTsIW0W-e"
      }
    }
  ]
}