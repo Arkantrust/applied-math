{
  "nbformat": 4,
  "nbformat_minor": 0,
  "metadata": {
    "colab": {
      "provenance": [],
      "collapsed_sections": [
        "QzkNnUbAuoYx",
        "EAiZT2aTuu52",
        "JljVW__gu2Rw",
        "iZRZDMNYvRBF"
      ]
    },
    "kernelspec": {
      "name": "python3",
      "display_name": "Python 3"
    },
    "language_info": {
      "name": "python"
    }
  },
  "cells": [
    {
      "cell_type": "markdown",
      "source": [
        "\n",
        "#<font color= 9a9a9a> **TALLER SUCESIONES**\n",
        "---\n",
        "**Grupo 7:**\n",
        "* Mariana Agudelo\n",
        "* Juan José De la Pava\n",
        "* David Esteban Dulce\n",
        "* Rony Farid Ordoñez\n",
        "---\n"
      ],
      "metadata": {
        "id": "AEqnjdlnlYEs"
      }
    },
    {
      "cell_type": "code",
      "source": [
        "import numpy as np\n",
        "import matplotlib.pyplot as plt\n",
        "import math as mt\n",
        "from fractions import Fraction\n",
        "from sympy.interactive import printing\n",
        "from sympy import limit, Limit, Symbol, oo, sqrt, factorial, log, sin, S"
      ],
      "metadata": {
        "id": "iarWsSDlnASx"
      },
      "execution_count": null,
      "outputs": []
    },
    {
      "cell_type": "markdown",
      "source": [
        "##<font color= 20B2AA>1-10"
      ],
      "metadata": {
        "id": "TOLNCLrDOTKC"
      }
    },
    {
      "cell_type": "markdown",
      "source": [
        "1. $$ a_n = 3^n $$"
      ],
      "metadata": {
        "id": "XewtHgeBPkpn"
      }
    },
    {
      "cell_type": "code",
      "source": [
        "#Ejercicio 1- Rony\n",
        "def func1(n):\n",
        "    return 3**n\n",
        "\n",
        "for i in range(0,5):\n",
        "    print(func1(i))"
      ],
      "metadata": {
        "id": "-qyM2-zGPXgW",
        "colab": {
          "base_uri": "https://localhost:8080/"
        },
        "outputId": "1f42facf-df39-4d5d-ce9d-d2885d28a881"
      },
      "execution_count": null,
      "outputs": [
        {
          "output_type": "stream",
          "name": "stdout",
          "text": [
            "1\n",
            "3\n",
            "9\n",
            "27\n",
            "81\n"
          ]
        }
      ]
    },
    {
      "cell_type": "markdown",
      "source": [
        "2. $$ a_n = \\frac{3^n}{n!} $$"
      ],
      "metadata": {
        "id": "Xxtn_XbK2fW6"
      }
    },
    {
      "cell_type": "code",
      "source": [
        "#Ejercicio 2- Mariana\n",
        "\n",
        "for i in range(5):\n",
        "    a = pow(3,i)\n",
        "    b = mt.factorial(i)\n",
        "    an = a/b\n",
        "    print(an,\"-> (\", a,\"/\",b,\")\")"
      ],
      "metadata": {
        "colab": {
          "base_uri": "https://localhost:8080/"
        },
        "id": "DZMCG6ejWHsJ",
        "outputId": "ddc7e30c-0f5f-4b16-a096-7bc3c0fa057e"
      },
      "execution_count": null,
      "outputs": [
        {
          "output_type": "stream",
          "name": "stdout",
          "text": [
            "1.0 -> ( 1 / 1 )\n",
            "3.0 -> ( 3 / 1 )\n",
            "4.5 -> ( 9 / 2 )\n",
            "4.5 -> ( 27 / 6 )\n",
            "3.375 -> ( 81 / 24 )\n"
          ]
        }
      ]
    },
    {
      "cell_type": "markdown",
      "source": [
        "3. $$ a_n = (-\\frac{1}{4})^2 $$"
      ],
      "metadata": {
        "id": "NVNd8K_SWTtK"
      }
    },
    {
      "cell_type": "code",
      "source": [
        "#Ejercicio 3- Rony\n",
        "def func3(n):\n",
        "    return (-1/4)**n\n",
        "\n",
        "for i in range(0,5):\n",
        "    print(func3(i))"
      ],
      "metadata": {
        "id": "r8E6PooPWUp5",
        "colab": {
          "base_uri": "https://localhost:8080/"
        },
        "outputId": "cf562e54-235e-405e-ce1a-6f35c272c547"
      },
      "execution_count": null,
      "outputs": [
        {
          "output_type": "stream",
          "name": "stdout",
          "text": [
            "1.0\n",
            "-0.25\n",
            "0.0625\n",
            "-0.015625\n",
            "0.00390625\n"
          ]
        }
      ]
    },
    {
      "cell_type": "markdown",
      "source": [
        "4. $$ a_n = (-\\frac{2}{3})^n $$"
      ],
      "metadata": {
        "id": "lcjJJwWTdBXo"
      }
    },
    {
      "cell_type": "code",
      "source": [
        "#Ejercicio 4- David\n",
        "def func4 (n):\n",
        "    return (-(2)/(3))**n\n",
        "\n",
        "for i in range(5):\n",
        "    print(func4(i))"
      ],
      "metadata": {
        "id": "Wh9ejw3KdCNB",
        "colab": {
          "base_uri": "https://localhost:8080/"
        },
        "outputId": "8f919c8e-3388-4191-ca58-92b5907e1ead"
      },
      "execution_count": null,
      "outputs": [
        {
          "output_type": "stream",
          "name": "stdout",
          "text": [
            "1.0\n",
            "-0.6666666666666666\n",
            "0.4444444444444444\n",
            "-0.2962962962962962\n",
            "0.19753086419753083\n"
          ]
        }
      ]
    },
    {
      "cell_type": "markdown",
      "source": [
        "5. $$ a_n = sen\\frac{nπ}{2} $$"
      ],
      "metadata": {
        "id": "TmT9rWvLdCtz"
      }
    },
    {
      "cell_type": "code",
      "source": [
        "#Ejercicio 5- Rony\n",
        "def func5(n):\n",
        "    return np.sin((n*np.pi)/2)\n",
        "\n",
        "for i in range(5):\n",
        "    print(func5(i))"
      ],
      "metadata": {
        "id": "XzGNP2ZYdDiZ",
        "colab": {
          "base_uri": "https://localhost:8080/"
        },
        "outputId": "5f8ca586-194b-4a6a-ebcf-edc1333daead"
      },
      "execution_count": null,
      "outputs": [
        {
          "output_type": "stream",
          "name": "stdout",
          "text": [
            "0.0\n",
            "1.0\n",
            "1.2246467991473532e-16\n",
            "-1.0\n",
            "-2.4492935982947064e-16\n"
          ]
        }
      ]
    },
    {
      "cell_type": "markdown",
      "source": [
        "6. $$a_n=\\frac{2n}{n+3}$$"
      ],
      "metadata": {
        "id": "GOJdLCCidECx"
      }
    },
    {
      "cell_type": "code",
      "source": [
        "#Ejercicio 6- Mariana\n",
        "\n",
        "for i in range(5):\n",
        "    a = i*2\n",
        "    b = i+3\n",
        "    an = a/b\n",
        "    print(an,\"-> (\", a,\"/\",b,\")\")"
      ],
      "metadata": {
        "colab": {
          "base_uri": "https://localhost:8080/"
        },
        "id": "xNpP3r2xdGmO",
        "outputId": "a91fd7ad-600b-470e-cb54-0c07d3c74585"
      },
      "execution_count": null,
      "outputs": [
        {
          "output_type": "stream",
          "name": "stdout",
          "text": [
            "0.0 -> ( 0 / 3 )\n",
            "0.5 -> ( 2 / 4 )\n",
            "0.8 -> ( 4 / 5 )\n",
            "1.0 -> ( 6 / 6 )\n",
            "1.1428571428571428 -> ( 8 / 7 )\n"
          ]
        }
      ]
    },
    {
      "cell_type": "markdown",
      "source": [
        "7. $$a_n = \\frac{(-1)^{n(n+1)/2}}{n^2}$$\n",
        "$ n \\in R - \\{0\\}$"
      ],
      "metadata": {
        "id": "g7k8rs-2jfmh"
      }
    },
    {
      "cell_type": "code",
      "source": [
        "#Ejercicio 7- Juan\n",
        "\n",
        "for i in range(1, 6):\n",
        "    num = pow(-1, (i*(i+1))/2)\n",
        "    denum = i**2\n",
        "    frac = num/denum\n",
        "    print(frac)\n"
      ],
      "metadata": {
        "id": "KX5BSeAikMYt",
        "colab": {
          "base_uri": "https://localhost:8080/"
        },
        "outputId": "c1f747a1-ca90-400f-a405-7500f299f205"
      },
      "execution_count": null,
      "outputs": [
        {
          "output_type": "stream",
          "name": "stdout",
          "text": [
            "-1.0\n",
            "-0.25\n",
            "0.1111111111111111\n",
            "0.0625\n",
            "-0.04\n"
          ]
        }
      ]
    },
    {
      "cell_type": "markdown",
      "source": [
        "8. $$ a_n = (-1)^{n+1} * (\\frac{2}{n})$$\n",
        "$ n \\in R - \\{0\\}$"
      ],
      "metadata": {
        "id": "8WrLr5GYkP3n"
      }
    },
    {
      "cell_type": "code",
      "source": [
        "#Ejercicio 8- Juan\n",
        "\n",
        "for i in range(1, 6):\n",
        "    func8 = pow(-1, i + 1) * (2/i)\n",
        "    print(func8)\n"
      ],
      "metadata": {
        "id": "1icZcCB4k8St",
        "colab": {
          "base_uri": "https://localhost:8080/"
        },
        "outputId": "f9d0ba9c-f681-4191-b874-16fa974085e7"
      },
      "execution_count": null,
      "outputs": [
        {
          "output_type": "stream",
          "name": "stdout",
          "text": [
            "2.0\n",
            "-1.0\n",
            "0.6666666666666666\n",
            "-0.5\n",
            "0.4\n"
          ]
        }
      ]
    },
    {
      "cell_type": "markdown",
      "source": [
        "9. $$a_n = 5 - \\frac{1}{n} + \\frac{1}{n^2}$$\n",
        "$ n \\in R - \\{0\\}$"
      ],
      "metadata": {
        "id": "MvAuovBpk-TK"
      }
    },
    {
      "cell_type": "code",
      "source": [
        "#Ejercicio 9-Juan\n",
        "for i in range(1, 6):\n",
        "    func9 = 5 - (1/i) + (1/pow(i, 2))\n",
        "    print(func9)\n"
      ],
      "metadata": {
        "id": "IGYu619RlKnB",
        "colab": {
          "base_uri": "https://localhost:8080/"
        },
        "outputId": "955eb3af-6bc4-49ed-ecde-aa90078a1a31"
      },
      "execution_count": null,
      "outputs": [
        {
          "output_type": "stream",
          "name": "stdout",
          "text": [
            "5.0\n",
            "4.75\n",
            "4.777777777777778\n",
            "4.8125\n",
            "4.84\n"
          ]
        }
      ]
    },
    {
      "cell_type": "markdown",
      "source": [
        "10. $$a_n=10+\\frac{2}{n}+\\frac{6}{n^2}$$\n",
        "$ n \\in R - \\{0\\}$"
      ],
      "metadata": {
        "id": "nxqgOELVd-Qn"
      }
    },
    {
      "cell_type": "code",
      "source": [
        "#Ejercicio 10- Mariana\n",
        "\n",
        "for i in range(5):\n",
        "  if (i == 0):\n",
        "    print(\"Error --> División por 0\")\n",
        "  elif(i!=0):\n",
        "    an=10+(2/i)+(6/(pow(i,2)))\n",
        "    print(an)"
      ],
      "metadata": {
        "colab": {
          "base_uri": "https://localhost:8080/"
        },
        "id": "fSXPbOhrd-sl",
        "outputId": "b46a00e7-27a3-45b8-858a-a22d9bb931f3"
      },
      "execution_count": null,
      "outputs": [
        {
          "output_type": "stream",
          "name": "stdout",
          "text": [
            "Error --> División por 0\n",
            "18.0\n",
            "12.5\n",
            "11.333333333333332\n",
            "10.875\n"
          ]
        }
      ]
    },
    {
      "cell_type": "markdown",
      "source": [
        "##11 - 12"
      ],
      "metadata": {
        "id": "8sMbpXZiuFwj"
      }
    },
    {
      "cell_type": "markdown",
      "source": [
        "11. $$ a_1 = 3, a_{k+1} = 2(a_k - 1) $$"
      ],
      "metadata": {
        "id": "vKApas6thyAX"
      }
    },
    {
      "cell_type": "code",
      "source": [
        "#Ejercicio 11-Rony\n",
        "list = [0,3]\n",
        "for i in range(1,5):\n",
        "   list.append(2*(list[i]-1))\n",
        "\n",
        "print(list[1:6])"
      ],
      "metadata": {
        "id": "yusLDiGVhxiM",
        "colab": {
          "base_uri": "https://localhost:8080/"
        },
        "outputId": "c978d2f5-498b-4a70-9f00-2ddd4b67da92"
      },
      "execution_count": null,
      "outputs": [
        {
          "output_type": "stream",
          "name": "stdout",
          "text": [
            "[3, 4, 6, 10, 18]\n"
          ]
        }
      ]
    },
    {
      "cell_type": "markdown",
      "source": [
        "12. $$a_1 = 4 , a_{k+1} = (\\frac{k+1}{2})a_k$$"
      ],
      "metadata": {
        "id": "JbuxDgzzlNfV"
      }
    },
    {
      "cell_type": "code",
      "source": [
        "#Ejercicio 12- Juan\n",
        "\n",
        "list = [0, 4]\n",
        "\n",
        "for i in range(1, 5):\n",
        "    list.append(((i+1)/2)*list[i])\n",
        "\n",
        "print(list[1:6])"
      ],
      "metadata": {
        "id": "Z9t469B7lfo1",
        "colab": {
          "base_uri": "https://localhost:8080/"
        },
        "outputId": "d935ad66-4196-454e-a4d8-55b13f720beb"
      },
      "execution_count": null,
      "outputs": [
        {
          "output_type": "stream",
          "name": "stdout",
          "text": [
            "[4, 4.0, 6.0, 12.0, 30.0]\n"
          ]
        }
      ]
    },
    {
      "cell_type": "markdown",
      "source": [
        "##<font color=20B2AA>15 - 18"
      ],
      "metadata": {
        "id": "QzkNnUbAuoYx"
      }
    },
    {
      "cell_type": "markdown",
      "source": [
        "15. $$ a_n = \\frac{10}{n+1} $$\n",
        "Corresponde a la gráfica **C**"
      ],
      "metadata": {
        "id": "VCBUbAs8iSLa"
      }
    },
    {
      "cell_type": "code",
      "source": [
        "#Ejercicio 15- Rony\n",
        "def func15(n):\n",
        "  return 10/(n+1)\n",
        "\n",
        "x = np.arange(1,11)\n",
        "\n",
        "y = func15(x)\n",
        "\n",
        "plt.gca().set_aspect('equal')\n",
        "plt.grid(color='grey')\n",
        "plt.axhline(0, color=\"black\")\n",
        "plt.axvline(0, color=\"black\")\n",
        "plt.ylim(0,10)\n",
        "plt.plot(x,y,'o')\n",
        "plt.title('Ejercicio 15 -> C')\n",
        "plt.show()"
      ],
      "metadata": {
        "id": "LVZV3qK4iTNg",
        "colab": {
          "base_uri": "https://localhost:8080/"
        },
        "outputId": "9bdeed22-2fd8-4d18-af57-0d948c80775b"
      },
      "execution_count": null,
      "outputs": [
        {
          "output_type": "display_data",
          "data": {
            "text/plain": [
              "<Figure size 432x288 with 1 Axes>"
            ],
            "image/png": "[encoded data removed]"
          },
          "metadata": {
            "needs_background": "light"
          }
        }
      ]
    },
    {
      "cell_type": "markdown",
      "source": [
        "16. $$a_n = \\frac{10n}{n+1}$$"
      ],
      "metadata": {
        "id": "fSyq3Eq-lkEI"
      }
    },
    {
      "cell_type": "markdown",
      "source": [
        "El punto 16 corresponde a la gráfica **A**\n",
        "\n",
        "\n"
      ],
      "metadata": {
        "id": "UjNd3oGUlvV2"
      }
    },
    {
      "cell_type": "code",
      "source": [
        "#Ejercicio 16- Juan\n",
        "def func16(n):\n",
        "    y = (10*n)/(n+1)\n",
        "    plt.plot(n, y, '.')\n",
        "\n",
        "\n",
        "x = np.linspace(1, 100, 101)\n",
        "\n",
        "func16(x)\n",
        "plt.grid(color='grey')\n",
        "plt.axhline(0, color=\"black\")\n",
        "plt.axvline(0, color=\"black\")\n",
        "plt.title('Ejercicio 16 -> A')\n",
        "plt.show()"
      ],
      "metadata": {
        "id": "VJAECFK0lr9S",
        "colab": {
          "base_uri": "https://localhost:8080/"
        },
        "outputId": "03041618-7377-4ee5-bf5b-308b544155a9"
      },
      "execution_count": null,
      "outputs": [
        {
          "output_type": "display_data",
          "data": {
            "text/plain": [
              "<Figure size 432x288 with 1 Axes>"
            ],
            "image/png": "[encoded data removed]"
          },
          "metadata": {
            "needs_background": "light"
          }
        }
      ]
    },
    {
      "cell_type": "markdown",
      "source": [
        "17. $$ a_n = (-1)^n $$\n",
        "*R)* Corresponde a la gráfica **D**"
      ],
      "metadata": {
        "id": "RMNT0QK1icUy"
      }
    },
    {
      "cell_type": "code",
      "source": [
        "#Ejercicio 17- David\n",
        "def func17(n):\n",
        "    y = pow((-1), n)\n",
        "    return y\n",
        "\n",
        "x = np.arange(1, 11)\n",
        "y = func17(x)\n",
        "plt.ylim(-2, 2)\n",
        "plt.grid(color='grey')\n",
        "plt.axhline(0, color=\"black\")\n",
        "plt.axvline(0, color=\"black\")\n",
        "plt.plot(x, y, 'o')\n",
        "plt.title('Ejercicio 17 -> D')\n",
        "plt.show()\n"
      ],
      "metadata": {
        "id": "rvzef4AyidSh",
        "colab": {
          "base_uri": "https://localhost:8080/"
        },
        "outputId": "dccf5aa1-40c0-42ee-cdde-60ac1e673d49"
      },
      "execution_count": null,
      "outputs": [
        {
          "output_type": "display_data",
          "data": {
            "text/plain": [
              "<Figure size 432x288 with 1 Axes>"
            ],
            "image/png": "[encoded data removed]"
          },
          "metadata": {
            "needs_background": "light"
          }
        }
      ]
    },
    {
      "cell_type": "markdown",
      "source": [
        "18. $$a_n=\\frac{(-1)^n}{n}$$\n",
        "\n",
        "*R)* Corresponde a la gráfica **B**"
      ],
      "metadata": {
        "id": "VivmSKQ7if0v"
      }
    },
    {
      "cell_type": "code",
      "source": [
        "#Ejercicio 18- Mariana\n",
        "def func18(n):\n",
        "  return (pow((-1),n))/n\n",
        "\n",
        "x = np.arange(1,11)\n",
        "y = func18(x)\n",
        "\n",
        "plt.gca().set_aspect('equal')\n",
        "plt.grid(color=\"grey\", linestyle=\"--\")\n",
        "plt.ylim(-2,2)\n",
        "plt.axhline(0, color=\"black\")\n",
        "plt.axvline(0, color=\"black\")\n",
        "plt.plot(x,y,'o')\n",
        "plt.title('Ejercicio 18 -> B')\n",
        "plt.show()"
      ],
      "metadata": {
        "id": "XkmvFzPRigQo",
        "colab": {
          "base_uri": "https://localhost:8080/"
        },
        "outputId": "b4899219-2457-4447-923f-a1dfa39ba1fb"
      },
      "execution_count": null,
      "outputs": [
        {
          "output_type": "display_data",
          "data": {
            "text/plain": [
              "<Figure size 432x288 with 1 Axes>"
            ],
            "image/png": "[encoded data removed]"
          },
          "metadata": {
            "needs_background": "light"
          }
        }
      ]
    },
    {
      "cell_type": "markdown",
      "source": [
        "##19 - 22"
      ],
      "metadata": {
        "id": "EAiZT2aTuu52"
      }
    },
    {
      "cell_type": "markdown",
      "source": [
        "19. $$-2, 0, \\frac{2}{3},1 ... $$\n",
        "\n",
        "*R)* Se relaciona con la sucesión en el punto **B**  $$a_n=2-\\frac{4}{n}$$"
      ],
      "metadata": {
        "id": "Lwg8Ptp_irub"
      }
    },
    {
      "cell_type": "code",
      "source": [
        "#Ejercicio 19- Rony#19\n",
        "def func19(n):\n",
        "  return (2-(4/n))\n",
        "\n",
        "print(\"SUCESION B\\n\")\n",
        "for i in range(1,6):\n",
        "  print(func19(i))"
      ],
      "metadata": {
        "id": "yzQqy6P_is1D",
        "colab": {
          "base_uri": "https://localhost:8080/"
        },
        "outputId": "2a421c73-8ee6-4083-b159-09c03837024c"
      },
      "execution_count": null,
      "outputs": [
        {
          "output_type": "stream",
          "name": "stdout",
          "text": [
            "SUCESION B\n",
            "\n",
            "-2.0\n",
            "0.0\n",
            "0.6666666666666667\n",
            "1.0\n",
            "1.2\n"
          ]
        }
      ]
    },
    {
      "cell_type": "markdown",
      "source": [
        "20. $$16,\\ -8,\\ 4,\\ -2...$$\n",
        "\n",
        "*R)* Se relaciona con la sucesión en el punto **C** $$a_n=16(-0.5)^{n-1}$$"
      ],
      "metadata": {
        "id": "dmPbOqs3itrr"
      }
    },
    {
      "cell_type": "code",
      "source": [
        "#Ejercicio 20- Mariana\n",
        "def func20(n):\n",
        "  return 16*(pow((-0.5),(n-1)))\n",
        "\n",
        "print(\"Punto C\\n\")\n",
        "for i in range(1,5):\n",
        "  print(f\"a_{i} = {func20(i)}\")"
      ],
      "metadata": {
        "id": "JMRYp4bFivnZ",
        "colab": {
          "base_uri": "https://localhost:8080/"
        },
        "outputId": "828d8b27-8636-4caf-e54a-5bef9b12d7bc"
      },
      "execution_count": null,
      "outputs": [
        {
          "output_type": "stream",
          "name": "stdout",
          "text": [
            "Punto C\n",
            "\n",
            "a_1 = 16.0\n",
            "a_2 = -8.0\n",
            "a_3 = 4.0\n",
            "a_4 = -2.0\n"
          ]
        }
      ]
    },
    {
      "cell_type": "markdown",
      "source": [
        "21. $$\\frac{2}{3},\\frac{4}{3},2,\\frac{8}{3},...$$\n",
        "\n"
      ],
      "metadata": {
        "id": "TlADEnvEl2rr"
      }
    },
    {
      "cell_type": "markdown",
      "source": [
        "Corresponde a la expresión **A** $$a_n = \\frac{2}{3}n$$"
      ],
      "metadata": {
        "id": "9uyZkyUgmCUY"
      }
    },
    {
      "cell_type": "code",
      "source": [
        "# Ejercicio 21- Juan\n",
        "def func21(n):\n",
        "    return (2/3)*n\n",
        "\n",
        "for i in range(1, 11):\n",
        "    print(f\"El número {i} = {str(Fraction(func21(i)).limit_denominator())}\")"
      ],
      "metadata": {
        "id": "2ENL4VhbmJwr",
        "colab": {
          "base_uri": "https://localhost:8080/"
        },
        "outputId": "ed5ac7f6-ea9b-4639-cc5c-64e548e0e796"
      },
      "execution_count": null,
      "outputs": [
        {
          "output_type": "stream",
          "name": "stdout",
          "text": [
            "El número 1 = 2/3\n",
            "El número 2 = 4/3\n",
            "El número 3 = 2\n",
            "El número 4 = 8/3\n",
            "El número 5 = 10/3\n",
            "El número 6 = 4\n",
            "El número 7 = 14/3\n",
            "El número 8 = 16/3\n",
            "El número 9 = 6\n",
            "El número 10 = 20/3\n"
          ]
        }
      ]
    },
    {
      "cell_type": "markdown",
      "source": [
        "22. $$1,\\frac{4}{3}, \\frac{3}{2}, \\frac{8}{5}...$$\n",
        "\n",
        "*R)* Se relaciona con la sucesión en el punto **D** $$a_n=\\frac{2n}{n+1}$$"
      ],
      "metadata": {
        "id": "WEpv5-tMi5MF"
      }
    },
    {
      "cell_type": "code",
      "source": [
        "#Ejercicio 22- Mariana\n",
        "def func22(n):\n",
        "  return (2*n)/(n+1)\n",
        "\n",
        "print(\"Punto D\\n\")\n",
        "for i in range(1,5):\n",
        "  print(f\"a_{i} = {func22(i)}\")\n"
      ],
      "metadata": {
        "id": "1K-8KfYajQau",
        "colab": {
          "base_uri": "https://localhost:8080/"
        },
        "outputId": "dedeabeb-df76-4d5d-d826-20495a979e09"
      },
      "execution_count": null,
      "outputs": [
        {
          "output_type": "stream",
          "name": "stdout",
          "text": [
            "Punto D\n",
            "\n",
            "a_1 = 1.0\n",
            "a_2 = 1.3333333333333333\n",
            "a_3 = 1.5\n",
            "a_4 = 1.6\n"
          ]
        }
      ]
    },
    {
      "cell_type": "markdown",
      "source": [
        "##<font color=20B2AA>23 - 28"
      ],
      "metadata": {
        "id": "JljVW__gu2Rw"
      }
    },
    {
      "cell_type": "markdown",
      "source": [
        "23. $$ 2,\\ 5,\\ 8,\\ 11...$$"
      ],
      "metadata": {
        "id": "mj0G_piljpSS"
      }
    },
    {
      "cell_type": "code",
      "source": [
        "#Ejercicio 23- Rony\n",
        "def func23(n):\n",
        "  return n + 3\n",
        "\n",
        "a_ni = -1\n",
        "\n",
        "for i in range(0,6):\n",
        "  a_ni = func23(a_ni)\n",
        "  print(a_ni)"
      ],
      "metadata": {
        "id": "OmyJbR_CjqOc",
        "colab": {
          "base_uri": "https://localhost:8080/"
        },
        "outputId": "81667ac7-cc9e-4ff8-aa7b-80dc98271cd6"
      },
      "execution_count": null,
      "outputs": [
        {
          "output_type": "stream",
          "name": "stdout",
          "text": [
            "2\n",
            "5\n",
            "8\n",
            "11\n",
            "14\n",
            "17\n"
          ]
        }
      ]
    },
    {
      "cell_type": "markdown",
      "source": [
        "24. $$ \\frac{7}{2},\\ 4,\\ \\frac{9}{2},\\ 5... $$\n",
        "\n",
        "    Sucesion:\n",
        "    $$\\frac{n+6}{2}$$"
      ],
      "metadata": {
        "id": "1RHp7EUSmM2V"
      }
    },
    {
      "cell_type": "code",
      "source": [
        "# Ejercicio 24- Juan\n",
        "\n",
        "#El patrón que se utilizó para encontrar estos términos fue:\n",
        "\n",
        "def func24(n):\n",
        "    return (n+6)/2\n",
        "\n",
        "for i in range(1, 7):\n",
        "    print(str(Fraction(func24(i)).limit_denominator()))\n"
      ],
      "metadata": {
        "colab": {
          "base_uri": "https://localhost:8080/"
        },
        "id": "TLmr4FJvmkix",
        "outputId": "3ca39bd3-279d-485c-a615-df84396782a1"
      },
      "execution_count": null,
      "outputs": [
        {
          "output_type": "stream",
          "name": "stdout",
          "text": [
            "7/2\n",
            "4\n",
            "9/2\n",
            "5\n",
            "11/2\n",
            "6\n"
          ]
        }
      ]
    },
    {
      "cell_type": "markdown",
      "source": [
        "25. $$5,\\ 10,\\ 20,\\ 40,\\ $$\n",
        "Sucesion: $$ x_n = 5*(2^{n-1}) $$"
      ],
      "metadata": {
        "id": "Fa9a7dAqjuT7"
      }
    },
    {
      "cell_type": "code",
      "source": [
        "#Ejercicio 25- David\n",
        "for i in range(1, 10):\n",
        "    x = 5*(2**(i-1))\n",
        "    print(f\"a_{i} = {x}\")"
      ],
      "metadata": {
        "id": "Fhiu33MGjvWC",
        "colab": {
          "base_uri": "https://localhost:8080/"
        },
        "outputId": "86bc5e89-8b15-4380-e062-cc5a676dbcc8"
      },
      "execution_count": null,
      "outputs": [
        {
          "output_type": "stream",
          "name": "stdout",
          "text": [
            "a_1 = 5\n",
            "a_2 = 10\n",
            "a_3 = 20\n",
            "a_4 = 40\n",
            "a_5 = 80\n",
            "a_6 = 160\n",
            "a_7 = 320\n",
            "a_8 = 640\n",
            "a_9 = 1280\n"
          ]
        }
      ]
    },
    {
      "cell_type": "markdown",
      "source": [
        "26. $$1, \\frac{-1}{2}, \\frac{1}{4}, \\frac{-1}{8}, ...$$\n",
        "\n",
        "*Patrón:* $$a_n=(\\frac{-1}{2})^{n-1}$$"
      ],
      "metadata": {
        "id": "gsHOKA9ljwMt"
      }
    },
    {
      "cell_type": "code",
      "source": [
        "#Ejercicio 26- Mariana\n",
        "def func26(n):\n",
        "  return pow((-0.5),(n-1))\n",
        "\n",
        "for i in range(6):\n",
        "  print(f\"a_{i} = {func26(i)}\")"
      ],
      "metadata": {
        "id": "-CEhHRcmjxRN",
        "colab": {
          "base_uri": "https://localhost:8080/"
        },
        "outputId": "fe53808a-98e6-4af7-8ee8-3b1fffd01fa0"
      },
      "execution_count": null,
      "outputs": [
        {
          "output_type": "stream",
          "name": "stdout",
          "text": [
            "a_0 = -2.0\n",
            "a_1 = 1.0\n",
            "a_2 = -0.5\n",
            "a_3 = 0.25\n",
            "a_4 = -0.125\n",
            "a_5 = 0.0625\n"
          ]
        }
      ]
    },
    {
      "cell_type": "markdown",
      "source": [
        "27. $$ 3,\\ -\\frac{3}{2},\\ \\frac{3}{4},\\ -\\frac{3}{8} $$\n",
        "\n",
        "$$a_n = \\frac{3}{(-2)^{n-1}} $$"
      ],
      "metadata": {
        "id": "P89pCiCKjxxO"
      }
    },
    {
      "cell_type": "code",
      "source": [
        "#Ejercicio 27- David\n",
        "def func27(n):\n",
        "    denum = pow((-2),(n-1))\n",
        "    result = 3/denum\n",
        "    return result\n",
        "\n",
        "for i in range(1, 6):\n",
        "    print(f\"a_{i} = {func27(i)}\")"
      ],
      "metadata": {
        "id": "Ijir5q7IjyqR",
        "colab": {
          "base_uri": "https://localhost:8080/"
        },
        "outputId": "fa2f65fc-4357-4441-d5de-119eaa68fbc2"
      },
      "execution_count": null,
      "outputs": [
        {
          "output_type": "stream",
          "name": "stdout",
          "text": [
            "a_1 = 3.0\n",
            "a_2 = -1.5\n",
            "a_3 = 0.75\n",
            "a_4 = -0.375\n",
            "a_5 = 0.1875\n"
          ]
        }
      ]
    },
    {
      "cell_type": "markdown",
      "source": [
        "28. $$ 1,\\ -\\frac{3}{2},\\ \\frac{9}{4},\\ -\\frac{27}{8} $$\n",
        "\n",
        "$$x_n = \\frac{3^{n-1}}{(-2)^{(n-1)}} $$"
      ],
      "metadata": {
        "id": "mtqSqO7BjzUu"
      }
    },
    {
      "cell_type": "code",
      "source": [
        "#Ejercicio 28- David\n",
        "def func28(n):\n",
        "    denum = pow((-2),(n-1))\n",
        "    num = pow(3, (n-1))\n",
        "    result = num/denum\n",
        "    return result\n",
        "\n",
        "for i in range(1, 6):\n",
        "    print(f\"a_{i} = {func28(i)}\")"
      ],
      "metadata": {
        "id": "rCJe8YLwj0fN",
        "colab": {
          "base_uri": "https://localhost:8080/"
        },
        "outputId": "5b6da7f8-7b85-4751-d2c4-eabb9b4356ee"
      },
      "execution_count": null,
      "outputs": [
        {
          "output_type": "stream",
          "name": "stdout",
          "text": [
            "a_1 = 1.0\n",
            "a_2 = -1.5\n",
            "a_3 = 2.25\n",
            "a_4 = -3.375\n",
            "a_5 = 5.0625\n"
          ]
        }
      ]
    },
    {
      "cell_type": "markdown",
      "source": [
        "##29 - 34"
      ],
      "metadata": {
        "id": "iZRZDMNYvRBF"
      }
    },
    {
      "cell_type": "markdown",
      "source": [
        "29. $$ \\frac{11!}{8!} = 9*10*11$$"
      ],
      "metadata": {
        "id": "_V6Q2Fbrj1D6"
      }
    },
    {
      "cell_type": "code",
      "source": [
        "#Ejercicio 29- Rony\n",
        "def original():\n",
        "  return (2*3*4*5*6*7*8*9*10*11) / (2*3*4*5*6*7*8)\n",
        "\n",
        "def simplificada():\n",
        "  return 9*10*11"
      ],
      "metadata": {
        "id": "zeNE6wm-j2GT"
      },
      "execution_count": null,
      "outputs": []
    },
    {
      "cell_type": "markdown",
      "source": [
        "30. $$ \\frac{25!}{20!} = 25*24*23*22*21$$"
      ],
      "metadata": {
        "id": "wnAIASr-j2r3"
      }
    },
    {
      "cell_type": "code",
      "source": [
        "#Ejercicio 30- David\n",
        "factorial25 = []\n",
        "for i in range(1, 26): factorial25.append(i)\n",
        "factorial20 = []\n",
        "for i in range(1, 21): factorial20.append(i)\n",
        "simplificacion = []\n",
        "\n",
        "for i in factorial25:\n",
        "    if i not in factorial20:\n",
        "        simplificacion.append(i)\n",
        "print(simplificacion)\n",
        "\n",
        "result = 1\n",
        "for i in simplificacion:\n",
        "    result *= i\n",
        "print(result)\n",
        ""
      ],
      "metadata": {
        "id": "12pbnFgYj4BO",
        "colab": {
          "base_uri": "https://localhost:8080/"
        },
        "outputId": "447b8342-f4b9-432e-bced-64b1f9c7f0b7"
      },
      "execution_count": null,
      "outputs": [
        {
          "output_type": "stream",
          "name": "stdout",
          "text": [
            "[21, 22, 23, 24, 25]\n",
            "6375600\n"
          ]
        }
      ]
    },
    {
      "cell_type": "markdown",
      "source": [
        "31. $$\\frac{(n+1)!}{n!} = n+1$$"
      ],
      "metadata": {
        "id": "CT85f5exmp_Z"
      }
    },
    {
      "cell_type": "code",
      "source": [
        "# Ejercicio 31- Juan\n",
        "\n",
        "# Sucesión original\n",
        "def og31(n):\n",
        "    return (mt.factorial(n + 1))/(mt.factorial(n))\n",
        "\n",
        "# sucesión simplificada\n",
        "def sim31(n):\n",
        "    return n + 1\n",
        "\n",
        "print(\"Serie original: \")\n",
        "for i in range(1, 11): print(int(og31(i)))\n",
        "print('\\n')\n",
        "print(\"Serie simplificada: \")\n",
        "for i in range(1, 11): print(sim31(i))\n"
      ],
      "metadata": {
        "id": "5Jh9oc8cm716",
        "colab": {
          "base_uri": "https://localhost:8080/"
        },
        "outputId": "64c89ce7-4295-4de4-8826-2d8182be247c"
      },
      "execution_count": null,
      "outputs": [
        {
          "output_type": "stream",
          "name": "stdout",
          "text": [
            "Serie original: \n",
            "2\n",
            "3\n",
            "4\n",
            "5\n",
            "6\n",
            "7\n",
            "8\n",
            "9\n",
            "10\n",
            "11\n",
            "\n",
            "\n",
            "Serie simplificada: \n",
            "2\n",
            "3\n",
            "4\n",
            "5\n",
            "6\n",
            "7\n",
            "8\n",
            "9\n",
            "10\n",
            "11\n"
          ]
        }
      ]
    },
    {
      "cell_type": "markdown",
      "source": [
        "32. $$\\frac{(n+2)!}{n!} = (n+2)*(n+1)$$"
      ],
      "metadata": {
        "id": "0lJEEdqxkabj"
      }
    },
    {
      "cell_type": "code",
      "source": [
        "#Ejercicio 32- Mariana\n",
        "\n",
        "#original\n",
        "def og32(n):\n",
        "  return (mt.factorial(n+2))/mt.factorial(n)\n",
        "\n",
        "print(\"Sucesión ORIGINAL:\\n\")\n",
        "for i in range(11):\n",
        "  print(f\"a_{i} = {og32(i)}\")\n",
        "print('\\n')\n",
        "\n",
        "#simplificada\n",
        "def sim32(n):\n",
        "  return (n+2)*(n+1)\n",
        "\n",
        "print(\"Sucesión SIMPLIFICADA:\\n\")\n",
        "for i in range (11):\n",
        "  print(f\"a_{i} = {sim32(i)}\")"
      ],
      "metadata": {
        "id": "uxWJJ-wkkbRU",
        "colab": {
          "base_uri": "https://localhost:8080/"
        },
        "outputId": "a568b8da-4e56-4701-ab0c-1813c0644b3f"
      },
      "execution_count": null,
      "outputs": [
        {
          "output_type": "stream",
          "name": "stdout",
          "text": [
            "Sucesión ORIGINAL:\n",
            "\n",
            "a_0 = 2.0\n",
            "a_1 = 6.0\n",
            "a_2 = 12.0\n",
            "a_3 = 20.0\n",
            "a_4 = 30.0\n",
            "a_5 = 42.0\n",
            "a_6 = 56.0\n",
            "a_7 = 72.0\n",
            "a_8 = 90.0\n",
            "a_9 = 110.0\n",
            "a_10 = 132.0\n",
            "\n",
            "\n",
            "Sucesión SIMPLIFICADA:\n",
            "\n",
            "a_0 = 2\n",
            "a_1 = 6\n",
            "a_2 = 12\n",
            "a_3 = 20\n",
            "a_4 = 30\n",
            "a_5 = 42\n",
            "a_6 = 56\n",
            "a_7 = 72\n",
            "a_8 = 90\n",
            "a_9 = 110\n",
            "a_10 = 132\n"
          ]
        }
      ]
    },
    {
      "cell_type": "markdown",
      "source": [
        "33. $$ \\frac{(2n-1)!}{(2n+1)!} $$\n",
        "\n",
        "$$ = \\frac{(2n-1)!}{(2n+1)*(2n)*(2n-1)!} $$\n",
        "\n",
        "$$ = \\frac{1}{(2n+1)*(2n)} $$\n",
        "\n",
        "$$ = \\frac{1}{4n^2+2n} $$"
      ],
      "metadata": {
        "id": "IDIYXRr9kdUB"
      }
    },
    {
      "cell_type": "code",
      "source": [
        "#Ejercicio 33- David\n",
        "\n",
        "#original\n",
        "def og33(n):\n",
        "    num = (2*n)-1\n",
        "    for i in range(1, num): num *= i\n",
        "    denum = (2*n)+1\n",
        "    for i in range(1, denum): denum *= i\n",
        "    frac = num/denum\n",
        "    return frac\n",
        "\n",
        "# simplificada\n",
        "def sim33(n):\n",
        "    return 1/((4*(n**2))+(2*n))\n",
        "\n",
        "print(\"Serie original: \")\n",
        "for i in range(1, 11): print(og33(i))\n",
        "print('\\n')\n",
        "print(\"Serie simplificada: \")\n",
        "for i in range(1, 11): print(sim33(i))"
      ],
      "metadata": {
        "id": "eddsO15skg1y",
        "colab": {
          "base_uri": "https://localhost:8080/"
        },
        "outputId": "2eef4576-3298-4f06-ce5c-ace18788cddb"
      },
      "execution_count": null,
      "outputs": [
        {
          "output_type": "stream",
          "name": "stdout",
          "text": [
            "Serie original: \n",
            "0.16666666666666666\n",
            "0.05\n",
            "0.023809523809523808\n",
            "0.013888888888888888\n",
            "0.00909090909090909\n",
            "0.00641025641025641\n",
            "0.004761904761904762\n",
            "0.003676470588235294\n",
            "0.0029239766081871343\n",
            "0.002380952380952381\n",
            "\n",
            "\n",
            "Serie simplificada: \n",
            "0.16666666666666666\n",
            "0.05\n",
            "0.023809523809523808\n",
            "0.013888888888888888\n",
            "0.00909090909090909\n",
            "0.00641025641025641\n",
            "0.004761904761904762\n",
            "0.003676470588235294\n",
            "0.0029239766081871343\n",
            "0.002380952380952381\n"
          ]
        }
      ]
    },
    {
      "cell_type": "markdown",
      "source": [
        "34. $$ \\frac{(2n + 2)!}{(2n)!} $$\n",
        "\n",
        "$$ = \\frac{(2n+2)*(2n+1)*(2n)!}{(2n)!} $$\n",
        "\n",
        "$$ = (2n+2)*(2n+1) $$\n",
        "\n",
        "$$ = 4n^2+6n+2 $$"
      ],
      "metadata": {
        "id": "VRGN-USZkiSw"
      }
    },
    {
      "cell_type": "code",
      "source": [
        "#Ejercicio 34- David\n",
        "\n",
        "# original\n",
        "def og34(n):\n",
        "    num = (2*n)+2\n",
        "    for i in range(1, num): num *= i\n",
        "    denum = 2*n\n",
        "    for i in range(1, denum): denum *= i\n",
        "    if n == 0:\n",
        "        denum = 1\n",
        "    frac = num/denum\n",
        "    return frac\n",
        "\n",
        "#simplificada\n",
        "def sim34(n):\n",
        "    return (4*(n**2)) + (6*n) + 2\n",
        "print(\"Serie original: \")\n",
        "for i in range(11): print(int(og34(i)))\n",
        "print('\\n')\n",
        "print(\"Serie simplificada: \")\n",
        "for i in range(11): print(sim34(i))"
      ],
      "metadata": {
        "id": "DdPDElOXkjNm",
        "colab": {
          "base_uri": "https://localhost:8080/"
        },
        "outputId": "58d1bfb5-4f1a-4812-a2e1-66bfe62a501c"
      },
      "execution_count": null,
      "outputs": [
        {
          "output_type": "stream",
          "name": "stdout",
          "text": [
            "Serie original: \n",
            "2\n",
            "12\n",
            "30\n",
            "56\n",
            "90\n",
            "132\n",
            "182\n",
            "240\n",
            "306\n",
            "380\n",
            "462\n",
            "\n",
            "\n",
            "Serie simplificada: \n",
            "2\n",
            "12\n",
            "30\n",
            "56\n",
            "90\n",
            "132\n",
            "182\n",
            "240\n",
            "306\n",
            "380\n",
            "462\n"
          ]
        }
      ]
    },
    {
      "cell_type": "markdown",
      "source": [
        "##<font color=20B2AA>35-40"
      ],
      "metadata": {
        "id": "KbI1ybqvaUGl"
      }
    },
    {
      "cell_type": "markdown",
      "source": [
        "35. $$ a_n = \\frac{5n^2}{n^2+2} $$"
      ],
      "metadata": {
        "id": "AgPuqv9tmMKR"
      }
    },
    {
      "cell_type": "code",
      "source": [
        "#Ejercicio 35 - Mariana\n",
        "def fun35(n):\n",
        "  return (5*(n**2))/((n**2)+2)\n",
        "\n",
        "n = np.linspace(1,100,100)\n",
        "print(\"Límite : 5\\n\\n\",fun35(n))"
      ],
      "metadata": {
        "id": "3VwFRj0LmUqe",
        "colab": {
          "base_uri": "https://localhost:8080/"
        },
        "outputId": "e4e8d1e8-a52f-4b33-f95b-22b2d5946159"
      },
      "execution_count": null,
      "outputs": [
        {
          "output_type": "stream",
          "name": "stdout",
          "text": [
            "Límite : 5\n",
            "\n",
            " [1.66666667 3.33333333 4.09090909 4.44444444 4.62962963 4.73684211\n",
            " 4.80392157 4.84848485 4.87951807 4.90196078 4.91869919 4.93150685\n",
            " 4.94152047 4.94949495 4.95594714 4.96124031 4.96563574 4.96932515\n",
            " 4.97245179 4.97512438 4.97742664 4.97942387 4.98116761 4.98269896\n",
            " 4.98405104 4.98525074 4.98632011 4.98727735 4.9881376  4.98891353\n",
            " 4.98961578 4.99025341 4.9908341  4.99136442 4.99185004 4.99229584\n",
            " 4.99270605 4.99308437 4.99343401 4.9937578  4.99405823 4.99433749\n",
            " 4.99459751 4.99484004 4.9950666  4.99527856 4.99547716 4.99566349\n",
            " 4.99583854 4.9960032  4.99615828 4.99630451 4.99644255 4.996573\n",
            " 4.9966964  4.99681326 4.99692402 4.99702911 4.99712891 4.99722376\n",
            " 4.99731399 4.9973999  4.99748174 4.99755979 4.99763426 4.99770537\n",
            " 4.99777332 4.99783831 4.99790048 4.99796002 4.99801705 4.99807173\n",
            " 4.99812418 4.99817452 4.99822285 4.9982693  4.99831394 4.99835688\n",
            " 4.99839821 4.99843799 4.99847631 4.99851323 4.99854883 4.99858317\n",
            " 4.9986163  4.99864828 4.99867917 4.99870901 4.99873785 4.99876574\n",
            " 4.99879271 4.9988188  4.99884406 4.99886852 4.99889221 4.99891517\n",
            " 4.99893741 4.99895898 4.9989799  4.9990002 ]\n"
          ]
        }
      ]
    },
    {
      "cell_type": "markdown",
      "source": [
        "36. $$ a_n = 5 - \\frac{1}{n^2} $$"
      ],
      "metadata": {
        "id": "Cw1vt185E_Y6"
      }
    },
    {
      "cell_type": "code",
      "source": [
        "#Ejercicio 36 - Rony\n",
        "def func36(n):\n",
        "  return 5-(1/(n**2))\n",
        "\n",
        "x = np.linspace(1,100,100)\n",
        "y = func36(x)\n",
        "print(\"Límite : 5\\n\\n\",y)"
      ],
      "metadata": {
        "id": "lsp3Qv8sE1WQ",
        "colab": {
          "base_uri": "https://localhost:8080/"
        },
        "outputId": "038a67da-a851-4576-848e-8ffdf9c6755a"
      },
      "execution_count": null,
      "outputs": [
        {
          "output_type": "stream",
          "name": "stdout",
          "text": [
            "Límite : 5\n",
            "\n",
            " [4.         4.75       4.88888889 4.9375     4.96       4.97222222\n",
            " 4.97959184 4.984375   4.98765432 4.99       4.99173554 4.99305556\n",
            " 4.99408284 4.99489796 4.99555556 4.99609375 4.99653979 4.99691358\n",
            " 4.99722992 4.9975     4.99773243 4.99793388 4.99810964 4.99826389\n",
            " 4.9984     4.99852071 4.99862826 4.99872449 4.99881094 4.99888889\n",
            " 4.99895942 4.99902344 4.99908173 4.99913495 4.99918367 4.9992284\n",
            " 4.99926954 4.99930748 4.99934254 4.999375   4.99940512 4.99943311\n",
            " 4.99945917 4.99948347 4.99950617 4.99952741 4.99954731 4.99956597\n",
            " 4.99958351 4.9996     4.99961553 4.99963018 4.999644   4.99965706\n",
            " 4.99966942 4.99968112 4.99969221 4.99970273 4.99971273 4.99972222\n",
            " 4.99973126 4.99973985 4.99974805 4.99975586 4.99976331 4.99977043\n",
            " 4.99977723 4.99978374 4.99978996 4.99979592 4.99980163 4.9998071\n",
            " 4.99981235 4.99981738 4.99982222 4.99982687 4.99983134 4.99983563\n",
            " 4.99983977 4.99984375 4.99984758 4.99985128 4.99985484 4.99985828\n",
            " 4.99986159 4.99986479 4.99986788 4.99987087 4.99987375 4.99987654\n",
            " 4.99987924 4.99988185 4.99988438 4.99988683 4.9998892  4.99989149\n",
            " 4.99989372 4.99989588 4.99989797 4.9999    ]\n"
          ]
        }
      ]
    },
    {
      "cell_type": "markdown",
      "source": [
        "37. $$ a_n = \\frac{2n}{\\sqrt{n^2 + 1}} $$"
      ],
      "metadata": {
        "id": "oB5LEsrknyGS"
      }
    },
    {
      "cell_type": "code",
      "source": [
        "# Ejercico 37 - Juan\n",
        "\n",
        "def sucesion(x):\n",
        "    return (2*x)/np.sqrt((x**2) + 1)\n",
        "\n",
        "x = np.linspace(0, 100, 101)\n",
        "\n",
        "print(\"Limite : 2\\n\\n\",sucesion(x))"
      ],
      "metadata": {
        "id": "Uv5sFt2Tnup1",
        "colab": {
          "base_uri": "https://localhost:8080/"
        },
        "outputId": "2c41784e-e954-4861-8a20-25625f601e25"
      },
      "execution_count": null,
      "outputs": [
        {
          "output_type": "stream",
          "name": "stdout",
          "text": [
            "Limite : 2\n",
            "\n",
            " [0.         1.41421356 1.78885438 1.8973666  1.940285   1.96116135\n",
            " 1.97278785 1.97989899 1.98455575 1.98776747 1.99007438 1.99178641\n",
            " 1.99309152 1.99410897 1.9949174  1.99557032 1.99610516 1.99654875\n",
            " 1.99692071 1.99723566 1.99750468 1.99773628 1.99793708 1.99811232\n",
            " 1.99826615 1.99840192 1.99852235 1.99862967 1.99872571 1.998812\n",
            " 1.99888981 1.99896023 1.99902415 1.99908236 1.99913551 1.99918417\n",
            " 1.99922884 1.99926994 1.99930784 1.99934286 1.99937529 1.99940538\n",
            " 1.99943335 1.99945939 1.99948367 1.99950636 1.99952758 1.99954746\n",
            " 1.99956611 1.99958364 1.99960012 1.99961564 1.99963028 1.9996441\n",
            " 1.99965715 1.9996695  1.9996812  1.99969228 1.9997028  1.99971279\n",
            " 1.99972228 1.99973131 1.99973991 1.99974809 1.9997559  1.99976336\n",
            " 1.99977047 1.99977727 1.99978377 1.99978999 1.99979595 1.99980166\n",
            " 1.99980713 1.99981237 1.99981741 1.99982225 1.99982689 1.99983136\n",
            " 1.99983565 1.99983979 1.99984377 1.9998476  1.9998513  1.99985486\n",
            " 1.99985829 1.99986161 1.99986481 1.9998679  1.99987088 1.99987377\n",
            " 1.99987655 1.99987925 1.99988186 1.99988439 1.99988684 1.99988921\n",
            " 1.9998915  1.99989373 1.99989588 1.99989798 1.99990001]\n"
          ]
        }
      ]
    },
    {
      "cell_type": "markdown",
      "source": [
        "38. $$ a_n = \\frac{5n}{\\sqrt {n^2+ 4}} $$"
      ],
      "metadata": {
        "id": "8AeAO1Sn0ITn"
      }
    },
    {
      "cell_type": "code",
      "source": [
        "#Ejercicio 38 - David\n",
        "\n",
        "n = Symbol('n')\n",
        "\n",
        "limit((5*n)/sqrt((n**2)+4), n, oo).doit()"
      ],
      "metadata": {
        "id": "r1Zs1XBk0Ig6",
        "colab": {
          "base_uri": "https://localhost:8080/",
          "height": 37
        },
        "outputId": "9e8801dc-0d97-4682-b122-605c3773a57c"
      },
      "execution_count": null,
      "outputs": [
        {
          "output_type": "execute_result",
          "data": {
            "text/plain": [
              "5"
            ],
            "text/latex": "$\\displaystyle 5$"
          },
          "metadata": {},
          "execution_count": 94
        }
      ]
    },
    {
      "cell_type": "markdown",
      "source": [
        "39. $$ a_n = sen\\frac{1}{n} $$\n"
      ],
      "metadata": {
        "id": "YByVPLIkmaGN"
      }
    },
    {
      "cell_type": "code",
      "source": [
        "#Ejercicio 39 - Mariana\n",
        "n = Symbol('n')\n",
        "\n",
        "limit(sin(1/n), n, oo).doit()"
      ],
      "metadata": {
        "id": "WuzN6-lLmbWM",
        "colab": {
          "base_uri": "https://localhost:8080/",
          "height": 37
        },
        "outputId": "130fa5fb-7601-43b2-df9e-28bc69fbe41b"
      },
      "execution_count": null,
      "outputs": [
        {
          "output_type": "execute_result",
          "data": {
            "text/plain": [
              "0"
            ],
            "text/latex": "$\\displaystyle 0$"
          },
          "metadata": {},
          "execution_count": 95
        }
      ]
    },
    {
      "cell_type": "markdown",
      "source": [
        "40. $$ a_n = cos\\frac{2}{n} $$"
      ],
      "metadata": {
        "id": "_9xPh0LAHTX3"
      }
    },
    {
      "cell_type": "code",
      "source": [
        "#Ejercicio 40 - Rony\n",
        "def func40(n):\n",
        "  return np.cos(2/n)\n",
        "\n",
        "x = np.linspace(1,100,100)\n",
        "y = func40(x)\n",
        "\n",
        "print(\"Limite : 1\\n\\n\",y)"
      ],
      "metadata": {
        "colab": {
          "base_uri": "https://localhost:8080/"
        },
        "id": "zheOjxGcGirG",
        "outputId": "8c321e8b-ef6f-4b3f-d3cd-1c3af3afb24a"
      },
      "execution_count": null,
      "outputs": [
        {
          "output_type": "stream",
          "name": "stdout",
          "text": [
            "Limite : 1\n",
            "\n",
            " [-0.41614684  0.54030231  0.78588726  0.87758256  0.92106099  0.94495695\n",
            "  0.95946058  0.96891242  0.97541009  0.98006658  0.98351656  0.98614323\n",
            "  0.988189    0.98981326  0.99112427  0.99219767  0.99308756  0.99383351\n",
            "  0.99446495  0.99500417  0.99546828  0.99587061  0.99622166  0.99652979\n",
            "  0.99680171  0.99704288  0.99725777  0.99745006  0.99762282  0.9977786\n",
            "  0.99791956  0.99804751  0.99816401  0.9982704   0.99836779  0.99845719\n",
            "  0.99853944  0.99861528  0.99868536  0.99875026  0.99881047  0.99886643\n",
            "  0.99891853  0.99896712  0.99901251  0.99905497  0.99909475  0.99913207\n",
            "  0.99916713  0.99920011  0.99923116  0.99926045  0.99928809  0.99931421\n",
            "  0.99933892  0.99936231  0.99938449  0.99940553  0.99942551  0.9994445\n",
            "  0.99946256  0.99947975  0.99949614  0.99951176  0.99952666  0.9995409\n",
            "  0.9995545   0.99956751  0.99957995  0.99959186  0.99960328  0.99961422\n",
            "  0.99962472  0.99963479  0.99964447  0.99965376  0.99966269  0.99967129\n",
            "  0.99967956  0.99968752  0.99969518  0.99970257  0.9997097   0.99971657\n",
            "  0.9997232   0.9997296   0.99973578  0.99974175  0.99974752  0.9997531\n",
            "  0.99975849  0.99976371  0.99976877  0.99977366  0.9997784   0.99978299\n",
            "  0.99978745  0.99979176  0.99979595  0.99980001]\n"
          ]
        }
      ]
    },
    {
      "cell_type": "markdown",
      "source": [
        "##41-44"
      ],
      "metadata": {
        "id": "PVxh9lViagK4"
      }
    },
    {
      "cell_type": "markdown",
      "source": [
        "41. $$ a_n = \\frac {n+1}{n} $$"
      ],
      "metadata": {
        "id": "YOFAEheLvVE1"
      }
    },
    {
      "cell_type": "code",
      "source": [
        "def ejercicio41(x):\n",
        "  return (x+1)/x\n",
        "\n",
        "x = np.linspace(1,100,101)\n",
        "\n",
        "plt.plot(x,ejercicio41(x),'.')\n",
        "plt.axhline(1 , color = \"black\")\n",
        "\n",
        "for i in range(1,11):\n",
        "  print(f\"A_n {i} = {ejercicio41(i)}\")"
      ],
      "metadata": {
        "id": "s6Z3084CqEvG",
        "colab": {
          "base_uri": "https://localhost:8080/",
          "height": 439
        },
        "outputId": "c2a9cba5-688a-4d74-b411-48e61ff9696b"
      },
      "execution_count": null,
      "outputs": [
        {
          "output_type": "stream",
          "name": "stdout",
          "text": [
            "A_n 1 = 2.0\n",
            "A_n 2 = 1.5\n",
            "A_n 3 = 1.3333333333333333\n",
            "A_n 4 = 1.25\n",
            "A_n 5 = 1.2\n",
            "A_n 6 = 1.1666666666666667\n",
            "A_n 7 = 1.1428571428571428\n",
            "A_n 8 = 1.125\n",
            "A_n 9 = 1.1111111111111112\n",
            "A_n 10 = 1.1\n"
          ]
        },
        {
          "output_type": "display_data",
          "data": {
            "text/plain": [
              "<Figure size 432x288 with 1 Axes>"
            ],
            "image/png": "[encoded data removed]"
          },
          "metadata": {
            "needs_background": "light"
          }
        }
      ]
    },
    {
      "cell_type": "markdown",
      "source": [
        "42. $$ a_n = \\frac{1}{n^\\frac {3}{2}} = \\frac {1}{∞} = 0 $$"
      ],
      "metadata": {
        "id": "--gIWv2J0byD"
      }
    },
    {
      "cell_type": "markdown",
      "source": [
        "$ \\lim_{n\\rightarrow\\infty} a_n = \\frac{1}{n^\\frac {3}{2}} = 0 $, debido a que cuanto mas grande se hace el denominador, el limite tiende a 0."
      ],
      "metadata": {
        "id": "nKYroSnJ0xES"
      }
    },
    {
      "cell_type": "code",
      "source": [
        "# Ejercicio 42 - David\n",
        "\n",
        "def func42(n):\n",
        "    result = 1/(n**(3/2))\n",
        "    return result\n",
        "\n",
        "x = np.linspace(1, 50, 40)\n",
        "y = [func42(x) for x in x]\n",
        "\n",
        "for i in range(1, 11):\n",
        "    print(f\"a_{i} = {func42(i)}\")\n",
        "\n",
        "plt.plot(x, y, 'r.')\n",
        "plt.title('ejercicio 42')\n",
        "plt.grid('grey')\n",
        "plt.axhline(y=0)"
      ],
      "metadata": {
        "colab": {
          "base_uri": "https://localhost:8080/",
          "height": 472
        },
        "id": "jZHqBdel0b9v",
        "outputId": "89512bea-dc89-4cd7-9544-3fec12a94c7d"
      },
      "execution_count": null,
      "outputs": [
        {
          "output_type": "stream",
          "name": "stdout",
          "text": [
            "a_1 = 1.0\n",
            "a_2 = 0.35355339059327373\n",
            "a_3 = 0.19245008972987526\n",
            "a_4 = 0.125\n",
            "a_5 = 0.08944271909999159\n",
            "a_6 = 0.06804138174397717\n",
            "a_7 = 0.05399492471560388\n",
            "a_8 = 0.044194173824159216\n",
            "a_9 = 0.037037037037037035\n",
            "a_10 = 0.03162277660168379\n"
          ]
        },
        {
          "output_type": "execute_result",
          "data": {
            "text/plain": [
              "<matplotlib.lines.Line2D at 0x7f6b06be44c0>"
            ]
          },
          "metadata": {},
          "execution_count": 98
        },
        {
          "output_type": "display_data",
          "data": {
            "text/plain": [
              "<Figure size 432x288 with 1 Axes>"
            ],
            "image/png": "[encoded data removed]"
          },
          "metadata": {
            "needs_background": "light"
          }
        }
      ]
    },
    {
      "cell_type": "markdown",
      "source": [
        "El limite de la sucesion es 1 como se representa en el grafico.\n",
        "\n",
        "$\\lim_{n→∞} a_n = \\frac{n+1}{n}$, Se eliminan las N debido a que ambas se acercan a 0 cuando el limite se acerca a infinito."
      ],
      "metadata": {
        "id": "gGzT9LmWu8fY"
      }
    },
    {
      "cell_type": "markdown",
      "source": [
        "43. $$a_n=cos\\frac{nπ}{2}$$"
      ],
      "metadata": {
        "id": "dnBgWNYdXhXP"
      }
    },
    {
      "cell_type": "code",
      "source": [
        "#Ejercicio 43 - Mariana\n",
        "\n",
        "def suc43(n):\n",
        "  return mt.cos((n * mt.pi) / 2)\n",
        "\n",
        "n=np.linspace(0,100,101)\n",
        "y=[suc43(n) for n in n]\n",
        "print(y)\n",
        "plt.plot(n, y, 'g:')\n",
        "plt.axhline(0, color=\"black\")\n",
        "plt.axvline(0, color=\"black\")\n",
        "plt.grid(\"grey\")\n",
        "plt.show()"
      ],
      "metadata": {
        "colab": {
          "base_uri": "https://localhost:8080/",
          "height": 302
        },
        "id": "myhsuBzmXh-O",
        "outputId": "29739de9-ba25-4d90-8e90-77e8296b8819"
      },
      "execution_count": null,
      "outputs": [
        {
          "output_type": "stream",
          "name": "stdout",
          "text": [
            "[1.0, 6.123233995736766e-17, -1.0, -1.8369701987210297e-16, 1.0, 3.061616997868383e-16, -1.0, -4.286263797015736e-16, 1.0, 5.51091059616309e-16, -1.0, -2.4499125789312946e-15, 1.0, -9.803364199544708e-16, -1.0, -2.6948419387607653e-15, 1.0, -7.354070601250002e-16, -1.0, -2.939771298590236e-15, 1.0, -4.904777002955296e-16, -1.0, -3.1847006584197066e-15, 1.0, -2.45548340466059e-16, -1.0, -3.4296300182491773e-15, 1.0, -6.189806365883577e-19, -1.0, -3.674559378078648e-15, 1.0, 2.443103791928823e-16, -1.0, -3.919488737908119e-15, 1.0, 4.892397390223529e-16, -1.0, -4.164418097737589e-15, 1.0, 7.839596456452825e-15, -1.0, -4.40934745756706e-15, 1.0, 9.790984586812941e-16, -1.0, 2.4511505402044715e-15, 1.0, 8.329455176111767e-15, -1.0, -4.899206177226001e-15, 1.0, 1.4689571783402355e-15, -1.0, 1.96129182054553e-15, 1.0, 8.819313895770708e-15, -1.0, -5.389064896884942e-15, 1.0, 1.9588158979991767e-15, -1.0, 1.471433100886589e-15, 1.0, 9.309172615429648e-15, -1.0, -5.8789236165438834e-15, 1.0, 2.448674617658118e-15, -1.0, 9.815743812276475e-16, 1.0, 9.79903133508859e-15, -1.0, -6.368782336202825e-15, 1.0, 2.9385333373170594e-15, -1.0, 4.917156615687063e-16, 1.0, 1.0288890054747531e-14, -1.0, 7.352213659340238e-15, 1.0, 3.4283920569760004e-15, -1.0, -1.4208997773292239e-14, 1.0, -3.4321059407955307e-15, -1.0, -7.348499775520708e-15, 1.0, 1.8129105491836944e-14, -1.0, -4.880017777491762e-16, 1.0, 1.1268607494065414e-14, -1.0, 6.372496220022355e-15, 1.0]\n"
          ]
        },
        {
          "output_type": "display_data",
          "data": {
            "text/plain": [
              "<Figure size 432x288 with 1 Axes>"
            ],
            "image/png": "[encoded data removed]"
          },
          "metadata": {
            "needs_background": "light"
          }
        }
      ]
    },
    {
      "cell_type": "markdown",
      "source": [
        "Ls sucesión diverge."
      ],
      "metadata": {
        "id": "_PIyPWdGywSW"
      }
    },
    {
      "cell_type": "markdown",
      "source": [
        "44. $$ a_n = 3 - \\frac{1}{2^n} $$"
      ],
      "metadata": {
        "id": "GfxyA4fHPymm"
      }
    },
    {
      "cell_type": "code",
      "source": [
        "#Ejercicio 44 - Rony\n",
        "def func44(n):\n",
        "  return 3-(1/(2**n))\n",
        "\n",
        "x = np.linspace(0,10,10)\n",
        "y = func44(x)\n",
        "print(\"Converge debido a que a medida que n tiende a infinito, a 3 se le resta un numero cercano a 0 \\n\\nLímite = 3\\n\\n\",y)\n",
        "\n",
        "plt.plot(x,y,'.')\n",
        "plt.show()"
      ],
      "metadata": {
        "id": "VqyICOpWK9z-",
        "colab": {
          "base_uri": "https://localhost:8080/",
          "height": 369
        },
        "outputId": "bdbbf800-c004-4eae-c528-d94924c0d418"
      },
      "execution_count": null,
      "outputs": [
        {
          "output_type": "stream",
          "name": "stdout",
          "text": [
            "Converge debido a que a medida que n tiende a infinito, a 3 se le resta un numero cercano a 0 \n",
            "\n",
            "Límite = 3\n",
            "\n",
            " [2.         2.53706264 2.785689   2.90078743 2.9540708  2.97873766\n",
            " 2.99015687 2.99544325 2.99789051 2.99902344]\n"
          ]
        },
        {
          "output_type": "display_data",
          "data": {
            "text/plain": [
              "<Figure size 432x288 with 1 Axes>"
            ],
            "image/png": "[encoded data removed]"
          },
          "metadata": {
            "needs_background": "light"
          }
        }
      ]
    },
    {
      "cell_type": "markdown",
      "source": [
        "##<font color=20B2AA>45-72\n"
      ],
      "metadata": {
        "id": "llQozORMai82"
      }
    },
    {
      "cell_type": "markdown",
      "source": [
        "45. $$a_n = (0.3)^n -1$$"
      ],
      "metadata": {
        "id": "aTdpugrywt6r"
      }
    },
    {
      "cell_type": "code",
      "source": [
        "def ejercicio45(x):\n",
        "    return (((0.3)**x ) - 1)\n",
        "\n",
        "x = np.linspace(0,100,101)\n",
        "\n",
        "plt.plot(x,ejercicio45(x))\n",
        "plt.show()\n"
      ],
      "metadata": {
        "id": "UoVes4Y3up-S",
        "colab": {
          "base_uri": "https://localhost:8080/",
          "height": 265
        },
        "outputId": "bc54f1cf-231a-45b4-9099-988148b1db2b"
      },
      "execution_count": null,
      "outputs": [
        {
          "output_type": "display_data",
          "data": {
            "text/plain": [
              "<Figure size 432x288 with 1 Axes>"
            ],
            "image/png": "[encoded data removed]"
          },
          "metadata": {
            "needs_background": "light"
          }
        }
      ]
    },
    {
      "cell_type": "markdown",
      "source": [
        "46. $$ a_n = 4 - \\frac{3}{n} $$"
      ],
      "metadata": {
        "id": "GnBN-Per0kDz"
      }
    },
    {
      "cell_type": "markdown",
      "source": [
        "Converge, ya que $ \\frac {g(x)}{\\infty} = 0 $, quedando sólo el término independiente 4"
      ],
      "metadata": {
        "id": "l4bsf00S04DS"
      }
    },
    {
      "cell_type": "code",
      "source": [
        "# Ejercicio 46 - David\n",
        "\n",
        "n = Symbol('n')\n",
        "print(limit(4 - (3/n), n, oo))\n",
        "\n",
        "def func46(n):\n",
        "    return 4 - (3/n)\n",
        "\n",
        "x = np.linspace(1, 50, 20)\n",
        "y = func46(x)\n",
        "plt.plot(x, y, 'r.')\n",
        "plt.title('ejercicio n')\n",
        "plt.grid('grey')\n",
        "plt.axhline(y=4)\n"
      ],
      "metadata": {
        "id": "eKKTjp9G0kRb",
        "colab": {
          "base_uri": "https://localhost:8080/",
          "height": 316
        },
        "outputId": "d9fe841c-0a25-41ec-98ba-5f145d4f11ad"
      },
      "execution_count": null,
      "outputs": [
        {
          "output_type": "stream",
          "name": "stdout",
          "text": [
            "4\n"
          ]
        },
        {
          "output_type": "execute_result",
          "data": {
            "text/plain": [
              "<matplotlib.lines.Line2D at 0x7f6b06be4ee0>"
            ]
          },
          "metadata": {},
          "execution_count": 102
        },
        {
          "output_type": "display_data",
          "data": {
            "text/plain": [
              "<Figure size 432x288 with 1 Axes>"
            ],
            "image/png": "[encoded data removed]"
          },
          "metadata": {
            "needs_background": "light"
          }
        }
      ]
    },
    {
      "cell_type": "markdown",
      "source": [
        "La sucesión geométrica converge en -1 y tiene un limite en y = -1.\n",
        "\n"
      ],
      "metadata": {
        "id": "bjtF_gymxUk3"
      }
    },
    {
      "cell_type": "markdown",
      "source": [
        "47. $$a_n=\\frac{5}{n+2}$$"
      ],
      "metadata": {
        "id": "nZLfST3DjO84"
      }
    },
    {
      "cell_type": "code",
      "source": [
        "# Ejercicio 47 - Mariana\n",
        "\n",
        "n = Symbol('n')\n",
        "print(limit(5/(n+2), n, oo))\n",
        "\n",
        "def func47(n):\n",
        "    return 5/(n+2)\n",
        "\n",
        "x = np.linspace(1, 50, 40)\n",
        "y = func47(x)\n",
        "plt.plot(x, y, 'g.')\n",
        "plt.title('Punto 47')\n",
        "plt.grid(color='grey',linestyle='--')\n",
        "plt.axhline(y=0)"
      ],
      "metadata": {
        "id": "bxwtMBJFp__Y",
        "colab": {
          "base_uri": "https://localhost:8080/",
          "height": 316
        },
        "outputId": "881a08db-9c08-43cb-e029-b9280c5c69af"
      },
      "execution_count": null,
      "outputs": [
        {
          "output_type": "stream",
          "name": "stdout",
          "text": [
            "0\n"
          ]
        },
        {
          "output_type": "execute_result",
          "data": {
            "text/plain": [
              "<matplotlib.lines.Line2D at 0x7f6b06882460>"
            ]
          },
          "metadata": {},
          "execution_count": 103
        },
        {
          "output_type": "display_data",
          "data": {
            "text/plain": [
              "<Figure size 432x288 with 1 Axes>"
            ],
            "image/png": "[encoded data removed]"
          },
          "metadata": {
            "needs_background": "light"
          }
        }
      ]
    },
    {
      "cell_type": "markdown",
      "source": [
        "La sucesión converge a 0 --> su límite es 0"
      ],
      "metadata": {
        "id": "_sf5wZjLqw6A"
      }
    },
    {
      "cell_type": "markdown",
      "source": [
        "48. $$ a_n = \\frac{2}{n!} $$"
      ],
      "metadata": {
        "id": "C7-sVokMQb6S"
      }
    },
    {
      "cell_type": "code",
      "source": [
        " #Ejercicio 48 - Rony\n",
        "def func48(n):\n",
        "  return 2/np.math.factorial(n)\n",
        "\n",
        "x = np.arange(1,50)\n",
        "y = np.array([func48(i) for i in x])\n",
        "\n",
        "print(\"Converge\\n\\nLímite = 0\\n\\n\",y)"
      ],
      "metadata": {
        "id": "40iMeVGUQbbd",
        "colab": {
          "base_uri": "https://localhost:8080/"
        },
        "outputId": "fe5299ca-3e0e-42a0-effd-28a82bf4c271"
      },
      "execution_count": null,
      "outputs": [
        {
          "output_type": "stream",
          "name": "stdout",
          "text": [
            "Converge\n",
            "\n",
            "Límite = 0\n",
            "\n",
            " [2.00000000e+00 1.00000000e+00 3.33333333e-01 8.33333333e-02\n",
            " 1.66666667e-02 2.77777778e-03 3.96825397e-04 4.96031746e-05\n",
            " 5.51146384e-06 5.51146384e-07 5.01042168e-08 4.17535140e-09\n",
            " 3.21180877e-10 2.29414912e-11 1.52943275e-12 9.55895466e-14\n",
            " 5.62291451e-15 3.12384139e-16 1.64412705e-17 8.22063525e-19\n",
            " 3.91458821e-20 1.77935828e-21 7.73634034e-23 3.22347514e-24\n",
            " 1.28939006e-25 4.95919253e-27 1.83673797e-28 6.55977847e-30\n",
            " 2.26199258e-31 7.53997526e-33 2.43225008e-34 7.60078151e-36\n",
            " 2.30326712e-37 6.77431507e-39 1.93551859e-40 5.37644053e-42\n",
            " 1.45309204e-43 3.82392641e-45 9.80493951e-47 2.45123488e-48\n",
            " 5.97862165e-50 1.42348135e-51 3.31042174e-53 7.52368576e-55\n",
            " 1.67193017e-56 3.63463080e-58 7.73325703e-60 1.61109521e-61\n",
            " 3.28794942e-63]\n"
          ]
        }
      ]
    },
    {
      "cell_type": "markdown",
      "source": [
        "49. $$a_n = (-1)^n (\\frac{n}{n+1})$$ <br>\n",
        "\n",
        "La sucesion diverge."
      ],
      "metadata": {
        "id": "ZQ4Z94YcyNGJ"
      }
    },
    {
      "cell_type": "code",
      "source": [
        "def ejercicio49(x):\n",
        "  return ((-1)**x )*(x / (x+1))\n",
        "\n",
        "x = np.linspace(0,100,101)\n",
        "\n",
        "plt.plot(x,ejercicio49(x))\n"
      ],
      "metadata": {
        "id": "ApQRg0x9ywbJ",
        "colab": {
          "base_uri": "https://localhost:8080/",
          "height": 282
        },
        "outputId": "83efed75-159c-4196-9569-21581b719eee"
      },
      "execution_count": null,
      "outputs": [
        {
          "output_type": "execute_result",
          "data": {
            "text/plain": [
              "[<matplotlib.lines.Line2D at 0x7f6b06839310>]"
            ]
          },
          "metadata": {},
          "execution_count": 105
        },
        {
          "output_type": "display_data",
          "data": {
            "text/plain": [
              "<Figure size 432x288 with 1 Axes>"
            ],
            "image/png": "[encoded data removed]"
          },
          "metadata": {
            "needs_background": "light"
          }
        }
      ]
    },
    {
      "cell_type": "markdown",
      "source": [
        "50. $$ a_n = 1 + (-1)^n $$"
      ],
      "metadata": {
        "id": "EqxpRFZqRXPx"
      }
    },
    {
      "cell_type": "markdown",
      "source": [
        "Diverge, ya que $ n^\\infty = \\infty $"
      ],
      "metadata": {
        "id": "-1pD-EVU1JN_"
      }
    },
    {
      "cell_type": "code",
      "source": [
        "# Ejercicio 50 - David\n",
        "\n",
        "def func50(x):\n",
        "    return 1+((-1)**x)\n",
        "\n",
        "x = np.linspace(0, 100, 101)\n",
        "\n",
        "plt.plot(x, func50(x), 'r-')\n",
        "plt.title('ejercicio n')\n",
        "plt.grid('grey')"
      ],
      "metadata": {
        "id": "g3McjFfW1KRP",
        "colab": {
          "base_uri": "https://localhost:8080/",
          "height": 281
        },
        "outputId": "33684ad8-b255-4ebf-9147-c25141ef2cb7"
      },
      "execution_count": null,
      "outputs": [
        {
          "output_type": "display_data",
          "data": {
            "text/plain": [
              "<Figure size 432x288 with 1 Axes>"
            ],
            "image/png": "[encoded data removed]"
          },
          "metadata": {
            "needs_background": "light"
          }
        }
      ]
    },
    {
      "cell_type": "markdown",
      "source": [
        "51. $$a_n=\\frac{3n^2-n+4}{2n^2+1}$$"
      ],
      "metadata": {
        "id": "3NSwZvSaRVPE"
      }
    },
    {
      "cell_type": "code",
      "source": [
        "#Ejercicio 51- Mariana\n",
        "suc51= lambda n: ((3*(n**2))-n+4)/((2*(n**2))+1)\n",
        "n=np.linspace(1,100,101)\n",
        "m=[suc51(n) for n in n]\n",
        "\n",
        "plt.plot(n,m,':')\n",
        "plt.grid()\n",
        "plt.axhline(y=3/2, color='r')\n",
        "plt.show()"
      ],
      "metadata": {
        "id": "4Mf6TGkbr9Ip",
        "colab": {
          "base_uri": "https://localhost:8080/",
          "height": 265
        },
        "outputId": "fd08763f-0229-4f82-8874-41d9278e602d"
      },
      "execution_count": null,
      "outputs": [
        {
          "output_type": "display_data",
          "data": {
            "text/plain": [
              "<Figure size 432x288 with 1 Axes>"
            ],
            "image/png": "[encoded data removed]"
          },
          "metadata": {
            "needs_background": "light"
          }
        }
      ]
    },
    {
      "cell_type": "markdown",
      "source": [
        "La sucesión converge/su límite está en 3/2"
      ],
      "metadata": {
        "id": "_V85qaglvZ2P"
      }
    },
    {
      "cell_type": "markdown",
      "source": [
        "52. $$  a_{n} =   \\frac{ \\sqrt[3]{n} }{ \\sqrt[3]{n} +1 } $$"
      ],
      "metadata": {
        "id": "Tq1NxQ55RCI7"
      }
    },
    {
      "cell_type": "code",
      "source": [
        " #Ejercicio 52 - Rony\n",
        "def func52(n):\n",
        "  return (n**(1/3)) / ((n**(1/3)) + 1)\n",
        "\n",
        "x = np.linspace(0,1000,1001)\n",
        "y = func52(x)\n",
        "\n",
        "printing.init_printing(use_latex='mathjax')\n",
        "n = Symbol('n')\n",
        "\n",
        "print(f\"CONVERGE\\nLimite = {limit(func52(n), n, S.Infinity)} \\n\\n {y}\")\n",
        "\n",
        "plt.plot(x,y,'.')\n",
        "plt.show()"
      ],
      "metadata": {
        "id": "bXZBJkvSVUrL",
        "colab": {
          "base_uri": "https://localhost:8080/",
          "height": 334
        },
        "outputId": "70917dde-b8f8-4022-fb8e-7d08243850f7"
      },
      "execution_count": null,
      "outputs": [
        {
          "output_type": "stream",
          "name": "stdout",
          "text": [
            "CONVERGE\n",
            "Limite = 1 \n",
            "\n",
            " [0.         0.5        0.55750667 ... 0.90903574 0.90906334 0.90909091]\n"
          ]
        },
        {
          "output_type": "display_data",
          "data": {
            "text/plain": [
              "<Figure size 432x288 with 1 Axes>"
            ],
            "image/png": "[encoded data removed]"
          },
          "metadata": {
            "needs_background": "light"
          }
        }
      ]
    },
    {
      "cell_type": "markdown",
      "source": [
        "53. $$a_n =  \\frac{2n-1}{(2n)^n}$$ <br>\n",
        "\n",
        "La sucesion converge en 0 y su limite es en 0."
      ],
      "metadata": {
        "id": "wJJ3mL7I2CfI"
      }
    },
    {
      "cell_type": "code",
      "source": [
        "def ejercicio53(x):\n",
        "  return (2*x - 1)/ (2*x)**x\n",
        "\n",
        "x = np.linspace(1,10)\n",
        "\n",
        "plt.plot(x,ejercicio53(x),\".\")"
      ],
      "metadata": {
        "id": "m42iP8wU2-Yc"
      },
      "execution_count": null,
      "outputs": []
    },
    {
      "cell_type": "markdown",
      "source": [
        "54. $$ a_n = \\frac{2n-1}{n!} $$"
      ],
      "metadata": {
        "id": "fmsZE_EkRMVW"
      }
    },
    {
      "cell_type": "markdown",
      "source": [
        "Converge, ya que $ \\frac {g(x)}{\\infty} = 0 $"
      ],
      "metadata": {
        "id": "h-Q9SDkK1Tyk"
      }
    },
    {
      "cell_type": "code",
      "source": [
        "# Ejercicio 54 - David\n",
        "\n",
        "n = Symbol('n')\n",
        "limit(((2*n)-1)/(factorial(n)), n, oo)"
      ],
      "metadata": {
        "id": "aAXzEn-O1URS"
      },
      "execution_count": null,
      "outputs": []
    },
    {
      "cell_type": "markdown",
      "source": [
        "55. $$ a_n=\\frac{1+(-1)^n}{n} $$\n",
        "\n",
        "El límite es IND\n",
        "\n",
        "Divergente porque es una sucesión alternante"
      ],
      "metadata": {
        "id": "UIemJfeHRNsW"
      }
    },
    {
      "cell_type": "code",
      "source": [
        "#Ejercicio 55 - Mariana\n",
        "\n",
        "def suc55(n):\n",
        "  return (1+((-1)**n))/n\n",
        "\n",
        "n=np.linspace(1,100,101)\n",
        "for i in range(1,11):\n",
        "  print(f\"a_{i}={suc55(i)}\")\n",
        "m=[suc55(n) for n in n]\n",
        "\n",
        "plt.plot(n,m,':')\n",
        "plt.grid()\n",
        "plt.axhline(0, color='r')\n",
        "plt.show()\n",
        "\n"
      ],
      "metadata": {
        "id": "nKwWA-6Ly6ui",
        "colab": {
          "base_uri": "https://localhost:8080/",
          "height": 473
        },
        "outputId": "4336d2c4-f328-4793-89bb-0f04a4ec3da5"
      },
      "execution_count": null,
      "outputs": [
        {
          "output_type": "stream",
          "name": "stdout",
          "text": [
            "a_1=0.0\n",
            "a_2=1.0\n",
            "a_3=0.0\n",
            "a_4=0.5\n",
            "a_5=0.0\n",
            "a_6=0.3333333333333333\n",
            "a_7=0.0\n",
            "a_8=0.25\n",
            "a_9=0.0\n",
            "a_10=0.2\n"
          ]
        },
        {
          "output_type": "stream",
          "name": "stderr",
          "text": [
            "<ipython-input-12-0eeb0509b018>:4: RuntimeWarning: invalid value encountered in double_scalars\n",
            "  return (1+((-1)**n))/n\n"
          ]
        },
        {
          "output_type": "display_data",
          "data": {
            "text/plain": [
              "<Figure size 432x288 with 1 Axes>"
            ],
            "image/png": "[encoded data removed]"
          },
          "metadata": {
            "needs_background": "light"
          }
        }
      ]
    },
    {
      "cell_type": "code",
      "source": [
        "import IPython.display as display\n",
        "#Graficar en geogebra porque en python no sale la gráfica:\n",
        "fig01 = \"\"\"\n",
        "<iframe width=\"800\" height=\"600\" src=\"https://www.geogebra.org/m/XJzgVdRE\" style=\"border: 1px solid black\"></iframe>\n",
        "\"\"\"\n",
        "display.HTML(fig01)"
      ],
      "metadata": {
        "id": "IjWxJAFydx0z",
        "colab": {
          "base_uri": "https://localhost:8080/",
          "height": 623
        },
        "outputId": "ce1b8746-0c6c-4364-fe65-da701ccdfa38"
      },
      "execution_count": null,
      "outputs": [
        {
          "output_type": "execute_result",
          "data": {
            "text/plain": [
              "<IPython.core.display.HTML object>"
            ],
            "text/html": [
              "\n",
              "<iframe width=\"800\" height=\"600\" src=\"https://www.geogebra.org/m/XJzgVdRE\" style=\"border: 1px solid black\"></iframe>\n"
            ]
          },
          "metadata": {},
          "execution_count": 11
        }
      ]
    },
    {
      "cell_type": "markdown",
      "source": [
        "56. $$ a_n = \\frac {1+(-1)^2}{n^2} $$"
      ],
      "metadata": {
        "id": "cDxeFd96RPLN"
      }
    },
    {
      "cell_type": "code",
      "source": [
        " #Ejercicio 56 - Rony\n",
        "def func56(n):\n",
        "  return (1 + (-1)**n ) / (n**2)\n",
        "\n",
        "x = np.linspace(1,100,100)\n",
        "y = func56(x)\n",
        "\n",
        "print(\"converge\\n\\nLimite = 0\\n\\n\",y)\n",
        "\n",
        "plt.ylim(0,0.005)\n",
        "\n",
        "plt.plot(x,y,'.')\n",
        "plt.show()"
      ],
      "metadata": {
        "id": "1-pNdD_IYiJu"
      },
      "execution_count": null,
      "outputs": []
    },
    {
      "cell_type": "markdown",
      "source": [
        "57. $$a_n = \\frac{ln(n^3)}{2n}$$"
      ],
      "metadata": {
        "id": "7wbZcwoYz7Hq"
      }
    },
    {
      "cell_type": "markdown",
      "source": [
        "La sucesion converge y tiene un limite en 0."
      ],
      "metadata": {
        "id": "fhCNQ5lOtgEK"
      }
    },
    {
      "cell_type": "code",
      "source": [
        "def ejercicio57(n):\n",
        "    return 3/2 * (np.log(n) / n)\n",
        "\n",
        "z = np.linspace(1,100,101)\n",
        "\n",
        "print(limit(ejercicio57(x),x,S.Infinity))\n",
        "\n",
        "plt.plot(z,ejercicio57(z),\".\")"
      ],
      "metadata": {
        "id": "IZ6iDeTq0EFW"
      },
      "execution_count": null,
      "outputs": []
    },
    {
      "cell_type": "markdown",
      "source": [
        "58. $$ a_n = \\frac{ln \\sqrt {n}}{n} $$"
      ],
      "metadata": {
        "id": "HIu1JZXoRfm0"
      }
    },
    {
      "cell_type": "markdown",
      "source": [
        "Converge, ya que $ \\frac {g(x)}{\\infty} = 0 $"
      ],
      "metadata": {
        "id": "dfRkO9VI1gDI"
      }
    },
    {
      "cell_type": "code",
      "source": [
        "# Ejercicio 58 - David\n",
        "\n",
        "n = Symbol('n')\n",
        "limit(log(sqrt(n))/n, n, oo)"
      ],
      "metadata": {
        "id": "n79AZXPa1gQj"
      },
      "execution_count": null,
      "outputs": []
    },
    {
      "cell_type": "markdown",
      "source": [
        "59. $$ a_n=\\frac{3^n}{4^n}$$\n",
        "\n",
        "CONVERGE a 0"
      ],
      "metadata": {
        "id": "PtGZuQ6ARhS2"
      }
    },
    {
      "cell_type": "code",
      "source": [
        "#Ejercicio 59 - Mariana\n",
        "n=Symbol('n')\n",
        "limit((3**n)/(4**n),n, oo)"
      ],
      "metadata": {
        "id": "Em-BLPG8_89n"
      },
      "execution_count": null,
      "outputs": []
    },
    {
      "cell_type": "markdown",
      "source": [
        "60. $$ a_n = (0.5)^n $$"
      ],
      "metadata": {
        "id": "f_8dV3xYRijy"
      }
    },
    {
      "cell_type": "code",
      "source": [
        " #Ejercicio 60 - Rony\n",
        "def a(n):\n",
        "  return 1/2**n\n",
        "\n",
        "x = np.linspace(1,100,100)\n",
        "y = a(x)\n",
        "\n",
        "print(\"Converge\\n\\n Limite = 0\\n\\n\",y)"
      ],
      "metadata": {
        "id": "7X2b30qkdzq8"
      },
      "execution_count": null,
      "outputs": []
    },
    {
      "cell_type": "markdown",
      "source": [
        "61. $$a_n = \\frac{(n+1)!}{n!}$$\n",
        "El limite diverge."
      ],
      "metadata": {
        "id": "wDvse-Pl3rCD"
      }
    },
    {
      "cell_type": "markdown",
      "source": [
        "62. $$ a_n = \\frac {(n-2)!}{n!} $$"
      ],
      "metadata": {
        "id": "NnjJ603YRl5U"
      }
    },
    {
      "cell_type": "markdown",
      "source": [
        "Converge, ya que $ \\frac {g(x)}{\\infty} = 0 $"
      ],
      "metadata": {
        "id": "8o_BeUUx1mOk"
      }
    },
    {
      "cell_type": "code",
      "source": [
        "# Ejercicio 62 - David\n",
        "\n",
        "n = Symbol('n')\n",
        "limit(factorial(n-2)/factorial(n), n, oo)"
      ],
      "metadata": {
        "id": "5rBWIvLz1md9"
      },
      "execution_count": null,
      "outputs": []
    },
    {
      "cell_type": "markdown",
      "source": [
        "63. $$ a_n= \\frac{n-1}{n}-\\frac{n}{n-1}, n≥2 $$\n",
        "\n",
        "Converge en 0:\n",
        "\n",
        "$\\frac{n}{n}=1$\n",
        "\n",
        "$:. 1-1=0$"
      ],
      "metadata": {
        "id": "qxF8VUECRmyU"
      }
    },
    {
      "cell_type": "code",
      "source": [
        "#Ejercicio 63 - Mariana\n",
        "\n",
        "n=Symbol('n')\n",
        "limit(((n-1)/n)-(n/(n-1)), n, oo)\n",
        "\n",
        "\n"
      ],
      "metadata": {
        "id": "QvRlCepuCgYc"
      },
      "execution_count": null,
      "outputs": []
    },
    {
      "cell_type": "markdown",
      "source": [
        "64. $$ a_n = \\frac{n^2}{2n+1} - \\frac{n^2}{2n-1} $$"
      ],
      "metadata": {
        "id": "lIJEP_AqRnyu"
      }
    },
    {
      "cell_type": "code",
      "source": [
        "#Ejercicio 64 - Rony\n",
        "def a(n):\n",
        "  return (n**2 / ((2*n) +1)) - (n**2 /((2*n) -1) )\n",
        "\n",
        "x = np.linspace(0,100,101)\n",
        "y = a(x)\n",
        "\n",
        "printing.init_printing(use_latex='mathjax')\n",
        "n = Symbol('n')\n",
        "\n",
        "print(\"Converge\\n\\nLimite = \",limit(a(n),n,S.Infinity),\"\\n\\n\",y)\n",
        "\n",
        "plt.plot(x,y,'.')\n",
        "plt.show"
      ],
      "metadata": {
        "id": "EKA-ZpotePg8"
      },
      "execution_count": null,
      "outputs": []
    },
    {
      "cell_type": "markdown",
      "source": [
        "65. $$a_n = \\frac{n^p}{e^n}$$\n",
        "\n"
      ],
      "metadata": {
        "id": "U4gvB69x9suS"
      }
    },
    {
      "cell_type": "markdown",
      "source": [
        "El nominador es una exprecion polinomica y el denominador es una exprecion exponencial que crece mucho mas rapido que la funcion polinomica. Por este motivo esta susecion"
      ],
      "metadata": {
        "id": "zzTrnukKx25w"
      }
    },
    {
      "cell_type": "code",
      "source": [
        "#Cabe aclarar que \"2\" es un valor aleatorio puesto para que la funcion pueda hacer los calculos.\n",
        "#Pero el limite de esta susecion se calcula por teoria.\n",
        "\n",
        "def ejercicio65(n):\n",
        "    return 2 / np.e**n\n",
        "\n",
        "limit(ejercicio65(x),x,S.Infinity)"
      ],
      "metadata": {
        "id": "pNyAkJ6v98bv"
      },
      "execution_count": null,
      "outputs": []
    },
    {
      "cell_type": "markdown",
      "source": [
        "El limite de la susecion converge en 0"
      ],
      "metadata": {
        "id": "m-_z5ZaZ--TG"
      }
    },
    {
      "cell_type": "markdown",
      "source": [
        "66. $$ a_n = n \\sin \\frac {1}{n} $$"
      ],
      "metadata": {
        "id": "kscPU299RwN_"
      }
    },
    {
      "cell_type": "markdown",
      "source": [
        "Converge, ya que $ \\lim_{n \\rightarrow \\infty} a_n = n \\sin \\frac {1}{n} $"
      ],
      "metadata": {
        "id": "TBWvZs_e11lM"
      }
    },
    {
      "cell_type": "code",
      "source": [
        "# Ejercicio 66 - David\n",
        "\n",
        "n = Symbol('n')\n",
        "print(limit(n*sin(1/n), n, oo))\n",
        "\n",
        "def func66(x):\n",
        "    result = np.sin(1/x)\n",
        "    result *= x\n",
        "    return result\n",
        "\n",
        "x = np.linspace(-100, 100, 110)\n",
        "y = [func66(n) for n in x]\n",
        "plt.plot(x, func66(x), 'r')\n",
        "plt.title('Ejercicio 66')\n",
        "plt.grid('grey')\n",
        "plt.axhline(y=1)"
      ],
      "metadata": {
        "id": "haYRd5Gm11y_"
      },
      "execution_count": null,
      "outputs": []
    },
    {
      "cell_type": "markdown",
      "source": [
        "67. $$ a_n=2^{1/n} $$\n",
        "\n",
        "Converge a 1. Cuando $n \\in R^+$"
      ],
      "metadata": {
        "id": "oWzcKpqxRyL3"
      }
    },
    {
      "cell_type": "code",
      "source": [
        "#Ejercicio 67 - Mariana\n",
        "n=Symbol('n')\n",
        "print(limit(2**(1/n),n,oo))\n",
        "\n",
        "suc67= lambda n: 2**(1/n)\n",
        "\n",
        "x = np.linspace(1, 50, 51)\n",
        "y = [suc67(n) for n in x]\n",
        "plt.plot(x, suc67(x), 'g.')\n",
        "plt.title('Ejercicio 67')\n",
        "plt.grid(color=\"grey\", linestyle=\"--\")\n",
        "plt.axhline(y=1)"
      ],
      "metadata": {
        "id": "bsReG91lGk0e"
      },
      "execution_count": null,
      "outputs": []
    },
    {
      "cell_type": "markdown",
      "source": [
        "68. $$ a_n = -3^n $$"
      ],
      "metadata": {
        "id": "5UU9Ru7iR0w_"
      }
    },
    {
      "cell_type": "code",
      "source": [
        " #Ejercicio 68 - Rony\n",
        "def func68(n):\n",
        "  return -(1/3**n)\n",
        "\n",
        "x = np.linspace(0,100,101)\n",
        "y = func68(x)\n",
        "\n",
        "printing.init_printing(use_latex='mathjax')\n",
        "n = Symbol('n')\n",
        "\n",
        "print(\"Converge\\n\\nLimite = \",limit(a(n),n,S.Infinity),\"\\n\\n\",y)\n",
        "\n",
        "plt.plot(x,y,'.')\n",
        "plt.show"
      ],
      "metadata": {
        "id": "vjyXXt3of8Hw"
      },
      "execution_count": null,
      "outputs": []
    },
    {
      "cell_type": "markdown",
      "source": [
        "69. La sucesión $a_n = (1 + \\frac{k}{n})^n$ es el numero de euler a la K $e^k$\n",
        "\n",
        "Formula de euler = $(1+\\frac{1}{n})^n$ = $e^1$"
      ],
      "metadata": {
        "id": "XoRlUQTcApCy"
      }
    },
    {
      "cell_type": "markdown",
      "source": [
        "70. $$ a_n = (1 + \\frac {1}{n^2})^n $$"
      ],
      "metadata": {
        "id": "4uRZTN_0RsDz"
      }
    },
    {
      "cell_type": "markdown",
      "source": [
        "Converge, $ \\lim_{n \\rightarrow \\infty} a_n = (1 + \\frac {1}{n^2})^n = 1 $"
      ],
      "metadata": {
        "id": "u5S_K1uGhWKL"
      }
    },
    {
      "cell_type": "code",
      "source": [
        "# Ejercicio 70 - David\n",
        "\n",
        "func70 = lambda x: (1+(1/(x**2)))**x\n",
        "\n",
        "x = np.linspace(1, 50, 5050)\n",
        "y = [func70(n) for n in x]\n",
        "plt.plot(x, func70(x), 'r-')\n",
        "plt.title('Ejercicio 70')\n",
        "plt.grid('grey')\n",
        "plt.axhline(y=1)"
      ],
      "metadata": {
        "id": "39QWkfEqhWcy"
      },
      "execution_count": null,
      "outputs": []
    },
    {
      "cell_type": "markdown",
      "source": [
        "71. $$ a_n=\\frac{sen (n)}{n} $$"
      ],
      "metadata": {
        "id": "hn6U24_5SEp6"
      }
    },
    {
      "cell_type": "code",
      "source": [
        "#Ejercicio 71 - Mariana\n",
        "suc71 = lambda n: (np.sin(n))/n\n",
        "n=np.linspace(1,50,51)\n",
        "m=[suc71(n) for n in n]\n",
        "\n",
        "plt.plot(n,m,'b:')\n",
        "plt.grid()\n",
        "plt.axhline(y=0, color='red')\n",
        "plt.show()"
      ],
      "metadata": {
        "id": "9KfAtUgOJAUu"
      },
      "execution_count": null,
      "outputs": []
    },
    {
      "cell_type": "markdown",
      "source": [
        "La sucesión diverge, porque al ser $sen(n)$ es alternante"
      ],
      "metadata": {
        "id": "j1dn_9iV33dh"
      }
    },
    {
      "cell_type": "markdown",
      "source": [
        "72. $$ a_n = \\frac{Cos(πn)}{n^2} $$"
      ],
      "metadata": {
        "id": "DibgJ3RlSGt2"
      }
    },
    {
      "cell_type": "code",
      "source": [
        " #Ejercicio 72 - Rony\n",
        "def func72(n):\n",
        "  return (np.cos(np.pi * n))/ (n**2)\n",
        "\n",
        "x = np.arange(1,250)\n",
        "y = func72(x)\n",
        "\n",
        "print(\"Diverge\\n\\n\",y)"
      ],
      "metadata": {
        "id": "UQydfeLIqzJI"
      },
      "execution_count": null,
      "outputs": []
    },
    {
      "cell_type": "markdown",
      "source": [
        "##73-86"
      ],
      "metadata": {
        "id": "2OyCLUXVapNs"
      }
    },
    {
      "cell_type": "markdown",
      "source": [
        "73. $$1,4,7,10$$\n",
        "\n",
        "$→ a_{n+1} = an+3$"
      ],
      "metadata": {
        "id": "xUcdGdh2SHx8"
      }
    },
    {
      "cell_type": "code",
      "source": [
        "\n",
        "list73 = [0, 1]\n",
        "\n",
        "for i in range(1, 5):\n",
        "    list73.append(list73[i]+3)\n",
        "\n",
        "print(list73[1:6])\n"
      ],
      "metadata": {
        "id": "m5iSwxrDzyis"
      },
      "execution_count": null,
      "outputs": []
    },
    {
      "cell_type": "markdown",
      "source": [
        "74. $$ 3, 7, 11, 15\\dots $$\n",
        "****"
      ],
      "metadata": {
        "id": "XH8R5ea3SIse"
      }
    },
    {
      "cell_type": "markdown",
      "source": [
        "$ a_n = 4n-1 $"
      ],
      "metadata": {
        "id": "tMvy0wJqiGxT"
      }
    },
    {
      "cell_type": "code",
      "source": [
        "# Ejercicio 74 - David\n",
        "\n",
        "func74 = lambda x: (4*x)-1\n",
        "\n",
        "x = np.arange(1,10)\n",
        "\n",
        "print(func74(x))\n"
      ],
      "metadata": {
        "id": "yuHX0wAyiHGB"
      },
      "execution_count": null,
      "outputs": []
    },
    {
      "cell_type": "markdown",
      "source": [
        "75. $$ -1, 2, 7, 14, 23, ... $$\n",
        "\n",
        "Expresión para el término enésimo de la sucesión $⇒ a_n=n^2-2$\n",
        "****"
      ],
      "metadata": {
        "id": "DLor8jeQSJ4M"
      }
    },
    {
      "cell_type": "markdown",
      "source": [
        "76. $$ 1, - \\frac {1}{4}, \\frac {1}{9}, - \\frac {1}{16} ...$$\n",
        "\n",
        "$⇒ a_n = \\frac{-1^n}{(n+1)^2} $\n",
        "\n",
        "****"
      ],
      "metadata": {
        "id": "zLJ5FRKHSK8R"
      }
    },
    {
      "cell_type": "code",
      "source": [
        "#Ejercicio 76 - Rony\n",
        "def func76(n):\n",
        "  return ((-1)**n) / ((n + 1)**2)\n",
        "\n",
        "x = np.arange(0,4)\n",
        "y = func76(x)\n",
        "\n",
        "print(y)"
      ],
      "metadata": {
        "id": "_1CHjBI8mzjZ"
      },
      "execution_count": null,
      "outputs": []
    },
    {
      "cell_type": "markdown",
      "source": [
        "77. $$\\frac{2}{3},\\frac{3}{4},\\frac{4}{5},\\frac{5}{6} $$\n",
        "\n",
        "$⇒ a_n = \\frac{n+1}{n+2}$\n",
        "****"
      ],
      "metadata": {
        "id": "QEJKm2XwB8Ol"
      }
    },
    {
      "cell_type": "code",
      "source": [
        "def func77(n):\n",
        "    return (n+1)/(n+2)\n",
        "\n",
        "for i in range(1, 7):\n",
        "    print(str(Fraction(func77(i)).limit_denominator()))"
      ],
      "metadata": {
        "id": "_3cgs0WV0a9M"
      },
      "execution_count": null,
      "outputs": []
    },
    {
      "cell_type": "markdown",
      "source": [
        "78. $$ 2, -1, \\frac {1}{2}, - \\frac {1}{4}, \\frac {1}{8} $$\n",
        "****"
      ],
      "metadata": {
        "id": "0YLmbbF9SMol"
      }
    },
    {
      "cell_type": "markdown",
      "source": [
        "$ a_n = 2(- \\frac {1}{2})^{n-1} $"
      ],
      "metadata": {
        "id": "bzqCQXkdiRG8"
      }
    },
    {
      "cell_type": "code",
      "source": [
        "func78 = lambda n: 2*(-1/2)**(n-1)\n",
        "\n",
        "x = np.arange(1, 10)\n",
        "print(func78(x))"
      ],
      "metadata": {
        "id": "I-djU-Y-iRaD"
      },
      "execution_count": null,
      "outputs": []
    },
    {
      "cell_type": "markdown",
      "source": [
        "79. $$ 2, 1+\\frac{1}{2}, 1+\\frac{1}{3}, 1+\\frac{1}{4}, 1+\\frac{1}{5}, ... $$\n",
        "\n",
        "Expresión para el término enésimo de la sucesión $⇒ a_n=1+\\frac{1}{n}$\n",
        "\n",
        "****"
      ],
      "metadata": {
        "id": "CtUuQt-ZSOBi"
      }
    },
    {
      "cell_type": "markdown",
      "source": [
        "80. $$ 1 + \\frac{1}{2} , 1 + \\frac{3}{4}, 1 + \\frac{7}{8}, 1 + \\frac{15}{16}, 1 + \\frac{31}{32} ...$$\n",
        "$ ⇒ a_n = 1 + \\frac{2^n-1}{2^n}$\n",
        "\n",
        "***"
      ],
      "metadata": {
        "id": "ettOpqhlSPil"
      }
    },
    {
      "cell_type": "code",
      "source": [
        "#Ejercicio 80 - Rony\n",
        "def func80(n):\n",
        "  return 1 + (((2**n) - 1) / (2**n))\n",
        "\n",
        "x = np.arange(1,5)\n",
        "y = func80(x)\n",
        "\n",
        "print(y)"
      ],
      "metadata": {
        "id": "WyAS2rsUqafl"
      },
      "execution_count": null,
      "outputs": []
    },
    {
      "cell_type": "markdown",
      "source": [
        "81. $$\\frac{1}{2*3},\\frac{2}{3*4},\\frac{3}{4*5} → a_n = \\frac{n}{(n+1)(n+2)}$$"
      ],
      "metadata": {
        "id": "V8jK_NmoCmkl"
      }
    },
    {
      "cell_type": "code",
      "source": [
        "def ejercicio81(n):\n",
        "  a = n\n",
        "  b = ((n+1) * (n+2))\n",
        "  return a / b\n",
        "\n",
        "for i in range(1,7):\n",
        "  print(str(Fraction(ejercicio81(i)).limit_denominator()))"
      ],
      "metadata": {
        "id": "iHBw0AQh01fS"
      },
      "execution_count": null,
      "outputs": []
    },
    {
      "cell_type": "markdown",
      "source": [
        "82. $$ 1, \\frac {1}{2}, \\frac {1}{6}, \\frac {1}{24}, \\frac {1}{120} $$"
      ],
      "metadata": {
        "id": "6pN2FWlGSSNA"
      }
    },
    {
      "cell_type": "markdown",
      "source": [
        "$ a_n = \\frac{1}{(2)^{n-1}} $"
      ],
      "metadata": {
        "id": "iB92oqb51l6T"
      }
    },
    {
      "cell_type": "code",
      "source": [
        "# Ejercicio 82 - David\n",
        "\n",
        "func82 = lambda x: 1/((2)**(x-1))\n",
        "\n",
        "for i in range(1, 10):\n",
        "    print(func82(i))"
      ],
      "metadata": {
        "id": "b0p9IN5p1mKz"
      },
      "execution_count": null,
      "outputs": []
    },
    {
      "cell_type": "markdown",
      "source": [
        "83. $$ 1,\\frac{-1}{1*3},\\frac{1}{1*3*5},\\frac{-1}{1*3*5*7},  ... $$\n",
        "\n",
        "Expresión para el término enésimo de la sucesión $⇒ a_n=\\frac{(-1)^{n+1}}{(2n-1)!!}$\n",
        "\n",
        "****"
      ],
      "metadata": {
        "id": "ZiH84Df7SUJQ"
      }
    },
    {
      "cell_type": "markdown",
      "source": [
        "84. $$ 1, x, \\frac{x^2}{2}, \\frac{x^3}{6}, \\frac{x^4}{24}, \\frac{x^5}{120}... $$\n",
        "$ ⇒ a_n = \\frac{x^n}{n!} $\n",
        "\n",
        "***"
      ],
      "metadata": {
        "id": "LbSaef9uSVEY"
      }
    },
    {
      "cell_type": "code",
      "source": [
        "def a(n):\n",
        "  return ((2**n) / np.math.factorial(n))\n",
        "\n",
        "x = np.arange(0,6)\n",
        "y = np.array([a(i) for i in x])\n",
        "\n",
        "print(y)"
      ],
      "metadata": {
        "id": "7ZZGE_TLpKxB"
      },
      "execution_count": null,
      "outputs": []
    },
    {
      "cell_type": "markdown",
      "source": [
        "85. $$2,24,720,40320,3628800,...$$\n",
        "\n",
        "$→ a_n =(2n)!$"
      ],
      "metadata": {
        "id": "PJi1n45mD2G6"
      }
    },
    {
      "cell_type": "code",
      "source": [
        "def ejercicio85(n):\n",
        "  return np.math.factorial(2*n)\n",
        "\n",
        "for i in range(1,7):\n",
        "  print(ejercicio85(i))"
      ],
      "metadata": {
        "id": "3ZCzuSBi2WVc"
      },
      "execution_count": null,
      "outputs": []
    },
    {
      "cell_type": "markdown",
      "source": [
        "86. $$ 1, 6, 120, 5040, 362880 $$"
      ],
      "metadata": {
        "id": "b4jTWujPSZrj"
      }
    },
    {
      "cell_type": "markdown",
      "source": [
        "$ a_n = (2n+1)! $"
      ],
      "metadata": {
        "id": "L6_ZoQCH1ZwK"
      }
    },
    {
      "cell_type": "code",
      "source": [
        "# Ejercicio 86 - David\n",
        "\n",
        "func86 = lambda x: math.factorial((2*x)+1)\n",
        "\n",
        "for i in range(10):\n",
        "    print(func86(i))"
      ],
      "metadata": {
        "id": "3EUg_8Ue1aFM"
      },
      "execution_count": null,
      "outputs": []
    },
    {
      "cell_type": "markdown",
      "source": [
        "##<font color=20B2AA>103\n",
        "\n",
        "La sucesión $a_n$ tiene limite porque es una sucesión acotada, es decir, sus valores en $ y $ estan determinados dentro de un rango [2,4] siendo $y = 4$ su limite si la sucesión es creciente"
      ],
      "metadata": {
        "id": "l_wH6TK4at9_"
      }
    },
    {
      "cell_type": "markdown",
      "source": [
        "##105\n",
        "R/ La sucesión no es convergente debido a que cualquier número al infinito da infinto por lo que el limite de N al infinito va a ser infinito."
      ],
      "metadata": {
        "id": "ao_9DOBpayRY"
      }
    },
    {
      "cell_type": "code",
      "source": [
        "def interesCompuesto(x):\n",
        "  return 10000*((1 + (0.055/12))**x)\n",
        "\n",
        "for i in range(10):\n",
        "  print(interesCompuesto(i))"
      ],
      "metadata": {
        "id": "Ue5DizkJEba3"
      },
      "execution_count": null,
      "outputs": []
    },
    {
      "cell_type": "markdown",
      "source": [
        "##<font color=20B2AA>106"
      ],
      "metadata": {
        "id": "oJWN_SIza0hC"
      }
    },
    {
      "cell_type": "code",
      "source": [
        "def interesCompuesto106(year):\n",
        "  return 100*(401)*((1.0025**year)-1)\n",
        "print(\"a)\\n\")\n",
        "for i in range(6):\n",
        "  print(interesCompuesto106(i))\n",
        "\n",
        "print(f\"\\nb)\\nEl balance de la cuenta despues de 5 años es de: {interesCompuesto106(60)}\")\n",
        "\n",
        "print(f\"\\nc)\\nEl balance de la cuenta despues de 20 años es: {interesCompuesto106(240)}\")"
      ],
      "metadata": {
        "id": "duf-NBt-3W-f"
      },
      "execution_count": null,
      "outputs": []
    },
    {
      "cell_type": "markdown",
      "source": [
        "##108\n",
        "###**Definiciones**\n",
        "a) *Sucesión:*\n",
        "\n",
        "Una sucesión es un conjunto o arreglo ordenado de términos ($a_1, a_2, a_3,...$) El número pequeño se llama subindice y es el encargado de indicar en que posición del arreglo está el término.\n",
        "\n",
        "b) *Convergencia de una sucesión:*\n",
        "\n",
        "La convergencia de una sucesión indica que el límite es finito. En otras palabra, es cuando la sucesión tiende a una $K$ (constante).\n",
        "\n",
        "c) *Sucesión monótona:*\n",
        "\n",
        "Las sucesiones monótonas se calsifican en:\n",
        "* Estrictamente crecientes:\n",
        "\n",
        "  Cada término es mayor que el anterior\n",
        "* Crecientes:\n",
        "\n",
        "  Cada término es mayor o igual al anterior\n",
        "* Estrictamente decrecientes:\n",
        "\n",
        "  Cada término en menor que el anterior\n",
        "* Decrecientes:\n",
        "\n",
        "  Cada término es menor o igual que el anterior\n",
        "\n",
        "\n",
        "d) *Sucesión acotada:*\n",
        "\n",
        "Una sucesión acotada es en la que todos sus términos están entre $k≤a_n≤K'$\n",
        "\n",
        "($k→$Cota)\n",
        "\n",
        "Es decir que existe:\n",
        "* Sucesión acotada inferiormente:\n",
        "\n",
        "  TODOS sus términos son mayores o iguales que $k→ a_n≥k$\n",
        "  * A la mayor de la cotas se le dice: Extremo inferior (Si hace párte de los términos entonces se llama mínimo)\n",
        "\n",
        "* Sucesión acotada superiormente:\n",
        "\n",
        "  TODOS sus términos son menores o iguales que $K'→ a_n \\leq K'$\n",
        "  * A la menor de la cotas se le dice: Extremo superior (Si hace párte de los términos entonces se llama máximo)\n",
        "\n",
        "\n"
      ],
      "metadata": {
        "id": "hkbF7aRRa23R"
      }
    },
    {
      "cell_type": "markdown",
      "source": [
        "##<font color=20B2AA>109.  \n",
        "<font color=FFFFFF> $$ 2, -1, \\frac {1}{2}, - \\frac {1}{4}, \\frac {1}{8} $$"
      ],
      "metadata": {
        "id": "PjW8N6_Ka4XD"
      }
    },
    {
      "cell_type": "markdown",
      "source": [
        "Corresponde a la sucesion del ejercicio 78, $ a_n = 2(- \\frac {1}{2})^{n-1} $"
      ],
      "metadata": {
        "id": "KIjo1yto0wou"
      }
    },
    {
      "cell_type": "code",
      "source": [
        "#Ejercicio 109 - David\n",
        "func109 = lambda n: 2*(-1/2)**(n-1)\n",
        "\n",
        "x = range(1, 6)\n",
        "y = [func109(x) for x in x]\n",
        "plt.plot(x, y, 'r.')\n",
        "plt.title(\"Ejercicio 86\")\n",
        "plt.grid(True)\n",
        "plt.axhline(y=0)\n",
        "plt.show()"
      ],
      "metadata": {
        "id": "mrrwHuUe0w89"
      },
      "execution_count": null,
      "outputs": []
    }
  ]
}