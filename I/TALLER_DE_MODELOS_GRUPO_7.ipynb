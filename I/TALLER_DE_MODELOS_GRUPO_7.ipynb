{
  "nbformat": 4,
  "nbformat_minor": 0,
  "metadata": {
    "colab": {
      "provenance": [],
      "collapsed_sections": [
        "gycgQU9g-fKI",
        "A0LgH7ApCYLc",
        "E8L4ILmGFuY5",
        "n0WDK63Q-2hz",
        "Ld8zrvJqq34j"
      ]
    },
    "kernelspec": {
      "name": "python3",
      "display_name": "Python 3"
    },
    "language_info": {
      "name": "python"
    }
  },
  "cells": [
    {
      "cell_type": "markdown",
      "source": [
        "#<font color= 688E23> **TALLER DE MODELOS**\n",
        "---\n",
        "###*Grupo 7:*\n",
        "* Mariana Agudelo\n",
        "* Juan José De la Pava\n",
        "* David Esteban Dulce\n",
        "* Rony Farid Ordoñez\n",
        "---"
      ],
      "metadata": {
        "id": "Ujw1AKDCerBp"
      }
    },
    {
      "cell_type": "markdown",
      "source": [
        "#<font color= 688E23>Carbono 14\n",
        "\n",
        "$^{14}C$ o carbono 14 es un isótopo radiactivo del carbono, que posiblemente se haya formado a una tasa constante en la atmósfera, por interacción de rayos cósmicos con nitrógeno 14.\n",
        "\n",
        "El método de fechado con carbono , inventado por el químico Willard Libby alrededor de 1950, se basa en que una planta o un animal absorbe 14C por los procesos de respiración y alimentación, y cesa de absorberlo cuando muere. Como se verá en el ejemplo que sigue, el procedimiento de fechado con carbono se basa en el conocimiento de la vida media del 14C, que es de unos **5 730** años. El carbono 14 decae y forma el nitrógeno 14 original.\n",
        "\n",
        "Libby ganó el Premio Nobel de Química por sus trabajos; su método se ha usado\n",
        "hasta la fecha para fechar muebles de madera encontrados en las tumbas egipcias, los rollos del Mar Muerto, escritos en papiro y pieles animales, y el famoso Sudario de Turín, de lino, así como un ejemplar del Evangelio Gnóstico de Judas, recientemente descubierto y escrito en papiro\n",
        "\n",
        "1. Se analizó un hueso fósil y se determinó que contiene $\\frac{1}{1000}$ de la cantidad de $^{14}C$ que contenía el organismo cuando estaba vivo. Determinar la edad aproximada del fósil\n",
        "\n",
        "2. En las paredes y techos de una caverna en Lascaux, Francia,\n",
        "se encontraron dibujos hechos con carbón vegetal.\n",
        "Determine la edad aproximada de las figuras, si se determinó que 86% del $^{14}C$ de un trozo de carbón vegetal que\n",
        "se encontró en la cueva había decaído por radiactividad\n",
        "\n",
        "3. En 1991, unos alpinistas encontraron un cuerpo conservado de un hombre, parcialmente congelado, en un glaciar de los Alpes Austriacos. Se encontró, con técnicas de fechado con carbono, que el cuerpo de Ötzi, como se llamó\n",
        "a ese hombre de las nieves, contenía 53% del $^{14}C$ que contiene una persona viva. ¿Cuál es la fecha aproximada de su muerte?"
      ],
      "metadata": {
        "id": "gycgQU9g-fKI"
      }
    },
    {
      "cell_type": "markdown",
      "source": [
        "##1.\n",
        "\n",
        "$A=A_o\\:e^{-kt}\\:$ → Modelo del crecimiento (o decaimiento) exponencial\n",
        "\n",
        "$A=\\frac{1}{1000}A_o\\:$ → La cantidad de Carbono 14 presente cuando el organismo cuando estaba vivo.\n",
        "\n",
        "Para poder determinar la edad aproximada del fósil primero hay que encontrar la constante de decaimiento $k$ teniendo en cuenta la edad media del carbono 14 (5730).\n",
        "\n",
        "$$\\frac{1}{2}A_o=A_o\\:e^{-k(5730)}\\:$$\n",
        "\n",
        "$$\\frac{1}{2}=\\:e^{-k(5730)}\\:$$\n",
        "\n",
        "$$ln(\\frac{1}{2})\\:=-k(5730)$$\n",
        "\n",
        "$$\\frac{ln(\\frac{1}{2})}{5730}\\:=\\:-k$$\n",
        "\n",
        "Con la constante ya podremos determinar la edad aproximada del fósil.\n",
        "\n",
        "\n",
        "$$\\frac{1}{1000}A_o=A_o\\:e^{(\\frac{ln(\\frac{1}{2})}{5730})t}\\:$$\n",
        "\n",
        "$$\\frac{1}{1000}=\\:e^{(\\frac{ln(\\frac{1}{2})}{5730})t}\\:$$\n",
        "\n",
        "$$ln(\\frac{1}{1000})\\:=\\: (\\frac{ln(\\frac{1}{2})}{5730})t$$\n",
        "$$\\:$$\n",
        "\n",
        "$$\\frac{5730ln(\\frac{1}{1000})}{ln(\\frac{1}{2})}\\:=\\:t$$\n",
        "\n",
        "$$57.104 ≈ t$$\n",
        "\n",
        "$R$// El fósil tiene una edad de aproximadamente $57.104$ años.\n",
        "\n"
      ],
      "metadata": {
        "id": "gWD3KpL4fKeL"
      }
    },
    {
      "cell_type": "markdown",
      "source": [
        "##2.\n",
        "\n",
        "Con la constante que encontramos en el punto anterior podremos determinar la edad aproximada de los dibujos.\n",
        "\n",
        "\n",
        "$$\\frac{86}{100}A_o=A_o\\:e^{(\\frac{ln(\\frac{1}{2})}{5730})t}\\:$$\n",
        "\n",
        "$$\\frac{86}{100}=\\:e^{(\\frac{ln(\\frac{1}{2})}{5730})t}\\:$$\n",
        "\n",
        "$$ln(\\frac{86}{100})\\:=\\: (\\frac{ln(\\frac{1}{2})}{5730})t$$\n",
        "$$\\:$$\n",
        "\n",
        "$$\\frac{5730ln(\\frac{86}{100})}{ln(\\frac{1}{2})}\\:=\\:t$$\n",
        "\n",
        "$$1247 ≈ t$$\n",
        "\n",
        "$R$// Las figuras tienen una edad de aproximadamente $1247$ años."
      ],
      "metadata": {
        "id": "xfpxOQxAolIE"
      }
    },
    {
      "cell_type": "markdown",
      "source": [
        "##3.\n",
        "\n",
        "\n",
        "$$\\frac{53}{100}A_o=A_o\\:e^{(\\frac{ln(\\frac{1}{2})}{5730})t}\\:$$\n",
        "\n",
        "$$\\frac{53}{100}=\\:e^{(\\frac{ln(\\frac{1}{2})}{5730})t}\\:$$\n",
        "\n",
        "$$ln(\\frac{53}{100})\\:=\\: (\\frac{ln(\\frac{1}{2})}{5730})t$$\n",
        "$$\\:$$\n",
        "\n",
        "$$\\frac{5730ln(\\frac{53}{100})}{ln(\\frac{1}{2})}\\:=\\:t$$\n",
        "\n",
        "$$5248 ≈ t$$\n",
        "\n",
        "→ Ötzi tiene una edad de aproximadamente $5248$ años.\n",
        "\n",
        "$$1991-5248\\:=\\:-3257$$\n",
        "\n",
        "$R$// La fecha aproximada de muerte de Ötzi es: $3257\\: A.C$"
      ],
      "metadata": {
        "id": "sskNnKqkomSk"
      }
    },
    {
      "cell_type": "code",
      "source": [
        "import numpy as np\n",
        "\n",
        "k=(np.log(0.5))/5730 #Constante\n",
        "k"
      ],
      "metadata": {
        "colab": {
          "base_uri": "https://localhost:8080/"
        },
        "id": "-zY85010jmCC",
        "outputId": "5f97faa7-6899-4461-c36a-1b36ce7de29b"
      },
      "execution_count": null,
      "outputs": [
        {
          "output_type": "execute_result",
          "data": {
            "text/plain": [
              "-0.00012096809433855938"
            ]
          },
          "metadata": {},
          "execution_count": 2
        }
      ]
    },
    {
      "cell_type": "code",
      "source": [
        "#@title Carbono_14 Código { run: \"auto\", vertical-output: true }\n",
        "A = 3 #@param [\"1\", \"2\", \"3\"] {type:\"raw\"}\n",
        "def t(x):\n",
        "  return (np.log(x))/k\n",
        "\n",
        "if A==1:\n",
        "  x=(1/1000)\n",
        "  print(f\"Edad aproximada de: {np.ceil(t(x))} años\")\n",
        "elif A==2:\n",
        "  x=(86/100)\n",
        "  print(f\"Edad aproximada de: {np.ceil(t(x))} años\")\n",
        "else:\n",
        "  x=(53/100)\n",
        "  date=1991-(np.ceil(t(x)))\n",
        "  print(f\"Edad aproximada de: {np.ceil(t(x))} años\\n* La fecha aproximada de muerte es {-date} A.C\")\n",
        "\n"
      ],
      "metadata": {
        "colab": {
          "base_uri": "https://localhost:8080/"
        },
        "id": "3V4LGmcakzUC",
        "outputId": "de124613-f187-47c6-fb1f-7017290ff690"
      },
      "execution_count": null,
      "outputs": [
        {
          "output_type": "stream",
          "name": "stdout",
          "text": [
            "Edad aproximada de: 5249.0 años\n",
            "* La fecha aproximada de muerte es 3258.0 A.C\n"
          ]
        }
      ]
    },
    {
      "cell_type": "markdown",
      "source": [
        "#<font color= 688E23>Crecimiento demográfico\n",
        "\n",
        "1. Pasadas 2 horas, se observa que la cantidad de bacterias\n",
        "en un cultivo se ha duplicado.\n",
        "\n",
        " a) Deduzca un modelo exponencial $P(t)=P_0e^{kt}$ para determinar la cantidad de bacterias en el cultivo, cuando el tiempo es t.\n",
        "\n",
        "  b) Determine la cantidad de bacterias presentes en el cultivo después de 5 horas.\n",
        "\n",
        " c) Calcule el tiempo que tarda el cultivo en crecer hasta\n",
        "20 veces su tamaño inicial.\n",
        "\n",
        "\n",
        "2. Como parte de una investigación de genética se cultiva una pequeña colonia de Drosophila (moscas pequeñas de las frutas, con dos alas) en un ambiente de laboratorio. A los 2 días se observa que la población de moscas ha aumentado a 200. Después de 5 días, la colonia tiene 400 moscas.\n",
        "\n",
        " a) Deduzca un modelo de la población de la colonia de drosophilas después de t días.\n",
        "\n",
        " b) ¿Cuál será la población de la colonia en 10 días?\n",
        "\n",
        " c) ¿Cuándo la población de la colonia tendrá 5 000 moscas?\n",
        "\n",
        "3. Un alumno enfermo de un virus de catarro regresa a un\n",
        "colegio aislado, de 2 000 estudiantes. La cantidad de estudiantes infectados con catarro, t días después del regreso del alumno enfermo, se calcula con la función logística\n",
        "\n",
        "$$P(t)= \\frac{2000}{1+1999e^{-0.8905t}}$$\n",
        "\n",
        "  a) De acuerdo con este modelo, ¿cuántos estudiantes serán infectados por el catarro después de 5 días?\n",
        "\n",
        " b) ¿Cuánto tiempo pasará para que la mitad de la población de estudiantes quede infectada?\n",
        "\n",
        " c) ¿Cuántos alumnos indica el modelo que se infectarán\n",
        "después de un tiempo muy prolongado?\n",
        "\n",
        " d) Trace una gráfica de $P(t)$ y explique."
      ],
      "metadata": {
        "id": "Xa4IEor0-h9z"
      }
    },
    {
      "cell_type": "markdown",
      "source": [
        "##1."
      ],
      "metadata": {
        "id": "A0LgH7ApCYLc"
      }
    },
    {
      "cell_type": "markdown",
      "source": [
        "###a).\n",
        "\n",
        "-Datos:\n",
        "\n",
        "$$ P(0) = P_0 $$\n",
        "\n",
        "$$ P(2) = 2P_0 $$\n",
        "\n",
        "\n",
        "-Procedimiento:\n",
        "- Despejar $k$\n",
        "\n",
        "$$ P(t) = P_0 \\ e^{kt} $$\n",
        "\n",
        "$$ P(2) = P_0 \\ e^{2k} $$\n",
        "\n",
        "$$ 2P_0 = P_0 \\ e^{2k} $$\n",
        "\n",
        "$$ 2 = e^{2k} $$\n",
        "\n",
        "$$ \\ln2 = 2k $$\n",
        "\n",
        "$$ k = \\frac{\\ln2}{2} $$\n",
        "\n",
        "$$ \\large  k = \\ln\\sqrt{2} $$\n",
        "\n",
        "- Reemplazar\n",
        "\n",
        "$$ P(t) = P_0 \\ e^{\\ln\\sqrt{2} \\ t}$$\n",
        "\n",
        "$$ P(t) = P_0 \\ e^{\\ln\\sqrt{2^t}} $$\n",
        "\n",
        "R//\n",
        "$$ \\large  :. \\ P(t) = P_0 \\ \\sqrt{2^t} $$"
      ],
      "metadata": {
        "id": "P7lCOuDB8BTh"
      }
    },
    {
      "cell_type": "markdown",
      "source": [
        "###b).\n",
        "- $t = 5$\n",
        "\n",
        "$$ P(5) = P_0 \\sqrt{2^{5}} $$\n",
        "\n",
        "R//:\n",
        "$$ \\large  P(5) = P_0 \\ 4\\sqrt{2} $$\n"
      ],
      "metadata": {
        "id": "N3tsc1rWCSeX"
      }
    },
    {
      "cell_type": "markdown",
      "source": [
        "###c).\n",
        "\n",
        "- $ P(t) = 20P_0 $\n",
        "\n",
        "$$ 20P_0 = P_0 \\sqrt{2^{t}} $$\n",
        "\n",
        "$$ 20 = \\sqrt{2^{t}} $$\n",
        "\n",
        "$$ 400 = 2^t $$\n",
        "\n",
        "$$ \\log_2{400} = t \\log_2{2} $$\n",
        "\n",
        "$$ t = log_2{400} $$\n",
        "\n",
        "R//:\n",
        "\n",
        "$$\\large t ≈ 8,64 \\ h$$"
      ],
      "metadata": {
        "id": "tBKfnBq7DmQ2"
      }
    },
    {
      "cell_type": "markdown",
      "source": [
        "##2."
      ],
      "metadata": {
        "id": "E8L4ILmGFuY5"
      }
    },
    {
      "cell_type": "markdown",
      "source": [
        "###a).\n",
        "-Datos:\n",
        "$$ P(2) = 200 $$\n",
        "$$ P(5) = 400 $$\n",
        "\n",
        "-Procedimiento:\n",
        "\n",
        "$$ P(t) = P_0 \\ e^{kt} $$\n",
        "\n",
        "- Despejar $k$\n",
        "\n",
        "$$ 200 = P_0 \\ e^{2k}$$\n",
        "\n",
        "$$ 400 = P_0 \\ e^{5k} $$\n",
        "\n",
        "$$ P_0 = \\frac{200}{e^{2k}} $$\n",
        "\n",
        "$$ P_0 = \\frac{400}{e^{5k}} $$\n",
        "\n",
        "$$ \\frac{200}{e^{2k}} = \\frac{400}{e^{5k}} $$\n",
        "\n",
        "$$ 400 e^{2k} = 200 e^{5k} $$\n",
        "\n",
        "$$ \\ln400 + 2k = \\ln200 + 5k $$\n",
        "\n",
        "$$ \\ln400 - \\ln200 = 3k $$\n",
        "\n",
        "$$ k = \\frac{\\ln400 - \\ln200}{3} $$\n",
        "\n",
        "$$ k = \\frac{1}{3} \\ln{\\frac{400}{200}} $$\n",
        "\n",
        "##$$ k = \\ln{\\sqrt[3]{2}} $$\n",
        "\n",
        "- Despejar $ P_0 $\n",
        "\n",
        "$$ P(t) = P_0 \\ e^{\\ln{\\sqrt[3]{2} \\ t}} $$\n",
        "\n",
        "$$ P(t) = P_0 \\ \\sqrt[3]{2^t} $$\n",
        "\n",
        "$$ 200 = P_0 \\ \\sqrt[3]{2^2} $$\n",
        "\n",
        "$$ P_0 = \\frac{200}{\\sqrt[3]{4}} = 100\\sqrt[3]{2} $$\n",
        "\n",
        "##$$ P_0 = 100\\sqrt[3]{2} ≈ 125.99 $$\n",
        "\n",
        "- Reemplazar\n",
        "\n",
        "$$ P(t) = P_0 \\ e^{kt} $$\n",
        "\n",
        "$$ P(t) = 100\\sqrt[3]{2} \\ e^{\\ln{\\sqrt[3]{2} \\ t}} $$\n",
        "\n",
        "$$P(t) = 100\\sqrt[3]{2} \\ \\sqrt[3]{2^t} $$\n",
        "\n",
        "##$$ :. P(t) = 100 \\ \\sqrt[3]{2^{1+t}} $$"
      ],
      "metadata": {
        "id": "FV9wKCaUFxqO"
      }
    },
    {
      "cell_type": "markdown",
      "source": [
        "###b).\n",
        "\n",
        "- $ t = 10 $\n",
        "\n",
        "$$ P(10) = 100 \\ \\sqrt[3]{2^{1+10}} $$\n",
        "\n",
        "##$$ P(10)  ≈ 1269$$\n",
        "- R//: En 10 días la población de la colonia será de 1269 aproximadamente."
      ],
      "metadata": {
        "id": "Ufoz7j4EZnTM"
      }
    },
    {
      "cell_type": "markdown",
      "source": [
        "###c).\n",
        "- $P(t) = 5000$\n",
        "\n",
        "$$ P(t) = 100 \\ \\sqrt[3]{2^{1+t}} $$\n",
        "\n",
        "$$ 5000 = 100 \\ \\sqrt[3]{2^{1+t}} $$\n",
        "\n",
        "$$ 50 = \\sqrt[3]{2^{1+t}} $$\n",
        "\n",
        "$$ 50^3 = 2^{1+t} $$\n",
        "\n",
        "$$ \\log_2{50^3} = \\log_2{2^{1+t}} $$\n",
        "\n",
        "$$ \\log_2{50^3} = 1+t $$\n",
        "\n",
        "$$ t = \\log_2{50^3} -1 $$\n",
        "\n",
        "$$ t ≈ 15.93 $$\n",
        "\n",
        "- R//: A los 15 días aproximadamente la población de la colonia llega a 5000.\n"
      ],
      "metadata": {
        "id": "K8q-ug3ZjWdN"
      }
    },
    {
      "cell_type": "markdown",
      "source": [
        "##3."
      ],
      "metadata": {
        "id": "9Obms2CKwews"
      }
    },
    {
      "cell_type": "markdown",
      "source": [
        "###a).\n",
        "\n",
        "- Despues de 5 días, $t = 5$:\n",
        "\n",
        "$$ P(5)= \\frac{2000}{1+1999e^{-0.8905*5}}  $$\n",
        "\n",
        "##$$ P(5) = 82.348 ≈ 82$$\n",
        "\n",
        "- R//: Despues de 5 días, habrán 82 estudiantes infectados aproximadamente."
      ],
      "metadata": {
        "id": "tpCQZqqK0Ml2"
      }
    },
    {
      "cell_type": "markdown",
      "source": [
        "###b).\n",
        "\n",
        "- $ P(t) = 1000 $\n",
        "\n",
        "$$ P(t)= \\frac{2000}{1+1999e^{-0.8905t}} $$\n",
        "\n",
        "$$ 1000 = \\frac{2000}{1+1999e^{-0.8905t}} $$\n",
        "\n",
        "$$ 1000(1+1999e^{-0.8905t}) = 2000 $$\n",
        "\n",
        "$$ 1+1999e^{-0.8905t} = 2 $$\n",
        "\n",
        "$$ 1999e^{-0.8905t} = 1$$\n",
        "\n",
        "$$ -0.8905t = \\ln(\\frac{1}{1999})$$\n",
        "\n",
        "$$ t = \\frac{1}{-0.8905} \\ \\ln(\\frac{1}{1999}) $$\n",
        "\n",
        "##$$ t ≈ 8.535 $$\n",
        "\n",
        "- R//: En 8 dias y medio aproximadamente la mitad de los estudiantes (1000) estarán infectados."
      ],
      "metadata": {
        "id": "XrhZ-mjm0QGl"
      }
    },
    {
      "cell_type": "markdown",
      "source": [
        "###c).\n",
        "\n",
        "- R//: A largo plazo, cuando $ t  → ∞ $ según el modelo, el maximo de estudiantes serán 2000.\n",
        "\n",
        "$$ \\lim_{t→∞} \\frac{2000}{1+1999e^{-0.8905t}}$$\n",
        "\n",
        "##$ =  \\frac{2000}{1+1999e^{-0.8905*∞}} $\n",
        "##$ =  \\frac{2000}{1+1999\\frac{1}{e^{0.8905*∞}}} $\n",
        "##$ =  \\frac{2000}{1+1999*0} $\n",
        "##$ = 2000$\n",
        "\n",
        "$$ \\lim_{t→∞} \\frac{2000}{1+1999e^{-0.8905t}}  = 2000 $$"
      ],
      "metadata": {
        "id": "o_hSxLwL0Sso"
      }
    },
    {
      "cell_type": "markdown",
      "source": [
        "###d)."
      ],
      "metadata": {
        "id": "5KKZ7uMn0YEZ"
      }
    },
    {
      "cell_type": "code",
      "source": [
        "import numpy as np\n",
        "import matplotlib.pyplot as plt\n",
        "\n",
        "def P(t):\n",
        "  return 2000/(1+1999*np.e**(-0.8905*t))\n",
        "\n",
        "x = np.linspace(0,40,9000)\n",
        "\n",
        "plt.plot(x,P(x))\n",
        "\n",
        "plt.grid()\n",
        "plt.xlim(0,30)\n",
        "plt.ylim(0,2100)\n",
        "plt.title('Función Logística P(t)')\n",
        "plt.xlabel('Tiempo en días (t)')\n",
        "plt.ylabel('Cantidad de infectados')\n",
        "\n",
        "plt.show()"
      ],
      "metadata": {
        "colab": {
          "base_uri": "https://localhost:8080/",
          "height": 473
        },
        "id": "DUYEfm5Lwhfs",
        "outputId": "1022463b-d2f2-4be4-c78c-ed3b4b353788"
      },
      "execution_count": null,
      "outputs": [
        {
          "output_type": "display_data",
          "data": {
            "text/plain": [
              "<Figure size 640x480 with 1 Axes>"
            ],
            "image/png": "[encoded data removed]"
          },
          "metadata": {}
        }
      ]
    },
    {
      "cell_type": "markdown",
      "source": [
        "En la gráfica se observa el crecimiento de la función logística $P(t)$, donde se observa la asintota horizontal, o el limite de la función el cual es $P(t) = 2000$, ya que a medida que el tiempo pasa, la cantidad de estudiantes crece exponencialmente hasta su máximo. A partir de los 15 dias la cantidad de estudiantes infectados empiezan a ser cercanos a los 2000."
      ],
      "metadata": {
        "id": "TZi1G1Wt0NOa"
      }
    },
    {
      "cell_type": "markdown",
      "source": [
        "#<font color= 688E23>Ley de enfriamiento de Newton\n",
        "\n",
        "$$T_f= T_a + (T_0-T_a)e^{-kt}$$\n",
        "\n",
        "Donde\n",
        "\n",
        "$T_0$=Temperatura inicial\n",
        "\n",
        "$T_f$= Temperatura final\n",
        "\n",
        "$T_a$= Temperatuta ambiente\n",
        "\n",
        "$k$=constante de enfriamiento\n",
        "\n",
        "$t$ =tiempo\n",
        "\n",
        "1. Se encontró un cadáver dentro de un cuarto cerrado de una casa, donde la temperatura era de 70 °F constantes. Cuando lo descubrieron, la temperatura en su interior se midió y resultó ser de 85 °F. Una hora después, la segunda\n",
        "medición fue de 80 °F. Suponga que el momento de la muerte corresponde a $t=0$, y que en ese momento la temperatura interna era de 98.6 °F.\n",
        "Determine cuántas horas pasaron hasta que se encontró el cadáver\n",
        "\n",
        "2. Un vaso de agua fría se saca de un refrigerador cuya temperatura interior es de 39 °F, y se deja en un recinto que se mantiene a 72 °F. Un minuto después, la temperatura del agua es de 43 °F. ¿Cuál es la temperatura del agua después de 10 minutos? ¿Y después de 25 minutos?. ¿Qué ocurre en un tiempo muy prolongado?"
      ],
      "metadata": {
        "id": "n0WDK63Q-2hz"
      }
    },
    {
      "cell_type": "markdown",
      "source": [
        "##Respuestas\n",
        "\n",
        ">a) Pasaron 1.5h o 1 hora y 30 minutos desde que se encontro el cadaver.\n",
        "\n",
        ">$$T_f= T_a + (T_0-T_a)e^{-kt}$$\n",
        "\n",
        ">$80 = 70 + (98.6-70) * e^{-kt}$\n",
        "\n",
        "###t = 1\n",
        "\n",
        ">$80 - 70 = (28.6) * e^{-k}$\n",
        "\n",
        ">$\\frac{10}{28.6} = e^{-k}$\n",
        "\n",
        ">$ln_{0.34965} = -k$\n",
        "\n",
        ">$$k = 0.34965$$\n",
        "\n",
        ">$85 = 70 + (98.6-70) * e^{-(0.34965)t}$\n",
        "\n",
        ">$ln_{\\frac{(85-70)}{(98.6 - 70)} = -0.6453t}$\n",
        "\n",
        ">$\\frac{-0.5344}{0.34965} = t$\n",
        "\n",
        ">$$ t = 1.5$$"
      ],
      "metadata": {
        "id": "IQ8VrjwmcOvG"
      }
    },
    {
      "cell_type": "markdown",
      "source": [
        "#### b) La temperatura del agua despues de 10 mins es de 62.92 °F\n",
        "#### La temperatura del agua despues de 25 mins es de 70.688m °F\n",
        "#### R// Despues de un tiempo muy prolongado la temperatura del agua se acerca mucho a la temperatura ambiente de 72°F y nunca la va a pasar.\n",
        "\n",
        "$$T_f= T_a + (T_0-T_a)e^{-kt}$$\n",
        "\n",
        "$$43 = 72 + (39-72)* e ^{-k}$$\n",
        "\n",
        "$\\frac{43-72}{39-72} = e ^{-k}$\n",
        "\n",
        "$\\frac{-29}{-33} = e ^{-k}$\n",
        "\n",
        "$0.87 = e ^{-k}$\n",
        "\n",
        "$ln_0.878787 = -k$\n",
        "\n",
        "$k = 0.129$\n",
        "\n",
        "<h2>t = 10</h2>\n",
        "\n",
        "$$T_f = 72 + (39-72) * e^{-0.129(10)}$$\n",
        "\n",
        "$T_f = 72 + (-33) * e^{-1.29)}$\n",
        "\n",
        "$T_f = 72 + (-33) * (0.27)$\n",
        "\n",
        "$T_f = 72 - 9.083$\n",
        "\n",
        "$$T_f = 62.9260$$\n",
        "\n",
        "<h2>t = 25</h2>\n",
        "\n",
        "$$T_f = 72 + (39-72) * e^{-0.129(25)}$$\n",
        "\n",
        "$T_f = 72 + (-33) * e^{-3.225)}$\n",
        "\n",
        "$T_f = 72 + (-33) * (0.039)$\n",
        "\n",
        "$T_f = 72 - 1.311$\n",
        "\n",
        "$$T_f = 70.688$$\n",
        "\n",
        "\n"
      ],
      "metadata": {
        "id": "EE8YnKinpsoC"
      }
    },
    {
      "cell_type": "markdown",
      "source": [
        "# <font color=688E23>Punto de Equilibrio\n",
        "\n",
        "El punto de equilibrio es un estado de una compañía o negocio que se logra cuando se equiparan los ingresos con los gastos, porque la cantidad de unidades vendidas de un producto es suficiente para cubrir los costos. Por ejemplo: Una empresa necesita vender 250 unidades de un producto para que los ingresos sean equivalentes a los gastos.\n",
        "\n",
        "Con el fin de encontrar el punto equilibrio, esta fórmula se utiliza como ecuación para determinar:\n",
        "\n",
        "El precio de cada unidad. Se utiliza para determinar a qué valor se debe vender cada unidad para que no haya pérdidas.\n",
        "\n",
        "**Precio de venta de cada unidad = (costos fijos / cantidad de unidades) + costo variable de cada unidad**\n",
        "\n",
        "El costo variable de cada unidad. Se utiliza para saber cuál es el importe máximo que se puede gastar para elaborar cada producto.\n",
        "\n",
        "**Costo variable de cada unidad = precio de venta de cada unidad – (costos fijos / cantidad de unidades)**\n",
        "\n",
        "Los costos fijos. Se utiliza para saber el monto máximo de los costos fijos que se puede gastar para que los costos totales sean iguales a los ingresos.\n",
        "\n",
        "**Costo fijos = cantidad de unidades * (precio de venta de cada unidad – costo variable de cada unidad)**\n"
      ],
      "metadata": {
        "id": "c5TA0uXm-2gZ"
      }
    },
    {
      "cell_type": "markdown",
      "source": [
        "1. En un restaurante, los administradores quieren encontrar el punto de equilibrio de un plato. Para ello, se tiene en cuenta que:\n",
        "\n",
        "    Los costos fijos suman $ 300.000.\n",
        "\n",
        "    El plato cuesta $ 1.000.\n",
        "\n",
        "    El costo variable de cada plato es de $ 800.\n",
        "\n",
        "    ¿cuál es el punto de equilibrio?"
      ],
      "metadata": {
        "id": "6pN6d2qFD-4O"
      }
    },
    {
      "cell_type": "code",
      "source": [
        "# David\n",
        "\n",
        "getQuantity = lambda fixedCost, unitPrice, variableCost: fixedCost / (unitPrice - variableCost)\n",
        "\n",
        "variableCost = 800\n",
        "fixedCost = 300000\n",
        "unitPrice = 1000\n",
        "\n",
        "quantity = getQuantity(fixedCost, unitPrice, variableCost)\n",
        "\n",
        "print(f\"{quantity} units must be sold to reach equilibrium.\")\n"
      ],
      "metadata": {
        "colab": {
          "base_uri": "https://localhost:8080/"
        },
        "id": "0mpAtFUjECfl",
        "outputId": "238d80bd-0c38-4e1b-c275-fc1db3419f29"
      },
      "execution_count": null,
      "outputs": [
        {
          "output_type": "stream",
          "name": "stdout",
          "text": [
            "1500.0 units must be sold to reach equilibrium.\n"
          ]
        }
      ]
    },
    {
      "cell_type": "markdown",
      "source": [
        "2. Los dueños de una empresa que vende relojes quieren saber cuál es el punto de equilibrio. Para ello, tienen en cuenta que:\n",
        "\n",
        "    Los costos fijos suman $ 56.000.\n",
        "\n",
        "    Cada reloj se vende a $ 1.500.\n",
        "\n",
        "    El costo variable de cada reloj es de $ 800.\n",
        "\n",
        "    ¿cuál es el punto de equilibrio?"
      ],
      "metadata": {
        "id": "jtYWCzwUEFKM"
      }
    },
    {
      "cell_type": "code",
      "source": [
        "# David\n",
        "fixedCost = 56000\n",
        "unitPrice = 1500\n",
        "variableCost = 800\n",
        "\n",
        "equilibrium = getQuantity(fixedCost, unitPrice, variableCost)\n",
        "\n",
        "print(f\"{equilibrium} units must be sold to reach equilibrium.\")"
      ],
      "metadata": {
        "colab": {
          "base_uri": "https://localhost:8080/"
        },
        "id": "RRqo_FLtEJuy",
        "outputId": "39abce07-575d-4af8-b85c-90fd89535486"
      },
      "execution_count": null,
      "outputs": [
        {
          "output_type": "stream",
          "name": "stdout",
          "text": [
            "80.0 units must be sold to reach equilibrium.\n"
          ]
        }
      ]
    },
    {
      "cell_type": "markdown",
      "source": [
        "#<font color= 688E23>Escala de Richter\n",
        "Probablemente, la aplicación más famosa de los logaritmos base 10, o logaritmos comunes es la escala de Ricther. Charles F. Richter, sismólogo estadounidense, inventó en 1935 una escala logarítmica para comparar las energías de distintos temblores o sismos. La magnitud M de un sismo se define con\n",
        "\n",
        "$$M=Log \\frac{A}{A_0}$$\n",
        "\n",
        "en donde $A$ es la amplitud de la onda sísmica máxima del sismo, y $A_0$ es una amplitud de referencia que corresponde a la magnitud $M=0$. El número $M$ se calcula con un decimal de precisión. Se considera que los sismos de magnitud 6 o mayores son potencialmente destructivos\n",
        "\n",
        "El sismo del 26 de diciembre de 2004, frente a la costa oeste de Sumatra del Norte, que produjo un tsunami que causó 200 000 muertes, se clasificó inicialmente como de $9.3$ en la escala de Richter. El 28 de marzo de 2005, una réplica en la misma zona se clasificó como de $8.7$ grados en la misma escala.\n",
        "\n",
        "¿Cuántas veces más intenso fue el sismo de 2004?\n",
        "\n",
        "sugerencia: despeje $A_i$ de cada sismo y divida\n",
        "\n"
      ],
      "metadata": {
        "id": "-pXO8auM_EtW"
      }
    },
    {
      "cell_type": "markdown",
      "source": [
        "Como sabemos que:\n",
        "\n",
        "$$ M_{2004} = 9.3 $$\n",
        "$$ M_{2005} = 8.7 $$\n",
        "\n",
        "Entonces debemos despejar $ M $ en la formula:\n",
        "\n",
        "$$ 9.3 = log \\frac {A}{A_0} $$\n",
        "$$ 8.7 = log \\frac {A}{A_0} $$\n",
        "\n",
        "Se puede escribir así:\n",
        "\n",
        "$$ 10^{9.3} = \\frac {A}{A_0} $$\n",
        "$$ 10^{8.7} = \\frac {A}{A_0} $$\n",
        "\n",
        "Ahora se pueden comparar:\n",
        "\n",
        "$$ A_0 = \\frac {A_1}{10^{9.3}} = \\frac {A_2}{10^{8.7}} $$\n",
        "\n",
        "$$ A = \\frac {A_1}{A_2} = \\frac {10^{9.3}}{10^{8.7}} ≃ 4 $$\n",
        "\n",
        "Es decir la amplitud del terremoto de 2004 es casi 4 veces mas fuerte que el de 2005"
      ],
      "metadata": {
        "id": "fCxQYsS5SGnJ"
      }
    },
    {
      "cell_type": "code",
      "source": [
        "# David\n",
        "\n",
        "import numpy as np\n",
        "\n",
        "def compareEQ(A1: float, A2: float) -> float:\n",
        "\tearthquakes = [A1, A2]\n",
        "\tresult = max(earthquakes) - min(earthquakes)\n",
        "\ttimes = 10**result\n",
        "\treturn times\n",
        "\n",
        "eq2004 = 9.3\n",
        "eq2005 = 8.7\n",
        "\n",
        "print(f\"The earthquake in 2004 was {compareEQ(eq2004, eq2005)} times greater than the one in 2005\")\n",
        ""
      ],
      "metadata": {
        "id": "PX_ARP1kFdOW",
        "colab": {
          "base_uri": "https://localhost:8080/"
        },
        "outputId": "cc7cbff2-3a59-42a4-8a55-1fd44f8dd1ab"
      },
      "execution_count": null,
      "outputs": [
        {
          "output_type": "stream",
          "name": "stdout",
          "text": [
            "The earthquake in 2004 was 3.9810717055349856 times greater than the one in 2005\n"
          ]
        }
      ]
    },
    {
      "cell_type": "markdown",
      "source": [
        "#<font color= 688E23> Pupila del ojo\n",
        "\n",
        "Un modelo empírico, inventado por DeGroot y Gebhard, relaciona el diámetro d de la pupila, en milímetros, con la luminancia B de la fuente luminosa\n",
        "(expresada en mililamberts, mL)\n",
        "\n",
        "$$Log (d)=0.8558-0.000401(8.1+Log(B))^3$$\n",
        "\n",
        "\n",
        "a) La luminancia promedio del cielo claro es aproximadamente de B=255 mL. Calcule el diámetro de pupila correspondiente.\n",
        "\n",
        "b) La luminancia del Sol varía entre aproximadamente B = 190 000 mL en la aurora, hasta B = 51 000 000 a mediodía. Calcule los diámetros correspondientesde pupila.\n",
        "\n",
        "c) Calcule la luminancia B que corresponde a un diámetro de pupila de 7 mm."
      ],
      "metadata": {
        "id": "Ld8zrvJqq34j"
      }
    },
    {
      "cell_type": "markdown",
      "source": [
        "##a)\n",
        "$Log (d)=0.8558-0.000401(8.1+Log(B))^3\\:$ → Modelo\n",
        "\n",
        "$B=255 mL$\n",
        "\n",
        "$$Log (d)=0.8558-0.000401(8.1+Log(255))^3$$\n",
        "\n",
        "$$Log (d)=0.8558-0.000401(1159,7)$$\n",
        "\n",
        "$$Log (d)=0.8558-0.4650$$\n",
        "\n",
        "$$Log (d) ≈ 0,3908$$\n",
        "\n",
        "$\\:$\n",
        "\n",
        "$$:. d =10^{0,3908} ≈ 2,46$$\n",
        "\n",
        "$R$// El diámetro de la pupila cuando la luminancia es $B=255$ es: $d ≈ 2,46\\: mm$"
      ],
      "metadata": {
        "id": "956ws22sCeWo"
      }
    },
    {
      "cell_type": "markdown",
      "source": [
        "##b)\n",
        "\n",
        "* Luminación $B=190.000 \\:mL$\n",
        "\n",
        "  $$Log (d)=0.8558-0.000401(8.1+Log(190000))^3$$\n",
        "\n",
        "  $$Log (d)=0.8558-0.000401(2394,68)$$\n",
        "\n",
        "  $$Log (d)=0.8558-0.9602$$\n",
        "\n",
        "  $$Log (d) ≈ -0,1044$$\n",
        "\n",
        "  $\\:$\n",
        "\n",
        "  $$:. d =10^{-0,1044} ≈ 0,79$$\n",
        "\n",
        "  $R$// El diámetro de la pupila cuando la luminancia es $B=190.000$ es: $d ≈0,79\\: mm$\n",
        "  $\\:$\n",
        "\n",
        "* Luminación $B=51.000.000\\:mL$\n",
        "\n",
        " $$Log (d)=0.8558-0.000401(8.1+Log(51000000))^3$$\n",
        "\n",
        "  $$Log (d)=0.8558-0.000401(3949,98)$$\n",
        "\n",
        "  $$Log (d)=0.8558-1,5839$$\n",
        "\n",
        "  $$Log (d) ≈ -0,7281$$\n",
        "\n",
        "  $\\:$\n",
        "\n",
        "  $$:. d =10^{-0,7281} ≈ 0,19$$\n",
        "\n",
        "  $R$// El diámetro de la pupila cuando la luminancia es $B=51.000.000$ es: $d ≈ 0,19\\: mm$"
      ],
      "metadata": {
        "id": "ur_DrGzHEXSg"
      }
    },
    {
      "cell_type": "markdown",
      "source": [
        "##c)\n",
        "$Log (d)=0.8558-0.000401(8.1+Log(B))^3\\:$ → Modelo\n",
        "\n",
        "$d=7 \\:mm$\n",
        "\n",
        "$$Log (7)=0.8558-0.000401(8.1+Log(B))^3$$\n",
        "\n",
        "\n",
        "$$0.000401(8.1+Log(B))^3=0.8558-Log (7)$$\n",
        "\n",
        "$$(8.1+Log(B))^3=\\frac{0.8558-Log (7)}{0.000401}$$\n",
        "\n",
        "$$(8.1+Log(B))^3 ≈ 26,69$$\n",
        "\n",
        "$$8.1+Log(B) ≈ 2,98$$\n",
        "\n",
        "$$Log(B) ≈ -5,12$$\n",
        "\n",
        "$\\:$\n",
        "\n",
        "$$:. B=10^{-5,12} ≈ 7,58 ×10^{-6}$$\n",
        "\n",
        "$R$// La luminancia B que corresponde a un diámetro de $7 \\: mm$ es aproximadamente $7,58 ×10^{-6} \\:mL$"
      ],
      "metadata": {
        "id": "RhtV7k1BF-tp"
      }
    }
  ]
}