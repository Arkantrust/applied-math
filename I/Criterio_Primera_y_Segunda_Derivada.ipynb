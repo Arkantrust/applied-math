{
  "nbformat": 4,
  "nbformat_minor": 0,
  "metadata": {
    "colab": {
      "provenance": []
    },
    "kernelspec": {
      "name": "python3",
      "display_name": "Python 3"
    },
    "language_info": {
      "name": "python"
    }
  },
  "cells": [
    {
      "cell_type": "markdown",
      "source": [
        "#**<font color=9ACD32>Exposición: Extremos, criterio primera y segunda derivada y puntos de inflexión**\n",
        "\n",
        "****\n",
        "****\n",
        "Integrantes:\n",
        "* Mariana Agudelo\n",
        "* Juan José De la Pava\n",
        "* David Dulce\n",
        "* Rony Ordóñez\n",
        "\n",
        "****\n",
        "****\n",
        "\n",
        "###**Link de la presentación:** [Criterio de la Primera y Segunda derivada](https://www.canva.com/design/DAFhTvNVOhA/62tM1lsIktCHPkjwKLTpSg/view?utm_content=DAFhTvNVOhA&utm_campaign=designshare&utm_medium=link&utm_source=publishsharelink)\n",
        "\n",
        "\n",
        "\n"
      ],
      "metadata": {
        "id": "8MKkcBDV_MOI"
      }
    },
    {
      "cell_type": "markdown",
      "source": [
        "#**Criterio de la primera derivada**\n",
        "\n",
        "Es el proceso de analizar funciones utilizando sus primeras derivadas en búsqueda de puntos extremos (máximos y mínimos).\n",
        "\n",
        "\n",
        "Sea $f$ una función continua en el intérvalo $[a,b]$ y derivable en\n",
        "$(a,b)$.\n",
        "\n",
        "Si $f′(x)>0$ para todo $x∈(a,b)$, entonces $f$ es creciente en $(a,b)$. Si $f′(x)<0$ para todo $x ∈ (a,b)$, entonces $f$ es decreciente en $(a,b)$.\n",
        "\n",
        "Si $f′(c)=0$, decimos que $c$ es un punto crítico de $f$.\n",
        "\n",
        "\n",
        "1. Primera derivada de la función\n",
        "2. Factorizar\n",
        "3. Igualar a cero (hallar puntos críticos)\n",
        "4. Evaluar los signos de la función con los puntos críticos\n",
        "\n",
        "\n",
        "##**Extremos**\n",
        "A poco que pensemos en la interpretación geométrica de la derivada, nos daremos cuenta que la recta tangente a la función en un punto máximo o mínimo relativo será una recta horizontal. Es decir, la derivada de la función evaluada en los puntos de extremo relativo vale 0 .\n",
        "\n",
        "El punto $c$ de $[a,b]$ es:  \n",
        "* Un **mínimo relativo** de $f$ si $f(c)≤f(x)$ para todo $x∈[a,b]$\n",
        "* Un **máximo relativo** de $f$ si $f(c)≥f(x)$para todo $x∈[a,b]$\n",
        "\n",
        "Si $c$ es un máximo relativo o un mínimo relativo, se dice que es un extremo relativo.\n",
        "\n",
        "Si $c$ es un máximo o un mínimo para todo el dominio de la función, se dice que es un extremo absoluto.\n",
        "****"
      ],
      "metadata": {
        "id": "SOoPRgnk3v8T"
      }
    },
    {
      "cell_type": "markdown",
      "source": [
        "#**Criterio de la segunda derivada**\n",
        "\n",
        "Sea f una función para la cual $f'' ∈ I = (a, b) \\land c \\in I $.\n",
        "\n",
        "*i)* Si $f''(c) > 0$, entonces $f(c)$ es un mínimo relativo.\n",
        "\n",
        "*ii)* Si $f''(c) < 0$, entonces $f(c)$ es un máximo relativo.\n",
        "\n",
        "*iii)* Si $f''(c) 0$, entonces la prueba falla y $f(c)$ puede ser o no un extremo relativo. En este caso se usa la prueba de la primera derivada.\n",
        "\n",
        "\n",
        "##**Puntos de inflexión**\n",
        "\n",
        "En aquellos puntos en los que la función pasa de un tipo de curvatura a otro, decimos que hay un punto de inflexión. → Es decir, cuando una función pasa de ser cóncava a convexa o viceversa.\n",
        "\n",
        "Sea $f$ una función diferenciable sobre un intervalo $(a, b)$:\n",
        "\n",
        "*i)* Si $f'$ es una función creciente sobre $(a, b)$, entonces la gráfica de $f$ es cóncava hacia arribasobre el intervalo.\n",
        "\n",
        "*ii)* Si $f'$ es una función decreciente sobre $(a, b)$, entonces la gráfica de $f$ es cóncava hacia abajo sobre el intervalo.\n"
      ],
      "metadata": {
        "id": "MJvlHg3o_PZI"
      }
    },
    {
      "cell_type": "code",
      "source": [
        "from IPython.display import IFrame\n",
        "\n",
        "IFrame(\"https://www.geogebra.org/m/AAzvm7Kk\",600,600)"
      ],
      "metadata": {
        "colab": {
          "base_uri": "https://localhost:8080/",
          "height": 621
        },
        "id": "-nAL-617eTxd",
        "outputId": "f497f6a1-a781-430a-a689-37ece338df19"
      },
      "execution_count": null,
      "outputs": [
        {
          "output_type": "execute_result",
          "data": {
            "text/plain": [
              "<IPython.lib.display.IFrame at 0x7f0170ba1b10>"
            ],
            "text/html": [
              "\n",
              "        <iframe\n",
              "            width=\"600\"\n",
              "            height=\"600\"\n",
              "            src=\"https://www.geogebra.org/m/AAzvm7Kk\"\n",
              "            frameborder=\"0\"\n",
              "            allowfullscreen\n",
              "            \n",
              "        ></iframe>\n",
              "        "
            ]
          },
          "metadata": {},
          "execution_count": 3
        }
      ]
    }
  ]
}