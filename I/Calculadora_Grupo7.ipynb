{
  "nbformat": 4,
  "nbformat_minor": 0,
  "metadata": {
    "colab": {
      "provenance": []
    },
    "kernelspec": {
      "name": "python3",
      "display_name": "Python 3"
    },
    "language_info": {
      "name": "python"
    }
  },
  "cells": [
    {
      "cell_type": "markdown",
      "source": [
        "\n",
        "#<font color= D12556> **TALLER #1**\n",
        "---\n",
        "**Integrantes grupo:**\n",
        "* Mariana Agudelo\n",
        "* Juan José De la Pava\n",
        "* David Esteban Dulce\n",
        "* Rony Farid Ordónez\n",
        "---\n"
      ],
      "metadata": {
        "id": "AEqnjdlnlYEs"
      }
    },
    {
      "cell_type": "code",
      "source": [
        "import numpy as np\n",
        "import math as mt\n",
        "\n",
        "#@title MiniCalculadora {run: \"auto\", vertical-output: true}\n",
        "\n",
        "operacion = \"Multiplicacion\" #@param [\"Adicion\", \"Substraccion\", \"Multiplicacion\", \"Division\", \"Potenciacion\", \"Raiz\", \"Seno\", \"Coseno\", \"Tangente\"]\n",
        "\n",
        "numero1 = 2 #@param {type:\"number\"}\n",
        "numero2 = 10 #@param {type: \"number\"}\n",
        "\n",
        "def calculadoraBasica(numero1, numero2, operacion) -> float:\n",
        "    resultado = 0.0\n",
        "    if operacion == \"Adicion\":\n",
        "        resultado = numero1+numero2\n",
        "\n",
        "    elif operacion == \"Multiplicacion\":\n",
        "        resultado = numero1*numero2\n",
        "\n",
        "    elif operacion == \"Substraccion\":\n",
        "        resultado = numero1-numero2\n",
        "\n",
        "    elif operacion == \"Division\" and procedimientoAprobado:\n",
        "        resultado = numero1/numero2\n",
        "\n",
        "    elif operacion == \"Potenciacion\":\n",
        "        print(f\"Base: {numero1}\")\n",
        "        print(f\"Exponente: {numero2}\")\n",
        "        potencia = np.power(numero1, numero2)\n",
        "        resultado = potencia\n",
        "\n",
        "    elif operacion == \"Raiz\" and procedimientoAprobado:\n",
        "        print(f\"Radicando: {numero1}\")\n",
        "        print(f\"Índice: {numero2}\")\n",
        "        raiz = np.power(numero1, (1/numero2))\n",
        "        resultado = raiz\n",
        "    return resultado\n",
        "\n",
        "def Trigonometria(numero1, operacion, formato) -> float:\n",
        "    resultado = 0.0\n",
        "    calculadoraBasica(numero1, numero2, operacion)\n",
        "    if formato == \"Grados\":\n",
        "        numero1 = np.deg2rad(numero1)\n",
        "    if operacion == \"Seno\":\n",
        "        resultado = np.sin(numero1)\n",
        "    if operacion == \"Coseno\":\n",
        "        resultado = np.cos(numero1)\n",
        "    if operacion == \"Tangente\":\n",
        "            resultado = np.tan(numero1)\n",
        "    return resultado\n",
        "\n",
        "inputs = [numero1, numero2]\n",
        "\n",
        "procedimientoAprobado = True\n",
        "\n",
        "\n",
        "if operacion in [\"Radicacion\", \"Division\"] and numero2 == 0:\n",
        "    try:\n",
        "        division = 100/numero2\n",
        "    except ZeroDivisionError:\n",
        "        print(\"No se puede realizar esta operación con el 0\")\n",
        "        procedimientoAprobado = False\n",
        "    else:\n",
        "        procedimientoAprobado = True\n",
        "\n",
        "if operacion in [\"Seno\", \"Coseno\", \"Tangente\"]:\n",
        "    formato = \"Radianes\" #@param [\"Grados\", \"Radianes\"]\n",
        "    resultado = Trigonometria(numero1, operacion, formato)\n",
        "else:\n",
        "    resultado = calculadoraBasica(numero1, numero2, operacion)\n",
        "\n",
        "print(f\"El resultado es {resultado}\")\n",
        "\n"
      ],
      "metadata": {
        "id": "S89fWa79MaeE",
        "outputId": "0a64b642-4cbc-4bd2-a63f-26475fe9e19a",
        "colab": {
          "base_uri": "https://localhost:8080/"
        }
      },
      "execution_count": null,
      "outputs": [
        {
          "output_type": "stream",
          "name": "stdout",
          "text": [
            "El resultado es 20\n"
          ]
        }
      ]
    }
  ]
}